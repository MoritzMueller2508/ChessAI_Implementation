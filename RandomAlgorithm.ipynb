{
 "cells": [
  {
   "cell_type": "code",
   "execution_count": null,
   "metadata": {
    "cell_id": "00000-a8002d6e-6d49-4a08-a596-4c2c76ee4e49",
    "deepnote_app_coordinates": {
     "h": 5,
     "w": 12,
     "x": 0,
     "y": null
    },
    "deepnote_cell_height": 116.75,
    "deepnote_cell_type": "code",
    "deepnote_output_heights": [
     2
    ],
    "deepnote_to_be_reexecuted": false,
    "execution_millis": 36,
    "execution_start": 1652775670039,
    "source_hash": "bd190a5a",
    "tags": []
   },
   "outputs": [
    {
     "data": {
      "text/html": [
       "<style>.container { width:100%; !important } </style>"
      ],
      "text/plain": [
       "<IPython.core.display.HTML object>"
      ]
     },
     "metadata": {},
     "output_type": "display_data"
    }
   ],
   "source": [
    "from IPython.core.display import HTML, display\n",
    "display(HTML('<style>.container { width:100%; !important } </style>'))"
   ]
  },
  {
   "cell_type": "markdown",
   "metadata": {
    "cell_id": "00001-68e5e53c-6bfd-477c-8e7c-d5e9d94d8463",
    "deepnote_app_coordinates": {
     "h": 5,
     "w": 12,
     "x": 0,
     "y": 6
    },
    "deepnote_cell_height": 133.8333282470703,
    "deepnote_cell_type": "markdown",
    "tags": []
   },
   "source": [
    "# Simplest Algorithm: Make a Random Legal Move"
   ]
  },
  {
   "cell_type": "markdown",
   "metadata": {
    "cell_id": "00001-025a9ce1-9c26-4e52-b35a-14d385d274a3",
    "deepnote_app_coordinates": {
     "h": 5,
     "w": 12,
     "x": 0,
     "y": 12
    },
    "deepnote_cell_height": 61.83332824707031,
    "deepnote_cell_type": "markdown",
    "tags": []
   },
   "source": [
    "### Dependencies"
   ]
  },
  {
   "cell_type": "code",
   "execution_count": null,
   "metadata": {
    "cell_id": "00000-2f45fff2-d19a-40bb-bfff-2d351b7affa3",
    "deepnote_app_coordinates": {
     "h": 5,
     "w": 12,
     "x": 0,
     "y": 18
    },
    "deepnote_cell_height": 234.3333282470703,
    "deepnote_cell_type": "code",
    "deepnote_output_heights": [
     null,
     2
    ],
    "deepnote_to_be_reexecuted": false,
    "execution_millis": 759,
    "execution_start": 1652775670078,
    "output_cleared": false,
    "source_hash": "c14ace38",
    "tags": []
   },
   "outputs": [],
   "source": [
    "import chess\n",
    "import random\n",
    "import time\n",
    "\n",
    "import import_ipynb\n",
    "from ChessAlgorithm import ChessAlgorithm"
   ]
  },
  {
   "cell_type": "markdown",
   "metadata": {
    "cell_id": "a7df6e60649f42d2bc7c72f1b69ace9c",
    "deepnote_app_coordinates": {
     "h": 5,
     "w": 12,
     "x": 0,
     "y": 0
    },
    "deepnote_cell_height": 100.23333740234375,
    "deepnote_cell_type": "markdown",
    "tags": []
   },
   "source": [
    "### RandomAlgorithm Class\n",
    "A simple AI that makes a random legal move on a chess board."
   ]
  },
  {
   "cell_type": "code",
   "execution_count": null,
   "metadata": {
    "cell_id": "00003-bee3f1f0-184c-4184-a25b-0236c62a8e77",
    "deepnote_app_coordinates": {
     "h": 5,
     "w": 12,
     "x": 0,
     "y": 30
    },
    "deepnote_cell_height": 98.83332824707031,
    "deepnote_cell_type": "code",
    "deepnote_to_be_reexecuted": false,
    "execution_millis": 3,
    "execution_start": 1652775670335,
    "source_hash": "9874b2ef",
    "tags": []
   },
   "outputs": [],
   "source": [
    "class RandomAlgorithm(ChessAlgorithm):\n",
    "    pass"
   ]
  },
  {
   "cell_type": "markdown",
   "metadata": {
    "cell_id": "00003-c7b9b526-abfa-400f-9370-8055eacda994",
    "deepnote_app_coordinates": {
     "h": 5,
     "w": 12,
     "x": 0,
     "y": 24
    },
    "deepnote_cell_height": 617.8333129882812,
    "deepnote_cell_type": "markdown",
    "tags": []
   },
   "source": [
    "#### RandomAlgorithm.make_move\n",
    "Selects a random move from all possible legal moves the AI could make and pushes it onto the move stack. The return values (besides the chosen move) are there to match return types from the search algorithms.\n",
    "\n",
    "###### __<u>Returns _(int, chess.Move, bool, list<chess.Move>)_</u>__\n",
    "- `None`, to represent that no score is evaluated for the move.\n",
    "- The randomly chosen legal move.\n",
    "- `False`, since the endgame tablebases are ignored.\n",
    "- An empty list, as no move sequence is evaluated.\n",
    "\n",
    "###### __<u>Side effects</u>__\n",
    "- Pauses execution for one second to make the move visible to the user.\n",
    "- Pushes the randomly selected move to the move stack of the board."
   ]
  },
  {
   "cell_type": "code",
   "execution_count": null,
   "metadata": {
    "cell_id": "43b15e08f0e4483a8093d0e96f97bc8d",
    "deepnote_app_coordinates": {
     "h": 5,
     "w": 12,
     "x": 0,
     "y": 0
    },
    "deepnote_cell_height": 206.8333282470703,
    "deepnote_cell_type": "code",
    "deepnote_to_be_reexecuted": false,
    "execution_millis": 3,
    "execution_start": 1652775670343,
    "owner_user_id": "1e489002-1d0e-4892-8dc4-49d215805343",
    "source_hash": "2050f7b3",
    "tags": []
   },
   "outputs": [],
   "source": [
    " def make_move(self) -> (int, chess.Move, bool, list):\n",
    "    time.sleep(1)\n",
    "    move = random.choice(list(self.board.legal_moves))\n",
    "    self.board.push(move)\n",
    "    return None, move, False, []\n",
    "\n",
    "RandomAlgorithm.make_move = make_move\n",
    "del make_move"
   ]
  },
  {
   "cell_type": "markdown",
   "metadata": {
    "cell_id": "466f64be385a443e8145ee24716c49ec",
    "deepnote_app_coordinates": {
     "h": 5,
     "w": 12,
     "x": 0,
     "y": 0
    },
    "deepnote_cell_height": 97.03334045410156,
    "deepnote_cell_type": "markdown",
    "owner_user_id": "bf601137-8aff-4afc-8e92-5767ca086e79",
    "tags": []
   },
   "source": [
    "Due to the low complexity of the random algorithm, automated testing was deemed unnecessary. Hence, we tested the algorithm manually. From these tests, we were able to confirm that the algorithm makes only legal moves. Therefore, we assume that the algorithm works as intended."
   ]
  }
 ],
 "metadata": {
  "deepnote": {
   "is_reactive": false
  },
  "deepnote_app_layout": "article",
  "deepnote_execution_queue": [],
  "deepnote_notebook_id": "254e4bf4-803a-4466-8b1a-ee4483665465",
  "kernelspec": {
   "display_name": "Python 3 (ipykernel)",
   "language": "python",
   "name": "python3"
  },
  "language_info": {
   "codemirror_mode": {
    "name": "ipython",
    "version": 3
   },
   "file_extension": ".py",
   "mimetype": "text/x-python",
   "name": "python",
   "nbconvert_exporter": "python",
   "pygments_lexer": "ipython3",
   "version": "3.9.12"
  }
 },
 "nbformat": 4,
 "nbformat_minor": 2
}
