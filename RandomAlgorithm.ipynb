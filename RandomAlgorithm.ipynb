{
 "cells": [
  {
   "cell_type": "code",
   "execution_count": null,
   "metadata": {
    "cell_id": "00000-a8002d6e-6d49-4a08-a596-4c2c76ee4e49",
    "deepnote_app_coordinates": {
     "h": 5,
     "w": 12,
     "x": 0,
     "y": null
    },
    "deepnote_cell_type": "code",
    "deepnote_to_be_reexecuted": false,
    "execution_millis": 3,
    "execution_start": 1641399858107,
    "source_hash": "bd190a5a",
    "tags": []
   },
   "outputs": [],
   "source": [
    "from IPython.core.display import HTML, display\n",
    "display(HTML('<style>.container { width:100%; !important } </style>'))"
   ]
  },
  {
   "cell_type": "markdown",
   "metadata": {
    "cell_id": "00001-68e5e53c-6bfd-477c-8e7c-d5e9d94d8463",
    "deepnote_app_coordinates": {
     "h": 5,
     "w": 12,
     "x": 0,
     "y": 6
    },
    "deepnote_cell_type": "markdown",
    "owner_user_id": "1e489002-1d0e-4892-8dc4-49d215805343",
    "tags": []
   },
   "source": [
    "# Simplest Algorithm: Make a Random Legal Move"
   ]
  },
  {
   "cell_type": "markdown",
   "metadata": {
    "cell_id": "00001-025a9ce1-9c26-4e52-b35a-14d385d274a3",
    "deepnote_app_coordinates": {
     "h": 5,
     "w": 12,
     "x": 0,
     "y": 12
    },
    "deepnote_cell_type": "markdown",
    "tags": []
   },
   "source": [
    "### Dependencies"
   ]
  },
  {
   "cell_type": "code",
   "execution_count": null,
   "metadata": {
    "cell_id": "00000-2f45fff2-d19a-40bb-bfff-2d351b7affa3",
    "deepnote_app_coordinates": {
     "h": 5,
     "w": 12,
     "x": 0,
     "y": 18
    },
    "deepnote_cell_type": "code",
    "deepnote_to_be_reexecuted": false,
    "execution_millis": 5424,
    "execution_start": 1641399858108,
    "output_cleared": true,
    "source_hash": "2c0c55af",
    "tags": []
   },
   "outputs": [],
   "source": [
    "import chess\n",
    "import random\n",
    "import time\n",
    "from typing import Union\n",
    "\n",
    "import import_ipynb"
   ]
  },
  {
   "cell_type": "markdown",
   "metadata": {
    "cell_id": "00003-c7b9b526-abfa-400f-9370-8055eacda994",
    "deepnote_app_coordinates": {
     "h": 5,
     "w": 12,
     "x": 0,
     "y": 24
    },
    "deepnote_cell_type": "markdown",
    "tags": []
   },
   "source": [
    "#### make_random_move\n",
    "Selects a random move from all possible legal moves the AI could make and pushes it onto the move stack.\n",
    "\n",
    "###### __<u>Arguments</u>__\n",
    "``board (chess.Board):`` \n",
    "The chess board instance to push the move to.  \n",
    "\n",
    "``color (chess.Color):``  \n",
    "The color that makes the move. This argument is ignored but is required for the \"make move\" template.  \n",
    "\n",
    "``search_depth (int):``  \n",
    "The iteration depth of a would-be search algorithm. This argument is ignored but is required for the \"make move\" template.  \n",
    "\n",
    "``endgame_tablebase (Union[chess.gaviota.NativeTablebase, chess.gaviota.PythonTablebase]):``  \n",
    "The endgame tablebase attached to the game. This argument is ignored but is required for the \"make move\" template.  \n",
    "\n",
    "``use_heuristic (bool):``  \n",
    "Whether or not the heuristic for evaluating the chess board should be used. This argument is ignored but is required for the \"make move\" template.\n",
    "\n",
    "###### __<u>Returns _(int, chess.Move, bool)_</u>__\n",
    "- None, to represent that no score is evaluated for the move.\n",
    "- The randomly chosen legal move.\n",
    "- False, since the endgame tablebase is ignored.\n",
    "\n",
    "###### __<u>Side effects</u>__\n",
    "- Pauses execution for one second to make the move visible to the user.\n",
    "- Pushes the randomly selected move to the move stack of the board."
   ]
  },
  {
   "cell_type": "code",
   "execution_count": null,
   "metadata": {
    "cell_id": "00003-bee3f1f0-184c-4184-a25b-0236c62a8e77",
    "deepnote_app_coordinates": {
     "h": 5,
     "w": 12,
     "x": 0,
     "y": 30
    },
    "deepnote_cell_type": "code",
    "deepnote_to_be_reexecuted": false,
    "execution_millis": 1,
    "execution_start": 1641399863545,
    "owner_user_id": "bf601137-8aff-4afc-8e92-5767ca086e79",
    "source_hash": "dcbe7cbd",
    "tags": []
   },
   "outputs": [],
   "source": [
    "def make_random_move(\n",
    "    board: chess.Board,\n",
    "    color: chess.Color,\n",
    "    search_depth: int,\n",
    "    endgame_tablebase: Union[chess.gaviota.NativeTablebase,\n",
    "            chess.gaviota.PythonTablebase],\n",
    "    use_heuristic: bool\n",
    ") -> (int, chess.Move, bool):\n",
    "\n",
    "    time.sleep(1)\n",
    "    move = random.choice(list(board.legal_moves))\n",
    "    board.push(move)\n",
    "    return None, move, False"
   ]
  }
 ],
 "metadata": {
  "deepnote": {
   "is_reactive": false
  },
  "deepnote_app_layout": "article",
  "deepnote_execution_queue": [],
  "deepnote_notebook_id": "254e4bf4-803a-4466-8b1a-ee4483665465",
  "kernelspec": {
   "display_name": "Python 3",
   "language": "python",
   "name": "python3"
  },
  "language_info": {
   "codemirror_mode": {
    "name": "ipython",
    "version": 3
   },
   "file_extension": ".py",
   "mimetype": "text/x-python",
   "name": "python",
   "nbconvert_exporter": "python",
   "pygments_lexer": "ipython3",
   "version": "3.9.5"
  }
 },
 "nbformat": 4,
 "nbformat_minor": 2
}
