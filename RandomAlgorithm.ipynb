{
 "cells": [
  {
   "cell_type": "code",
   "metadata": {
    "tags": [],
    "cell_id": "00000-a8002d6e-6d49-4a08-a596-4c2c76ee4e49",
    "deepnote_to_be_reexecuted": false,
    "source_hash": "bd190a5a",
    "execution_start": 1641399858107,
    "execution_millis": 3,
    "deepnote_output_heights": [
     2
    ],
    "deepnote_cell_type": "code"
   },
   "source": "from IPython.core.display import HTML, display\ndisplay(HTML('<style>.container { width:100%; !important } </style>'))",
   "execution_count": null,
   "outputs": [
    {
     "data": {
      "text/plain": "<IPython.core.display.HTML object>",
      "text/html": "<style>.container { width:100%; !important } </style>"
     },
     "metadata": {},
     "output_type": "display_data"
    }
   ]
  },
  {
   "cell_type": "markdown",
   "source": "# Simplest algorithm: make a random legal move",
   "metadata": {
    "tags": [],
    "cell_id": "00001-68e5e53c-6bfd-477c-8e7c-d5e9d94d8463",
    "deepnote_cell_type": "markdown"
   }
  },
  {
   "cell_type": "markdown",
   "source": "### Dependencies",
   "metadata": {
    "tags": [],
    "cell_id": "00001-025a9ce1-9c26-4e52-b35a-14d385d274a3",
    "deepnote_cell_type": "markdown"
   }
  },
  {
   "cell_type": "code",
   "metadata": {
    "tags": [],
    "cell_id": "00000-2f45fff2-d19a-40bb-bfff-2d351b7affa3",
    "deepnote_to_be_reexecuted": false,
    "source_hash": "2c0c55af",
    "execution_start": 1641399858108,
    "execution_millis": 5424,
    "deepnote_output_heights": [
     null,
     2
    ],
    "deepnote_cell_type": "code"
   },
   "source": "import chess\nimport random\nimport time\n\nimport import_ipynb\nimport Game\n",
   "execution_count": null,
   "outputs": [
    {
     "name": "stdout",
     "text": "importing Jupyter notebook from Game.ipynb\n",
     "output_type": "stream",
     "data": {}
    },
    {
     "data": {
      "text/plain": "<IPython.core.display.HTML object>",
      "text/html": "<style>.container { width:100%; !important } </style>"
     },
     "metadata": {},
     "output_type": "display_data"
    },
    {
     "name": "stdout",
     "text": "Requirement already satisfied: python-chess in /usr/local/lib/python3.7/site-packages (1.999)\nRequirement already satisfied: chess<2,>=1 in /root/venv/lib/python3.7/site-packages (from python-chess) (1.8.0)\n\u001b[33mWARNING: You are using pip version 20.1.1; however, version 21.3.1 is available.\nYou should consider upgrading via the '/usr/local/bin/python -m pip install --upgrade pip' command.\u001b[0m\nNote: you may need to restart the kernel to use updated packages.\n",
     "output_type": "stream",
     "data": {}
    }
   ]
  },
  {
   "cell_type": "markdown",
   "source": "### make_random_move\n\nSelects a random move from all possible legal moves the AI could make and pushes it onto the move stack.<br><br>\n\n\n##### Arguments\n    board : chess.Board\n        The chess board instance to push the move to.\n\n##### Returns\n    N/A\n\n##### Side effects\n    - Pauses execution for one second to make the move visible to the user.\n    - Pushes the randomly selected move to the move stack of the board.",
   "metadata": {
    "tags": [],
    "cell_id": "00003-c7b9b526-abfa-400f-9370-8055eacda994",
    "deepnote_cell_type": "markdown"
   }
  },
  {
   "cell_type": "code",
   "metadata": {
    "tags": [],
    "cell_id": "00003-bee3f1f0-184c-4184-a25b-0236c62a8e77",
    "deepnote_to_be_reexecuted": false,
    "source_hash": "dcbe7cbd",
    "execution_start": 1641399863545,
    "execution_millis": 1,
    "deepnote_cell_type": "code"
   },
   "source": "def make_random_move(board: chess.Board, color: chess.Color) -> None:\n    time.sleep(1)\n    board.push(random.choice(list(board.legal_moves)))",
   "execution_count": null,
   "outputs": []
  },
  {
   "cell_type": "markdown",
   "source": "---",
   "metadata": {
    "tags": [],
    "cell_id": "00005-341d976a-6845-4a67-bddb-02fd7e58933e",
    "deepnote_cell_type": "markdown"
   }
  },
  {
   "cell_type": "markdown",
   "source": "### Lets the user play a game that uses the random move algorithm for the AI.",
   "metadata": {
    "tags": [],
    "cell_id": "00005-c893eb9b-2449-441a-abe4-60fc847681d4",
    "deepnote_cell_type": "markdown"
   }
  },
  {
   "cell_type": "code",
   "metadata": {
    "tags": [],
    "cell_id": "00005-05e82a39-79d3-499b-98e5-aa8950246965",
    "deepnote_to_be_reexecuted": false,
    "source_hash": "22223549",
    "execution_start": 1641399863562,
    "execution_millis": 2391406646,
    "deepnote_cell_type": "code"
   },
   "source": "#game = Game.Gam2e(make_random_move)\n#game.play()",
   "execution_count": null,
   "outputs": []
  },
  {
   "cell_type": "code",
   "metadata": {
    "tags": [],
    "cell_id": "00006-03bf741c-9fce-4bf9-a7b2-0bb792706804",
    "deepnote_to_be_reexecuted": false,
    "source_hash": "b623e53d",
    "execution_start": 1641399863603,
    "execution_millis": 2391406643,
    "deepnote_cell_type": "code"
   },
   "source": "",
   "execution_count": null,
   "outputs": []
  },
  {
   "cell_type": "markdown",
   "source": "<a style='text-decoration:none;line-height:16px;display:flex;color:#5B5B62;padding:10px;justify-content:end;' href='https://deepnote.com?utm_source=created-in-deepnote-cell&projectId=d6ce9acd-52c5-4422-904d-8424da19408b' target=\"_blank\">\n<img alt='Created in deepnote.com' style='display:inline;max-height:16px;margin:0px;margin-right:7.5px;' src='data:image/svg+xml;base64,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' > </img>\nCreated in <span style='font-weight:600;margin-left:4px;'>Deepnote</span></a>",
   "metadata": {
    "tags": [],
    "created_in_deepnote_cell": true,
    "deepnote_cell_type": "markdown"
   }
  }
 ],
 "nbformat": 4,
 "nbformat_minor": 2,
 "metadata": {
  "orig_nbformat": 2,
  "deepnote": {
   "is_reactive": false
  },
  "deepnote_notebook_id": "254e4bf4-803a-4466-8b1a-ee4483665465",
  "deepnote_execution_queue": []
 }
}