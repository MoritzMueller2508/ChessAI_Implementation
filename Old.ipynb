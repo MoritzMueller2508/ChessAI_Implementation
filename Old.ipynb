{
 "cells": [
  {
   "cell_type": "code",
   "metadata": {
    "cell_id": "00000-54442df6-fa24-4ec0-b8ad-6d9a6c4d2f07",
    "tags": [],
    "deepnote_to_be_reexecuted": false,
    "source_hash": "bd190a5a",
    "execution_start": 1643212429986,
    "execution_millis": 2,
    "deepnote_output_heights": [
     2
    ],
    "deepnote_cell_type": "code"
   },
   "source": "from IPython.core.display import HTML, display\ndisplay(HTML('<style>.container { width:100%; !important } </style>'))",
   "outputs": [
    {
     "data": {
      "text/plain": "<IPython.core.display.HTML object>",
      "text/html": "<style>.container { width:100%; !important } </style>"
     },
     "metadata": {},
     "output_type": "display_data"
    }
   ],
   "execution_count": 1
  },
  {
   "cell_type": "markdown",
   "source": "### Imports and setup",
   "metadata": {
    "cell_id": "00001-e184a5b5-4a52-45d2-99c6-a3c0787aa2b1",
    "tags": [],
    "deepnote_cell_type": "markdown"
   }
  },
  {
   "cell_type": "code",
   "metadata": {
    "cell_id": "00002-6d3ed1be-8995-4289-9432-120e66fafdc1",
    "deepnote_output_heights": [
     2,
     543,
     2,
     611,
     2,
     2
    ],
    "deepnote_to_be_reexecuted": false,
    "execution_millis": 5205,
    "execution_start": 1643212430028,
    "source_hash": "35654691",
    "tags": [],
    "output_cleared": true,
    "deepnote_cell_type": "code"
   },
   "source": "%run RandomAlgorithm.ipynb import *\n%run Util.ipynb import *",
   "outputs": [],
   "execution_count": 2
  },
  {
   "cell_type": "code",
   "metadata": {
    "cell_id": "00000-ba784b36-f01b-4fd6-b35a-ba490a1caa13",
    "deepnote_to_be_reexecuted": false,
    "execution_millis": 1,
    "execution_start": 1643212435277,
    "source_hash": "3d194ab9",
    "tags": [],
    "deepnote_cell_type": "code"
   },
   "source": "import chess\nimport math\nimport random",
   "outputs": [],
   "execution_count": 3
  },
  {
   "cell_type": "markdown",
   "source": "### Set up evaluation function parameters",
   "metadata": {
    "cell_id": "00001-2a394509-7390-4286-98bc-2e11fe6652a4",
    "tags": [],
    "deepnote_cell_type": "markdown"
   }
  },
  {
   "cell_type": "code",
   "metadata": {
    "cell_id": "00001-f3dcb2c7-0ea3-4745-9416-b8afbb64357c",
    "deepnote_to_be_reexecuted": false,
    "execution_millis": 41,
    "execution_start": 1643212435279,
    "source_hash": "8ad4f78e",
    "tags": [],
    "deepnote_cell_type": "code"
   },
   "source": "piece_values = {\n    'p': 100,   # Pawns\n    'n': 320,   # Knights\n    'b': 330,   # Bishops\n    'r': 500,   # Rooks\n    'q': 900,   # Queen\n    'k': 20000  # King\n}\n\npiece_square_tables = {\n    'p': [ # Pawns\n        [   0,   0,   0,   0,   0,   0,   0,   0 ],\n        [  50,  50,  50,  50,  50,  50,  50,  50 ],\n        [  10,  10,  20,  30,  30,  20,  10,  10 ],\n        [   5,   5,  10,  25,  25,  10,   5,   5 ],\n        [   0,   0,   0,  20,  20,   0,   0,   0 ],\n        [   5,  -5, -10,   0,   0, -10,  -5,   5 ],\n        [   5,  10,  10, -20, -20,  10,  10,   5 ],\n        [   0,   0,   0,   0,   0,   0,   0,   0 ]\n    ],\n\n    'n': [ # Knights\n        [ -50, -40, -30, -30, -30, -30, -40, -50 ],\n        [ -40, -20,   0,   0,   0,   0, -20, -40 ],\n        [ -30,   0,  10,  15,  15,  10,   0, -30 ],\n        [ -30,   5,  15,  20,  20,  15,   5, -30 ],\n        [ -30,   0,  15,  20,  20,  15,   0, -30 ],\n        [ -30,   5,  10,  15,  15,  10,   5, -30 ],\n        [ -40, -20,   0,   5,   5,   0, -20, -40 ],\n        [ -50, -40, -30, -30, -30, -30, -40, -50 ]\n    ],\n\n    'b': [ # Bishops\n        [ -20, -10, -10, -10, -10, -10, -10, -20 ],\n        [ -10,   0,   0,   0,   0,   0,   0, -10 ],\n        [ -10,   0,   5,  10,  10,   5,   0, -10 ],\n        [ -10,   5,   5,  10,  10,   5,   5, -10 ],\n        [ -10,   0,  10,  10,  10,  10,   0, -10 ],\n        [ -10,  10,  10,  10,  10,  10,  10, -10 ],\n        [ -10,   5,   0,   0,   0,   0,   5, -10 ],\n        [ -20, -10, -10, -10, -10, -10, -10, -20 ]\n    ],\n\n    'r': [ # Rooks\n        [   0,   0,   0,   0,   0,   0,   0,   0 ],\n        [   5,  10,  10,  10,  10,  10,  10,   5 ],\n        [  -5,   0,   0,   0,   0,   0,   0,  -5 ],\n        [  -5,   0,   0,   0,   0,   0,   0,  -5 ],\n        [  -5,   0,   0,   0,   0,   0,   0,  -5 ],\n        [  -5,   0,   0,   0,   0,   0,   0,  -5 ],\n        [  -5,   0,   0,   0,   0,   0,   0,  -5 ],\n        [   0,   0,   0,   5,   5,   0,   0,   0 ]\n    ],\n\n    'q': [ # Queen\n        [ -20, -10, -10,  -5,  -5, -10, -10, -20 ],\n        [ -10,   0,   0,   0,   0,   0,   0, -10 ],\n        [ -10,   0,   5,   5,   5,   5,   0, -10 ],\n        [  -5,   0,   5,   5,   5,   5,   0,  -5 ],\n        [   0,   0,   5,   5,   5,   5,   0,  -5 ],\n        [ -10,   5,   5,   5,   5,   5,   0, -10 ],\n        [ -10,   0,   5,   0,   0,   0,   0, -10 ],\n        [ -20, -10, -10,  -5,  -5, -10, -10, -20 ]\n    ],\n\n    'km': [ # King (middle game)\n        [ -30, -40, -40, -50, -50, -40, -40, -30 ],\n        [ -30, -40, -40, -50, -50, -40, -40, -30 ],\n        [ -30, -40, -40, -50, -50, -40, -40, -30 ],\n        [ -30, -40, -40, -50, -50, -40, -40, -30 ],\n        [ -20, -30, -30, -40, -40, -30, -30, -20 ],\n        [ -10, -20, -20, -20, -20, -20, -20, -10 ],\n        [  20,  20,   0,   0,   0,   0,  20,  20 ],\n        [  20,  30,  10,   0,   0,  10,  30,  20 ]\n    ],\n\n    'ke': [ # King (end game)\n        [ -50, -40, -30, -20, -20, -30, -40, -50 ],\n        [ -30, -20, -10,   0,   0, -10, -20, -30 ],\n        [ -30, -10,  20,  30,  30,  20, -10, -30 ],\n        [ -30, -10,  30,  40,  40,  30, -10, -30 ],\n        [ -30, -10,  30,  40,  40,  30, -10, -30 ],\n        [ -30, -10,  20,  30,  30,  20, -10, -30 ],\n        [ -30, -30,   0,   0,   0,   0, -30, -30 ],\n        [ -50, -30, -30, -30, -30, -30, -30, -50 ]\n    ]\n}",
   "outputs": [],
   "execution_count": 4
  },
  {
   "cell_type": "code",
   "metadata": {
    "cell_id": "00006-511ba90c-8796-4768-b450-5c136296d704",
    "deepnote_to_be_reexecuted": false,
    "execution_millis": 1,
    "execution_start": 1643212435321,
    "source_hash": "3d5977df",
    "tags": [],
    "deepnote_cell_type": "code"
   },
   "source": "def get_best_move(self) -> chess.Move:\n    # return max(board.legal_moves, key=lambda move: get_move_score(board, move))\n\n    # Using alpha beta search algorithm\n    _, move = self.get_best_move_alphabeta(alpha=-100000000, beta=100000000, ai_turn=True, iteration=0, max_iterations=5)\n    return move\n\nchess.Board.get_best_move = get_best_move",
   "outputs": [],
   "execution_count": 5
  },
  {
   "cell_type": "code",
   "metadata": {
    "cell_id": "00007-9f70098e-7adc-495e-979f-57fac7e09e30",
    "deepnote_to_be_reexecuted": false,
    "execution_millis": 9,
    "execution_start": 1643212435322,
    "source_hash": "9cf57d6",
    "tags": [],
    "deepnote_cell_type": "code"
   },
   "source": "def get_best_move_minimax(self, ai_turn: bool, iteration: int, max_iterations: int) -> (int, chess.Move):\n    # If the game has finished, return a positive score if we won, or a negative score if we lost.\n    # This score is higher than any possible score in the evaluation function, because wining or losing\n    # the game is more impactful than any other board state.\n    # If the game ended in a draw, return a neutral score (0).\n    outcome = self.outcome()\n    if outcome is not None:\n        if outcome.winner == chess.WHITE:\n            return 1000000, None\n        if outcome.winner == chess.BLACK:\n            return -1000000, None\n        return 0, None # Draw\n\n    # If the search has hit its max depth (max_iterations), return the current evaluation score for the AI\n    if iteration >= max_iterations:\n        return self.get_ai_score(), None\n\n    # If the game has not finished, check additional moves using the minimax algorithm\n    best_score, best_move = 10000000 * (-1 if ai_turn else 1), None\n    for move in self.legal_moves:\n        self.push(move)\n        score_after_move, _ = self.get_best_move_minimax(not ai_turn, iteration + 1, max_iterations)\n        if (ai_turn and score_after_move > best_score) or (not ai_turn and score_after_move < best_score):\n            best_score = score_after_move\n            best_move = move\n        self.pop()\n\n    return best_score, best_move\n\nchess.Board.get_best_move_minimax = get_best_move_minimax",
   "outputs": [],
   "execution_count": 6
  },
  {
   "cell_type": "code",
   "metadata": {
    "cell_id": "00009-e8d26b63-c12e-401e-8128-4c660d2a6fb4",
    "deepnote_to_be_reexecuted": false,
    "execution_millis": 14,
    "execution_start": 1643212435332,
    "source_hash": "318593a1",
    "tags": [],
    "deepnote_cell_type": "code"
   },
   "source": "def get_best_move_alphabeta(self, alpha: int, beta: int, ai_turn: bool, iteration: int, max_iterations: int) -> (int, chess.Move):\n    # If the game has finished, return a positive score if we won, or a negative score if we lost.\n    # This score is higher than any possible score in the evaluation function, because wining or losing\n    # the game is more impactful than any other board state.\n    # If the game ended in a draw, return a neutral score (0).\n    outcome = self.outcome()\n    if outcome is not None:\n        if outcome.winner == chess.WHITE:\n            return 1000000, None\n        if outcome.winner == chess.BLACK:\n            return -1000000, None\n        return 0, None # Draw\n\n    # If the search has hit its max depth (max_iterations), return the current evaluation score for the AI\n    if iteration >= max_iterations:\n        return self.get_ai_score(), None\n\n    # If the game has not finished, check additional moves using the minimax algorithm\n    best_score, best_move = 10000000 * (-1 if ai_turn else 1), None\n    for move in self.legal_moves:\n        self.push(move)\n        score_after_move, _ = self.get_best_move_alphabeta(alpha, beta, not ai_turn, iteration + 1, max_iterations)\n        if (ai_turn and score_after_move > best_score) or (not ai_turn and score_after_move < best_score):\n            best_score = score_after_move\n            best_move = move\n        self.pop()\n\n        if ai_turn:\n            if best_score >= beta:\n                return best_score, move\n            if best_score > alpha:\n                alpha = best_score\n        else:\n            if best_score <= alpha:\n                return best_score, move\n            if best_score < beta:\n                beta = best_score\n\n    return best_score, best_move\n\nchess.Board.get_best_move_alphabeta = get_best_move_alphabeta",
   "outputs": [],
   "execution_count": 7
  },
  {
   "cell_type": "markdown",
   "source": "",
   "metadata": {
    "cell_id": "00008-bf719d0f-85a7-4f09-8ed5-723048976937",
    "tags": [],
    "deepnote_cell_type": "markdown"
   }
  },
  {
   "cell_type": "code",
   "metadata": {
    "cell_id": "00012-7b24b91a-4315-4872-be93-eb24b3b91a78",
    "deepnote_output_heights": [
     null,
     392
    ],
    "deepnote_to_be_reexecuted": false,
    "execution_millis": 7874501627,
    "execution_start": 1643212435359,
    "source_hash": "b623e53d",
    "tags": [],
    "deepnote_cell_type": "code"
   },
   "source": "",
   "outputs": [],
   "execution_count": 7
  },
  {
   "cell_type": "markdown",
   "source": "<a style='text-decoration:none;line-height:16px;display:flex;color:#5B5B62;padding:10px;justify-content:end;' href='https://deepnote.com?utm_source=created-in-deepnote-cell&projectId=d6ce9acd-52c5-4422-904d-8424da19408b' target=\"_blank\">\n<img alt='Created in deepnote.com' style='display:inline;max-height:16px;margin:0px;margin-right:7.5px;' src='data:image/svg+xml;base64,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' > </img>\nCreated in <span style='font-weight:600;margin-left:4px;'>Deepnote</span></a>",
   "metadata": {
    "tags": [],
    "created_in_deepnote_cell": true,
    "deepnote_cell_type": "markdown"
   }
  }
 ],
 "nbformat": 4,
 "nbformat_minor": 2,
 "metadata": {
  "deepnote": {
   "is_reactive": false
  },
  "deepnote_execution_queue": [],
  "deepnote_notebook_id": "23fd10d5-004d-411f-b8d6-e91da32dee85",
  "language_info": {
   "name": "python"
  },
  "orig_nbformat": 2
 }
}