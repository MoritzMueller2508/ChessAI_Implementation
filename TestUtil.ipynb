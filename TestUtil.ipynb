{
 "cells": [
  {
   "cell_type": "code",
   "execution_count": null,
   "metadata": {
    "cell_id": "046202d4-65c7-480a-8479-e2ea7b60421f",
    "deepnote_app_coordinates": {
     "h": 5,
     "w": 12,
     "x": 0,
     "y": null
    },
    "deepnote_cell_height": 117,
    "deepnote_cell_type": "code",
    "deepnote_output_heights": [
     2
    ],
    "deepnote_to_be_reexecuted": false,
    "execution_millis": 4918858,
    "execution_start": 1653060271836,
    "source_hash": "bd190a5a",
    "tags": []
   },
   "outputs": [],
   "source": [
    "from IPython.core.display import HTML, display\n",
    "display(HTML('<style>.container { width:100%; !important } </style>'))"
   ]
  },
  {
   "cell_type": "markdown",
   "metadata": {
    "cell_id": "00001-591d2582-5863-4892-9380-4ee902903344",
    "deepnote_app_coordinates": {
     "h": 5,
     "w": 12,
     "x": 0,
     "y": 0
    },
    "deepnote_cell_height": 82,
    "deepnote_cell_type": "markdown",
    "tags": []
   },
   "source": [
    "# Utility Functions for Testing"
   ]
  },
  {
   "cell_type": "markdown",
   "metadata": {
    "cell_id": "f5bd767f553446b0bb092ca559dfe6ee",
    "deepnote_app_coordinates": {
     "h": 5,
     "w": 12,
     "x": 0,
     "y": 0
    },
    "deepnote_cell_height": 52.390625,
    "deepnote_cell_type": "markdown",
    "tags": []
   },
   "source": [
    "This notebook contains helper functions to test the different search algorithms."
   ]
  },
  {
   "cell_type": "markdown",
   "metadata": {
    "cell_id": "00002-46f2401a-624e-4cdf-9668-8e61d41cdcc2",
    "deepnote_app_coordinates": {
     "h": 5,
     "w": 12,
     "x": 0,
     "y": 0
    },
    "deepnote_cell_height": 62,
    "deepnote_cell_type": "markdown",
    "tags": []
   },
   "source": [
    "### Dependencies"
   ]
  },
  {
   "cell_type": "code",
   "execution_count": null,
   "metadata": {
    "cell_id": "00003-fc9cca33-115b-4370-8b90-f8379b0c1fd0",
    "deepnote_app_coordinates": {
     "h": 5,
     "w": 12,
     "x": 0,
     "y": 6
    },
    "deepnote_cell_height": 207,
    "deepnote_cell_type": "code",
    "deepnote_to_be_reexecuted": false,
    "execution_millis": 100,
    "execution_start": 1654077704948,
    "output_cleared": true,
    "source_hash": "ce3b9ab",
    "tags": []
   },
   "outputs": [],
   "source": [
    "import chess\n",
    "import pprint\n",
    "import numpy as np\n",
    "import unittest\n",
    "\n",
    "import import_ipynb\n",
    "import Game\n",
    "from Globals import Globals\n",
    "from ChessAlgorithm import ChessAlgorithm"
   ]
  },
  {
   "cell_type": "markdown",
   "metadata": {
    "cell_id": "163ce2a404ea41e4a460d8592c6715e4",
    "deepnote_app_coordinates": {
     "h": 5,
     "w": 12,
     "x": 0,
     "y": 0
    },
    "deepnote_cell_height": 287.1875,
    "deepnote_cell_type": "markdown",
    "tags": []
   },
   "source": [
    "#### test_equals\n",
    "Checks if two values are equal, then prints the results.\n",
    "\n",
    "###### __<u>Arguments</u>__\n",
    "``name (str):``  \n",
    "The name of the test.\n",
    "\n",
    "``value1 (any):``  \n",
    "The first value that should be tested for equality.\n",
    "\n",
    "``value2 (any):``  \n",
    "The second value that should be tested for equality."
   ]
  },
  {
   "cell_type": "code",
   "execution_count": null,
   "metadata": {
    "cell_id": "f0b5bfcaab8d4af5924d41232aa5e679",
    "deepnote_app_coordinates": {
     "h": 5,
     "w": 12,
     "x": 0,
     "y": 0
    },
    "deepnote_cell_height": 135,
    "deepnote_cell_type": "code",
    "deepnote_to_be_reexecuted": false,
    "execution_millis": 8,
    "execution_start": 1653060272602,
    "source_hash": "9a5fd83",
    "tags": []
   },
   "outputs": [],
   "source": [
    "def test_equals(name: str, value1: any, value2: any) -> None:\n",
    "    test_passed = (value1 == value2)\n",
    "    passed_string = 'PASSED' if test_passed else 'FAILED'\n",
    "    print(f'{name} {passed_string}: {value1} = {value2}')"
   ]
  },
  {
   "cell_type": "markdown",
   "metadata": {
    "cell_id": "00014-ecfe5e56-8b6c-4dc2-9ec3-c8441d41f1ef",
    "deepnote_app_coordinates": {
     "h": 5,
     "w": 12,
     "x": 0,
     "y": 60
    },
    "deepnote_cell_height": 352,
    "deepnote_cell_type": "markdown",
    "tags": []
   },
   "source": [
    "#### perform_chess_problem_tests\n",
    "Runs a search algorithm against all available chess problems in order to test the functionality and effeciveness of this algorithm.\n",
    "\n",
    "###### __<u>Arguments</u>__\n",
    "``algorithm (type[ChessAlgorithm]):``  \n",
    "The class of the chess search algorithm that white should use in the tests.\n",
    "\n",
    "``max_depth (int, default: None):``  \n",
    "The maximum search depth that the algorithm can handle. Chess problems whose solutions require more plies than this search depth are skipped. If set to `None`, no chess problems are skipped.  \n",
    "\n",
    "###### __<u>Side effects</u>__\n",
    "- The current visual output is overwritten.\n",
    "- Test playthrough information is tracked and printed."
   ]
  },
  {
   "cell_type": "code",
   "execution_count": null,
   "metadata": {
    "cell_id": "00015-7c363b62-8ea0-4d86-bafa-fba021fa957b",
    "deepnote_app_coordinates": {
     "h": 5,
     "w": 12,
     "x": 0,
     "y": 66
    },
    "deepnote_cell_height": 225,
    "deepnote_cell_type": "code",
    "deepnote_to_be_reexecuted": false,
    "execution_millis": 8,
    "execution_start": 1653060272641,
    "owner_user_id": "bf601137-8aff-4afc-8e92-5767ca086e79",
    "source_hash": "380aaa3",
    "tags": []
   },
   "outputs": [],
   "source": [
    "def perform_chess_problem_tests(algorithm, max_depth: int=None) -> None: # TODO type\n",
    "    test_game = Game.Game(algorithm, algorithm, endgame_tablebase_dir=None)\n",
    "\n",
    "    for c in Globals.CHESS_PROBLEMS:\n",
    "        test_game.play(chess_problem=c, search_depth_auto=True,\n",
    "                max_depth=max_depth, automation=True)\n",
    "\n",
    "    pprint.pprint(test_game.problem_playthroughs)\n",
    "    print(f'\\n{test_game.wins}')"
   ]
  },
  {
   "cell_type": "markdown",
   "metadata": {
    "cell_id": "00022-55250f69-cf20-4160-80ae-e68630677b4a",
    "deepnote_app_coordinates": {
     "h": 5,
     "w": 12,
     "x": 0,
     "y": 114
    },
    "deepnote_cell_height": 632,
    "deepnote_cell_type": "markdown",
    "tags": []
   },
   "source": [
    "#### perform_full_game_test\n",
    "This is a full game test, in which a game of chess is played by two AIs. The game is defined by the arguments below. Information about the move times is calculated and displayed.\n",
    "\n",
    "###### __<u>Arguments</u>__\n",
    "``algorithm_white (type[ChessAlgorithm]):``  \n",
    "The class of the chess algorithm that white should use to make a new move.\n",
    "\n",
    "``algo_name_white (str):``  \n",
    "The name of the algorithm that the white AI uses.  \n",
    "\n",
    "``algorithm_black (type[ChessAlgorithm]):``  \n",
    "The class of the chess algorithm that black should use to make a new move.\n",
    "\n",
    "``algo_name_black (str):``  \n",
    "The name of the algorithm that the black AI uses.  \n",
    "\n",
    "``search_depth_white (int, default: 4):``  \n",
    "The search depth for the white AI's search algorithm. \n",
    "\n",
    "``search_depth_black (int, default: 4):``  \n",
    "The search depth for the black AI's search algorithm. \n",
    "\n",
    "###### __<u>Side effects</u>__\n",
    "- The current visual output is overwritten.\n",
    "- Test information is tracked and printed.\n",
    "\n",
    "###### __<u>Returns _(Game.Game)_</u>__\n",
    "The `Game` object of the game of chess that has been played."
   ]
  },
  {
   "cell_type": "code",
   "execution_count": null,
   "metadata": {
    "cell_id": "00023-9683095b-3b4a-4186-83ba-72d4b3370dad",
    "deepnote_app_coordinates": {
     "h": 5,
     "w": 12,
     "x": 0,
     "y": 120
    },
    "deepnote_cell_height": 423,
    "deepnote_cell_type": "code",
    "deepnote_to_be_reexecuted": false,
    "execution_millis": 12,
    "execution_start": 1653060272660,
    "source_hash": "66b3d8cf",
    "tags": []
   },
   "outputs": [],
   "source": [
    "def perform_full_game_test(\n",
    "    algorithm_white: type[ChessAlgorithm],\n",
    "    algo_name_white: str,\n",
    "    algorithm_black: type[ChessAlgorithm],\n",
    "    algo_name_black: str,\n",
    "    search_depth_white: int=4,\n",
    "    search_depth_black: int=4\n",
    ") -> Game.Game:\n",
    "\n",
    "    game = Game.Game(algorithm_white, algorithm_black, search_depth_white, search_depth_black)\n",
    "    game.play()\n",
    "\n",
    "    white_times_mean = np.mean(game.move_times[chess.WHITE])\n",
    "    white_times_std = np.std(game.move_times[chess.WHITE])\n",
    "    black_times_mean = np.mean(game.move_times[chess.BLACK])\n",
    "    black_times_std = np.std(game.move_times[chess.BLACK])\n",
    "    print(f'{algo_name_white} (white) move times. Mean: {white_times_mean}, ' \\\n",
    "            + f'std. dev: {white_times_std}')\n",
    "    print(f'{algo_name_black} (black) move times. Mean: {black_times_mean}, ' \\\n",
    "            + f'std. dev: {black_times_std}')"
   ]
  },
  {
   "cell_type": "markdown",
   "metadata": {
    "cell_id": "00042-ebcfff24-592b-4dd2-98d2-ac0b322595ad",
    "deepnote_app_coordinates": {
     "h": 5,
     "w": 12,
     "x": 0,
     "y": 0
    },
    "deepnote_cell_height": 309.59375,
    "deepnote_cell_type": "markdown",
    "tags": []
   },
   "source": [
    "#### perform_fen_tests\n",
    "Makes a move for two search algorithms on a board with a given FEN code, then returns the results. Performs this test for all FEN codes listed under `Globals.TEST_FEN_CODES`. This can be used to check if two algorithms make the same move in the same position, or if they choose a move with the same score.\n",
    "\n",
    "###### __<u>Arguments</u>__\n",
    "``first_algorithm (type[ChessAlgorithm]):``  \n",
    "The class of the first chess algorithm that should be tested.\n",
    "\n",
    "``second_algorithm (type[ChessAlgorithm]):``  \n",
    "The class of the second chess algorithm that should be tested.\n",
    "\n",
    "``only_scores (bool, default: False):``  \n",
    "Whether or not to only compare the move scores. If `False`, both the move and the move scores of both algorithms need to match."
   ]
  },
  {
   "cell_type": "code",
   "execution_count": null,
   "metadata": {
    "cell_id": "00043-bb36b142-11ca-4396-823b-10e14fed1786",
    "deepnote_cell_height": 243,
    "deepnote_cell_type": "code",
    "deepnote_to_be_reexecuted": false,
    "execution_millis": 12,
    "execution_start": 1653060272679,
    "source_hash": "34cc08d9"
   },
   "outputs": [],
   "source": [
    "def perform_fen_tests(\n",
    "    first_algorithm: type[ChessAlgorithm],\n",
    "    second_algorithm: type[ChessAlgorithm],\n",
    "    only_scores=False\n",
    ") -> None:\n",
    "    \n",
    "    for i, fen in enumerate(Globals.TEST_FEN_CODES):\n",
    "        result = []\n",
    "        for algorithm in ( first_algorithm, second_algorithm ):\n",
    "            fen_test_game = Game.Game(algorithm, algorithm, opening_book=None,\n",
    "                    endgame_tablebase_dir=None, fen=fen)\n",
    "            color = fen_test_game.board.turn\n",
    "            score, move, _, _ = fen_test_game.algorithm[color].make_move()\n",
    "            result.append(score if only_scores else (move, score))\n",
    "        test_equals(f'{i}. Test code {fen}', result[0], result[1])"
   ]
  },
  {
   "cell_type": "markdown",
   "metadata": {
    "cell_id": "c1437c23da2c4c89a4bdfd8db1842be0",
    "deepnote_app_coordinates": {
     "h": 5,
     "w": 12,
     "x": 0,
     "y": 0
    },
    "deepnote_cell_height": 287.1875,
    "deepnote_cell_type": "markdown",
    "tags": []
   },
   "source": [
    "#### make_single_move\n",
    "A simple test where a search algorithm makes a single move on a board defined by a FEN code. The board state after this move is displayed.\n",
    "\n",
    "###### __<u>Arguments</u>__\n",
    "``algorithm (type[ChessAlgorithm]):``  \n",
    "The class of the chess algorithm that should be tested.\n",
    "\n",
    "``search_depth (int):``  \n",
    "The maximum search depth of the search algorithm.\n",
    "\n",
    "``fen (str):``  \n",
    "The FEN code representing the board state that the algorithm should make a move on."
   ]
  },
  {
   "cell_type": "code",
   "execution_count": null,
   "metadata": {
    "cell_id": "c9bf142f48a0426e82126d5a1c722b4a",
    "deepnote_app_coordinates": {
     "h": 5,
     "w": 12,
     "x": 0,
     "y": 0
    },
    "deepnote_cell_height": 297,
    "deepnote_cell_type": "code",
    "deepnote_to_be_reexecuted": false,
    "execution_millis": 1,
    "execution_start": 1653289424635,
    "owner_user_id": "1e489002-1d0e-4892-8dc4-49d215805343",
    "source_hash": "4690eb9f",
    "tags": []
   },
   "outputs": [],
   "source": [
    "def make_single_move(algorithm: type[ChessAlgorithm], search_depth: int, fen: str) -> None:\n",
    "    game = Game.Game(\n",
    "        algorithm_white=algorithm,\n",
    "        search_depth_white=search_depth,\n",
    "        algorithm_black=algorithm,\n",
    "        search_depth_black=search_depth,\n",
    "        opening_book=None,\n",
    "        endgame_tablebase_dir=None,\n",
    "        fen=fen\n",
    "    )\n",
    "    color = game.board.turn\n",
    "    score, move, _, move_list = game.algorithm[color].make_move()\n",
    "    game.display(score=score, move=move, move_list=move_list)"
   ]
  }
 ],
 "metadata": {
  "deepnote": {
   "is_reactive": false
  },
  "deepnote_app_layout": "article",
  "deepnote_execution_queue": [],
  "deepnote_notebook_id": "29eb71ba-1588-4141-b4a5-8657c2a72b72",
  "keep_output": true,
  "kernelspec": {
   "display_name": "Python 3 (ipykernel)",
   "language": "python",
   "name": "python3"
  },
  "language_info": {
   "codemirror_mode": {
    "name": "ipython",
    "version": 3
   },
   "file_extension": ".py",
   "mimetype": "text/x-python",
   "name": "python",
   "nbconvert_exporter": "python",
   "pygments_lexer": "ipython3",
   "version": "3.9.12"
  }
 },
 "nbformat": 4,
 "nbformat_minor": 2
}
