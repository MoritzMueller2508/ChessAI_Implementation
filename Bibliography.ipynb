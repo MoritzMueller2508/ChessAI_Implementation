{
 "cells": [
  {
   "cell_type": "code",
   "execution_count": null,
   "metadata": {
    "cell_id": "bdb08a0746cc474c8bb7e24bd4a12287",
    "deepnote_cell_height": 84,
    "deepnote_cell_type": "code",
    "tags": []
   },
   "outputs": [],
   "source": [
    "from IPython.core.display import HTML, display\n",
    "display(HTML('<style>.container { width:100%; !important } </style>'))"
   ]
  },
  {
   "cell_type": "markdown",
   "metadata": {
    "cell_id": "4068461af09f4e9b87d72e7211c24dd9",
    "deepnote_cell_height": 82,
    "deepnote_cell_type": "markdown",
    "tags": []
   },
   "source": [
    "# Bibliography"
   ]
  },
  {
   "cell_type": "markdown",
   "metadata": {
    "cell_id": "39c4cf39ecb3463fa22f4300e5179c4e",
    "deepnote_cell_height": 52.390625,
    "deepnote_cell_type": "markdown",
    "tags": []
   },
   "source": [
    "<a id= 'AW1876'> </a>\n",
    "[1] Abbott, J. W. (1876). In: English Chess Problems, 1876. https://www.yacpdb.org/#4. Accessed on April 12th, 2022.  \n",
    "  "
   ]
  },
  {
   "cell_type": "markdown",
   "metadata": {
    "cell_id": "e094cd9fe04d4eaab39b6474a5c967aa",
    "deepnote_cell_height": 52.390625,
    "deepnote_cell_type": "markdown",
    "tags": []
   },
   "source": [
    "<a id ='AF75'> </a>\n",
    "[2] Abdurahmanović, F. (1975). In: Die Schwalbe, Dec 1975 (36/1649). https://www.yacpdb.org/#12. Accessed on April 12th, 2022.  \n"
   ]
  },
  {
   "cell_type": "markdown",
   "metadata": {
    "cell_id": "d44cd9a235ce42c28257dcdb94ad9e4d",
    "deepnote_cell_height": 52.390625,
    "deepnote_cell_type": "markdown",
    "tags": []
   },
   "source": [
    "<a id='AD49'></a>\n",
    "[3] Abragam, D. (1949). In: Bulletin Ouvrier des Echecs, 1949. https://www.yacpdb.org/#17. Accessed on April 12th, 2022.  \n"
   ]
  },
  {
   "cell_type": "markdown",
   "metadata": {
    "cell_id": "b84cdae4a9734668baa680f23164645a",
    "deepnote_cell_height": 74.796875,
    "deepnote_cell_type": "markdown",
    "tags": []
   },
   "source": [
    "<a id= 'BG20'></a>\n",
    "[4] Brihadiswaran, G. (2020). _A Performance Comparison Between C, Java, and Python_, https://medium.com/swlh/a-performance-comparison-between-c-java-and-python-df3890545f6d. Accessed on June 4th, 2022.  \n"
   ]
  },
  {
   "cell_type": "markdown",
   "metadata": {
    "cell_id": "de732274d999429c8b69fa0f82e49b6e",
    "deepnote_cell_height": 52.390625,
    "deepnote_cell_type": "markdown",
    "tags": []
   },
   "source": [
    "<a id='BS27'></a>\n",
    "[5] B. W. S. (1927). In: The Problemist, 1927. https://www.yacpdb.org/#1006. Accessed on April 12th, 2022.  \n"
   ]
  },
  {
   "cell_type": "markdown",
   "metadata": {
    "cell_id": "18f71c5dc5a04aa4ab086395f26521f0",
    "deepnote_cell_height": 52.390625,
    "deepnote_cell_type": "markdown",
    "tags": []
   },
   "source": [
    "<a id= 'CPW19'></a>\n",
    "[6] Chess Programming Wiki (2019). _Iterative Deepening_, https://www.chessprogramming.org/Iterative_Deepening. Accessed on June 1st, 2022.  \n"
   ]
  },
  {
   "cell_type": "markdown",
   "metadata": {
    "cell_id": "8a659deaefd54f61b1bc73995f4765f2",
    "deepnote_cell_height": 52.390625,
    "deepnote_cell_type": "markdown",
    "tags": []
   },
   "source": [
    "<a id= 'CPW20a'></a>\n",
    "[7] Chess Programming Wiki (2020a). _Gaviota Tablebases_, https://www.chessprogramming.org/Gaviota_Tablebases. Accessed on June 1st, 2022.  \n"
   ]
  },
  {
   "cell_type": "markdown",
   "metadata": {
    "cell_id": "0767905348294b3792f77ccceae1ab93",
    "deepnote_cell_height": 52.390625,
    "deepnote_cell_type": "markdown",
    "tags": []
   },
   "source": [
    "<a id= 'CPW20b'></a>\n",
    "[8] Chess Programming Wiki (2020b). _Delta Pruning_, https://www.chessprogramming.org/Delta_Pruning. Accessed on June 4th, 2022.  \n"
   ]
  },
  {
   "cell_type": "markdown",
   "metadata": {
    "cell_id": "d12388ebe2b54a31835239f153d9fa26",
    "deepnote_cell_height": 52.390625,
    "deepnote_cell_type": "markdown",
    "tags": []
   },
   "source": [
    "<a id= 'CPW21a'></a>\n",
    "[9] Chess Programming Wiki (2021a). _Quiescence Search_, https://www.chessprogramming.org/Quiescence_Search. Accessed on June 2nd, 2022.  \n"
   ]
  },
  {
   "cell_type": "markdown",
   "metadata": {
    "cell_id": "a5a1fc4d4dac42fba6c86bb1e940f66e",
    "deepnote_cell_height": 52.390625,
    "deepnote_cell_type": "markdown",
    "tags": []
   },
   "source": [
    "<a id='CPW21b'></a>\n",
    "[10] Chess Programming Wiki (2021b). *Parallel Search,* https://www.chessprogramming.org/Parallel_Search. Accessed on June 5th, 2022"
   ]
  },
  {
   "cell_type": "markdown",
   "metadata": {
    "cell_id": "1e430ae3e6bd4f609ad3b3fd52cbd992",
    "deepnote_cell_height": 52.390625,
    "deepnote_cell_type": "markdown",
    "tags": []
   },
   "source": [
    "<a id= 'CPW22a'></a>\n",
    "[11] Chess Programming Wiki (2022a). _Move Ordering_, https://www.chessprogramming.org/Move_Ordering. Accessed on June 1st, 2022.  \n"
   ]
  },
  {
   "cell_type": "markdown",
   "metadata": {
    "cell_id": "21f3b980c1ce41d5bd8984105aa62190",
    "deepnote_cell_height": 52.390625,
    "deepnote_cell_type": "markdown",
    "tags": []
   },
   "source": [
    "<a id= 'CPW22b'></a>\n",
    "[12] Chess Programming Wiki (2022b). _Forsyth-Edwards Notation_, https://www.chessprogramming.org/Forsyth-Edwards_Notation. Accessed on June 2nd, 2022.  \n"
   ]
  },
  {
   "cell_type": "markdown",
   "metadata": {
    "cell_id": "2ba9cf23e12444d6a5d91d66926feb40",
    "deepnote_cell_height": 74.796875,
    "deepnote_cell_type": "markdown",
    "tags": []
   },
   "source": [
    "<a id= 'DM18'></a>\n",
    "[13] DeepMind (2018). _AlphaZero: Shedding new light on chess, shogi, and Go_, https://www.deepmind.com/blog/alphazero-shedding-new-light-on-chess-shogi-and-go. Accessed on June 5th, 2022."
   ]
  },
  {
   "cell_type": "markdown",
   "metadata": {
    "cell_id": "cc8b6b7368e74191b2bd423befdfb3e8",
    "deepnote_cell_height": 52.390625,
    "deepnote_cell_type": "markdown",
    "tags": []
   },
   "source": [
    "<a id='EK30'></a>\n",
    "[14] Erlinger, K. (1930). In: Magyar Hirlap, 31 Jul 1930 (145). https://www.yacpdb.org/#558980. Accessed on April 12th, 2022.   \n"
   ]
  },
  {
   "cell_type": "markdown",
   "metadata": {
    "cell_id": "f440bdb9fb314de5a969689cbdde90f4",
    "deepnote_cell_height": 52.390625,
    "deepnote_cell_type": "markdown",
    "tags": []
   },
   "source": [
    "<a id= 'FN22a'></a>\n",
    "[15] Fiekas, N. (2022a). _python-chess: a chess library for Python_, https://python-chess.readthedocs.io/en/latest/. Accessed on June 5th, 2022."
   ]
  },
  {
   "cell_type": "markdown",
   "metadata": {
    "cell_id": "85ad2faf826d44638e4a4c3d25f93f5c",
    "deepnote_cell_height": 52.390625,
    "deepnote_cell_type": "markdown",
    "tags": []
   },
   "source": [
    "<a id= 'FN22b'></a>\n",
    "[16] Fiekas, N. (2022b). _Source code for chess_, https://python-chess.readthedocs.io/en/latest/_modules/chess.html. Accessed on June 5th, 2022."
   ]
  },
  {
   "cell_type": "markdown",
   "metadata": {
    "cell_id": "8a36b12a0bcb4996a738400d8f44e85d",
    "deepnote_cell_height": 153.1875,
    "deepnote_cell_type": "markdown",
    "tags": []
   },
   "source": [
    "<a id='KM75'></a>\n",
    "[17] Knuth, D. E. and Moore, R. W. (1975). _An Analysis of Alpha-Beta Pruning_. In: Artifical Intelligence, 6(4):293-326. https://doi.org/10.1016/0004-3702(75)90019-3. "
   ]
  },
  {
   "cell_type": "markdown",
   "metadata": {
    "cell_id": "91304896b02349a0aca2a223268926c8",
    "deepnote_cell_height": 52.390625,
    "deepnote_cell_type": "markdown",
    "owner_user_id": "bf601137-8aff-4afc-8e92-5767ca086e79",
    "tags": []
   },
   "source": [
    "<a id='LE75'></a>\n",
    "[18] Lücke, E. (1975). In: Die Schwalbe, Dec 1975 (1674). https://www.yacpdb.org/#558894. Accessed on April 12th, 2022.  \n"
   ]
  },
  {
   "cell_type": "markdown",
   "metadata": {
    "cell_id": "9059341bb52f44ceb69a40f4f0ab5ca6",
    "deepnote_cell_height": 52.390625,
    "deepnote_cell_type": "markdown",
    "tags": []
   },
   "source": [
    "<a id= 'MT21'></a>\n",
    "[19] Michniewski, T. (2021). _Simplified Evaluation Function_, https://www.chessprogramming.org/Simplified_Evaluation_Function. Accessed on April 12th, 2022.  \n"
   ]
  },
  {
   "cell_type": "markdown",
   "metadata": {},
   "source": [
    "<a id= 'PF22'></a>\n",
    "[20] Pedregosa, F. (2022). _memory-profiler_, https://pypi.org/project/memory-profiler/. Accessed on June 6th, 2022.  \n"
   ]
  },
  {
   "cell_type": "markdown",
   "metadata": {
    "cell_id": "636bc9092c34486386ea1c99bf25daf3",
    "deepnote_cell_height": 74.796875,
    "deepnote_cell_type": "markdown",
    "tags": []
   },
   "source": [
    "<a id= 'PR18'></a>\n",
    "[21] Pijl, R. (2018). _The Baron 3.43_, https://www.chessprogramming.net/new-version-of-the-baron-v3-43-plus-the-barons-polyglot-opening-book/. Accessed on June 1st, 2022.  \n"
   ]
  },
  {
   "cell_type": "markdown",
   "metadata": {
    "cell_id": "07a75f6fd80f4cb4b49bdd7504fdcff2",
    "deepnote_cell_height": 144.796875,
    "deepnote_cell_type": "markdown",
    "tags": []
   },
   "source": [
    "<a id= 'SC88'></a>\n",
    "[22] Shannon, C. E. (1988). _Programming a Computer for Playing Chess_. In: Levy, D. (eds) Computer Chess Compendium. Springer, New York, NY. https://doi.org/10.1007/978-1-4757-1968-0_1"
   ]
  },
  {
   "cell_type": "markdown",
   "metadata": {
    "cell_id": "f267a3a0c16248fbad6e26446d1ef103",
    "deepnote_cell_height": 52.390625,
    "deepnote_cell_type": "markdown",
    "owner_user_id": "1e489002-1d0e-4892-8dc4-49d215805343",
    "tags": []
   },
   "source": [
    "<a id= 'SC20'></a>\n",
    "[23] Stockfish (2020). _Stockfish 12_. https://stockfishchess.org/blog/2020/stockfish-12/. Accessed on June 5th, 2022."
   ]
  },
  {
   "cell_type": "markdown",
   "metadata": {
    "cell_id": "c6fbea018b5b48eca96c899500ca7cee",
    "deepnote_cell_height": 74.796875,
    "deepnote_cell_type": "markdown",
    "tags": []
   },
   "source": [
    "<a id='KS22'></a>\n",
    "[24] Stroetmann, K. (2022). _An Introduction to Artificial Intelligence_, https://github.com/karlstroetmann/Artificial-Intelligence/blob/master/Lecture-Notes/artificial-intelligence.pdf. Accessed on June 5th, 2022.  \n"
   ]
  },
  {
   "cell_type": "markdown",
   "metadata": {
    "cell_id": "ad12911ee038408daa901c03b57c459c",
    "deepnote_cell_height": 52.390625,
    "deepnote_cell_type": "markdown",
    "tags": []
   },
   "source": [
    "<a id='WB14'></a>\n",
    "[25] Will, B. (2014). _Bernd's Random-FEN-Generator_, http://bernd.bplaced.net/fengenerator/fengenerator.html. Accessed on May 20th, 2022.  \n"
   ]
  },
  {
   "cell_type": "markdown",
   "metadata": {
    "cell_id": "21457fa9b1514c3bbb0cfdbbbe1a89bf",
    "deepnote_cell_height": 52.390625,
    "deepnote_cell_type": "markdown",
    "tags": []
   },
   "source": [
    "<a id='WR22a'></a>\n",
    "[26] Wolfram Research, Inc. (2022a). _Zero-Sum Game_, https://mathworld.wolfram.com/Zero-SumGame.html. Accessed on May 24th, 2022.  \n"
   ]
  },
  {
   "cell_type": "markdown",
   "metadata": {
    "cell_id": "9e95fc4556404564bfd385ecb7996c99",
    "deepnote_cell_height": 52.390625,
    "deepnote_cell_type": "markdown",
    "tags": []
   },
   "source": [
    "<a id='WR22b'></a>\n",
    "[27] Wolfram Research, Inc. (2022b). _Perfect Information_, https://mathworld.wolfram.com/PerfectInformation.html. Accessed on May 24th, 2022."
   ]
  }
 ],
 "metadata": {
  "deepnote": {
   "is_reactive": false
  },
  "deepnote_execution_queue": [],
  "deepnote_notebook_id": "c4f0d162-ddec-4aad-b509-1cbff3944545",
  "kernelspec": {
   "display_name": "Python 3 (ipykernel)",
   "language": "python",
   "name": "python3"
  },
  "language_info": {
   "codemirror_mode": {
    "name": "ipython",
    "version": 3
   },
   "file_extension": ".py",
   "mimetype": "text/x-python",
   "name": "python",
   "nbconvert_exporter": "python",
   "pygments_lexer": "ipython3",
   "version": "3.9.12"
  }
 },
 "nbformat": 4,
 "nbformat_minor": 2
}
