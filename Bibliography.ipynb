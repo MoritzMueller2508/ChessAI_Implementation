{
 "cells": [
  {
   "cell_type": "markdown",
   "metadata": {
    "cell_id": "4068461af09f4e9b87d72e7211c24dd9",
    "deepnote_cell_height": 81.83332824707031,
    "deepnote_cell_type": "markdown",
    "tags": []
   },
   "source": [
    "# Bibliography"
   ]
  },
  {
   "cell_type": "markdown",
   "metadata": {
    "cell_id": "9059341bb52f44ceb69a40f4f0ab5ca6",
    "deepnote_cell_height": 276.23333740234375,
    "deepnote_cell_type": "markdown",
    "tags": []
   },
   "source": [
    "[1] Michniewski, T. (2021). _Simplified Evaluation Function_, https://www.chessprogramming.org/Simplified_Evaluation_Function. Accessed on April 12th, 2022.  \n",
    "[2] Stroetmann, K. (2022). _An Introduction to Artificial Intelligence_, https://github.com/karlstroetmann/Artificial-Intelligence/blob/master/Lecture-Notes/artificial-intelligence.pdf. Accessed on April 13th, 2022.  \n",
    "[3] Abbott, J. W. (1876). In: _English Chess Problems, 1876_. https://www.yacpdb.org/#4. Accessed on April 12th, 2022.  \n",
    "[4] Abdurahmanović, F. (1975). In: _Die Schwalbe, Dec 1975 (36/1649)_. https://www.yacpdb.org/#12. Accessed on April 12th, 2022.  \n",
    "[5] Lücke, E. (1975). In: _Die Schwalbe, Dec 1975 (1674)_. https://www.yacpdb.org/#558894. Accessed on April 12th, 2022.  \n",
    "[6] Erlinger, K. (1930). In: _Magyar Hirlap, 31 Jul 1930 (145)_. https://www.yacpdb.org/#558980. Accessed on April 12th, 2022.   \n",
    "[7] Abragam, D. (1949). In: _Bulletin Ouvrier des Echecs, 1949_. https://www.yacpdb.org/#17. Accessed on April 12th, 2022.  \n",
    "[8] B. W. S. (1927). In: _The Problemist, 1927_. https://www.yacpdb.org/#1006. Accessed on April 12th, 2022."
   ]
  }
 ],
 "metadata": {
  "deepnote": {
   "is_reactive": false
  },
  "deepnote_execution_queue": [],
  "deepnote_notebook_id": "c4f0d162-ddec-4aad-b509-1cbff3944545",
  "kernelspec": {
   "display_name": "Python 3",
   "language": "python",
   "name": "python3"
  },
  "language_info": {
   "codemirror_mode": {
    "name": "ipython",
    "version": 3
   },
   "file_extension": ".py",
   "mimetype": "text/x-python",
   "name": "python",
   "nbconvert_exporter": "python",
   "pygments_lexer": "ipython3",
   "version": "3.9.5"
  }
 },
 "nbformat": 4,
 "nbformat_minor": 2
}
