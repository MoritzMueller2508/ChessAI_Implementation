{
 "cells": [
  {
   "cell_type": "code",
   "metadata": {
    "cell_id": "00000-7f78fe80-5262-4c05-a128-0e8027c4cc89",
    "deepnote_app_coordinates": {
     "h": 5,
     "w": 12,
     "x": 0,
     "y": null
    },
    "deepnote_to_be_reexecuted": false,
    "execution_millis": 340,
    "execution_start": 1641927874962,
    "source_hash": "bd190a5a",
    "tags": [],
    "deepnote_cell_type": "code",
    "deepnote_cell_height": 98.83332824707031
   },
   "source": "from IPython.core.display import HTML, display\ndisplay(HTML('<style>.container { width:100%; !important } </style>'))",
   "execution_count": null,
   "outputs": []
  },
  {
   "cell_type": "markdown",
   "source": "# Utility Functions\n## For search algorithms and board evaluation",
   "metadata": {
    "cell_id": "d9223f6df0624b1b94d197601ffd90ea",
    "deepnote_app_coordinates": {
     "h": 5,
     "w": 12,
     "x": 0,
     "y": 0
    },
    "tags": [],
    "deepnote_cell_type": "markdown",
    "deepnote_cell_height": 137.8333282470703
   }
  },
  {
   "cell_type": "markdown",
   "source": "### Dependencies",
   "metadata": {
    "cell_id": "49d647d169b849a08c25b5b2e7d9ae25",
    "deepnote_app_coordinates": {
     "h": 5,
     "w": 12,
     "x": 0,
     "y": 0
    },
    "tags": [],
    "deepnote_cell_type": "markdown",
    "deepnote_cell_height": 61.83332824707031
   }
  },
  {
   "cell_type": "code",
   "metadata": {
    "cell_id": "00001-8cd564df-7c0b-4f79-b7eb-a0e340d57380",
    "deepnote_app_coordinates": {
     "h": 5,
     "w": 12,
     "x": 0,
     "y": 6
    },
    "deepnote_to_be_reexecuted": false,
    "execution_millis": 1040,
    "execution_start": 1646757912623,
    "source_hash": "ffeb2cbc",
    "tags": [],
    "owner_user_id": "bf601137-8aff-4afc-8e92-5767ca086e79",
    "deepnote_cell_type": "code",
    "deepnote_cell_height": 234.3333282470703,
    "deepnote_output_heights": [
     null,
     2
    ]
   },
   "source": "import chess\nimport chess.polyglot\nfrom typing import Union\n\nimport import_ipynb\nfrom Globals import Globals",
   "execution_count": null,
   "outputs": [
    {
     "name": "stdout",
     "output_type": "stream",
     "text": "importing Jupyter notebook from Globals.ipynb\n"
    },
    {
     "data": {
      "text/html": "<style>.container { width:100%; !important } </style>",
      "text/plain": "<IPython.core.display.HTML object>"
     },
     "metadata": {},
     "output_type": "display_data"
    }
   ]
  },
  {
   "cell_type": "markdown",
   "source": "#### chess.Board.evaluate_move\nCalculates the board score after a given move on the current board state. A high score represents a good move and a low score represents a bad move. The evaluation is performed over multiple phases, which account for game overs, endgame tablebase information, attacks, positional changes, castling and promotions.\n\n###### <b><u>Arguments</u></b>\n``use_heuristic (bool):``  \nWhether or not the heuristic for evaluating the chess board should be used. Chess problems don't need this heuristic.  \n\n``color (chess.Color):``  \nThe color (white or black) of the player that is able to make the move.\n\n``is_opponent (bool):``  \nWhether or not a potential move of the opponent is evaluated (used in minimax and alpha-beta searches).\n\n``prev_score (int):``  \nThe score of the board state before the move is made. The move's score is added to this value to calculate the total score.\n\n``iteration (int):``  \nThe current iteration (depth) of the search.\n\n``move (chess.Move):``  \nThe move that should be evaluated.\n\n``endgame_tablebase (Union[chess.gaviota.NativeTablebase, chess.gaviota.PythonTablebase]):``  \nThe endgame tablebase attached to the game, which serves as a shortcut for ideal moves in the endgame.\n\n###### <b><u>Returns <i>(int, bool)</i></u></b>\n- The total score (previous board score + move score).\n- Whether or not the endgame library was used to find the move.",
   "metadata": {
    "cell_id": "00001-9141f584-3492-4e8f-92c6-5e34f4f0aa49",
    "deepnote_app_coordinates": {
     "h": 5,
     "w": 12,
     "x": 0,
     "y": 12
    },
    "tags": [],
    "deepnote_cell_type": "markdown",
    "deepnote_cell_height": 668.2333374023438
   }
  },
  {
   "cell_type": "code",
   "metadata": {
    "cell_id": "00000-b6840b19-9c62-457c-812a-489602d86c35",
    "deepnote_app_coordinates": {
     "h": 5,
     "w": 12,
     "x": 0,
     "y": 18
    },
    "deepnote_to_be_reexecuted": false,
    "execution_millis": 0,
    "execution_start": 1638367783308,
    "source_hash": "b31f4046",
    "tags": [],
    "deepnote_cell_type": "code",
    "deepnote_cell_height": 890.8333129882812
   },
   "source": "def evaluate_move(\n    self,\n    use_heuristic: bool,\n    color: chess.Color,\n    is_opponent: bool,\n    prev_score: int,\n    iteration: int,\n    move: chess.Move,\n    endgame_tablebase: Union[chess.gaviota.NativeTablebase,\n        chess.gaviota.PythonTablebase]\n) -> (int, bool):\n\n    is_opponent_multiplier = -1 if is_opponent else 1\n\n    # Handle ending the game (draw = neutral, win = highest score, loss = lowest score)\n    game_ended, winner = self.evaluate_game_end(move)\n    if game_ended:\n        if winner is None:\n            draw_score = -Globals.EVALUATION_SCORE_DRAW if self.is_winning(color) \\\n                    else Globals.EVALUATION_SCORE_DRAW\n            return draw_score * is_opponent_multiplier, False\n        return (Globals.EVALUATION_SCORE_CHECKMATE - iteration) * is_opponent_multiplier \\\n                * (1 if winner == color else -1), False\n\n    # If the game hasn't ended and we don't use a chess board heuristic,\n    # the score doesn't matter\n    if not use_heuristic:\n        return 0, False\n\n    # Handle endgame tablebase\n    if endgame_tablebase is not None:\n        endgame_tablebase_score = self.evaluate_endgame(move, color, endgame_tablebase)\n        if endgame_tablebase_score is not None:\n            return endgame_tablebase_score * is_opponent_multiplier, True\n\n    # If the game hasn't ended and doesn't have a guaranteed win/draw/loss\n    # from the endgame tablebase, evaluate the move normally\n    score_diff = self.evaluate_attack(move)\n    score_diff += self.evaluate_positions(color, move)\n    score_diff += self.evaluate_castling(color, move)\n    score_diff += self.evaluate_promotion(move)\n\n    return prev_score + (score_diff * is_opponent_multiplier), False\n\nchess.Board.evaluate_move = evaluate_move\ndel evaluate_move",
   "execution_count": null,
   "outputs": []
  },
  {
   "cell_type": "markdown",
   "source": "#### chess.Board.evaluate_game_end\nFinds if, after a given move, the chess game is over. If so, it also finds the winner associated with this game over.\n\n###### <b><u>Arguments</u></b>\n``move (chess.Move): ``  \nThe move that should be checked for a game over.\n\n###### <b><u>Returns <i>(bool, chess.Color)</i></u></b>\n- Whether or not the move lead to a game over.\n- The winning color if a game over occured, None otherwise.",
   "metadata": {
    "cell_id": "00004-7719091e-eb27-47db-be86-e7a6581ca6ca",
    "deepnote_app_coordinates": {
     "h": 5,
     "w": 12,
     "x": 0,
     "y": 24
    },
    "tags": [],
    "deepnote_cell_type": "markdown",
    "deepnote_cell_height": 270.6333312988281
   }
  },
  {
   "cell_type": "code",
   "metadata": {
    "cell_id": "00005-75c3c484-7f90-4a0e-b844-9105f16607e7",
    "deepnote_app_coordinates": {
     "h": 5,
     "w": 12,
     "x": 0,
     "y": 30
    },
    "tags": [],
    "deepnote_cell_type": "code",
    "deepnote_cell_height": 227.8333282470703
   },
   "source": "def evaluate_game_end(self, move: chess.Move) -> (bool, chess.Color):\n    self.push(move)\n    game_ended = self.is_game_over()\n    winner = None if self.outcome() is None else self.outcome().winner\n    self.pop()\n\n    return game_ended, winner\n\nchess.Board.evaluate_game_end = evaluate_game_end\ndel evaluate_game_end",
   "execution_count": null,
   "outputs": []
  },
  {
   "cell_type": "markdown",
   "source": "#### chess.Board.is_winning\nFinds whether a certain color is winning, i.e. if they are in an advantageous position (but may not necessarily win the game, they just have the advantage). This is the case if their total board score, i.e. piece values plus positional scores, is greater than that of the opponent. If both players have an equal score, they are both considered to be winning (and will therefore try to avoid draws; this should make the game more interesting).\n\n###### <b><u>Arguments</u></b>\n``color (chess.Color):``  \nThe color of which the winning or losing position should be determined.\n\n###### <b><u>Returns <i>(bool)</i></u></b>\nWhether or not the given color is winning (see definition above).",
   "metadata": {
    "cell_id": "ddda763e-5770-4f94-b382-4ad4bcbe6716",
    "deepnote_app_coordinates": {
     "h": 5,
     "w": 12,
     "x": 0,
     "y": 36
    },
    "tags": [],
    "deepnote_cell_type": "markdown",
    "deepnote_cell_height": 295.433349609375
   }
  },
  {
   "cell_type": "code",
   "metadata": {
    "cell_id": "643fdb79-7dd4-49fc-bdd7-555369812e40",
    "deepnote_app_coordinates": {
     "h": 5,
     "w": 12,
     "x": 0,
     "y": 42
    },
    "tags": [],
    "deepnote_cell_type": "code",
    "deepnote_cell_height": 371.83331298828125
   },
   "source": "def is_winning(self, color: chess.Color) -> bool:\n    score = 0\n    for square in chess.SQUARES:\n        piece = self.piece_at(square)\n        if piece is None:\n            continue\n            \n        piece_score_multiplier = 1 if piece.color == color else -1\n        score += Globals.PIECE_VALUES[chess.piece_symbol(piece.piece_type)] \\\n                * piece_score_multiplier\n        piece_square_table_key = self.get_piece_square_table_key(piece.piece_type)\n        score += self.get_positional_score(color, piece_square_table_key, square) \\\n                * piece_score_multiplier\n\n    return (score >= 0)\n\nchess.Board.is_winning = is_winning\ndel is_winning",
   "execution_count": null,
   "outputs": []
  },
  {
   "cell_type": "markdown",
   "source": "#### chess.Board.get_piece_square_table_key\nFinds the dictionary key to index the piece square table of a piece type, which contains a positional score for each square on the chess board. Normally this key is simply the piece symbol of the piece type, but the king has a different piece square table during the end game.\n\n###### <b><u>Arguments</u></b>\n``piece_type (chess.PieceType):``  \nThe piece type to get the piece square table key for.\n\n###### <b><u>Returns <i>(str)</i></u></b>\nThe piece square table key associated with the piece type.",
   "metadata": {
    "cell_id": "00010-c1d861d5-ce1c-4fa6-8b3b-c7512312861b",
    "deepnote_app_coordinates": {
     "h": 5,
     "w": 12,
     "x": 0,
     "y": 48
    },
    "tags": [],
    "deepnote_cell_type": "markdown",
    "deepnote_cell_height": 273.0333251953125
   }
  },
  {
   "cell_type": "code",
   "metadata": {
    "cell_id": "00008-7a751c9d-94e6-4c8f-9b23-90d272894c46",
    "deepnote_app_coordinates": {
     "h": 5,
     "w": 12,
     "x": 0,
     "y": 54
    },
    "tags": [],
    "deepnote_cell_type": "code",
    "deepnote_cell_height": 191.8333282470703
   },
   "source": "def get_piece_square_table_key(self, piece_type: chess.PieceType) -> str:\n    piece_symbol = chess.piece_symbol(piece_type).lower()\n    if piece_symbol == 'k':\n        return 'ke' if self.ending else 'km'\n    return piece_symbol\n\nchess.Board.get_piece_square_table_key = get_piece_square_table_key\ndel get_piece_square_table_key",
   "execution_count": null,
   "outputs": []
  },
  {
   "cell_type": "markdown",
   "source": "#### chess.Board.get_positional_score\nFinds the positional score of a piece, which is retrieved from the matching piece square table.\n\n###### <b><u>Arguments</u></b>\n``color (chess.Color):``  \nThe color of the piece for which the positional score should be found.\n\n``piece_square_table_key (str):``  \nThe dictionary key to index the piece square table of the piece's type.\n\n``square (chess.Square):``  \nThe square (position) that the piece is located at.\n\n###### <b><u>Returns <i>(int)</i></u></b>\nThe positional score.",
   "metadata": {
    "cell_id": "00012-7223ef1a-2c1a-49dc-af4c-5510bcdec55e",
    "deepnote_app_coordinates": {
     "h": 5,
     "w": 12,
     "x": 0,
     "y": 60
    },
    "tags": [],
    "deepnote_cell_type": "markdown",
    "deepnote_cell_height": 345.83331298828125
   }
  },
  {
   "cell_type": "code",
   "metadata": {
    "cell_id": "00004-cb7c0a11-0d28-4059-a5b2-2f087ef7f6e3",
    "deepnote_app_coordinates": {
     "h": 5,
     "w": 12,
     "x": 0,
     "y": 66
    },
    "deepnote_to_be_reexecuted": false,
    "execution_millis": 0,
    "execution_start": 1638367783309,
    "source_hash": "93cdf610",
    "tags": [],
    "deepnote_cell_type": "code",
    "deepnote_cell_height": 332.83331298828125
   },
   "source": "def get_positional_score(\n    self, \n    color: chess.Color, \n    piece_square_table_key: str, \n    square: chess.Square\n) -> int:\n\n    hor_index = square % 8\n    ver_index = 7 - square // 8 if color == chess.WHITE else square // 8\n    piece_square_table = Globals.PIECE_SQUARE_TABLES[piece_square_table_key]\n    piece_square_value = piece_square_table[ver_index][hor_index]\n    return piece_square_value\n\nchess.Board.get_positional_score = get_positional_score\ndel get_positional_score",
   "execution_count": null,
   "outputs": []
  },
  {
   "cell_type": "markdown",
   "source": "#### chess.Board.evaluate_endgame\nCalculates a score based on the information in the endgame tablebase. This based on the DTM (depth to mate) value, which lists the amount of half-moves until a forced mate. If this value is positive, the current side to move can win in that many moves. If the value is negative, the current side to move loses in that many moves (assuming perfect play by the opponent). If the value is zero, a draw is forced. The evaluation score is calculated as follows:\n- If the DTM value is positive, the score is a very high positive number minus the DTM value (the fewer half-moves to win the better).\n- If the DTM value is negative, the score is a very high negative number minus the DTM value (the more half-moves to lose the better, and since the DTM value is negative, the score is less negative for high DTM values).\n- If the DTM value is zero, the score is positive if the player is losing and negative if the player is winning (see chess.Board.is_winning for a detailed explanation).\n\n###### <b><u>Arguments</u></b>\n``move (chess.Move):``  \nThe move that should be checked against the endgame tablebase.\n\n``color (chess.Color):``  \nThe color that can make the move.\n\n``endgame_tablebase (Union[chess.gaviota.NativeTablebase, chess.gaviota.PythonTablebase]):``  \nThe endgame tablebase attached to the game.\n\n###### <b><u>Returns <i>(int)</i></u></b>\nThe evaluation score if the endgame tablebase contained DTM information for the current board state (after the move is made), otherwise None.",
   "metadata": {
    "cell_id": "65a174ce-5bb4-44f9-a44e-85d9c64077cd",
    "deepnote_app_coordinates": {
     "h": 5,
     "w": 12,
     "x": 0,
     "y": 72
    },
    "tags": [],
    "deepnote_cell_type": "markdown",
    "deepnote_cell_height": 589.8333129882812
   }
  },
  {
   "cell_type": "code",
   "metadata": {
    "cell_id": "9ff7ff08-9cd0-40dc-8e4c-51ce16adef41",
    "deepnote_app_coordinates": {
     "h": 5,
     "w": 12,
     "x": 0,
     "y": 78
    },
    "tags": [],
    "deepnote_cell_type": "code",
    "deepnote_cell_height": 551.8333129882812
   },
   "source": "def evaluate_endgame(\n    self,\n    move: chess.Move,\n    color: chess.Color,\n    endgame_tablebase: Union[chess.gaviota.NativeTablebase,\n            chess.gaviota.PythonTablebase]\n) -> int:\n\n    evaluation_score = 0\n    self.push(move)\n\n    try:\n        dtm_score = endgame_tablebase.probe_dtm(self)\n        if dtm_score > 0:\n            evaluation_score = Globals.EVALUATION_SCORE_ENDGAME - dtm_score\n        elif dtm_score < 0:\n            evaluation_score = -Globals.EVALUATION_SCORE_ENDGAME - dtm_score\n        else:\n            evaluation_score = -Globals.EVALUATION_SCORE_DRAW if self.is_winning(color) \\\n                    else Globals.EVALUATION_SCORE_DRAW\n    except KeyError:\n        evaluation_score = None\n\n    self.pop()\n    return evaluation_score\n\nchess.Board.evaluate_endgame = evaluate_endgame\ndel evaluate_endgame",
   "execution_count": null,
   "outputs": []
  },
  {
   "cell_type": "markdown",
   "source": "#### chess.Board.evaluate_attack\nCalculates the move score associated with an attack, which is the piece value of the opponent's attacked piece. If the move is not an attack, this score is 0.\n\n###### <b><u>Arguments</u></b>\n``move (chess.Move):``  \nThe move that should be checked for an attack.\n\n###### <b><u>Returns <i>(int)</i></u></b>\nThe move score associated with the attack.",
   "metadata": {
    "cell_id": "00006-cb52dc94-92ce-4b38-8e8e-ab248a001614",
    "deepnote_app_coordinates": {
     "h": 5,
     "w": 12,
     "x": 0,
     "y": 84
    },
    "tags": [],
    "deepnote_cell_type": "markdown",
    "deepnote_cell_height": 250.63333129882812
   }
  },
  {
   "cell_type": "code",
   "metadata": {
    "cell_id": "00005-8249b4bd-fa29-4334-b853-9fd8e8d61778",
    "deepnote_app_coordinates": {
     "h": 5,
     "w": 12,
     "x": 0,
     "y": 90
    },
    "tags": [],
    "owner_user_id": "1e489002-1d0e-4892-8dc4-49d215805343",
    "deepnote_cell_type": "code",
    "deepnote_cell_height": 353.83331298828125
   },
   "source": "def evaluate_attack(self, move: chess.Move) -> int:\n    if self.is_en_passant(move):\n        opposite_color = not self.piece_at(move.from_square).color\n        to_piece = chess.Piece(chess.PAWN, opposite_color)\n    else:\n        to_piece = self.piece_at(move.to_square)\n    # No need to check if the piece is of the opposite color\n    # - attacking one's own color is not a legal move\n    if to_piece is not None:\n        return Globals.PIECE_VALUES[chess.piece_symbol(to_piece.piece_type)]\n    return 0\n\nchess.Board.evaluate_attack = evaluate_attack\ndel evaluate_attack",
   "execution_count": null,
   "outputs": []
  },
  {
   "cell_type": "markdown",
   "source": "#### chess.Board.evaluate_positions\nCalculates the move score associated with the \"from\" and \"to\" positions of a move. This is the \"to\" score minus the \"from\" score, each of which is retrieved from the piece square table of the corresponding piece.\n\n###### <b><u>Arguments</u></b>\n``color (chess.Color):``  \nThe color of the player who makes the move. \n\n``move (chess.Move):``  \nThe move of which the positions should be evaluated.\n\n###### <b><u>Returns <i>(int)</i></u></b>\nThe move score associated with the positions.",
   "metadata": {
    "cell_id": "00008-fcaed69d-9531-4ff1-b985-65e764b4f2e1",
    "deepnote_app_coordinates": {
     "h": 5,
     "w": 12,
     "x": 0,
     "y": 96
    },
    "tags": [],
    "deepnote_cell_type": "markdown",
    "deepnote_cell_height": 309.433349609375
   }
  },
  {
   "cell_type": "code",
   "metadata": {
    "cell_id": "00006-31854a4a-3fbf-48d5-9d3d-414dc6887c65",
    "deepnote_app_coordinates": {
     "h": 5,
     "w": 12,
     "x": 0,
     "y": 102
    },
    "deepnote_to_be_reexecuted": false,
    "execution_millis": 552,
    "execution_start": 1641928383035,
    "output_cleared": true,
    "source_hash": "e8049585",
    "tags": [],
    "deepnote_cell_type": "code",
    "deepnote_cell_height": 314.83331298828125
   },
   "source": "def evaluate_positions(self, color: chess.Color, move: chess.Move) -> int:\n    from_piece = self.piece_at(move.from_square)\n    from_piece_square_table_key = self.get_piece_square_table_key(from_piece.piece_type)\n    to_piece_type = from_piece.piece_type if move.promotion is None else move.promotion\n    to_piece_square_table_key = self.get_piece_square_table_key(to_piece_type)\n\n    from_score = self.get_positional_score(color,\n            from_piece_square_table_key, move.from_square)\n    to_score = self.get_positional_score(color,\n            to_piece_square_table_key, move.to_square)\n    return to_score - from_score\n\nchess.Board.evaluate_positions = evaluate_positions\ndel evaluate_positions",
   "execution_count": null,
   "outputs": []
  },
  {
   "cell_type": "markdown",
   "source": "#### chess.Board.evaluate_castling\nCalculates the move score associated with castling. This score is the positional score of the rook, as the king's positional score is already handled by evaluate_positions. If the move does not involve castling, this score is 0.\n\n###### <b><u>Arguments</u></b>\n``color (chess.Color):``   \nThe color of the player who makes the move.\n\n``move (chess.Move):``  \nThe move for which castling should be evaluated.\n\n###### <b><u>Returns <i>(int)</i></u></b>\nThe move score associated with the castling.",
   "metadata": {
    "cell_id": "00014-71df59dd-4252-4fe5-9ec4-8ef321757033",
    "deepnote_app_coordinates": {
     "h": 5,
     "w": 12,
     "x": 0,
     "y": 108
    },
    "tags": [],
    "deepnote_cell_type": "markdown",
    "deepnote_cell_height": 309.433349609375
   }
  },
  {
   "cell_type": "code",
   "metadata": {
    "cell_id": "00008-97b7bb2c-c286-42ab-abf9-45ffba8c0212",
    "deepnote_app_coordinates": {
     "h": 5,
     "w": 12,
     "x": 0,
     "y": 114
    },
    "tags": [],
    "deepnote_cell_type": "code",
    "deepnote_cell_height": 245.8333282470703
   },
   "source": "def evaluate_castling(self, color: chess.Color, move: chess.Move) -> int:\n    if not self.is_castling(move):\n        return 0\n\n    old_square, new_square = self.find_castling_rook_squares(color, move)\n    old_score = self.get_positional_score(color, 'r', old_square)\n    new_score = self.get_positional_score(color, 'r', new_square)\n    return new_score - old_score\n\nchess.Board.evaluate_castling = evaluate_castling\ndel evaluate_castling",
   "execution_count": null,
   "outputs": []
  },
  {
   "cell_type": "markdown",
   "source": "#### chess.Board.find_castling_rook_squares\nFinds the \"from\" and \"to\" square of the rook's movement during castling. This is necessary because the move's notation only contains the king's movement, which indirectly defines the rook's movement as well. <br>\nThe rook can only be in one of the four corners of the board prior to castling. Each corner also has a specified direction that the king moves in (1 if right and -1 if left). This function can therefore simply check for these four cases and place the rook behind the king in the correct direction.\n\n###### <b><u>Arguments</u></b>\n``color (chess.Color):``  \nThe color of the player who makes the move.\n\n``move (chess.Move):``  \nThe castling move, describing the king's movement.\n\n###### <b><u>Returns <i>(chess.Square, chess.Square)</i></u></b>\n- The \"from\" square of the rook's movement.\n- The \"to\" square of the rook's movement.",
   "metadata": {
    "cell_id": "00016-fe00a280-24b9-42af-8105-2a84d85a1f09",
    "deepnote_app_coordinates": {
     "h": 5,
     "w": 12,
     "x": 0,
     "y": 120
    },
    "tags": [],
    "deepnote_cell_type": "markdown",
    "deepnote_cell_height": 419.0333251953125
   }
  },
  {
   "cell_type": "code",
   "metadata": {
    "cell_id": "00004-a05b562c-17b0-4aeb-b79a-f37e009b3c62",
    "deepnote_app_coordinates": {
     "h": 5,
     "w": 12,
     "x": 0,
     "y": 126
    },
    "deepnote_to_be_reexecuted": false,
    "execution_millis": 3,
    "execution_start": 1638367783310,
    "source_hash": "f8777dd5",
    "tags": [],
    "deepnote_cell_type": "code",
    "deepnote_cell_height": 350.83331298828125
   },
   "source": "def find_castling_rook_squares(\n    self, \n    color: chess.Color, \n    move: chess.Move\n) -> (chess.Square, chess.Square):\n\n    king_move_dir = 1 if move.to_square > move.from_square else -1\n    old_rook_square = (chess.A1 if king_move_dir == -1 else chess.H1) \\\n        if color == chess.WHITE \\\n        else (chess.A8 if king_move_dir == -1 else chess.H8)\n    new_rook_square = move.to_square - king_move_dir\n\n    return old_rook_square, new_rook_square\n\nchess.Board.find_castling_rook_squares = find_castling_rook_squares\ndel find_castling_rook_squares",
   "execution_count": null,
   "outputs": []
  },
  {
   "cell_type": "markdown",
   "source": "#### chess.Board.evaluate_promotion\nCalculates the move score associated with a promotion, i.e. transforming a pawn into a queen, knight, rook is bishop. This score is defined as the piece value of the new piece minus the piece value of the pawn. If the move does not result in a promotion, this score is 0. The effect that a promotion has on the positional score is accounted for in evaluate_positions.\n\n###### <b><u>Arguments</u></b>\n``move (chess.Move):``  \nThe move for which a promotion should be evaluated.\n\n###### <b><u>Returns <i>(int)</i></u></b>\nThe move score associated with the promotion.",
   "metadata": {
    "cell_id": "00018-bcb4c62d-f699-4045-af5f-3c639361ee53",
    "deepnote_app_coordinates": {
     "h": 5,
     "w": 12,
     "x": 0,
     "y": 132
    },
    "tags": [],
    "deepnote_cell_type": "markdown",
    "deepnote_cell_height": 273.0333251953125
   }
  },
  {
   "cell_type": "code",
   "metadata": {
    "cell_id": "00012-cca2590b-8bf8-4c77-9cbe-56240ec545e6",
    "deepnote_app_coordinates": {
     "h": 5,
     "w": 12,
     "x": 0,
     "y": 138
    },
    "tags": [],
    "deepnote_cell_type": "code",
    "deepnote_cell_height": 245.8333282470703
   },
   "source": "def evaluate_promotion(self, move: chess.Move) -> int:\n    if move.promotion is None:\n        return 0\n\n    old_piece = self.piece_at(move.from_square)\n    old_piece_symbol = chess.piece_symbol(old_piece.piece_type).lower()\n    new_piece_symbol = chess.piece_symbol(move.promotion).lower()\n    return Globals.PIECE_VALUES[new_piece_symbol] - Globals.PIECE_VALUES[old_piece_symbol]\n\nchess.Board.evaluate_promotion = evaluate_promotion\ndel evaluate_promotion",
   "execution_count": null,
   "outputs": []
  },
  {
   "cell_type": "markdown",
   "source": "#### chess.Board.get_state_string\nCreates a string that represents the current state of a chess board, i.e. which pieces are at which position.\n\n###### <b><u>Returns <i>(str)</i></u></b>\nA string that represents the state of the board.",
   "metadata": {
    "cell_id": "00005-4a3555fb-e516-4dec-929e-3eec6370f697",
    "deepnote_app_coordinates": {
     "h": 5,
     "w": 12,
     "x": 0,
     "y": 144
    },
    "tags": [],
    "deepnote_cell_type": "markdown",
    "deepnote_cell_height": 147.03334045410156
   }
  },
  {
   "cell_type": "code",
   "metadata": {
    "cell_id": "00005-2a4098ab-8f11-4efd-bf48-1f601cdfe7d6",
    "deepnote_app_coordinates": {
     "h": 5,
     "w": 12,
     "x": 0,
     "y": 150
    },
    "deepnote_to_be_reexecuted": false,
    "execution_millis": 5,
    "execution_start": 1646757920999,
    "source_hash": "a121873",
    "tags": [],
    "deepnote_cell_type": "code",
    "deepnote_cell_height": 152.8333282470703
   },
   "source": "def get_state_string(self) -> int:\n    return chess.polyglot.zobrist_hash(self)\n\nchess.Board.get_state_string = get_state_string\ndel get_state_string",
   "execution_count": null,
   "outputs": []
  },
  {
   "cell_type": "markdown",
   "source": "#### chess.Board.check_and_set_ending\nFinds if the game has entered its ending phase. This follows the definition of the Simplified Evaluation Function, see Michniewski, T. (2021). The ending phase is triggered when <b>either</b> of the following conditions is met:\n- Both sides have no queens.\n- Every side that has a queen has at most one minor piece and no other pieces (pawns are not counted).\n\n###### <b><u>Side effects</u></b>\nIf the ending phase is triggered, the \"ending\" variable of the board is set to True, so that the ending phase does not have to be checked for again.",
   "metadata": {
    "cell_id": "f71b8ff0-c4ba-4a85-93bf-de86ef986990",
    "deepnote_app_coordinates": {
     "h": 5,
     "w": 12,
     "x": 0,
     "y": 156
    },
    "tags": [],
    "deepnote_cell_type": "markdown",
    "deepnote_cell_height": 253.63333129882812
   }
  },
  {
   "cell_type": "code",
   "metadata": {
    "cell_id": "00010-3316ce37-fa3a-4acc-a9e8-424c77cb3728",
    "deepnote_app_coordinates": {
     "h": 5,
     "w": 12,
     "x": 0,
     "y": 162
    },
    "deepnote_to_be_reexecuted": false,
    "execution_millis": 0,
    "execution_start": 1638367783357,
    "source_hash": "87ae7f4c",
    "tags": [],
    "deepnote_cell_type": "code",
    "deepnote_cell_height": 440.83331298828125
   },
   "source": "def check_and_set_ending(self) -> None:\n    if self.ending: return\n\n    meets_ending_requirement = { chess.WHITE: False, chess.BLACK: False }\n    for color in [ chess.WHITE, chess.BLACK ]:\n        # Option 1: no queen\n        if self.get_piece_count(color, chess.QUEEN) == 0:\n            meets_ending_requirement[color] = True\n            continue\n\n        # Option 2: at most one minor piece and no other pieces (besides queen)\n        # Most sources state that pawns aren't pieces, so these are not counted\n        if self.get_piece_count(color, chess.BISHOP, chess.KNIGHT) <= 1 \\\n                and self.get_piece_count(color, chess.ROOK) == 0:\n            meets_ending_requirement[color] = True\n\n    if meets_ending_requirement[chess.WHITE] and meets_ending_requirement[chess.BLACK]:\n        self.ending = True\n\nchess.Board.check_and_set_ending = check_and_set_ending\ndel check_and_set_ending",
   "execution_count": null,
   "outputs": []
  },
  {
   "cell_type": "markdown",
   "source": "#### chess.Board.get_piece_count\nFinds how many pieces of certain types of a certain color are on the board. For example, this function can be used to find the combined total of white bishops and knights.\n\n###### <b><u>Arguments</u></b>\n``color (chess.Color):``  \nThe color of the pieces that should be counted.\n\n``*piece_types (chess.PieceType):``  \nThe piece type(s) that should be counted.\n\n###### <b><u>Returns <i>(int)</i></u></b>\nThe total amount of pieces of the given types and of the given color.",
   "metadata": {
    "cell_id": "6b0fc266-edeb-4dba-b2b9-7a9a5caa711e",
    "deepnote_app_coordinates": {
     "h": 5,
     "w": 12,
     "x": 0,
     "y": 168
    },
    "tags": [],
    "deepnote_cell_type": "markdown",
    "deepnote_cell_height": 309.433349609375
   }
  },
  {
   "cell_type": "code",
   "metadata": {
    "cell_id": "00011-c6141bdc-d9e8-49d8-9b5d-92c573b86cdb",
    "deepnote_app_coordinates": {
     "h": 5,
     "w": 12,
     "x": 0,
     "y": 174
    },
    "deepnote_to_be_reexecuted": false,
    "execution_millis": 3,
    "execution_start": 1638367783367,
    "source_hash": "d401c9cb",
    "tags": [],
    "deepnote_cell_type": "code",
    "deepnote_cell_height": 152.8333282470703
   },
   "source": "def get_piece_count(self, color: chess.Color, *piece_types: chess.PieceType) -> int:\n    return sum( len(self.pieces(piece_type, color)) for piece_type in piece_types )\n\nchess.Board.get_piece_count = get_piece_count\ndel get_piece_count",
   "execution_count": null,
   "outputs": []
  },
  {
   "cell_type": "markdown",
   "source": "#### chess.Board.get_search_result_if_finished\nChecks if a search (minimax or alpha-beta) is finished. This is the case if either the game is over with the board state at the current search node, or if the maximum search depth has been reached. If the search is finished, it returns the resulting move score of this search.\n\n###### <b><u>Arguments</u></b>\n``color (chess.Color):``  \nThe color of the player that started the search (and should therefore make the move).  \n\n``iteration (int):``  \nThe current depth of the search.  \n\n``max_iterations (int):``  \nThe maximum depth of the search.\n\n###### <b><u>Returns <i>(int)</i></u></b>\nThe move score if the search has ended, or None otherwise.",
   "metadata": {
    "cell_id": "00007-6410e966-91dc-4422-822d-d53cc60f7db9",
    "deepnote_app_coordinates": {
     "h": 5,
     "w": 12,
     "x": 0,
     "y": 180
    },
    "tags": [],
    "deepnote_cell_type": "markdown",
    "deepnote_cell_height": 390.6333312988281
   }
  },
  {
   "cell_type": "code",
   "metadata": {
    "cell_id": "00003-f81ea439-f8b9-4a46-96a6-10545b499da8",
    "deepnote_app_coordinates": {
     "h": 5,
     "w": 12,
     "x": 0,
     "y": 186
    },
    "deepnote_to_be_reexecuted": false,
    "execution_millis": 3,
    "execution_start": 1638367783379,
    "source_hash": "1d76da94",
    "tags": [],
    "deepnote_cell_type": "code",
    "deepnote_cell_height": 656.8333129882812
   },
   "source": "def get_search_result_if_finished(\n    self, \n    color: chess.Color, \n    iteration: int, \n    max_iterations: int, \n    eval_score: int\n) -> int:\n\n    # If the game has finished, return a positive score if we won,\n    # or a negative score if we lost.\n    # If the game ended in a draw, return a negative score if we are\n    # in a winning position or a positive score otherwise.\n    outcome = self.outcome()\n    if outcome is not None:\n        max_score = Globals.EVALUATION_SCORE_CHECKMATE - iteration\n        min_score = -Globals.EVALUATION_SCORE_CHECKMATE + iteration\n        if outcome.winner is None: # Draw\n            return -Globals.EVALUATION_SCORE_DRAW if self.is_winning(color) \\\n                    else Globals.EVALUATION_SCORE_DRAW\n        if outcome.winner == color: # Win\n            return max_score\n        return min_score # Loss\n        \n    # If the search has hit its max depth (max_iterations), return the\n    # current evaluation score for the AI.\n    if iteration >= max_iterations:\n        return eval_score\n\n    # The search has not ended, so no result.\n    return None\n\nchess.Board.get_search_result_if_finished = get_search_result_if_finished\ndel get_search_result_if_finished",
   "execution_count": null,
   "outputs": []
  },
  {
   "cell_type": "markdown",
   "source": "<a style='text-decoration:none;line-height:16px;display:flex;color:#5B5B62;padding:10px;justify-content:end;' href='https://deepnote.com?utm_source=created-in-deepnote-cell&projectId=d6ce9acd-52c5-4422-904d-8424da19408b' target=\"_blank\">\n<img alt='Created in deepnote.com' style='display:inline;max-height:16px;margin:0px;margin-right:7.5px;' src='data:image/svg+xml;base64,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' > </img>\nCreated in <span style='font-weight:600;margin-left:4px;'>Deepnote</span></a>",
   "metadata": {
    "tags": [],
    "created_in_deepnote_cell": true,
    "deepnote_cell_type": "markdown"
   }
  }
 ],
 "nbformat": 4,
 "nbformat_minor": 2,
 "metadata": {
  "deepnote": {
   "is_reactive": false
  },
  "deepnote_app_layout": "article",
  "deepnote_execution_queue": [],
  "deepnote_notebook_id": "2a2a1b76-6401-4d4c-a13d-18f7c2aa1321",
  "kernelspec": {
   "display_name": "Python 3",
   "language": "python",
   "name": "python3"
  },
  "language_info": {
   "codemirror_mode": {
    "name": "ipython",
    "version": 3
   },
   "file_extension": ".py",
   "mimetype": "text/x-python",
   "name": "python",
   "nbconvert_exporter": "python",
   "pygments_lexer": "ipython3",
   "version": "3.9.5"
  }
 }
}