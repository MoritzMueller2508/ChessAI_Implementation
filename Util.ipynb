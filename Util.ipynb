{
 "cells": [
  {
   "cell_type": "code",
   "execution_count": null,
   "metadata": {
    "cell_id": "00000-7f78fe80-5262-4c05-a128-0e8027c4cc89",
    "deepnote_app_coordinates": {
     "h": 5,
     "w": 12,
     "x": 0,
     "y": null
    },
    "deepnote_cell_height": 99,
    "deepnote_cell_type": "code",
    "deepnote_to_be_reexecuted": false,
    "execution_millis": 340,
    "execution_start": 1641927874962,
    "source_hash": "bd190a5a",
    "tags": []
   },
   "outputs": [],
   "source": [
    "from IPython.core.display import HTML, display\n",
    "display(HTML('<style>.container { width:100%; !important } </style>'))"
   ]
  },
  {
   "cell_type": "markdown",
   "metadata": {
    "cell_id": "d9223f6df0624b1b94d197601ffd90ea",
    "deepnote_app_coordinates": {
     "h": 5,
     "w": 12,
     "x": 0,
     "y": 0
    },
    "deepnote_cell_height": 138,
    "deepnote_cell_type": "markdown",
    "tags": []
   },
   "source": [
    "# Utility Functions\n",
    "## For search algorithms and board evaluation"
   ]
  },
  {
   "cell_type": "markdown",
   "metadata": {
    "cell_id": "49d647d169b849a08c25b5b2e7d9ae25",
    "deepnote_app_coordinates": {
     "h": 5,
     "w": 12,
     "x": 0,
     "y": 0
    },
    "deepnote_cell_height": 62,
    "deepnote_cell_type": "markdown",
    "tags": []
   },
   "source": [
    "### Dependencies"
   ]
  },
  {
   "cell_type": "code",
   "execution_count": null,
   "metadata": {
    "cell_id": "00001-8cd564df-7c0b-4f79-b7eb-a0e340d57380",
    "deepnote_app_coordinates": {
     "h": 5,
     "w": 12,
     "x": 0,
     "y": 6
    },
    "deepnote_cell_height": 235,
    "deepnote_cell_type": "code",
    "deepnote_output_heights": [
     null,
     2
    ],
    "deepnote_to_be_reexecuted": false,
    "execution_millis": 1040,
    "execution_start": 1646757912623,
    "source_hash": "ffeb2cbc",
    "tags": []
   },
   "outputs": [],
   "source": [
    "import chess\n",
    "import chess.polyglot\n",
    "from typing import Union\n",
    "\n",
    "import import_ipynb\n",
    "from Globals import Globals"
   ]
  },
  {
   "cell_type": "markdown",
   "metadata": {
    "cell_id": "00001-9141f584-3492-4e8f-92c6-5e34f4f0aa49",
    "deepnote_app_coordinates": {
     "h": 5,
     "w": 12,
     "x": 0,
     "y": 12
    },
    "deepnote_cell_height": 668.390625,
    "deepnote_cell_type": "markdown",
    "tags": []
   },
   "source": [
    "#### chess.Board.evaluate_move\n",
    "Calculates the board score after a given move on the current board state. A high score represents a good move and a low score represents a bad move. The evaluation is performed over multiple phases, which account for game overs, endgame tablebase information, attacks, positional changes, castling and promotions.\n",
    "\n",
    "###### __<u>Arguments</u>__\n",
    "``use_heuristic (bool):``  \n",
    "Whether or not the heuristic for evaluating the chess board should be used. Chess problems don't need this heuristic.  \n",
    "\n",
    "``color (chess.Color):``  \n",
    "The color (white or black) of the player that is able to make the move.\n",
    "\n",
    "``is_opponent (bool):``  \n",
    "Whether or not a potential move of the opponent is evaluated (used in minimax and alpha-beta searches).\n",
    "\n",
    "``prev_score (int):``  \n",
    "The score of the board state before the move is made. The move's score is added to this value to calculate the total score.\n",
    "\n",
    "``iteration (int):``  \n",
    "The current iteration (depth) of the search.\n",
    "\n",
    "``move (chess.Move):``  \n",
    "The move that should be evaluated.\n",
    "\n",
    "``endgame_tablebase (Union[chess.gaviota.NativeTablebase, chess.gaviota.PythonTablebase]):``  \n",
    "The endgame tablebase attached to the game, which serves as a shortcut for ideal moves in the endgame.\n",
    "\n",
    "###### __<u>Returns _(int, bool)_</u>__\n",
    "- The total score (previous board score + move score).\n",
    "- Whether or not the endgame library was used to find the move."
   ]
  },
  {
   "cell_type": "code",
   "execution_count": null,
   "metadata": {
    "cell_id": "00000-b6840b19-9c62-457c-812a-489602d86c35",
    "deepnote_app_coordinates": {
     "h": 5,
     "w": 12,
     "x": 0,
     "y": 18
    },
    "deepnote_cell_height": 891,
    "deepnote_cell_type": "code",
    "deepnote_to_be_reexecuted": false,
    "execution_millis": 0,
    "execution_start": 1638367783308,
    "source_hash": "b31f4046",
    "tags": []
   },
   "outputs": [],
   "source": [
    "def evaluate_move(\n",
    "    self,\n",
    "    use_heuristic: bool,\n",
    "    color: chess.Color,\n",
    "    is_opponent: bool,\n",
    "    prev_score: int,\n",
    "    iteration: int,\n",
    "    move: chess.Move,\n",
    "    endgame_tablebase: Union[chess.gaviota.NativeTablebase,\n",
    "        chess.gaviota.PythonTablebase]\n",
    ") -> (int, bool):\n",
    "\n",
    "    is_opponent_multiplier = -1 if is_opponent else 1\n",
    "\n",
    "    # Handle ending the game (draw = neutral, win = highest score, loss = lowest score)\n",
    "    game_ended, winner = self.evaluate_game_end(move)\n",
    "    if game_ended:\n",
    "        if winner is None:\n",
    "            draw_score = -Globals.EVALUATION_SCORE_DRAW if self.is_winning(color) \\\n",
    "                    else Globals.EVALUATION_SCORE_DRAW\n",
    "            return draw_score * is_opponent_multiplier, False\n",
    "        return (Globals.EVALUATION_SCORE_CHECKMATE - iteration) * is_opponent_multiplier \\\n",
    "                * (1 if winner == color else -1), False\n",
    "\n",
    "    # If the game hasn't ended and we don't use a chess board heuristic,\n",
    "    # the score doesn't matter\n",
    "    if not use_heuristic:\n",
    "        return 0, False\n",
    "\n",
    "    # Handle endgame tablebase\n",
    "    if endgame_tablebase is not None:\n",
    "        endgame_tablebase_score = self.evaluate_endgame(move, color, endgame_tablebase)\n",
    "        if endgame_tablebase_score is not None:\n",
    "            return endgame_tablebase_score * is_opponent_multiplier, True\n",
    "\n",
    "    # If the game hasn't ended and doesn't have a guaranteed win/draw/loss\n",
    "    # from the endgame tablebase, evaluate the move normally\n",
    "    score_diff = self.evaluate_attack(move)\n",
    "    score_diff += self.evaluate_positions(color, move)\n",
    "    score_diff += self.evaluate_castling(color, move)\n",
    "    score_diff += self.evaluate_promotion(move)\n",
    "\n",
    "    return prev_score + (score_diff * is_opponent_multiplier), False\n",
    "\n",
    "chess.Board.evaluate_move = evaluate_move\n",
    "del evaluate_move"
   ]
  },
  {
   "cell_type": "markdown",
   "metadata": {
    "cell_id": "00004-7719091e-eb27-47db-be86-e7a6581ca6ca",
    "deepnote_app_coordinates": {
     "h": 5,
     "w": 12,
     "x": 0,
     "y": 24
    },
    "deepnote_cell_height": 270.796875,
    "deepnote_cell_type": "markdown",
    "tags": []
   },
   "source": [
    "#### chess.Board.evaluate_game_end\n",
    "Finds if, after a given move, the chess game is over. If so, it also finds the winner associated with this game over.\n",
    "\n",
    "###### __<u>Arguments</u>__\n",
    "``move (chess.Move): ``  \n",
    "The move that should be checked for a game over.\n",
    "\n",
    "###### __<u>Returns _(bool, chess.Color)_</u>__\n",
    "- Whether or not the move lead to a game over.\n",
    "- The winning color if a game over occured, None otherwise."
   ]
  },
  {
   "cell_type": "code",
   "execution_count": null,
   "metadata": {
    "cell_id": "00005-75c3c484-7f90-4a0e-b844-9105f16607e7",
    "deepnote_app_coordinates": {
     "h": 5,
     "w": 12,
     "x": 0,
     "y": 30
    },
    "deepnote_cell_height": 228,
    "deepnote_cell_type": "code",
    "tags": []
   },
   "outputs": [],
   "source": [
    "def evaluate_game_end(self, move: chess.Move) -> (bool, chess.Color):\n",
    "    self.push(move)\n",
    "    game_ended = self.is_game_over()\n",
    "    winner = None if self.outcome() is None else self.outcome().winner\n",
    "    self.pop()\n",
    "\n",
    "    return game_ended, winner\n",
    "\n",
    "chess.Board.evaluate_game_end = evaluate_game_end\n",
    "del evaluate_game_end"
   ]
  },
  {
   "cell_type": "markdown",
   "metadata": {
    "cell_id": "ddda763e-5770-4f94-b382-4ad4bcbe6716",
    "deepnote_app_coordinates": {
     "h": 5,
     "w": 12,
     "x": 0,
     "y": 36
    },
    "deepnote_cell_height": 295.59375,
    "deepnote_cell_type": "markdown",
    "tags": []
   },
   "source": [
    "#### chess.Board.is_winning\n",
    "Finds whether a certain color is winning, i.e. if they are in an advantageous position (but may not necessarily win the game, they just have the advantage). This is the case if their total board score, i.e. piece values plus positional scores, is greater than that of the opponent. If both players have an equal score, they are both considered to be winning (and will therefore try to avoid draws; this should make the game more interesting).\n",
    "\n",
    "###### __<u>Arguments</u>__\n",
    "``color (chess.Color):``  \n",
    "The color of which the winning or losing position should be determined.\n",
    "\n",
    "###### __<u>Returns _(bool)_</u>__\n",
    "Whether or not the given color is winning (see definition above)."
   ]
  },
  {
   "cell_type": "code",
   "execution_count": null,
   "metadata": {
    "cell_id": "643fdb79-7dd4-49fc-bdd7-555369812e40",
    "deepnote_app_coordinates": {
     "h": 5,
     "w": 12,
     "x": 0,
     "y": 42
    },
    "deepnote_cell_height": 354,
    "deepnote_cell_type": "code",
    "tags": []
   },
   "outputs": [],
   "source": [
    "def is_winning(self, color: chess.Color) -> bool:\n",
    "    score = 0\n",
    "    for square in chess.SQUARES:\n",
    "        piece = self.piece_at(square)\n",
    "        if piece is None:\n",
    "            continue\n",
    "            \n",
    "        piece_score_multiplier = 1 if piece.color == color else -1\n",
    "        score += self.get_piece_value(piece.piece_type) * piece_score_multiplier\n",
    "        piece_square_table_key = self.get_piece_square_table_key(piece.piece_type)\n",
    "        score += self.get_positional_score(color, piece_square_table_key, square) \\\n",
    "                * piece_score_multiplier\n",
    "\n",
    "    return (score >= 0)\n",
    "\n",
    "chess.Board.is_winning = is_winning\n",
    "del is_winning"
   ]
  },
  {
   "cell_type": "markdown",
   "metadata": {
    "cell_id": "67589438afa74b23bebeb54e7fa1eedb",
    "deepnote_app_coordinates": {
     "h": 5,
     "w": 12,
     "x": 0,
     "y": 0
    },
    "deepnote_cell_height": 250.796875,
    "deepnote_cell_type": "markdown",
    "tags": []
   },
   "source": [
    "#### chess.Board.get_piece_value\n",
    "Finds the piece value for a given piece type. If the global constant contains a piece value for this piece type, it simply returns this piece value. If not, for instance for kings or empty spaces, it returns a value of 0.\n",
    "\n",
    "###### __<u>Arguments</u>__\n",
    "``piece_type (chess.PieceType):``  \n",
    "The piece type of which the piece value should be returned.\n",
    "\n",
    "###### __<u>Returns _(int)_</u>__\n",
    "The associated piece value, or 0 if not applicable."
   ]
  },
  {
   "cell_type": "code",
   "execution_count": null,
   "metadata": {
    "cell_id": "088f0bcee62a463e8c1d20f20c20a170",
    "deepnote_app_coordinates": {
     "h": 5,
     "w": 12,
     "x": 0,
     "y": 0
    },
    "deepnote_cell_height": 192,
    "deepnote_cell_type": "code",
    "tags": []
   },
   "outputs": [],
   "source": [
    "def get_piece_value(self, piece_type: chess.PieceType) -> int:\n",
    "    piece_symbol = chess.piece_symbol(piece_type).lower()\n",
    "    if piece_symbol in Globals.PIECE_VALUES:\n",
    "        return Globals.PIECE_VALUES[piece_symbol]\n",
    "    return 0\n",
    "\n",
    "chess.Board.get_piece_value = get_piece_value\n",
    "del get_piece_value"
   ]
  },
  {
   "cell_type": "markdown",
   "metadata": {
    "cell_id": "00010-c1d861d5-ce1c-4fa6-8b3b-c7512312861b",
    "deepnote_app_coordinates": {
     "h": 5,
     "w": 12,
     "x": 0,
     "y": 48
    },
    "deepnote_cell_height": 273.1875,
    "deepnote_cell_type": "markdown",
    "tags": []
   },
   "source": [
    "#### chess.Board.get_piece_square_table_key\n",
    "Finds the dictionary key to index the piece square table of a piece type, which contains a positional score for each square on the chess board. Normally this key is simply the piece symbol of the piece type, but the king has a different piece square table during the end game.\n",
    "\n",
    "###### __<u>Arguments</u>__\n",
    "``piece_type (chess.PieceType):``  \n",
    "The piece type to get the piece square table key for.\n",
    "\n",
    "###### __<u>Returns _(str)_</u>__\n",
    "The piece square table key associated with the piece type."
   ]
  },
  {
   "cell_type": "code",
   "execution_count": null,
   "metadata": {
    "cell_id": "00008-7a751c9d-94e6-4c8f-9b23-90d272894c46",
    "deepnote_app_coordinates": {
     "h": 5,
     "w": 12,
     "x": 0,
     "y": 54
    },
    "deepnote_cell_height": 192,
    "deepnote_cell_type": "code",
    "tags": []
   },
   "outputs": [],
   "source": [
    "def get_piece_square_table_key(self, piece_type: chess.PieceType) -> str:\n",
    "    piece_symbol = chess.piece_symbol(piece_type).lower()\n",
    "    if piece_symbol == 'k':\n",
    "        return 'ke' if self.ending else 'km'\n",
    "    return piece_symbol\n",
    "\n",
    "chess.Board.get_piece_square_table_key = get_piece_square_table_key\n",
    "del get_piece_square_table_key"
   ]
  },
  {
   "cell_type": "markdown",
   "metadata": {
    "cell_id": "00012-7223ef1a-2c1a-49dc-af4c-5510bcdec55e",
    "deepnote_app_coordinates": {
     "h": 5,
     "w": 12,
     "x": 0,
     "y": 60
    },
    "deepnote_cell_height": 346,
    "deepnote_cell_type": "markdown",
    "tags": []
   },
   "source": [
    "#### chess.Board.get_positional_score\n",
    "Finds the positional score of a piece, which is retrieved from the matching piece square table.\n",
    "\n",
    "###### __<u>Arguments</u>__\n",
    "``color (chess.Color):``  \n",
    "The color of the piece for which the positional score should be found.\n",
    "\n",
    "``piece_square_table_key (str):``  \n",
    "The dictionary key to index the piece square table of the piece's type.\n",
    "\n",
    "``square (chess.Square):``  \n",
    "The square (position) that the piece is located at.\n",
    "\n",
    "###### __<u>Returns _(int)_</u>__\n",
    "The positional score."
   ]
  },
  {
   "cell_type": "code",
   "execution_count": null,
   "metadata": {
    "cell_id": "00004-cb7c0a11-0d28-4059-a5b2-2f087ef7f6e3",
    "deepnote_app_coordinates": {
     "h": 5,
     "w": 12,
     "x": 0,
     "y": 66
    },
    "deepnote_cell_height": 333,
    "deepnote_cell_type": "code",
    "deepnote_to_be_reexecuted": false,
    "execution_millis": 0,
    "execution_start": 1638367783309,
    "source_hash": "93cdf610",
    "tags": []
   },
   "outputs": [],
   "source": [
    "def get_positional_score(\n",
    "    self, \n",
    "    color: chess.Color, \n",
    "    piece_square_table_key: str, \n",
    "    square: chess.Square\n",
    ") -> int:\n",
    "\n",
    "    hor_index = square % 8\n",
    "    ver_index = 7 - square // 8 if color == chess.WHITE else square // 8\n",
    "    piece_square_table = Globals.PIECE_SQUARE_TABLES[piece_square_table_key]\n",
    "    piece_square_value = piece_square_table[ver_index][hor_index]\n",
    "    return piece_square_value\n",
    "\n",
    "chess.Board.get_positional_score = get_positional_score\n",
    "del get_positional_score"
   ]
  },
  {
   "cell_type": "markdown",
   "metadata": {
    "cell_id": "65a174ce-5bb4-44f9-a44e-85d9c64077cd",
    "deepnote_app_coordinates": {
     "h": 5,
     "w": 12,
     "x": 0,
     "y": 72
    },
    "deepnote_cell_height": 590,
    "deepnote_cell_type": "markdown",
    "tags": []
   },
   "source": [
    "#### chess.Board.evaluate_endgame\n",
    "Calculates a score based on the information in the endgame tablebase. This based on the DTM (depth to mate) value, which lists the amount of half-moves until a forced mate. If this value is positive, the current side to move can win in that many moves. If the value is negative, the current side to move loses in that many moves (assuming perfect play by the opponent). If the value is zero, a draw is forced. The evaluation score is calculated as follows:\n",
    "- If the DTM value is positive, the score is a very high positive number minus the DTM value (the fewer half-moves to win the better).\n",
    "- If the DTM value is negative, the score is a very high negative number minus the DTM value (the more half-moves to lose the better, and since the DTM value is negative, the score is less negative for high DTM values).\n",
    "- If the DTM value is zero, the score is positive if the player is losing and negative if the player is winning (see chess.Board.is_winning for a detailed explanation).\n",
    "\n",
    "###### __<u>Arguments</u>__\n",
    "``move (chess.Move):``  \n",
    "The move that should be checked against the endgame tablebase.\n",
    "\n",
    "``color (chess.Color):``  \n",
    "The color that can make the move.\n",
    "\n",
    "``endgame_tablebase (Union[chess.gaviota.NativeTablebase, chess.gaviota.PythonTablebase]):``  \n",
    "The endgame tablebase attached to the game.\n",
    "\n",
    "###### __<u>Returns _(int)_</u>__\n",
    "The evaluation score if the endgame tablebase contained DTM information for the current board state (after the move is made), otherwise None."
   ]
  },
  {
   "cell_type": "code",
   "execution_count": null,
   "metadata": {
    "cell_id": "9ff7ff08-9cd0-40dc-8e4c-51ce16adef41",
    "deepnote_app_coordinates": {
     "h": 5,
     "w": 12,
     "x": 0,
     "y": 78
    },
    "deepnote_cell_height": 552,
    "deepnote_cell_type": "code",
    "tags": []
   },
   "outputs": [],
   "source": [
    "def evaluate_endgame(\n",
    "    self,\n",
    "    move: chess.Move,\n",
    "    color: chess.Color,\n",
    "    endgame_tablebase: Union[chess.gaviota.NativeTablebase,\n",
    "            chess.gaviota.PythonTablebase]\n",
    ") -> int:\n",
    "\n",
    "    evaluation_score = 0\n",
    "    self.push(move)\n",
    "\n",
    "    try:\n",
    "        dtm_score = endgame_tablebase.probe_dtm(self)\n",
    "        if dtm_score > 0:\n",
    "            evaluation_score = Globals.EVALUATION_SCORE_ENDGAME - dtm_score\n",
    "        elif dtm_score < 0:\n",
    "            evaluation_score = -Globals.EVALUATION_SCORE_ENDGAME - dtm_score\n",
    "        else:\n",
    "            evaluation_score = -Globals.EVALUATION_SCORE_DRAW if self.is_winning(color) \\\n",
    "                    else Globals.EVALUATION_SCORE_DRAW\n",
    "    except KeyError:\n",
    "        evaluation_score = None\n",
    "\n",
    "    self.pop()\n",
    "    return evaluation_score\n",
    "\n",
    "chess.Board.evaluate_endgame = evaluate_endgame\n",
    "del evaluate_endgame"
   ]
  },
  {
   "cell_type": "markdown",
   "metadata": {
    "cell_id": "00006-cb52dc94-92ce-4b38-8e8e-ab248a001614",
    "deepnote_app_coordinates": {
     "h": 5,
     "w": 12,
     "x": 0,
     "y": 84
    },
    "deepnote_cell_height": 250.796875,
    "deepnote_cell_type": "markdown",
    "tags": []
   },
   "source": [
    "#### chess.Board.evaluate_attack\n",
    "Calculates the move score associated with an attack, which is the piece value of the opponent's attacked piece. If the move is not an attack, this score is 0.\n",
    "\n",
    "###### __<u>Arguments</u>__\n",
    "``move (chess.Move):``  \n",
    "The move that should be checked for an attack.\n",
    "\n",
    "###### __<u>Returns _(int)_</u>__\n",
    "The move score associated with the attack."
   ]
  },
  {
   "cell_type": "code",
   "execution_count": null,
   "metadata": {
    "cell_id": "00005-8249b4bd-fa29-4334-b853-9fd8e8d61778",
    "deepnote_app_coordinates": {
     "h": 5,
     "w": 12,
     "x": 0,
     "y": 90
    },
    "deepnote_cell_height": 318,
    "deepnote_cell_type": "code",
    "tags": []
   },
   "outputs": [],
   "source": [
    "def evaluate_attack(self, move: chess.Move) -> int:\n",
    "    if self.is_en_passant(move):\n",
    "        opposite_color = not self.piece_at(move.from_square).color\n",
    "        to_piece = chess.Piece(chess.PAWN, opposite_color)\n",
    "    else:\n",
    "        to_piece = self.piece_at(move.to_square)\n",
    "        \n",
    "    # No need to check if the piece is of the opposite color\n",
    "    # - attacking one's own color is not a legal move\n",
    "    if to_piece is not None:\n",
    "        return self.get_piece_value(to_piece.piece_type)\n",
    "    return 0\n",
    "\n",
    "chess.Board.evaluate_attack = evaluate_attack\n",
    "del evaluate_attack"
   ]
  },
  {
   "cell_type": "markdown",
   "metadata": {
    "cell_id": "00008-fcaed69d-9531-4ff1-b985-65e764b4f2e1",
    "deepnote_app_coordinates": {
     "h": 5,
     "w": 12,
     "x": 0,
     "y": 96
    },
    "deepnote_cell_height": 309.59375,
    "deepnote_cell_type": "markdown",
    "tags": []
   },
   "source": [
    "#### chess.Board.evaluate_positions\n",
    "Calculates the move score associated with the \"from\" and \"to\" positions of a move. This is the \"to\" score minus the \"from\" score, each of which is retrieved from the piece square table of the corresponding piece.\n",
    "\n",
    "###### __<u>Arguments</u>__\n",
    "``color (chess.Color):``  \n",
    "The color of the player who makes the move. \n",
    "\n",
    "``move (chess.Move):``  \n",
    "The move of which the positions should be evaluated.\n",
    "\n",
    "###### __<u>Returns _(int)_</u>__\n",
    "The move score associated with the positions."
   ]
  },
  {
   "cell_type": "code",
   "execution_count": null,
   "metadata": {
    "cell_id": "00006-31854a4a-3fbf-48d5-9d3d-414dc6887c65",
    "deepnote_app_coordinates": {
     "h": 5,
     "w": 12,
     "x": 0,
     "y": 102
    },
    "deepnote_cell_height": 315,
    "deepnote_cell_type": "code",
    "deepnote_to_be_reexecuted": false,
    "execution_millis": 552,
    "execution_start": 1641928383035,
    "output_cleared": true,
    "source_hash": "e8049585",
    "tags": []
   },
   "outputs": [],
   "source": [
    "def evaluate_positions(self, color: chess.Color, move: chess.Move) -> int:\n",
    "    from_piece = self.piece_at(move.from_square)\n",
    "    from_piece_square_table_key = self.get_piece_square_table_key(from_piece.piece_type)\n",
    "    to_piece_type = from_piece.piece_type if move.promotion is None else move.promotion\n",
    "    to_piece_square_table_key = self.get_piece_square_table_key(to_piece_type)\n",
    "\n",
    "    from_score = self.get_positional_score(color,\n",
    "            from_piece_square_table_key, move.from_square)\n",
    "    to_score = self.get_positional_score(color,\n",
    "            to_piece_square_table_key, move.to_square)\n",
    "    return to_score - from_score\n",
    "\n",
    "chess.Board.evaluate_positions = evaluate_positions\n",
    "del evaluate_positions"
   ]
  },
  {
   "cell_type": "markdown",
   "metadata": {
    "cell_id": "00014-71df59dd-4252-4fe5-9ec4-8ef321757033",
    "deepnote_app_coordinates": {
     "h": 5,
     "w": 12,
     "x": 0,
     "y": 108
    },
    "deepnote_cell_height": 309.59375,
    "deepnote_cell_type": "markdown",
    "tags": []
   },
   "source": [
    "#### chess.Board.evaluate_castling\n",
    "Calculates the move score associated with castling. This score is the positional score of the rook, as the king's positional score is already handled by evaluate_positions. If the move does not involve castling, this score is 0.\n",
    "\n",
    "###### __<u>Arguments</u>__\n",
    "``color (chess.Color):``   \n",
    "The color of the player who makes the move.\n",
    "\n",
    "``move (chess.Move):``  \n",
    "The move for which castling should be evaluated.\n",
    "\n",
    "###### __<u>Returns _(int)_</u>__\n",
    "The move score associated with the castling."
   ]
  },
  {
   "cell_type": "code",
   "execution_count": null,
   "metadata": {
    "cell_id": "00008-97b7bb2c-c286-42ab-abf9-45ffba8c0212",
    "deepnote_app_coordinates": {
     "h": 5,
     "w": 12,
     "x": 0,
     "y": 114
    },
    "deepnote_cell_height": 246,
    "deepnote_cell_type": "code",
    "tags": []
   },
   "outputs": [],
   "source": [
    "def evaluate_castling(self, color: chess.Color, move: chess.Move) -> int:\n",
    "    if not self.is_castling(move):\n",
    "        return 0\n",
    "\n",
    "    old_square, new_square = self.find_castling_rook_squares(color, move)\n",
    "    old_score = self.get_positional_score(color, 'r', old_square)\n",
    "    new_score = self.get_positional_score(color, 'r', new_square)\n",
    "    return new_score - old_score\n",
    "\n",
    "chess.Board.evaluate_castling = evaluate_castling\n",
    "del evaluate_castling"
   ]
  },
  {
   "cell_type": "markdown",
   "metadata": {
    "cell_id": "00016-fe00a280-24b9-42af-8105-2a84d85a1f09",
    "deepnote_app_coordinates": {
     "h": 5,
     "w": 12,
     "x": 0,
     "y": 120
    },
    "deepnote_cell_height": 419.1875,
    "deepnote_cell_type": "markdown",
    "tags": []
   },
   "source": [
    "#### chess.Board.find_castling_rook_squares\n",
    "Finds the \"from\" and \"to\" square of the rook's movement during castling. This is necessary because the move's notation only contains the king's movement, which indirectly defines the rook's movement as well. <br>\n",
    "The rook can only be in one of the four corners of the board prior to castling. Each corner also has a specified direction that the king moves in (1 if right and -1 if left). This function can therefore simply check for these four cases and place the rook behind the king in the correct direction.\n",
    "\n",
    "###### __<u>Arguments</u>__\n",
    "``color (chess.Color):``  \n",
    "The color of the player who makes the move.\n",
    "\n",
    "``move (chess.Move):``  \n",
    "The castling move, describing the king's movement.\n",
    "\n",
    "###### __<u>Returns _(chess.Square, chess.Square)_</u>__\n",
    "- The \"from\" square of the rook's movement.\n",
    "- The \"to\" square of the rook's movement."
   ]
  },
  {
   "cell_type": "code",
   "execution_count": null,
   "metadata": {
    "cell_id": "00004-a05b562c-17b0-4aeb-b79a-f37e009b3c62",
    "deepnote_app_coordinates": {
     "h": 5,
     "w": 12,
     "x": 0,
     "y": 126
    },
    "deepnote_cell_height": 351,
    "deepnote_cell_type": "code",
    "deepnote_to_be_reexecuted": false,
    "execution_millis": 3,
    "execution_start": 1638367783310,
    "source_hash": "f8777dd5",
    "tags": []
   },
   "outputs": [],
   "source": [
    "def find_castling_rook_squares(\n",
    "    self, \n",
    "    color: chess.Color, \n",
    "    move: chess.Move\n",
    ") -> (chess.Square, chess.Square):\n",
    "\n",
    "    king_move_dir = 1 if move.to_square > move.from_square else -1\n",
    "    old_rook_square = (chess.A1 if king_move_dir == -1 else chess.H1) \\\n",
    "        if color == chess.WHITE \\\n",
    "        else (chess.A8 if king_move_dir == -1 else chess.H8)\n",
    "    new_rook_square = move.to_square - king_move_dir\n",
    "\n",
    "    return old_rook_square, new_rook_square\n",
    "\n",
    "chess.Board.find_castling_rook_squares = find_castling_rook_squares\n",
    "del find_castling_rook_squares"
   ]
  },
  {
   "cell_type": "markdown",
   "metadata": {
    "cell_id": "00018-bcb4c62d-f699-4045-af5f-3c639361ee53",
    "deepnote_app_coordinates": {
     "h": 5,
     "w": 12,
     "x": 0,
     "y": 132
    },
    "deepnote_cell_height": 273.1875,
    "deepnote_cell_type": "markdown",
    "tags": []
   },
   "source": [
    "#### chess.Board.evaluate_promotion\n",
    "Calculates the move score associated with a promotion, i.e. transforming a pawn into a queen, knight, rook is bishop. This score is defined as the piece value of the new piece minus the piece value of the pawn. If the move does not result in a promotion, this score is 0. The effect that a promotion has on the positional score is accounted for in evaluate_positions.\n",
    "\n",
    "###### __<u>Arguments</u>__\n",
    "``move (chess.Move):``  \n",
    "The move for which a promotion should be evaluated.\n",
    "\n",
    "###### __<u>Returns _(int)_</u>___\n",
    "The move score associated with the promotion."
   ]
  },
  {
   "cell_type": "code",
   "execution_count": null,
   "metadata": {
    "cell_id": "00012-cca2590b-8bf8-4c77-9cbe-56240ec545e6",
    "deepnote_app_coordinates": {
     "h": 5,
     "w": 12,
     "x": 0,
     "y": 138
    },
    "deepnote_cell_height": 246,
    "deepnote_cell_type": "code",
    "tags": []
   },
   "outputs": [],
   "source": [
    "def evaluate_promotion(self, move: chess.Move) -> int:\n",
    "    if move.promotion is None:\n",
    "        return 0\n",
    "\n",
    "    old_piece = self.piece_at(move.from_square)\n",
    "    old_piece_value = self.get_piece_value(old_piece.piece_type)\n",
    "    new_piece_value = self.get_piece_value(move.promotion)\n",
    "    return new_piece_value - old_piece_value\n",
    "\n",
    "chess.Board.evaluate_promotion = evaluate_promotion\n",
    "del evaluate_promotion"
   ]
  },
  {
   "cell_type": "markdown",
   "metadata": {
    "cell_id": "00005-4a3555fb-e516-4dec-929e-3eec6370f697",
    "deepnote_app_coordinates": {
     "h": 5,
     "w": 12,
     "x": 0,
     "y": 144
    },
    "deepnote_cell_height": 169.59375,
    "deepnote_cell_type": "markdown",
    "tags": []
   },
   "source": [
    "#### chess.Board.get_state_repr\n",
    "Creates a tuple of bitboards that represents the current state of a chess board. Therefore, the different bitboards, each representing a different type of chess-piece are saved as one entity in the tuple.\n",
    "\n",
    "###### __<u>Returns _(tuple(int, int, int, int, int, int))_</u>__\n",
    "A tuple that represents the board state. Each element in the tuple is a bitboard-representation (int) for a specific chess-piece."
   ]
  },
  {
   "cell_type": "code",
   "execution_count": null,
   "metadata": {
    "cell_id": "00005-2a4098ab-8f11-4efd-bf48-1f601cdfe7d6",
    "deepnote_app_coordinates": {
     "h": 5,
     "w": 12,
     "x": 0,
     "y": 150
    },
    "deepnote_cell_height": 297,
    "deepnote_cell_type": "code",
    "deepnote_to_be_reexecuted": false,
    "execution_millis": 5,
    "execution_start": 1646757920999,
    "owner_user_id": "bf601137-8aff-4afc-8e92-5767ca086e79",
    "source_hash": "a121873",
    "tags": []
   },
   "outputs": [],
   "source": [
    "def get_state_repr(self) -> int:\n",
    "    return (\n",
    "        self.pawns,\n",
    "        self.knights,\n",
    "        self.bishops,\n",
    "        self.rooks,\n",
    "        self.queens,\n",
    "        self.kings\n",
    "    )\n",
    "    \n",
    "\n",
    "chess.Board.get_state_repr = get_state_repr\n",
    "del get_state_repr"
   ]
  },
  {
   "cell_type": "markdown",
   "metadata": {
    "cell_id": "f71b8ff0-c4ba-4a85-93bf-de86ef986990",
    "deepnote_app_coordinates": {
     "h": 5,
     "w": 12,
     "x": 0,
     "y": 156
    },
    "deepnote_cell_height": 253.796875,
    "deepnote_cell_type": "markdown",
    "tags": []
   },
   "source": [
    "#### chess.Board.check_and_set_ending\n",
    "Finds if the game has entered its ending phase. This follows the definition of the Simplified Evaluation Function, see Michniewski, T. (2021). The ending phase is triggered when <b>either</b> of the following conditions is met:\n",
    "- Both sides have no queens.\n",
    "- Every side that has a queen has at most one minor piece and no other pieces (pawns are not counted).\n",
    "\n",
    "###### __<u>Side effects</u>__\n",
    "If the ending phase is triggered, the \"ending\" variable of the board is set to True, so that the ending phase does not have to be checked for again."
   ]
  },
  {
   "cell_type": "code",
   "execution_count": null,
   "metadata": {
    "cell_id": "00010-3316ce37-fa3a-4acc-a9e8-424c77cb3728",
    "deepnote_app_coordinates": {
     "h": 5,
     "w": 12,
     "x": 0,
     "y": 162
    },
    "deepnote_cell_height": 441,
    "deepnote_cell_type": "code",
    "deepnote_to_be_reexecuted": false,
    "execution_millis": 0,
    "execution_start": 1638367783357,
    "source_hash": "87ae7f4c",
    "tags": []
   },
   "outputs": [],
   "source": [
    "def check_and_set_ending(self) -> None:\n",
    "    if self.ending: return\n",
    "\n",
    "    meets_ending_requirement = { chess.WHITE: False, chess.BLACK: False }\n",
    "    for color in [ chess.WHITE, chess.BLACK ]:\n",
    "        # Option 1: no queen\n",
    "        if self.get_piece_count(color, chess.QUEEN) == 0:\n",
    "            meets_ending_requirement[color] = True\n",
    "            continue\n",
    "\n",
    "        # Option 2: at most one minor piece and no other pieces (besides queen)\n",
    "        # Most sources state that pawns aren't pieces, so these are not counted\n",
    "        if self.get_piece_count(color, chess.BISHOP, chess.KNIGHT) <= 1 \\\n",
    "                and self.get_piece_count(color, chess.ROOK) == 0:\n",
    "            meets_ending_requirement[color] = True\n",
    "\n",
    "    if meets_ending_requirement[chess.WHITE] and meets_ending_requirement[chess.BLACK]:\n",
    "        self.ending = True\n",
    "\n",
    "chess.Board.check_and_set_ending = check_and_set_ending\n",
    "del check_and_set_ending"
   ]
  },
  {
   "cell_type": "markdown",
   "metadata": {
    "cell_id": "6b0fc266-edeb-4dba-b2b9-7a9a5caa711e",
    "deepnote_app_coordinates": {
     "h": 5,
     "w": 12,
     "x": 0,
     "y": 168
    },
    "deepnote_cell_height": 309.59375,
    "deepnote_cell_type": "markdown",
    "tags": []
   },
   "source": [
    "#### chess.Board.get_piece_count\n",
    "Finds how many pieces of certain types of a certain color are on the board. For example, this function can be used to find the combined total of white bishops and knights.\n",
    "\n",
    "###### __<u>Arguments</u>__\n",
    "``color (chess.Color):``  \n",
    "The color of the pieces that should be counted.\n",
    "\n",
    "``*piece_types (chess.PieceType):``  \n",
    "The piece type(s) that should be counted.\n",
    "\n",
    "###### __<u>Returns _(int)_</u>__\n",
    "The total amount of pieces of the given types and of the given color."
   ]
  },
  {
   "cell_type": "code",
   "execution_count": null,
   "metadata": {
    "cell_id": "00011-c6141bdc-d9e8-49d8-9b5d-92c573b86cdb",
    "deepnote_app_coordinates": {
     "h": 5,
     "w": 12,
     "x": 0,
     "y": 174
    },
    "deepnote_cell_height": 153,
    "deepnote_cell_type": "code",
    "deepnote_to_be_reexecuted": false,
    "execution_millis": 3,
    "execution_start": 1638367783367,
    "source_hash": "d401c9cb",
    "tags": []
   },
   "outputs": [],
   "source": [
    "def get_piece_count(self, color: chess.Color, *piece_types: chess.PieceType) -> int:\n",
    "    return sum( len(self.pieces(piece_type, color)) for piece_type in piece_types )\n",
    "\n",
    "chess.Board.get_piece_count = get_piece_count\n",
    "del get_piece_count"
   ]
  },
  {
   "cell_type": "markdown",
   "metadata": {
    "cell_id": "00007-6410e966-91dc-4422-822d-d53cc60f7db9",
    "deepnote_app_coordinates": {
     "h": 5,
     "w": 12,
     "x": 0,
     "y": 180
    },
    "deepnote_cell_height": 390.796875,
    "deepnote_cell_type": "markdown",
    "tags": []
   },
   "source": [
    "#### chess.Board.get_search_result_if_finished\n",
    "Checks if a search (minimax or alpha-beta) is finished. This is the case if either the game is over with the board state at the current search node, or if the maximum search depth has been reached. If the search is finished, it returns the resulting move score of this search.\n",
    "\n",
    "###### __<u>Arguments</u>__\n",
    "``color (chess.Color):``  \n",
    "The color of the player that started the search (and should therefore make the move).  \n",
    "\n",
    "``iteration (int):``  \n",
    "The current depth of the search.  \n",
    "\n",
    "``max_iterations (int):``  \n",
    "The maximum depth of the search.\n",
    "\n",
    "###### __<u>Returns _(int)_</u>__\n",
    "The move score if the search has ended, or None otherwise."
   ]
  },
  {
   "cell_type": "code",
   "execution_count": null,
   "metadata": {
    "cell_id": "00003-f81ea439-f8b9-4a46-96a6-10545b499da8",
    "deepnote_app_coordinates": {
     "h": 5,
     "w": 12,
     "x": 0,
     "y": 186
    },
    "deepnote_cell_height": 657,
    "deepnote_cell_type": "code",
    "deepnote_to_be_reexecuted": false,
    "execution_millis": 3,
    "execution_start": 1638367783379,
    "source_hash": "1d76da94",
    "tags": []
   },
   "outputs": [],
   "source": [
    "def get_search_result_if_finished(\n",
    "    self, \n",
    "    color: chess.Color, \n",
    "    iteration: int, \n",
    "    max_iterations: int, \n",
    "    eval_score: int\n",
    ") -> int:\n",
    "\n",
    "    # If the game has finished, return a positive score if we won,\n",
    "    # or a negative score if we lost.\n",
    "    # If the game ended in a draw, return a negative score if we are\n",
    "    # in a winning position or a positive score otherwise.\n",
    "    outcome = self.outcome()\n",
    "    if outcome is not None:\n",
    "        max_score = Globals.EVALUATION_SCORE_CHECKMATE - iteration\n",
    "        min_score = -Globals.EVALUATION_SCORE_CHECKMATE + iteration\n",
    "        if outcome.winner is None: # Draw\n",
    "            return -Globals.EVALUATION_SCORE_DRAW if self.is_winning(color) \\\n",
    "                    else Globals.EVALUATION_SCORE_DRAW\n",
    "        if outcome.winner == color: # Win\n",
    "            return max_score\n",
    "        return min_score # Loss\n",
    "        \n",
    "    # If the search has hit its max depth (max_iterations), return the\n",
    "    # current evaluation score for the AI.\n",
    "    if iteration >= max_iterations:\n",
    "        return eval_score\n",
    "\n",
    "    # The search has not ended, so no result.\n",
    "    return None\n",
    "\n",
    "chess.Board.get_search_result_if_finished = get_search_result_if_finished\n",
    "del get_search_result_if_finished"
   ]
  }
 ],
 "metadata": {
  "deepnote": {
   "is_reactive": false
  },
  "deepnote_app_layout": "article",
  "deepnote_execution_queue": [],
  "deepnote_notebook_id": "2a2a1b76-6401-4d4c-a13d-18f7c2aa1321",
  "kernelspec": {
   "display_name": "Python 3",
   "language": "python",
   "name": "python3"
  },
  "language_info": {
   "codemirror_mode": {
    "name": "ipython",
    "version": 3
   },
   "file_extension": ".py",
   "mimetype": "text/x-python",
   "name": "python",
   "nbconvert_exporter": "python",
   "pygments_lexer": "ipython3",
   "version": "3.9.5"
  }
 },
 "nbformat": 4,
 "nbformat_minor": 2
}
