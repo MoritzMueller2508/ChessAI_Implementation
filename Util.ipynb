{
 "cells": [
  {
   "cell_type": "code",
   "metadata": {
    "tags": [],
    "cell_id": "00001-8cd564df-7c0b-4f79-b7eb-a0e340d57380",
    "deepnote_to_be_reexecuted": false,
    "source_hash": "355d566c",
    "execution_start": 1638367782919,
    "execution_millis": 321,
    "deepnote_cell_type": "code"
   },
   "source": "import import_ipynb\nimport chess\n\nfrom Constants import *",
   "outputs": [
    {
     "name": "stdout",
     "text": "importing Jupyter notebook from Constants.ipynb\n",
     "output_type": "stream"
    }
   ],
   "execution_count": null
  },
  {
   "cell_type": "code",
   "metadata": {
    "tags": [],
    "cell_id": "00001-eecb6bf4-e425-431a-ac3d-05e6d76034ec",
    "deepnote_to_be_reexecuted": false,
    "source_hash": "c21750f2",
    "execution_start": 1638367783269,
    "execution_millis": 4,
    "deepnote_output_heights": [
     21.199996948242188
    ],
    "deepnote_cell_type": "code"
   },
   "source": "piece_values",
   "outputs": [
    {
     "output_type": "execute_result",
     "execution_count": 2,
     "data": {
      "text/plain": "{'p': 100, 'n': 320, 'b': 330, 'r': 500, 'q': 900, 'k': 20000}"
     },
     "metadata": {}
    }
   ],
   "execution_count": null
  },
  {
   "cell_type": "markdown",
   "source": "### evaluate_move\n\nThis function calculates the current score of the board: the score of all pieces is taken into account and summed up.\n\n##### Member of class\n    chess.Board\n\n##### Arguments\n    N/A\n\n##### Returns\n    Evaluated score of the chess board.\n\n##### Side effects\n    N/A\n",
   "metadata": {
    "tags": [],
    "cell_id": "00001-9141f584-3492-4e8f-92c6-5e34f4f0aa49",
    "deepnote_cell_type": "markdown"
   }
  },
  {
   "cell_type": "code",
   "metadata": {
    "tags": [],
    "cell_id": "00000-b6840b19-9c62-457c-812a-489602d86c35",
    "deepnote_to_be_reexecuted": false,
    "source_hash": "b31f4046",
    "execution_start": 1638367783308,
    "execution_millis": 0,
    "deepnote_cell_type": "code"
   },
   "source": "def evaluate_move(self, color: chess.Color, is_opponent: bool, prev_score: int, move: chess.Move) -> int:\n    score_diff = 0\n    is_opponent_multiplier = -1 if is_opponent else 1\n\n    # If the move is an attack, add score based on the opponent's lost piece\n    to_piece = self.piece_at(move.to_square)\n    if to_piece is not None: # No need to check if the piece is of the opposite color - attacking one's own color is not a legal move\n        score_diff += piece_values[chess.piece_symbol(to_piece.piece_type)]\n\n    # Consider positional score\n    from_piece = self.piece_at(move.from_square)\n    from_piece_symbol = chess.piece_symbol(from_piece.piece_type).lower()\n    from_piece_square_table_key = ('ke' if self.ending else 'km') \\\n        if from_piece_symbol == 'k' \\\n        else from_piece_symbol\n    score_diff -= self.get_positional_score(color, from_piece_square_table_key, move.from_square)\n    score_diff += self.get_positional_score(color, from_piece_square_table_key, move.to_square)        \n\n    # Handle rook during castling\n    if self.is_castling(move):\n        old_square, new_square = self.find_castling_rook_squares(color, move)\n        score_diff -= self.get_positional_score(color, 'r', old_square)\n        score_diff += self.get_positional_score(color, 'r', new_square)\n\n    return prev_score + (score_diff * is_opponent_multiplier)\n\nchess.Board.evaluate_move = evaluate_move",
   "outputs": [],
   "execution_count": null
  },
  {
   "cell_type": "code",
   "source": "def get_positional_score(self, color: chess.Color, piece_square_table_key: str, square: chess.Square) -> int:\n    hor_index = square % 8\n    ver_index = 7 - square // 8 if color == chess.WHITE else square // 8\n    piece_square_value = piece_square_tables[piece_square_table_key][ver_index][hor_index]\n    return piece_square_value\n\nchess.Board.get_positional_score = get_positional_score",
   "metadata": {
    "tags": [],
    "cell_id": "00004-cb7c0a11-0d28-4059-a5b2-2f087ef7f6e3",
    "deepnote_to_be_reexecuted": false,
    "source_hash": "93cdf610",
    "execution_start": 1638367783309,
    "execution_millis": 0,
    "deepnote_cell_type": "code"
   },
   "outputs": [],
   "execution_count": null
  },
  {
   "cell_type": "code",
   "source": "def find_castling_rook_squares(self, color: chess.Color, move: chess.Move) -> (chess.Square, chess.Square):\n    king_move_dir = 1 if move.to_square > move.from_square else -1\n    old_rook_square = (chess.A1 if king_move_dir == -1 else chess.H1) \\\n        if color == chess.WHITE \\\n        else (chess.A8 if king_move_dir == -1 else chess.H8)\n    new_rook_square = move.to_square - king_move_dir\n\n    return old_rook_square, new_rook_square\n\nchess.Board.find_castling_rook_squares = find_castling_rook_squares",
   "metadata": {
    "tags": [],
    "cell_id": "00004-a05b562c-17b0-4aeb-b79a-f37e009b3c62",
    "deepnote_to_be_reexecuted": false,
    "source_hash": "f8777dd5",
    "execution_start": 1638367783310,
    "execution_millis": 3,
    "deepnote_cell_type": "code"
   },
   "outputs": [],
   "execution_count": null
  },
  {
   "cell_type": "markdown",
   "source": "--- \n<br>\n\n## get_move_score\n\nThis function calculates the evaluation score of a given move.\n\n#### Member of class:\n    chess.Board\n\n#### Arguments\n    move: chess.Move\n        The move to be evaluated.\n\n#### Returns\n    The evaluated score of the move.\n\n#### Side effects\n    - If the function is interrupted, the board may be in a different state than before it was called.\n",
   "metadata": {
    "tags": [],
    "cell_id": "00003-d83cdc13-95d5-4e9a-8693-7957b995a02a",
    "deepnote_cell_type": "markdown"
   }
  },
  {
   "cell_type": "code",
   "metadata": {
    "tags": [],
    "cell_id": "00001-df231fd4-327e-4dc6-b67c-34e720b5b42e",
    "deepnote_to_be_reexecuted": false,
    "source_hash": "cb668f07",
    "execution_start": 1638367783355,
    "execution_millis": 0,
    "deepnote_cell_type": "code"
   },
   "source": "def get_move_score(self, move: chess.Move) -> int:\n    self.push(move)\n    move_score = self.get_ai_score()\n    self.pop()\n    \n    return move_score\n\nchess.Board.get_move_score = get_move_score",
   "outputs": [],
   "execution_count": null
  },
  {
   "cell_type": "markdown",
   "source": "### get_state_string\n\nReturns a string that represents the current state of a chess board, i.e. which pieces are at which position.\n\n##### Member of class\n    chess.Board\n\n##### Arguments\n    N/A\n\n##### Returns\n    A string that represents the state of the board.\n\n##### Side effects\n    N/A\n",
   "metadata": {
    "tags": [],
    "cell_id": "00005-4a3555fb-e516-4dec-929e-3eec6370f697",
    "deepnote_cell_type": "markdown"
   }
  },
  {
   "cell_type": "code",
   "metadata": {
    "tags": [],
    "cell_id": "00005-2a4098ab-8f11-4efd-bf48-1f601cdfe7d6",
    "deepnote_to_be_reexecuted": false,
    "source_hash": "88768c7d",
    "execution_start": 1638367783356,
    "execution_millis": 0,
    "deepnote_cell_type": "code"
   },
   "source": "def get_state_string(self) -> str:\n    return ''.join([\n        '-' if self.piece_at(square) is None else self.piece_at(square).symbol()\n            for square in chess.SQUARES\n    ])\n\nchess.Board.get_state_string = get_state_string",
   "outputs": [],
   "execution_count": null
  },
  {
   "cell_type": "code",
   "source": "def check_and_set_ending(self) -> None:\n    if self.ending: return\n\n    meets_ending_requirement = { chess.WHITE: False, chess.BLACK: False }\n    for color in [ chess.WHITE, chess.BLACK ]:\n        # Option 1: no queen\n        if self.piece_count(color, chess.QUEEN) == 0:\n            meets_ending_requirement[color] = True\n            continue\n\n        # Option 2: at most one minor piece and no other pieces (besides queen)\n        # Most sources state that pawns aren't pieces, so these are not counted\n        if self.piece_count(color, chess.BISHOP, chess.KNIGHT) <= 1 and self.piece_count(color, chess.ROOK) == 0:\n            meets_ending_requirement[color] = True\n\n    if meets_ending_requirement[chess.WHITE] and meets_ending_requirement[chess.BLACK]:\n        self.ending = True\n\nchess.Board.check_and_set_ending = check_and_set_ending",
   "metadata": {
    "tags": [],
    "cell_id": "00010-3316ce37-fa3a-4acc-a9e8-424c77cb3728",
    "deepnote_to_be_reexecuted": false,
    "source_hash": "87ae7f4c",
    "execution_start": 1638367783357,
    "execution_millis": 0,
    "deepnote_cell_type": "code"
   },
   "outputs": [],
   "execution_count": null
  },
  {
   "cell_type": "code",
   "source": "def piece_count(self, color: chess.Color, *piece_types: chess.PieceType) -> int:\n    return sum( len(self.pieces(piece_type, color)) for piece_type in piece_types )\n\nchess.Board.piece_count = piece_count",
   "metadata": {
    "tags": [],
    "cell_id": "00011-c6141bdc-d9e8-49d8-9b5d-92c573b86cdb",
    "deepnote_to_be_reexecuted": false,
    "source_hash": "d401c9cb",
    "execution_start": 1638367783367,
    "execution_millis": 3,
    "deepnote_cell_type": "code"
   },
   "outputs": [],
   "execution_count": null
  },
  {
   "cell_type": "markdown",
   "source": "### get_search_result_if_finished\n\nChecks if a search (minimax or alpha-beta) is finished. This is the case if either the game is over with the board state at the current search node, or if the maximum depth has been reached. If the search is finished, it returns the result of this search.\n\n##### Member of class\n    chess.Board\n\n##### Arguments\n    iteration: int\n        The current depth of the search.\n    max_iterations: int\n        The maximum depth of the search.\n\n##### Returns\n    If the search is finished:\n        tuple(best_score, best_move)\n\n        best_score: int\n            The board score after making the recommended best move.\n        best_move: chess.Move\n            The recommended best move to make.\n            \n    Otherwise:\n        None\n\n##### Side effects\n    N/A",
   "metadata": {
    "tags": [],
    "cell_id": "00007-6410e966-91dc-4422-822d-d53cc60f7db9",
    "deepnote_cell_type": "markdown"
   }
  },
  {
   "cell_type": "code",
   "metadata": {
    "tags": [],
    "cell_id": "00003-f81ea439-f8b9-4a46-96a6-10545b499da8",
    "deepnote_to_be_reexecuted": false,
    "source_hash": "1d76da94",
    "execution_start": 1638367783379,
    "execution_millis": 3,
    "deepnote_cell_type": "code"
   },
   "source": "def get_search_result_if_finished(self, iteration: int, max_iterations: int, eval_score: int) -> (int, chess.Move):\n    # If the game has finished, return a positive score if we won, or a negative score if we lost.\n    # This score is higher than any possible score in the evaluation function, because wining or losing\n    # the game is more impactful than any other board state.\n    # If the game ended in a draw, return a neutral score (0).\n    outcome = self.outcome()\n    if outcome is not None:\n        if outcome.winner == chess.WHITE:\n            return 1000000, None\n        if outcome.winner == chess.BLACK:\n            return -1000000, None\n        return 0, None # Draw\n\n    # If the search has hit its max depth (max_iterations), return the current evaluation score for the AI\n    if iteration >= max_iterations:\n        return eval_score, None\n\n    # The search has not ended, so no result\n    return None\n\nchess.Board.get_search_result_if_finished = get_search_result_if_finished",
   "outputs": [],
   "execution_count": null
  },
  {
   "cell_type": "code",
   "metadata": {
    "tags": [],
    "cell_id": "00006-0b53bdca-1db3-4c4f-ab7d-7cdba59fd516",
    "deepnote_to_be_reexecuted": false,
    "source_hash": "b623e53d",
    "execution_start": 1638367783430,
    "execution_millis": 427606475,
    "deepnote_cell_type": "code"
   },
   "source": "",
   "outputs": [],
   "execution_count": null
  },
  {
   "cell_type": "markdown",
   "source": "<a style='text-decoration:none;line-height:16px;display:flex;color:#5B5B62;padding:10px;justify-content:end;' href='https://deepnote.com?utm_source=created-in-deepnote-cell&projectId=d6ce9acd-52c5-4422-904d-8424da19408b' target=\"_blank\">\n<img alt='Created in deepnote.com' style='display:inline;max-height:16px;margin:0px;margin-right:7.5px;' src='data:image/svg+xml;base64,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' > </img>\nCreated in <span style='font-weight:600;margin-left:4px;'>Deepnote</span></a>",
   "metadata": {
    "tags": [],
    "created_in_deepnote_cell": true,
    "deepnote_cell_type": "markdown"
   }
  }
 ],
 "nbformat": 4,
 "nbformat_minor": 2,
 "metadata": {
  "orig_nbformat": 2,
  "deepnote": {
   "is_reactive": false
  },
  "deepnote_notebook_id": "2a2a1b76-6401-4d4c-a13d-18f7c2aa1321",
  "deepnote_execution_queue": []
 }
}