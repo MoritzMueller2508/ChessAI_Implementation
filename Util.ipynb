{
 "cells": [
  {
   "cell_type": "code",
   "execution_count": null,
   "metadata": {
    "cell_id": "df6bbf4de5aa4f7ab8000e2371d6c360",
    "deepnote_cell_height": 83.83332824707031,
    "deepnote_cell_type": "code",
    "tags": []
   },
   "outputs": [],
   "source": [
    "from IPython.core.display import HTML, display\n",
    "display(HTML('<style>.container { width:100%; !important } </style>'))"
   ]
  },
  {
   "cell_type": "markdown",
   "metadata": {
    "cell_id": "38b7d992f116484fb9ce514bcac00a0d",
    "deepnote_cell_height": 81.83332824707031,
    "deepnote_cell_type": "markdown",
    "tags": []
   },
   "source": [
    "# Utility Functions"
   ]
  },
  {
   "cell_type": "markdown",
   "metadata": {
    "cell_id": "650a9316df96406593dfd5608c3a08fc",
    "deepnote_cell_height": 52.23333740234375,
    "deepnote_cell_type": "markdown",
    "tags": []
   },
   "source": [
    "This notebook contains evaluation and search helper functions that are used by multiple notebooks."
   ]
  },
  {
   "cell_type": "markdown",
   "metadata": {
    "cell_id": "c41821a8886f4e05b605325940436525",
    "deepnote_cell_height": 61.83332824707031,
    "deepnote_cell_type": "markdown",
    "tags": []
   },
   "source": [
    "### Dependencies"
   ]
  },
  {
   "cell_type": "code",
   "execution_count": null,
   "metadata": {
    "cell_id": "2e980f79b71f457595ad71d009718362",
    "deepnote_cell_height": 119.83332824707031,
    "deepnote_cell_type": "code",
    "tags": []
   },
   "outputs": [],
   "source": [
    "import chess\n",
    "\n",
    "import import_ipynb\n",
    "from Globals import Globals"
   ]
  },
  {
   "cell_type": "markdown",
   "metadata": {
    "cell_id": "84fafeb1-4229-4410-8b99-ce78335c9c13",
    "deepnote_cell_height": 295.433349609375,
    "deepnote_cell_type": "markdown",
    "deepnote_to_be_reexecuted": false,
    "execution_millis": 7,
    "execution_start": 1652780413670,
    "source_hash": "f3e5a509",
    "tags": []
   },
   "source": [
    "#### chess.Board.is_winning\n",
    "Finds whether a certain color is winning, i.e. if they are in an advantageous position (but may not necessarily win the game, they just have the advantage). This is the case if their total board score, i.e. piece values plus positional scores, is greater than that of the opponent. If both players have an equal score, they are both considered to be winning (and will therefore try to avoid draws; this should make the game more interesting).\n",
    "\n",
    "###### __<u>Arguments</u>__\n",
    "``color (chess.Color):``  \n",
    "The color of which the advantageous or disadvantageous position should be determined.\n",
    "\n",
    "###### __<u>Returns _(bool)_</u>__\n",
    "Whether or not the given color is in an advantageous position (see definition above)."
   ]
  },
  {
   "cell_type": "code",
   "execution_count": null,
   "metadata": {
    "cell_id": "8da9145001774649b69ab45a64fe6ba3",
    "deepnote_cell_height": 233.9499969482422,
    "deepnote_cell_type": "code",
    "deepnote_to_be_reexecuted": false,
    "execution_millis": 1411,
    "execution_start": 1652780495606,
    "source_hash": "ce2eebcb",
    "tags": []
   },
   "outputs": [],
   "source": [
    "def is_winning(self, color: chess.Color) -> bool:\n",
    "    score = self.board_score(color)\n",
    "    return (score >= 0)\n",
    "\n",
    "chess.Board.is_winning = is_winning\n",
    "del is_winning"
   ]
  },
  {
   "cell_type": "markdown",
   "metadata": {
    "cell_id": "d855a5caa92449dc984243bf6a36f093",
    "deepnote_cell_height": 368.23333740234375,
    "deepnote_cell_type": "markdown",
    "tags": []
   },
   "source": [
    "<a id= 'BoardScore'></a>\n",
    "#### chess.Board.board_score\n",
    "Finds the total board score for a color, i.e. piece values plus positional scores. This score is positive if this color is in an advantageous position and negative if this color is in a disadvantageous position based on these two criteria.\n",
    "\n",
    "Note that checkmate is not taken into account, as it is trivial to evaluate a board in this state and was therefore not considered worth the computation cost of seeing if a checkmate exists. This function is called to evaluate potential draws, therefore these computation costs could add up during a search. Furthermore, if a game has ended in a draw, a checkmate isn't possible, so this extra check would only be of use when showing the board score to the user.\n",
    "\n",
    "###### __<u>Arguments</u>__\n",
    "``color (chess.Color):``  \n",
    "The color for which the board score should be calculated.\n",
    "\n",
    "###### __<u>Returns _(int)_</u>__\n",
    "The total board score for the given color."
   ]
  },
  {
   "cell_type": "code",
   "execution_count": null,
   "metadata": {
    "cell_id": "9866dc4290a940bebc4a4b535d924493",
    "deepnote_cell_height": 431.95001220703125,
    "deepnote_cell_type": "code",
    "deepnote_to_be_reexecuted": false,
    "execution_millis": 507,
    "execution_start": 1654166906993,
    "owner_user_id": "bf601137-8aff-4afc-8e92-5767ca086e79",
    "source_hash": "605d9a9f",
    "tags": []
   },
   "outputs": [],
   "source": [
    "def board_score(self, color: chess.Color) -> int:\n",
    "    score = 0\n",
    "    for square in chess.SQUARES:\n",
    "        piece = self.piece_at(square)\n",
    "        if piece is None:\n",
    "            continue\n",
    "            \n",
    "        piece_score_multiplier = 1 if piece.color == color else -1\n",
    "        score += self.get_piece_value(piece.piece_type) * piece_score_multiplier\n",
    "        piece_square_table_key = self.get_piece_square_table_key(piece.piece_type)\n",
    "        score += self.get_positional_score(piece.color, piece_square_table_key, square) \\\n",
    "                * piece_score_multiplier\n",
    "\n",
    "    return score\n",
    "\n",
    "chess.Board.board_score = board_score\n",
    "del board_score"
   ]
  },
  {
   "cell_type": "markdown",
   "metadata": {
    "cell_id": "65e74ec687bd4a20875e0431a34dd422",
    "deepnote_cell_height": 250.63333129882812,
    "deepnote_cell_type": "markdown",
    "tags": []
   },
   "source": [
    "#### chess.Board.get_piece_value\n",
    "Finds the piece value for a given piece type. If the global constant contains a piece value for this piece type, it simply returns this piece value. If not, i.e. for kings or empty spaces, it returns a value of 0.\n",
    "\n",
    "###### __<u>Arguments</u>__\n",
    "``piece_type (chess.PieceType):``  \n",
    "The piece type of which the piece value should be returned.\n",
    "\n",
    "###### __<u>Returns _(int)_</u>__\n",
    "The associated piece value, or 0 if not applicable."
   ]
  },
  {
   "cell_type": "code",
   "execution_count": null,
   "metadata": {
    "cell_id": "f9755e710b4e4377ac02d8135c000c4a",
    "deepnote_cell_height": 191.8333282470703,
    "deepnote_cell_type": "code",
    "tags": []
   },
   "outputs": [],
   "source": [
    "def get_piece_value(self, piece_type: chess.PieceType) -> int:\n",
    "    piece_symbol = chess.piece_symbol(piece_type).lower()\n",
    "    if piece_symbol in Globals.PIECE_VALUES:\n",
    "        return Globals.PIECE_VALUES[piece_symbol]\n",
    "    return 0\n",
    "\n",
    "chess.Board.get_piece_value = get_piece_value\n",
    "del get_piece_value"
   ]
  },
  {
   "cell_type": "markdown",
   "metadata": {
    "cell_id": "360c07b507d4451e8b67b0fc54da3896",
    "deepnote_cell_height": 273.0333251953125,
    "deepnote_cell_type": "markdown",
    "tags": []
   },
   "source": [
    "#### chess.Board.get_piece_square_table_key\n",
    "Finds the dictionary key to index the piece square table of a piece type, which contains a positional score for each square on the chess board. Normally this key is simply the piece symbol of the piece type, but the king has a different piece square table key during the endgame.\n",
    "\n",
    "###### __<u>Arguments</u>__\n",
    "``piece_type (chess.PieceType):``  \n",
    "The piece type to get the piece square table key for.\n",
    "\n",
    "###### __<u>Returns _(str)_</u>__\n",
    "The piece square table key associated with the piece type."
   ]
  },
  {
   "cell_type": "code",
   "execution_count": null,
   "metadata": {
    "cell_id": "21c8940df3b64a84bb811ce3f145179f",
    "deepnote_cell_height": 191.8333282470703,
    "deepnote_cell_type": "code",
    "tags": []
   },
   "outputs": [],
   "source": [
    "def get_piece_square_table_key(self, piece_type: chess.PieceType) -> str:\n",
    "    piece_symbol = chess.piece_symbol(piece_type).lower()\n",
    "    if piece_symbol == 'k':\n",
    "        return 'ke' if self.ending else 'km'\n",
    "    return piece_symbol\n",
    "\n",
    "chess.Board.get_piece_square_table_key = get_piece_square_table_key\n",
    "del get_piece_square_table_key"
   ]
  },
  {
   "cell_type": "markdown",
   "metadata": {
    "cell_id": "9495d154ab6f4deeb3afb8fe3eb925cc",
    "deepnote_cell_height": 419.0333251953125,
    "deepnote_cell_type": "markdown",
    "tags": []
   },
   "source": [
    "#### chess.Board.find_castling_rook_squares\n",
    "Finds the \"from\" and \"to\" square of the rook's movement during castling. This is necessary because the move's notation only contains the king's movement, which indirectly defines the rook's movement as well. <br>\n",
    "The rook can only be in one of the four corners of the board prior to castling. Each corner also has a specified direction that the king moves in (1 if right and -1 if left). This function can therefore simply check for these four cases and place the rook behind the king in the correct direction.\n",
    "\n",
    "###### __<u>Arguments</u>__\n",
    "``color (chess.Color):``  \n",
    "The color of the player who makes the move.\n",
    "\n",
    "``move (chess.Move):``  \n",
    "The castling move, describing the king's movement.\n",
    "\n",
    "###### __<u>Returns _(chess.Square, chess.Square)_</u>__\n",
    "- The \"from\" square of the rook's movement.\n",
    "- The \"to\" square of the rook's movement."
   ]
  },
  {
   "cell_type": "code",
   "execution_count": null,
   "metadata": {
    "cell_id": "6d0969a24a0145f8b5dffaeb7f8d95c3",
    "deepnote_cell_height": 335.83331298828125,
    "deepnote_cell_type": "code",
    "tags": []
   },
   "outputs": [],
   "source": [
    "def find_castling_rook_squares(\n",
    "    self, \n",
    "    color: chess.Color, \n",
    "    move: chess.Move\n",
    ") -> (chess.Square, chess.Square):\n",
    "\n",
    "    king_move_dir = 1 if move.to_square > move.from_square else -1\n",
    "    old_rook_square = (chess.A1 if king_move_dir == -1 else chess.H1) \\\n",
    "        if color == chess.WHITE \\\n",
    "        else (chess.A8 if king_move_dir == -1 else chess.H8)\n",
    "    new_rook_square = move.to_square - king_move_dir\n",
    "\n",
    "    return old_rook_square, new_rook_square\n",
    "\n",
    "chess.Board.find_castling_rook_squares = find_castling_rook_squares\n",
    "del find_castling_rook_squares"
   ]
  },
  {
   "cell_type": "markdown",
   "metadata": {
    "cell_id": "b84035315b894764a1efbe1309016bb0",
    "deepnote_cell_height": 191.8333282470703,
    "deepnote_cell_type": "markdown",
    "tags": []
   },
   "source": [
    "#### chess.Board.get_state_repr\n",
    "Creates a tuple that represents the current state of a chess board. En passant rights are not taken into account, as this requires an inefficient function call. Because en passant is relatively rare, this was not deemed worth the performance burden.\n",
    "\n",
    "###### __<u>Returns _(tuple<int, int, int, int, int, int, int, int, int chess.Color>)_</u>__\n",
    "A tuple that represents the board state. Each element in the tuple is a bitboard representation (`int`), except for the last element, which is the color that can currently make a move."
   ]
  },
  {
   "cell_type": "code",
   "execution_count": null,
   "metadata": {
    "cell_id": "0d147b26778842d287eedfef09f88ae4",
    "deepnote_cell_height": 353.83331298828125,
    "deepnote_cell_type": "code",
    "tags": []
   },
   "outputs": [],
   "source": [
    "def get_state_repr(self) -> tuple:\n",
    "    return (\n",
    "        self.pawns,\n",
    "        self.knights,\n",
    "        self.bishops,\n",
    "        self.rooks,\n",
    "        self.queens,\n",
    "        self.kings,\n",
    "        self.occupied_co[chess.WHITE],\n",
    "        self.occupied_co[chess.BLACK],\n",
    "        self.castling_rights,\n",
    "        self.turn\n",
    "    )\n",
    "    \n",
    "\n",
    "chess.Board.get_state_repr = get_state_repr\n",
    "del get_state_repr"
   ]
  },
  {
   "cell_type": "markdown",
   "metadata": {
    "cell_id": "c3398a78923f4fae94e1dc86c7b9f633",
    "deepnote_cell_height": 231.23333740234375,
    "deepnote_cell_type": "markdown",
    "tags": []
   },
   "source": [
    "#### chess.Board.check_and_set_ending\n",
    "Finds if the game has entered its ending phase. This follows the definition of the Simplified Evaluation Function, see [Michniewski, T. (2021)](Bibliography.ipynb#MT21). The ending phase is triggered when <b>either</b> of the following conditions is met:\n",
    "- Both sides have no queens.\n",
    "- Every side that has a queen has at most one minor piece and no other pieces (pawns are not counted).\n",
    "\n",
    "If the ending phase is triggered, the `ending` variable of the board is set to `True`, so that the ending phase does not have to be checked for again. Depending on this variable, the kings will use different piece square tables."
   ]
  },
  {
   "cell_type": "code",
   "execution_count": null,
   "metadata": {
    "cell_id": "30b1e15fbe1d4ed3bcb0e5ac07485eea",
    "deepnote_cell_height": 425.83331298828125,
    "deepnote_cell_type": "code",
    "tags": []
   },
   "outputs": [],
   "source": [
    "def check_and_set_ending(self) -> None:\n",
    "    if self.ending: return\n",
    "\n",
    "    meets_ending_requirement = { chess.WHITE: False, chess.BLACK: False }\n",
    "    for color in [ chess.WHITE, chess.BLACK ]:\n",
    "        # Option 1: no queen\n",
    "        if self.get_piece_count(color, chess.QUEEN) == 0:\n",
    "            meets_ending_requirement[color] = True\n",
    "            continue\n",
    "\n",
    "        # Option 2: at most one minor piece and no other pieces (besides queen)\n",
    "        # Most sources state that pawns aren't pieces, so these are not counted\n",
    "        if self.get_piece_count(color, chess.BISHOP, chess.KNIGHT) <= 1 \\\n",
    "                and self.get_piece_count(color, chess.ROOK) == 0:\n",
    "            meets_ending_requirement[color] = True\n",
    "\n",
    "    if meets_ending_requirement[chess.WHITE] and meets_ending_requirement[chess.BLACK]:\n",
    "        self.ending = True\n",
    "\n",
    "chess.Board.check_and_set_ending = check_and_set_ending\n",
    "del check_and_set_ending"
   ]
  },
  {
   "cell_type": "markdown",
   "metadata": {
    "cell_id": "d1946f18b6454fdba4db676ab231f8c8",
    "deepnote_cell_height": 309.433349609375,
    "deepnote_cell_type": "markdown",
    "tags": []
   },
   "source": [
    "#### chess.Board.get_piece_count\n",
    "Finds how many pieces of certain types of a certain color are on the board. For example, this function can be used to find the combined total of white bishops and knights.\n",
    "\n",
    "###### __<u>Arguments</u>__\n",
    "``color (chess.Color):``  \n",
    "The color of the pieces that should be counted.\n",
    "\n",
    "``*piece_types (chess.PieceType):``  \n",
    "The piece type(s) that should be counted.\n",
    "\n",
    "###### __<u>Returns _(int)_</u>__\n",
    "The total amount of pieces of the given types and of the given color."
   ]
  },
  {
   "cell_type": "code",
   "execution_count": null,
   "metadata": {
    "cell_id": "1d5089e7949546b189a1dada509807af",
    "deepnote_cell_height": 137.8333282470703,
    "deepnote_cell_type": "code",
    "tags": []
   },
   "outputs": [],
   "source": [
    "def get_piece_count(self, color: chess.Color, *piece_types: chess.PieceType) -> int:\n",
    "    return sum( len(self.pieces(piece_type, color)) for piece_type in piece_types )\n",
    "\n",
    "chess.Board.get_piece_count = get_piece_count\n",
    "del get_piece_count"
   ]
  },
  {
   "cell_type": "markdown",
   "metadata": {
    "cell_id": "14513d1aec434136abd2879eea25ecaa",
    "deepnote_cell_height": 155.43333435058594,
    "deepnote_cell_type": "markdown",
    "tags": []
   },
   "source": [
    "#### chess.Board.update_check_endgame_tablebase\n",
    "Checks if the endgame tablebases could reasonably return any results. From the file names in the Gaviota endgame tablebases, it can be found that no endgame tablebase considers positions with more than 5 pieces (with pawns counting as pieces in this instance). Therefore, if there are at most 5 pieces on the board, the `check_endgame_tablebase` flag is set. Until this flag is set, the endgame tablebases are not called during evaluation."
   ]
  },
  {
   "cell_type": "code",
   "execution_count": null,
   "metadata": {
    "cell_id": "5bd2e9074e334c459d102032b997cd9c",
    "deepnote_cell_height": 155.8333282470703,
    "deepnote_cell_type": "code",
    "tags": []
   },
   "outputs": [],
   "source": [
    "def update_check_endgame_tablebase(self) -> None:\n",
    "    if self.check_endgame_tablebase: return\n",
    "    self.check_endgame_tablebase = (self.get_total_piece_count() <= 5)\n",
    "\n",
    "chess.Board.update_check_endgame_tablebase = update_check_endgame_tablebase\n",
    "del update_check_endgame_tablebase"
   ]
  },
  {
   "cell_type": "markdown",
   "metadata": {
    "cell_id": "868645dbb3f1474e9e775dae0fdb2c2a",
    "deepnote_cell_height": 147.03334045410156,
    "deepnote_cell_type": "markdown",
    "tags": []
   },
   "source": [
    "#### chess.Board.get_total_piece_count\n",
    "Finds how many pieces (and pawns) are on the board in total.\n",
    "\n",
    "###### __<u>Returns _(int)_</u>__\n",
    "The total amount of pieces (and pawns) on the board."
   ]
  },
  {
   "cell_type": "code",
   "execution_count": null,
   "metadata": {
    "cell_id": "bbc005f81fe24c5982bd400da93f72c7",
    "deepnote_cell_height": 137.8333282470703,
    "deepnote_cell_type": "code",
    "tags": []
   },
   "outputs": [],
   "source": [
    "def get_total_piece_count(self) -> int:\n",
    "    return len([ square for square in chess.SQUARES if self.piece_at(square) is not None ])\n",
    "\n",
    "chess.Board.get_total_piece_count = get_total_piece_count\n",
    "del get_total_piece_count"
   ]
  },
  {
   "cell_type": "markdown",
   "metadata": {
    "cell_id": "48dde30e24d740dfacdeede00b1f9f64",
    "deepnote_cell_height": 331.83331298828125,
    "deepnote_cell_type": "markdown",
    "tags": []
   },
   "source": [
    "#### chess.Board.get_search_result_if_finished\n",
    "Checks if a search is finished. This is the case if either the game is over with the board state at the current search node, or if the remaining search depth is 0, i.e. if no further moves should be evaluated. If the search is finished, it returns the resulting move score of this search.\n",
    "\n",
    "###### __<u>Arguments</u>__\n",
    "``color (chess.Color):``  \n",
    "The color of the player that started the search.  \n",
    "\n",
    "``depth (int):``  \n",
    "The remaining depth of the search, i.e. how many moves the search should still look into the future.  \n",
    "\n",
    "###### __<u>Returns _(int)_</u>__\n",
    "The move score if the search has ended, or `None` otherwise."
   ]
  },
  {
   "cell_type": "code",
   "execution_count": null,
   "metadata": {
    "cell_id": "0b9e399435474719a61afdc6cc681dc2",
    "deepnote_cell_height": 605.8333129882812,
    "deepnote_cell_type": "code",
    "tags": []
   },
   "outputs": [],
   "source": [
    "def get_search_result_if_finished(\n",
    "    self, \n",
    "    color: chess.Color, \n",
    "    depth: int, \n",
    "    eval_score: int\n",
    ") -> int:\n",
    "\n",
    "    # If the game has finished, return a positive score if we won,\n",
    "    # or a negative score if we lost.\n",
    "    # If the game ended in a draw, return a negative score if we are\n",
    "    # in an advantageous position or a positive score otherwise.\n",
    "    outcome = self.outcome()\n",
    "    if outcome is not None:\n",
    "        max_score = Globals.EVALUATION_SCORE_CHECKMATE + depth\n",
    "        min_score = -Globals.EVALUATION_SCORE_CHECKMATE - depth\n",
    "        if outcome.winner is None: # Draw\n",
    "            return -Globals.EVALUATION_SCORE_DRAW if self.is_winning(color) \\\n",
    "                    else Globals.EVALUATION_SCORE_DRAW\n",
    "        if outcome.winner == color: # Win\n",
    "            return max_score\n",
    "        return min_score # Loss\n",
    "        \n",
    "    # If no more moves should be evaluated, return the current evaluation score.\n",
    "    if depth == 0:\n",
    "        return eval_score\n",
    "\n",
    "    # The search has not ended, so no result.\n",
    "    return None\n",
    "\n",
    "chess.Board.get_search_result_if_finished = get_search_result_if_finished\n",
    "del get_search_result_if_finished"
   ]
  }
 ],
 "metadata": {
  "deepnote": {},
  "deepnote_execution_queue": [],
  "deepnote_notebook_id": "64444c30-d3d6-467f-b1fa-f632255863d7",
  "kernelspec": {
   "display_name": "Python 3 (ipykernel)",
   "language": "python",
   "name": "python3"
  },
  "language_info": {
   "codemirror_mode": {
    "name": "ipython",
    "version": 3
   },
   "file_extension": ".py",
   "mimetype": "text/x-python",
   "name": "python",
   "nbconvert_exporter": "python",
   "pygments_lexer": "ipython3",
   "version": "3.9.12"
  }
 },
 "nbformat": 4,
 "nbformat_minor": 2
}
