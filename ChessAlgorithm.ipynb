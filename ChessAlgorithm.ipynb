{
 "cells": [
  {
   "cell_type": "code",
   "execution_count": null,
   "metadata": {
    "cell_id": "0f3bd0f3d35f49ecbbbe6aea64de5571",
    "deepnote_cell_height": 117,
    "deepnote_cell_type": "code",
    "deepnote_output_heights": [
     2
    ],
    "deepnote_to_be_reexecuted": false,
    "execution_millis": 9,
    "execution_start": 1652775660231,
    "source_hash": "bd190a5a",
    "tags": []
   },
   "outputs": [
    {
     "data": {
      "text/html": [
       "<style>.container { width:100%; !important } </style>"
      ],
      "text/plain": [
       "<IPython.core.display.HTML object>"
      ]
     },
     "metadata": {},
     "output_type": "display_data"
    }
   ],
   "source": [
    "from IPython.core.display import HTML, display\n",
    "display(HTML('<style>.container { width:100%; !important } </style>'))"
   ]
  },
  {
   "cell_type": "markdown",
   "metadata": {
    "cell_id": "68a95eea040140db9bce5cb3e8ab20cb",
    "deepnote_cell_height": 82,
    "deepnote_cell_type": "markdown",
    "tags": []
   },
   "source": [
    "# Base Class for the Chess AIs"
   ]
  },
  {
   "cell_type": "markdown",
   "metadata": {
    "cell_id": "91c02c6f6d8e4e90adf9e7acf23dccef",
    "deepnote_cell_height": 62,
    "deepnote_cell_type": "markdown",
    "tags": []
   },
   "source": [
    "### Dependencies"
   ]
  },
  {
   "cell_type": "code",
   "execution_count": null,
   "metadata": {
    "cell_id": "e95cf523ca9e48428dde67ecbbe587e9",
    "deepnote_cell_height": 117,
    "deepnote_cell_type": "code",
    "deepnote_to_be_reexecuted": false,
    "execution_millis": 100,
    "execution_start": 1652775660280,
    "source_hash": "8c841790",
    "tags": []
   },
   "outputs": [],
   "source": [
    "import chess\n",
    "import chess.gaviota\n",
    "from typing import Union"
   ]
  },
  {
   "cell_type": "markdown",
   "metadata": {
    "cell_id": "28ad083f9d9f44638357efefe8f4b3e1",
    "deepnote_cell_height": 878.390625,
    "deepnote_cell_type": "markdown",
    "owner_user_id": "bf601137-8aff-4afc-8e92-5767ca086e79",
    "tags": []
   },
   "source": [
    "### ChessAlgorithm Class\n",
    "The base class for all chess AI search algorithms.\n",
    "\n",
    "\n",
    "#### ChessAlgorithm.\\_\\_init\\_\\_\n",
    "The constructor for the `ChessAlgorithm` class. Gets called whenever a `ChessAlgorithm` instance, or an instance of one of its subclasses, is created.\n",
    "\n",
    "###### __<u>Arguments</u>__\n",
    "``board (chess.Board):``  \n",
    "The board that the AI should make its moves on.\n",
    "\n",
    "``search_depth (int):``  \n",
    "The number of half-moves the AI looks into the future in order to find the best possible move.\n",
    "\n",
    "``endgame_tablebase (chess.gaviota.PythonTablebase):``  \n",
    "The endgame tablebase attached to the game, which serves as a shortcut for ideal moves in the endgame. More information on this in [Game.ipynb](Game.ipynb#OpeningEnd). \n",
    "\n",
    "``use_heuristic (bool):``  \n",
    "Whether or not to use a heuristic to evaluate moves. This is only `False` in the context of chess problems, where only checkmates need to be considered.\n"
   ]
  },
  {
   "cell_type": "code",
   "execution_count": null,
   "metadata": {
    "cell_id": "1b7c4c0b-3ffd-4ed2-a08c-31c0f2e869b0",
    "deepnote_cell_height": 405,
    "deepnote_cell_type": "code",
    "deepnote_to_be_reexecuted": false,
    "execution_millis": 5,
    "execution_start": 1652775660384,
    "source_hash": "2dc3812c",
    "tags": []
   },
   "outputs": [],
   "source": [
    "class ChessAlgorithm:\n",
    "    board = None\n",
    "    search_depth = None\n",
    "    endgame_tablebase = None\n",
    "    use_heuristic = None\n",
    "    cache = None\n",
    "\n",
    "    def __init__(\n",
    "        self,\n",
    "        board: chess.Board,\n",
    "        search_depth: int,\n",
    "        endgame_tablebase: chess.gaviota.PythonTablebase,\n",
    "        use_heuristic: bool\n",
    "    ):\n",
    "    \n",
    "        self.board = board\n",
    "        self.search_depth = search_depth\n",
    "        self.endgame_tablebase = endgame_tablebase\n",
    "        self.use_heuristic = use_heuristic"
   ]
  }
 ],
 "metadata": {
  "deepnote": {},
  "deepnote_execution_queue": [],
  "deepnote_notebook_id": "5e40aa42-a383-4873-b587-7b0b31a7e985",
  "kernelspec": {
   "display_name": "Python 3 (ipykernel)",
   "language": "python",
   "name": "python3"
  },
  "language_info": {
   "codemirror_mode": {
    "name": "ipython",
    "version": 3
   },
   "file_extension": ".py",
   "mimetype": "text/x-python",
   "name": "python",
   "nbconvert_exporter": "python",
   "pygments_lexer": "ipython3",
   "version": "3.9.12"
  }
 },
 "nbformat": 4,
 "nbformat_minor": 2
}
