{
 "cells": [
  {
   "cell_type": "code",
   "metadata": {
    "cell_id": "00000-392a7603-ffcf-4b29-842e-3b1047a9fec0",
    "deepnote_output_heights": [
     2
    ],
    "deepnote_to_be_reexecuted": false,
    "execution_millis": 10,
    "execution_start": 1643212500741,
    "source_hash": "bd190a5a",
    "tags": [],
    "deepnote_cell_type": "code"
   },
   "source": "from IPython.core.display import HTML, display\ndisplay(HTML('<style>.container { width:100%; !important } </style>'))",
   "outputs": [
    {
     "data": {
      "text/plain": "<IPython.core.display.HTML object>",
      "text/html": "<style>.container { width:100%; !important } </style>"
     },
     "metadata": {},
     "output_type": "display_data"
    }
   ],
   "execution_count": 1
  },
  {
   "cell_type": "code",
   "metadata": {
    "cell_id": "00000-63133633-cab9-4ad5-89e4-0d2b045fead0",
    "deepnote_to_be_reexecuted": false,
    "execution_millis": 12615,
    "execution_start": 1643212500743,
    "source_hash": "debfd5c3",
    "tags": [],
    "output_cleared": true,
    "deepnote_cell_type": "code"
   },
   "source": "!pip install import_ipynb==0.1.3\n!pip install chess",
   "outputs": [],
   "execution_count": 2
  },
  {
   "cell_type": "code",
   "metadata": {
    "cell_id": "00000-c71024d0-56ff-4b46-b36c-10eb76128607",
    "deepnote_output_heights": [
     null,
     2,
     null,
     2,
     null,
     2,
     null,
     2,
     null,
     2,
     null,
     2
    ],
    "deepnote_to_be_reexecuted": false,
    "execution_millis": 4544,
    "execution_start": 1643212513417,
    "scrolled": true,
    "source_hash": "f0b903f5",
    "tags": [],
    "output_cleared": true,
    "deepnote_cell_type": "code"
   },
   "source": "import chess\nimport json\n\nimport import_ipynb\nimport Game\nimport Constants\nfrom MinimaxAlgorithm import make_move_minimax, make_move_minimax_memoization\nfrom RandomAlgorithm import make_random_move\nfrom AlphaBetaAlgorithm import make_move_alphabeta, make_move_alphabeta_iterative_deepening\n\n\n",
   "outputs": [],
   "execution_count": 3
  },
  {
   "cell_type": "markdown",
   "source": "In genreal, a game of chess can be initialized through the instance of a Game-class. To be precise, the creation of the game-object can be \"customized\" with the following parameters:",
   "metadata": {
    "cell_id": "00004-9f143594-84d9-4f02-b259-5fe10994f34d",
    "deepnote_cell_type": "markdown"
   }
  },
  {
   "cell_type": "markdown",
   "source": "    game = Game.Game(  \n                make_move_algorithm_white = \" desired_algo or None (human player) \" ,  \n                make_move_algorithm_black = \" desired_algo or None (human player) \" ,  \n                opening_book              = \" Path to opening_book-library or None\"        ,  \n                endgame_tablebase_dir     = \" Path to endgame_tablebase or None\"  \n                )",
   "metadata": {
    "cell_id": "00005-94258959-2759-4557-a213-f83158b5e5ce",
    "deepnote_cell_type": "markdown"
   }
  },
  {
   "cell_type": "markdown",
   "source": "in this case, the make_move_algorithm white and black represent the different algorithms which can play against each other or against a human enemy. In case a human wants to play against an algorithm, simply set \n\n    make_move_algorithm = None\n    \nas descriped above (Leaving out the argument has the same effect). \nThe possible algorithms are:  \n\n1. make_random_move\n2. make_move_minimax\n3. make_move_minimax_memoization\n4. make_move_alphabeta\n5. make_move_alphabeta_iterative_deepening  \n\nFurthermore, it is recommended to use both the opening_book as well as the endgame_tablebase_dir argument as not None in order to boost efficiency and reduce the time needed by the AI to make a move.",
   "metadata": {
    "cell_id": "00006-4f616ab2-729e-486c-8969-5897f7e040fb",
    "deepnote_cell_type": "markdown"
   }
  },
  {
   "cell_type": "markdown",
   "source": "Here is a basic game which can be played. The ai's are represented through the minimax-algorithm and the alphabeta-algorithm. In this case, the endgame-table is not implemented. ",
   "metadata": {
    "cell_id": "00007-0b88d811-d8cf-4ee7-b656-a7f36048149a",
    "deepnote_cell_type": "markdown"
   }
  },
  {
   "cell_type": "code",
   "metadata": {
    "cell_id": "00004-d3caf298-e575-48eb-acf5-ae812c8c05fd",
    "deepnote_output_heights": [
     null,
     543,
     611
    ],
    "deepnote_to_be_reexecuted": false,
    "execution_millis": 0,
    "execution_start": 1643212518512,
    "scrolled": true,
    "source_hash": "c4feccb1",
    "tags": [],
    "deepnote_cell_type": "code"
   },
   "source": "game = Game.Game(make_move_minimax, make_move_alphabeta, endgame_tablebase_dir= None)\n#game.play()",
   "outputs": [],
   "execution_count": 5
  },
  {
   "cell_type": "markdown",
   "source": "___\nThis is for debbuging purposes. In the following cell we can see multiple tests executed in a loop. Here, all possible tests are run.\n",
   "metadata": {
    "cell_id": "00009-8a9e6052-41a8-475a-94cb-78863c7a9d27",
    "deepnote_cell_type": "markdown"
   }
  },
  {
   "cell_type": "code",
   "metadata": {
    "cell_id": "00010-447f8c33-51d0-4307-b043-552e75700057",
    "deepnote_to_be_reexecuted": false,
    "source_hash": "83497347",
    "execution_start": 1643212518542,
    "deepnote_output_heights": [
     null,
     543
    ],
    "execution_millis": 15555,
    "output_cleared": true,
    "deepnote_cell_type": "code"
   },
   "source": "chess_problems = Constants.chess_problems\nfor c in chess_problems:\n    game.debug_play(c, automation = True)",
   "execution_count": 6,
   "outputs": []
  },
  {
   "cell_type": "markdown",
   "source": "In the following cell the test-details of all previews tests are displayed.",
   "metadata": {
    "cell_id": "00011-6da3ec45-ff97-4c62-80d2-d18e20148b0c",
    "deepnote_cell_type": "markdown"
   }
  },
  {
   "cell_type": "code",
   "metadata": {
    "cell_id": "00012-050277ec-c9fc-40e0-8f54-82a2a45a2d12",
    "deepnote_to_be_reexecuted": false,
    "source_hash": "b35b1e97",
    "execution_start": 1643212540930,
    "execution_millis": 4,
    "output_cleared": true,
    "deepnote_cell_type": "code"
   },
   "source": "import pprint #importing prettyprint for prettier print :D\n\npprint.pprint(game.auto_tests)\nprint(f'\\n{game.wins}')",
   "execution_count": 7,
   "outputs": []
  },
  {
   "cell_type": "markdown",
   "source": "___",
   "metadata": {
    "cell_id": "00013-dc045776-a181-4624-9264-43d646e69f76",
    "deepnote_cell_type": "markdown"
   }
  },
  {
   "cell_type": "markdown",
   "source": "In the following case, a chess_problem is given in the function call. After that there is an example of a false argument",
   "metadata": {
    "cell_id": "00014-6aae503a-2d92-4461-bb7d-34f6ad1fbe13",
    "deepnote_cell_type": "markdown"
   }
  },
  {
   "cell_type": "code",
   "metadata": {
    "cell_id": "00015-a6493636-3186-4afa-b0e2-8a2f3313b34f",
    "deepnote_to_be_reexecuted": false,
    "source_hash": "96cc3384",
    "execution_start": 1643212556689,
    "execution_millis": 6221,
    "deepnote_output_heights": [
     null,
     543
    ],
    "output_cleared": true,
    "deepnote_cell_type": "code"
   },
   "source": "game.debug_play(chess_problem = \"EK\")",
   "execution_count": 10,
   "outputs": []
  },
  {
   "cell_type": "code",
   "metadata": {
    "cell_id": "00005-c4e18063-24d6-4f69-b8db-e4a26eeafc33",
    "deepnote_to_be_reexecuted": false,
    "scrolled": false,
    "source_hash": "d289c78c",
    "tags": [],
    "execution_start": 1643212542221,
    "execution_millis": 12607,
    "output_cleared": true,
    "deepnote_cell_type": "code"
   },
   "source": "game.debug_play(chess_problem = \"H\")\n",
   "outputs": [],
   "execution_count": 9
  },
  {
   "cell_type": "code",
   "source": "",
   "metadata": {
    "cell_id": "845f7a0b-478b-4a7a-8007-a90cb65836e7",
    "tags": [],
    "deepnote_cell_type": "code"
   },
   "outputs": [],
   "execution_count": null
  },
  {
   "cell_type": "markdown",
   "source": "<a style='text-decoration:none;line-height:16px;display:flex;color:#5B5B62;padding:10px;justify-content:end;' href='https://deepnote.com?utm_source=created-in-deepnote-cell&projectId=d6ce9acd-52c5-4422-904d-8424da19408b' target=\"_blank\">\n<img alt='Created in deepnote.com' style='display:inline;max-height:16px;margin:0px;margin-right:7.5px;' src='data:image/svg+xml;base64,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' > </img>\nCreated in <span style='font-weight:600;margin-left:4px;'>Deepnote</span></a>",
   "metadata": {
    "tags": [],
    "created_in_deepnote_cell": true,
    "deepnote_cell_type": "markdown"
   }
  }
 ],
 "nbformat": 4,
 "nbformat_minor": 2,
 "metadata": {
  "deepnote": {
   "is_reactive": false
  },
  "deepnote_execution_queue": [],
  "deepnote_notebook_id": "eb801028-5ca1-4431-81c5-f30d8c1c0b0a",
  "kernelspec": {
   "display_name": "Python 3 (ipykernel)",
   "language": "python",
   "name": "python3"
  },
  "language_info": {
   "codemirror_mode": {
    "name": "ipython",
    "version": 3
   },
   "file_extension": ".py",
   "mimetype": "text/x-python",
   "name": "python",
   "nbconvert_exporter": "python",
   "pygments_lexer": "ipython3",
   "version": "3.9.4"
  }
 }
}