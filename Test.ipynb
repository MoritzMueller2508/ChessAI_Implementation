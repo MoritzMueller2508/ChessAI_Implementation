{
 "cells": [
  {
   "cell_type": "code",
   "metadata": {
    "cell_id": "00000-392a7603-ffcf-4b29-842e-3b1047a9fec0",
    "deepnote_output_heights": [
     2
    ],
    "deepnote_to_be_reexecuted": false,
    "execution_millis": 23,
    "execution_start": 1642700637023,
    "source_hash": "bd190a5a",
    "tags": [],
    "deepnote_cell_type": "code"
   },
   "source": "from IPython.core.display import HTML, display\ndisplay(HTML('<style>.container { width:100%; !important } </style>'))",
   "execution_count": null,
   "outputs": [
    {
     "data": {
      "text/plain": "<IPython.core.display.HTML object>",
      "text/html": "<style>.container { width:100%; !important } </style>"
     },
     "metadata": {},
     "output_type": "display_data"
    }
   ]
  },
  {
   "cell_type": "code",
   "metadata": {
    "cell_id": "00000-63133633-cab9-4ad5-89e4-0d2b045fead0",
    "deepnote_to_be_reexecuted": false,
    "execution_millis": 6445,
    "execution_start": 1642700637042,
    "source_hash": "debfd5c3",
    "tags": [],
    "output_cleared": true,
    "deepnote_cell_type": "code"
   },
   "source": "!pip install import_ipynb==0.1.3\n!pip install chess",
   "execution_count": null,
   "outputs": []
  },
  {
   "cell_type": "code",
   "metadata": {
    "cell_id": "00000-c71024d0-56ff-4b46-b36c-10eb76128607",
    "deepnote_output_heights": [
     null,
     2,
     null,
     2,
     null,
     2,
     null,
     2,
     null,
     2,
     null,
     2
    ],
    "deepnote_to_be_reexecuted": false,
    "execution_millis": 4006,
    "execution_start": 1642700643491,
    "source_hash": "6c7e4179",
    "tags": [],
    "output_cleared": true,
    "deepnote_cell_type": "code"
   },
   "source": "import chess\n\nimport import_ipynb\nimport Game\nfrom MinimaxAlgorithm import make_move_minimax, make_move_minimax_memoization\nfrom RandomAlgorithm import make_random_move\nfrom AlphaBetaAlgorithm import make_move_alphabeta, make_move_alphabeta_iterative_deepening\n\n\n",
   "execution_count": null,
   "outputs": []
  },
  {
   "cell_type": "code",
   "metadata": {
    "cell_id": "00004-978acd6c-62da-4203-9df0-674944499e8b",
    "deepnote_output_heights": [
     null,
     542.75
    ],
    "deepnote_to_be_reexecuted": false,
    "execution_millis": 2,
    "execution_start": 1642700648325,
    "source_hash": "b769150f",
    "tags": [],
    "deepnote_cell_type": "code"
   },
   "source": "# Simple manual test to make sure evaluate_move didn't break. Feel free to remove\n#game = Game.Game(make_move_algorithm_black=make_move_alphabeta)\n#game.play()",
   "execution_count": null,
   "outputs": []
  },
  {
   "cell_type": "code",
   "metadata": {
    "cell_id": "00003-8bc81fa5-1526-4af3-bb9b-4a8f94aef745",
    "deepnote_output_heights": [
     78.796875,
     543,
     606.1875
    ],
    "deepnote_to_be_reexecuted": false,
    "execution_millis": 9,
    "execution_start": 1642700648332,
    "source_hash": "ead6455c",
    "tags": [],
    "deepnote_cell_type": "code"
   },
   "source": "# Random\n# Minimax\n    # MinimaxMemo\n# AlphaBeta\n    # AlphaBeta_IterativeDeepening\n\n#random_minimax = Game.Game(make_random_move, make_move_minimax)\n#random_alpha = Game.Game(make_random_move, make_move_alphabeta)\n#minimax_alpha = Game.Game(make_move_minimax, make_move_alphabeta)\n\n#random_minimemo = Game.Game(make_random_move, make_move_minimax_memoization)\n#random_alphadeep = Game.Game(make_random_move, make_move_alphabeta_iterative_deepening)\n#minimemo_alpha = Game.Game(make_move_minimax_memoization, make_move_alphabeta)\n#minimemo_alphadeep = Game.Game(make_move_minimax_memoization, make_move_alphabeta_iterative_deepening)\n#alphadeep_mini = Game.Game(make_move_alphabeta_iterative_deepening, make_move_minimax)\n\n\n#mini_minimemo = Game.Game(make_move_minimax, make_move_minimax_memoization)\n#alpha_alphadeep = Game.Game(make_move_alphabeta, make_move_alphabeta_iterative_deepening)",
   "execution_count": null,
   "outputs": []
  },
  {
   "cell_type": "code",
   "metadata": {
    "cell_id": "00004-d3caf298-e575-48eb-acf5-ae812c8c05fd",
    "deepnote_output_heights": [
     null,
     543,
     611
    ],
    "deepnote_to_be_reexecuted": false,
    "execution_millis": 21361,
    "execution_start": 1642700717004,
    "source_hash": "a73daef6",
    "tags": [],
    "output_cleared": true,
    "deepnote_cell_type": "code"
   },
   "source": "game = Game.Game(make_move_alphabeta, make_random_move)\ngame.play()",
   "execution_count": null,
   "outputs": []
  },
  {
   "cell_type": "code",
   "metadata": {
    "cell_id": "00005-7721cae7-d803-4d99-874f-4daa35175fd5",
    "deepnote_to_be_reexecuted": true,
    "execution_millis": 731,
    "execution_start": 1642696921815,
    "source_hash": "2be6ce0",
    "tags": [],
    "output_cleared": true,
    "deepnote_cell_type": "code"
   },
   "source": "random_alpha.play()",
   "execution_count": null,
   "outputs": []
  },
  {
   "cell_type": "code",
   "metadata": {
    "cell_id": "00005-e0f943f2-5d66-48a1-98f3-2acb2d3ba603",
    "deepnote_to_be_reexecuted": true,
    "source_hash": "e900d2b7",
    "tags": [],
    "deepnote_cell_type": "code"
   },
   "source": "minimax_alpha.play()",
   "execution_count": null,
   "outputs": []
  },
  {
   "cell_type": "code",
   "metadata": {
    "cell_id": "00005-0c658709-51f0-436d-8b81-ae9b09f47b86",
    "deepnote_to_be_reexecuted": true,
    "source_hash": "c913d4a1",
    "tags": [],
    "deepnote_cell_type": "code"
   },
   "source": "random_minimemo.play()",
   "execution_count": null,
   "outputs": []
  },
  {
   "cell_type": "code",
   "metadata": {
    "cell_id": "00008-c7735a0f-d598-48de-82c4-d4d0f0004049",
    "deepnote_output_heights": [
     null,
     542.75
    ],
    "deepnote_to_be_reexecuted": true,
    "execution_millis": 11922297,
    "execution_start": 1639086745233,
    "source_hash": "6c25e94a",
    "tags": [],
    "deepnote_cell_type": "code"
   },
   "source": "random_alphadeep.play()",
   "execution_count": null,
   "outputs": []
  },
  {
   "cell_type": "code",
   "metadata": {
    "cell_id": "00004-faa80443-95b9-4d25-b93b-7ea0d13a6e4a",
    "deepnote_output_heights": [
     null,
     543
    ],
    "deepnote_to_be_reexecuted": true,
    "execution_millis": 146043,
    "execution_start": 1639008502660,
    "source_hash": "92455fff",
    "tags": [],
    "deepnote_cell_type": "code"
   },
   "source": "minimemo_alpha.play()",
   "execution_count": null,
   "outputs": []
  },
  {
   "cell_type": "code",
   "metadata": {
    "cell_id": "00010-938df116-d512-4c30-9491-2ad7c1ad74e0",
    "deepnote_to_be_reexecuted": true,
    "source_hash": "a56f8df9",
    "tags": [],
    "deepnote_cell_type": "code"
   },
   "source": "minimemo_alphadeep.play()",
   "execution_count": null,
   "outputs": []
  },
  {
   "cell_type": "code",
   "metadata": {
    "cell_id": "00011-6fc21e34-663e-4d0b-b26b-23ad41acf209",
    "deepnote_to_be_reexecuted": true,
    "source_hash": "e6ba4be6",
    "tags": [],
    "deepnote_cell_type": "code"
   },
   "source": "alphadeep_mini.play()",
   "execution_count": null,
   "outputs": []
  },
  {
   "cell_type": "code",
   "metadata": {
    "cell_id": "00011-e606aae9-9cfa-4f31-96d8-c2da047953a0",
    "deepnote_to_be_reexecuted": true,
    "source_hash": "e7a61948",
    "tags": [],
    "deepnote_cell_type": "code"
   },
   "source": "mini_minimemo.play()",
   "execution_count": null,
   "outputs": []
  },
  {
   "cell_type": "code",
   "metadata": {
    "cell_id": "00010-290fe1e5-e95a-4d82-b47c-cc71653ce817",
    "deepnote_to_be_reexecuted": true,
    "source_hash": "eb0d9a66",
    "tags": [],
    "deepnote_cell_type": "code"
   },
   "source": "alpha_alphadeep.play()",
   "execution_count": null,
   "outputs": []
  },
  {
   "cell_type": "code",
   "metadata": {
    "cell_id": "00002-f431f949-65de-4af4-a166-0d3b7c76b49c",
    "deepnote_to_be_reexecuted": true,
    "execution_millis": 1,
    "execution_start": 1639009606021,
    "source_hash": "b859c812",
    "tags": [],
    "deepnote_cell_type": "code"
   },
   "source": "#print(game.move_times)\n#white_d = sum(game.move_times[chess.WHITE]) / len(game.move_times[chess.WHITE])\n#black_d = sum(game.move_times[chess.BLACK]) / len(game.move_times[chess.BLACK])\n\n#print(white_d)\n#print(black_d)",
   "execution_count": null,
   "outputs": []
  },
  {
   "cell_type": "code",
   "metadata": {
    "cell_id": "00005-58d45ec1-0470-4f4a-af4a-60a18806faa5",
    "deepnote_output_heights": [
     null,
     542.75
    ],
    "deepnote_to_be_reexecuted": true,
    "execution_millis": 909269,
    "execution_start": 1639153489111,
    "source_hash": "b1ce44b6",
    "tags": [],
    "deepnote_cell_type": "code"
   },
   "source": "game = Game.Game(make_move_alphabeta)\ngame.play()",
   "execution_count": null,
   "outputs": []
  },
  {
   "cell_type": "code",
   "metadata": {
    "cell_id": "00005-c4e18063-24d6-4f69-b8db-e4a26eeafc33",
    "deepnote_to_be_reexecuted": true,
    "source_hash": "b623e53d",
    "tags": [],
    "deepnote_cell_type": "code"
   },
   "source": "",
   "execution_count": null,
   "outputs": []
  },
  {
   "cell_type": "markdown",
   "source": "<a style='text-decoration:none;line-height:16px;display:flex;color:#5B5B62;padding:10px;justify-content:end;' href='https://deepnote.com?utm_source=created-in-deepnote-cell&projectId=d6ce9acd-52c5-4422-904d-8424da19408b' target=\"_blank\">\n<img alt='Created in deepnote.com' style='display:inline;max-height:16px;margin:0px;margin-right:7.5px;' src='data:image/svg+xml;base64,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' > </img>\nCreated in <span style='font-weight:600;margin-left:4px;'>Deepnote</span></a>",
   "metadata": {
    "tags": [],
    "created_in_deepnote_cell": true,
    "deepnote_cell_type": "markdown"
   }
  }
 ],
 "nbformat": 4,
 "nbformat_minor": 2,
 "metadata": {
  "deepnote": {
   "is_reactive": false
  },
  "deepnote_execution_queue": [],
  "deepnote_notebook_id": "eb801028-5ca1-4431-81c5-f30d8c1c0b0a",
  "kernelspec": {
   "display_name": "Python 3 (ipykernel)",
   "language": "python",
   "name": "python3"
  },
  "language_info": {
   "codemirror_mode": {
    "name": "ipython",
    "version": 3
   },
   "file_extension": ".py",
   "mimetype": "text/x-python",
   "name": "python",
   "nbconvert_exporter": "python",
   "pygments_lexer": "ipython3",
   "version": "3.9.4"
  }
 }
}