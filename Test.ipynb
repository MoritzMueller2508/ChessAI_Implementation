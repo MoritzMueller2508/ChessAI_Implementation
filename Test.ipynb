{
 "cells": [
  {
   "cell_type": "code",
   "execution_count": null,
   "metadata": {
    "cell_id": "00000-392a7603-ffcf-4b29-842e-3b1047a9fec0",
    "deepnote_app_coordinates": {
     "h": 5,
     "w": 12,
     "x": 0,
     "y": null
    },
    "deepnote_cell_height": 117,
    "deepnote_cell_type": "code",
    "deepnote_output_heights": [
     2
    ],
    "deepnote_to_be_reexecuted": false,
    "execution_millis": 499,
    "execution_start": 1651930254787,
    "source_hash": "bd190a5a",
    "tags": []
   },
   "outputs": [],
   "source": [
    "from IPython.core.display import HTML, display\n",
    "display(HTML('<style>.container { width:100%; !important } </style>'))"
   ]
  },
  {
   "cell_type": "markdown",
   "metadata": {
    "cell_id": "41787eaeeef24656bd6e35763c79b9a6",
    "deepnote_app_coordinates": {
     "h": 5,
     "w": 12,
     "x": 0,
     "y": 0
    },
    "deepnote_cell_height": 82,
    "deepnote_cell_type": "markdown",
    "tags": []
   },
   "source": [
    "# Testing Suite"
   ]
  },
  {
   "cell_type": "markdown",
   "metadata": {
    "cell_id": "4fa087aea8b9485e9344dca271508eec",
    "deepnote_app_coordinates": {
     "h": 5,
     "w": 12,
     "x": 0,
     "y": 0
    },
    "deepnote_cell_height": 62,
    "deepnote_cell_type": "markdown",
    "tags": []
   },
   "source": [
    "### Dependencies"
   ]
  },
  {
   "cell_type": "code",
   "execution_count": 1,
   "metadata": {
    "cell_id": "00000-c71024d0-56ff-4b46-b36c-10eb76128607",
    "deepnote_app_coordinates": {
     "h": 5,
     "w": 12,
     "x": 0,
     "y": 6
    },
    "deepnote_cell_height": 1955,
    "deepnote_cell_type": "code",
    "deepnote_output_heights": [
     null,
     2,
     null,
     2,
     null,
     2,
     null,
     2,
     null,
     2
    ],
    "deepnote_to_be_reexecuted": false,
    "execution_millis": 34915,
    "execution_start": 1651933859088,
    "source_hash": "8eec0579",
    "tags": []
   },
   "outputs": [
    {
     "name": "stdout",
     "output_type": "stream",
     "text": [
      "importing Jupyter notebook from Game.ipynb\n"
     ]
    },
    {
     "data": {
      "text/html": [
       "<style>.container { width:100%; !important } </style>"
      ],
      "text/plain": [
       "<IPython.core.display.HTML object>"
      ]
     },
     "metadata": {},
     "output_type": "display_data"
    },
    {
     "name": "stdout",
     "output_type": "stream",
     "text": [
      "importing Jupyter notebook from Globals.ipynb\n"
     ]
    },
    {
     "data": {
      "text/html": [
       "<style>.container { width:100%; !important } </style>"
      ],
      "text/plain": [
       "<IPython.core.display.HTML object>"
      ]
     },
     "metadata": {},
     "output_type": "display_data"
    },
    {
     "name": "stdout",
     "output_type": "stream",
     "text": [
      "importing Jupyter notebook from MinimaxAlgorithm.ipynb\n"
     ]
    },
    {
     "data": {
      "text/html": [
       "<style>.container { width:100%; !important } </style>"
      ],
      "text/plain": [
       "<IPython.core.display.HTML object>"
      ]
     },
     "metadata": {},
     "output_type": "display_data"
    },
    {
     "name": "stdout",
     "output_type": "stream",
     "text": [
      "importing Jupyter notebook from Util.ipynb\n"
     ]
    },
    {
     "data": {
      "text/html": [
       "<style>.container { width:100%; !important } </style>"
      ],
      "text/plain": [
       "<IPython.core.display.HTML object>"
      ]
     },
     "metadata": {},
     "output_type": "display_data"
    },
    {
     "name": "stdout",
     "output_type": "stream",
     "text": [
      "importing Jupyter notebook from AlphaBetaAlgorithm.ipynb\n"
     ]
    },
    {
     "data": {
      "text/html": [
       "<style>.container { width:100%; !important } </style>"
      ],
      "text/plain": [
       "<IPython.core.display.HTML object>"
      ]
     },
     "metadata": {},
     "output_type": "display_data"
    }
   ],
   "source": [
    "import chess\n",
    "import json\n",
    "import pprint\n",
    "import numpy as np\n",
    "from typing import Callable\n",
    "\n",
    "import import_ipynb\n",
    "import Game\n",
    "from Globals import Globals\n",
    "from MinimaxAlgorithm import make_move_minimax, make_move_minimax_memoization\n",
    "from AlphaBetaAlgorithm import make_move_alphabeta, \\\n",
    "        make_move_alphabeta_progressive_deepening"
   ]
  },
  {
   "cell_type": "markdown",
   "metadata": {
    "cell_id": "00004-2726a6f2-9189-4fb5-95b5-c20b321e8c1f",
    "deepnote_app_coordinates": {
     "h": 5,
     "w": 12,
     "x": 0,
     "y": 12
    },
    "deepnote_cell_height": 74.796875,
    "deepnote_cell_type": "markdown"
   },
   "source": [
    "In general, a game of chess can be initialized through an instance of the Game class. To be precise, the creation of the Game object can be configured with the following parameters:"
   ]
  },
  {
   "cell_type": "markdown",
   "metadata": {
    "cell_id": "00005-81de628f-36f0-4a74-b6ec-20840e14af18",
    "deepnote_app_coordinates": {
     "h": 5,
     "w": 12,
     "x": 0,
     "y": 18
    },
    "deepnote_cell_height": 391.1875,
    "deepnote_cell_type": "markdown"
   },
   "source": [
    "``make_move_algorithm_white (Callable, default: None):`` \n",
    "The function that the AI controlling the white pieces should use to make a new move, or None if the white pieces are player-controlled.\n",
    "\n",
    "``make_move_algorithm_black (Callable, default: None):``  \n",
    "The function that the AI controlling the black pieces should use to make a new move, or None if the black pieces are player-controlled.\n",
    "\n",
    "``search_depth_white (int, default: 3):``  \n",
    "The search depth for the white AI's search algorithm.\n",
    "\n",
    "``search_depth_black (int, default: 3):``  \n",
    "The search depth for the black AI's search algorithm.\n",
    "\n",
    "``opening_book (str, default: 'Resources/baron30.bin'):``  \n",
    "The path to the desired opening book the AIs will use, or None if no opening book is desired.\n",
    "\n",
    "``endgame_tablebase_dir (str, default: 'Resources/Gaviota'):``  \n",
    "The path to the directory of the desired endgame tablebase the AIs will use, or None if no endgame tablebase is desired."
   ]
  },
  {
   "cell_type": "markdown",
   "metadata": {
    "cell_id": "00006-1170fc30-154c-48e2-b2b2-502e30ce6d0e",
    "deepnote_app_coordinates": {
     "h": 5,
     "w": 12,
     "x": 0,
     "y": 24
    },
    "deepnote_cell_height": 271.59375,
    "deepnote_cell_type": "markdown"
   },
   "source": [
    "The possible algorithms are:  \n",
    "\n",
    "1. make_random_move\n",
    "2. make_move_minimax\n",
    "3. make_move_minimax_memoization\n",
    "4. make_move_alphabeta\n",
    "5. make_move_alphabeta_progressive_deepening  \n",
    "\n",
    "Furthermore, it is recommended not to set the opening_book and endgame_tablebase_dir arguments to None in order to boost efficiency and reduce the time needed by the AI to make a move, unless the test case requires that the algorithms are tested without these aids."
   ]
  },
  {
   "cell_type": "markdown",
   "metadata": {
    "cell_id": "835fdaa5-9cea-4009-97d1-eabbb29c2f9f",
    "deepnote_app_coordinates": {
     "h": 5,
     "w": 12,
     "x": 0,
     "y": 30
    },
    "deepnote_cell_height": 119.59375,
    "deepnote_cell_type": "markdown",
    "tags": []
   },
   "source": [
    "This test shows a basic game which can be played. The AIs are represented by the minimax search algorithm and the alpha-beta pruning algorithm.  \n",
    "In the following case, a chess problem is given in the function call. This test is written simply to test the basic functionality of the search algorithms as well as the initialization of a chess problem."
   ]
  },
  {
   "cell_type": "code",
   "execution_count": null,
   "metadata": {
    "cell_id": "d83dc44c-c625-4531-8f1f-d9d8a71af558",
    "deepnote_app_coordinates": {
     "h": 5,
     "w": 12,
     "x": 0,
     "y": 36
    },
    "deepnote_cell_height": 742.796875,
    "deepnote_cell_type": "code",
    "deepnote_output_heights": [
     null,
     502
    ],
    "deepnote_to_be_reexecuted": false,
    "execution_millis": 8602,
    "execution_start": 1649859308732,
    "source_hash": "3a73903d",
    "tags": []
   },
   "outputs": [],
   "source": [
    "chess_problem_test_game = Game.Game(make_move_minimax,\n",
    "        make_move_alphabeta, endgame_tablebase_dir=None)\n",
    "chess_problem_test_game.play(chess_problem='EK')"
   ]
  },
  {
   "cell_type": "markdown",
   "metadata": {
    "cell_id": "5c0bb588-3304-4bd6-abc8-ad4c034afaef",
    "deepnote_app_coordinates": {
     "h": 5,
     "w": 12,
     "x": 0,
     "y": 42
    },
    "deepnote_cell_height": 97.1875,
    "deepnote_cell_type": "markdown",
    "tags": []
   },
   "source": [
    "In the following, a normal chess game is initialized and played using the minimax search and alpha-beta pruning algorithms. This is a more complex tests as a whole game of chess is played rather than only a partial game, as was the case in the chess problem test above."
   ]
  },
  {
   "cell_type": "code",
   "execution_count": null,
   "metadata": {
    "cell_id": "65f38327-cad5-45db-993e-c6dc4ba386bc",
    "deepnote_app_coordinates": {
     "h": 5,
     "w": 12,
     "x": 0,
     "y": 48
    },
    "deepnote_cell_height": 796.796875,
    "deepnote_cell_type": "code",
    "deepnote_output_heights": [
     null,
     502
    ],
    "deepnote_to_be_reexecuted": false,
    "execution_millis": 317005,
    "execution_start": 1651079485614,
    "output_cleared": false,
    "source_hash": "dfee3483",
    "tags": []
   },
   "outputs": [],
   "source": [
    "normal_game = Game.Game(\n",
    "    make_move_algorithm_white=make_move_minimax, \n",
    "    make_move_algorithm_black=make_move_alphabeta\n",
    ")\n",
    "\n",
    "normal_game.play()"
   ]
  },
  {
   "cell_type": "code",
   "execution_count": null,
   "metadata": {
    "cell_id": "93e4d84142d24661b5ef50165cc10c36",
    "deepnote_app_coordinates": {
     "h": 5,
     "w": 12,
     "x": 0,
     "y": 0
    },
    "deepnote_cell_height": 825,
    "deepnote_cell_type": "code",
    "deepnote_output_heights": [
     null,
     502
    ],
    "deepnote_to_be_reexecuted": false,
    "execution_millis": 6977735,
    "execution_start": 1651081528841,
    "source_hash": "d3183608",
    "tags": []
   },
   "outputs": [],
   "source": [
    "test_game = Game.Game(\n",
    "    make_move_algorithm_white=make_move_alphabeta,\n",
    "    search_depth_white=5,\n",
    "    make_move_algorithm_black=make_move_alphabeta_progressive_deepening,\n",
    "    search_depth_black=5\n",
    ")\n",
    "\n",
    "test_game.play()"
   ]
  },
  {
   "cell_type": "code",
   "execution_count": null,
   "metadata": {
    "cell_id": "caae6f0336b9474fa4008e0040fdf830",
    "deepnote_app_coordinates": {
     "h": 5,
     "w": 12,
     "x": 0,
     "y": 0
    },
    "deepnote_cell_height": 258,
    "deepnote_cell_type": "code",
    "deepnote_to_be_reexecuted": false,
    "execution_millis": 147,
    "execution_start": 1651088581602,
    "source_hash": "9f6a9ecd",
    "tags": []
   },
   "outputs": [],
   "source": [
    "white_times_mean = np.mean(test_game.move_times[chess.WHITE])\n",
    "white_times_std = np.std(test_game.move_times[chess.WHITE])\n",
    "black_times_mean = np.mean(test_game.move_times[chess.BLACK])\n",
    "black_times_std = np.std(test_game.move_times[chess.BLACK])\n",
    "print(f'AlphaBeta (white) move times. Mean: {white_times_mean}, ' \\\n",
    "        + f'std. dev: {white_times_std}')\n",
    "print(f'AlphaBeta Prog.Deep. (black) move times. Mean: {black_times_mean}, ' \\\n",
    "        + f'std. dev: {black_times_std}')"
   ]
  },
  {
   "cell_type": "markdown",
   "metadata": {
    "cell_id": "2cae479e-e5c1-45ed-98e4-2e2a89890696",
    "deepnote_app_coordinates": {
     "h": 5,
     "w": 12,
     "x": 0,
     "y": 54
    },
    "deepnote_cell_height": 46,
    "deepnote_cell_type": "markdown",
    "tags": []
   },
   "source": [
    "___"
   ]
  },
  {
   "cell_type": "markdown",
   "metadata": {
    "cell_id": "a02bba65-de45-4d97-ba70-2140720eb470",
    "deepnote_app_coordinates": {
     "h": 5,
     "w": 12,
     "x": 0,
     "y": 60
    },
    "deepnote_cell_height": 399.796875,
    "deepnote_cell_type": "markdown",
    "tags": []
   },
   "source": [
    "#### perform_chess_problem_tests\n",
    "Runs the alpha-beta pruning algorithm against all available chess problems in order to test the functionality and effeciveness of this algorithm.\n",
    "\n",
    "###### __<u>Arguments</u>__\n",
    "``use_endgame_library (bool):``  \n",
    "Whether or not the endgame library can be used in the tests.  \n",
    "\n",
    "``search_depth_auto (bool):``  \n",
    "Whether or not the maximum search depth of the alpha-beta pruning algorithm should be set to the minimum amount of moves the chess problem takes to solve. In theory, setting this to True should always yield an optimal solution.\n",
    "\n",
    "###### __<u>Side effects</u>__\n",
    "- The current visual output is overwritten.\n",
    "- All defined tests are run.\n",
    "- Test playthrough information is tracked and printed."
   ]
  },
  {
   "cell_type": "code",
   "execution_count": null,
   "metadata": {
    "cell_id": "9e599e92-9484-4c91-b48a-d49967f51a17",
    "deepnote_app_coordinates": {
     "h": 5,
     "w": 12,
     "x": 0,
     "y": 66
    },
    "deepnote_cell_height": 369,
    "deepnote_cell_type": "code",
    "deepnote_to_be_reexecuted": false,
    "execution_millis": 17,
    "execution_start": 1651075180834,
    "source_hash": "ece899e2",
    "tags": []
   },
   "outputs": [],
   "source": [
    "def perform_chess_problem_tests(\n",
    "    use_endgame_library: bool,\n",
    "    search_depth_auto: bool\n",
    ") -> None:\n",
    "\n",
    "    if use_endgame_library:\n",
    "        test_game = Game.Game(make_move_alphabeta, make_move_alphabeta)\n",
    "    else:\n",
    "        test_game = Game.Game(make_move_alphabeta, make_move_alphabeta, \n",
    "                endgame_tablebase_dir=None)\n",
    "\n",
    "    for c in Globals.CHESS_PROBLEMS:\n",
    "        test_game.play(chess_problem=c, search_depth_auto=search_depth_auto,\n",
    "                automation=True)\n",
    "\n",
    "    pprint.pprint(test_game.problem_playthroughs)\n",
    "    print(f'\\n{test_game.wins}')"
   ]
  },
  {
   "cell_type": "markdown",
   "metadata": {
    "cell_id": "00009-fd18796f-65ee-41d2-a96e-79ea05f268dd",
    "deepnote_app_coordinates": {
     "h": 5,
     "w": 12,
     "x": 0,
     "y": 72
    },
    "deepnote_cell_height": 74.796875,
    "deepnote_cell_type": "markdown"
   },
   "source": [
    "First, we test the search algorithm without an endgame tablebase. The search depth is the default value (3), therefore more complex chess problems are unlikely to be solved in the fewest possible moves.\n"
   ]
  },
  {
   "cell_type": "code",
   "execution_count": null,
   "metadata": {
    "cell_id": "00010-ed55fc69-acbf-4e8c-8b36-5ff4d7027e3c",
    "deepnote_app_coordinates": {
     "h": 5,
     "w": 12,
     "x": 0,
     "y": 78
    },
    "deepnote_cell_height": 81,
    "deepnote_cell_type": "code",
    "deepnote_to_be_reexecuted": true,
    "execution_millis": 1,
    "execution_start": 1643999704292,
    "source_hash": "a70c09f2"
   },
   "outputs": [],
   "source": [
    "perform_chess_problem_tests(use_endgame_library=False, search_depth_auto=False)"
   ]
  },
  {
   "cell_type": "markdown",
   "metadata": {
    "cell_id": "8efd7577-731a-4955-b504-6906d3742277",
    "deepnote_app_coordinates": {
     "h": 5,
     "w": 12,
     "x": 0,
     "y": 84
    },
    "deepnote_cell_height": 97.1875,
    "deepnote_cell_type": "markdown",
    "tags": []
   },
   "source": [
    "Next, we test the search algorithm without an endgame tablebase, but with a search depth that's theoretically enough to solve the chess problem perfectly. This is simply the amount of moves that the chess problem takes to solve at minimum, because looking that many moves into the future should tell the algorithm how to reach a checkmate scenario.\n"
   ]
  },
  {
   "cell_type": "code",
   "execution_count": null,
   "metadata": {
    "cell_id": "54e76c3e-9ef6-47c5-84e3-dee6a5da894c",
    "deepnote_app_coordinates": {
     "h": 5,
     "w": 12,
     "x": 0,
     "y": 90
    },
    "deepnote_cell_height": 806.796875,
    "deepnote_cell_type": "code",
    "deepnote_output_heights": [
     null,
     502
    ],
    "deepnote_to_be_reexecuted": false,
    "execution_millis": 93307,
    "execution_start": 1651075180855,
    "output_cleared": false,
    "source_hash": "3cf4afe5",
    "tags": []
   },
   "outputs": [],
   "source": [
    "perform_chess_problem_tests(use_endgame_library=False, search_depth_auto=True)"
   ]
  },
  {
   "cell_type": "markdown",
   "metadata": {
    "cell_id": "aef82bc1-7c62-458e-907e-50dcebb26049",
    "deepnote_app_coordinates": {
     "h": 5,
     "w": 12,
     "x": 0,
     "y": 96
    },
    "deepnote_cell_height": 97.1875,
    "deepnote_cell_type": "markdown",
    "tags": []
   },
   "source": [
    "Lastly, we test the search algorithm with an endgame tablebase, in order to test if this tablebase is incorporated into the search function correctly. The search depth is set to the minimum move count to solve the problem, in order to see if the endgame tablebase is triggered at any point during an \"intended\" solution."
   ]
  },
  {
   "cell_type": "code",
   "execution_count": null,
   "metadata": {
    "cell_id": "49a76492-dbe0-44e6-b6f3-d33ece2a7f07",
    "deepnote_app_coordinates": {
     "h": 5,
     "w": 12,
     "x": 0,
     "y": 102
    },
    "deepnote_cell_height": 81,
    "deepnote_cell_type": "code",
    "deepnote_to_be_reexecuted": true,
    "execution_millis": 4084,
    "execution_start": 1643999704295,
    "output_cleared": true,
    "source_hash": "e682c694",
    "tags": []
   },
   "outputs": [],
   "source": [
    "perform_chess_problem_tests(use_endgame_library=True, search_depth_auto=True)"
   ]
  },
  {
   "cell_type": "markdown",
   "metadata": {
    "cell_id": "30633a51-2e3d-4629-a828-79261db16364",
    "deepnote_app_coordinates": {
     "h": 5,
     "w": 12,
     "x": 0,
     "y": 114
    },
    "deepnote_cell_height": 682.796875,
    "deepnote_cell_type": "markdown",
    "tags": []
   },
   "source": [
    "#### perform_full_game_test\n",
    "This is a full game test. Therefore a full game of chess is played by two AIs instead of a single chess problem. The game is defined through the arguments below.\n",
    "\n",
    "###### __<u>Arguments</u>__\n",
    "``make_move_white (Callable):``  \n",
    "The function that the AI controlling the white pieces should use to make a new move.  \n",
    "\n",
    "``algo_name_white (str):``  \n",
    "The name of the algorithm that the white AI uses.  \n",
    "\n",
    "``make_move_black (Callable):``  \n",
    "The function that the AI controlling the black pieces should use to make a new move.  \n",
    "\n",
    "``algo_name_black (str):``  \n",
    "The name of the algorithm that the black AI uses.  \n",
    "\n",
    "``use_opening_book (bool):``  \n",
    "Whether or not an opening book should be used in the test.  \n",
    "\n",
    "``use_endgame_tablebase (bool):``  \n",
    "Whether or not an endgame tablebase should be used in the test.  \n",
    "\n",
    "###### __<u>Side effects</u>__\n",
    "- The current visual output is overwritten.\n",
    "- The defined game of chess is played.\n",
    "- Test information is tracked and printed.\n",
    "- Information about the move times is calculated and displayed.\n",
    "\n",
    "###### __<u>Returns _(Game.Game)_</u>__\n",
    "The Game object of the game of chess that has been played."
   ]
  },
  {
   "cell_type": "code",
   "execution_count": null,
   "metadata": {
    "cell_id": "9867646d-afc0-4085-ae2b-fe2ab683cd42",
    "deepnote_app_coordinates": {
     "h": 5,
     "w": 12,
     "x": 0,
     "y": 120
    },
    "deepnote_cell_height": 495,
    "deepnote_cell_type": "code",
    "deepnote_to_be_reexecuted": true,
    "execution_millis": 0,
    "execution_start": 1644078118432,
    "source_hash": "e3b2ed7",
    "tags": []
   },
   "outputs": [],
   "source": [
    "def perform_full_game_test(\n",
    "    make_move_white: Callable,\n",
    "    algo_name_white: str,\n",
    "    make_move_black: Callable,\n",
    "    algo_name_black: str,\n",
    "    use_opening_book: bool,\n",
    "    use_endgame_tablebase: bool\n",
    ") -> Game.Game:\n",
    "\n",
    "    params = {}\n",
    "    if not use_opening_book: params['opening_book'] = None\n",
    "    if not use_endgame_tablebase: params['endgame_tablebase_dir'] = None\n",
    "    game = Game.Game(make_move_white, make_move_black, **params)\n",
    "\n",
    "    game.play()\n",
    "\n",
    "    white_times_mean = np.mean(game.move_times[chess.WHITE])\n",
    "    white_times_std = np.std(game.move_times[chess.WHITE])\n",
    "    black_times_mean = np.mean(game.move_times[chess.BLACK])\n",
    "    black_times_std = np.std(game.move_times[chess.BLACK])\n",
    "    print(f'{algo_name_white} (white) move times. Mean: {white_times_mean}, ' \\\n",
    "            + f'std. dev: {white_times_std}')\n",
    "    print(f'{algo_name_black} (black) move times. Mean: {black_times_mean}, ' \\\n",
    "            + f'std. dev: {black_times_std}')"
   ]
  },
  {
   "cell_type": "markdown",
   "metadata": {
    "cell_id": "00018-b1c9f53d-186d-4848-96e2-d9b6ffdca75e",
    "deepnote_app_coordinates": {
     "h": 5,
     "w": 12,
     "x": 0,
     "y": 126
    },
    "deepnote_cell_height": 365.1875,
    "deepnote_cell_type": "markdown"
   },
   "source": [
    "---\n",
    "In the following, every AI plays against every AI (but not against itself). Each combination is tested with only an opening book, only an endgame tablebase and neither. This is done to retrieve various pieces of useful information:\n",
    "- If the algorithms function as intended. If a test ends in an unpredicted manner, it may be a sign that at least one of the involved algorithms is defective.\n",
    "- Which algorithm can make the most effective moves. In theory, every search algorithm should be equally effective, whereas the random algorithm is inferior.\n",
    "- Which algorithm can find moves the quickest. This is only applicable to search algorithms. In theory, alpha-beta pruning should be faster than minimax search. \n",
    "- How effective memoization is in a minimax search (and by extension in other searches).\n",
    "- How much progressive deepening speeds up alpha-beta pruning.\n",
    "- How effective opening books are at speeding up search algorithms.\n",
    "- How effective endgame tablebases are at speeding up search algorithms.\n",
    "\n",
    "First, the different tests are defined.  After that, each cell contains one test, so the output for each test is not overwritten by the output of the following test."
   ]
  },
  {
   "cell_type": "markdown",
   "metadata": {
    "cell_id": "f4508e00-002f-40a1-a878-9e118848f258",
    "deepnote_app_coordinates": {
     "h": 5,
     "w": 12,
     "x": 0,
     "y": 180
    },
    "deepnote_cell_height": 46,
    "deepnote_cell_type": "markdown",
    "tags": []
   },
   "source": [
    "___"
   ]
  },
  {
   "cell_type": "code",
   "execution_count": null,
   "metadata": {
    "cell_id": "b8118a9f-e88a-4fe6-bff2-183c3063d2a5",
    "deepnote_app_coordinates": {
     "h": 5,
     "w": 12,
     "x": 0,
     "y": 186
    },
    "deepnote_cell_height": 207,
    "deepnote_cell_type": "code",
    "deepnote_to_be_reexecuted": true,
    "source_hash": "8ef40daa",
    "tags": []
   },
   "outputs": [],
   "source": [
    "game_minimax_minimemo = perform_full_game_test(\n",
    "    make_move_white=make_move_minimax,\n",
    "    algo_name_white='Minimax',\n",
    "    make_move_black=make_move_minimax_memoization,\n",
    "    algo_name_black='Minimax with memoization',\n",
    "    use_opening_book=False,\n",
    "    use_endgame_tablebase=False\n",
    ")"
   ]
  },
  {
   "cell_type": "code",
   "execution_count": null,
   "metadata": {
    "cell_id": "ecec4a86-d8e6-4d15-a5bf-cd2406214d9e",
    "deepnote_app_coordinates": {
     "h": 5,
     "w": 12,
     "x": 0,
     "y": 192
    },
    "deepnote_cell_height": 207,
    "deepnote_cell_type": "code",
    "deepnote_to_be_reexecuted": true,
    "source_hash": "371d6c08",
    "tags": []
   },
   "outputs": [],
   "source": [
    "game_minimax_minimemo_opening = perform_full_game_test(\n",
    "    make_move_white=make_move_minimax,\n",
    "    algo_name_white='Minimax',\n",
    "    make_move_black=make_move_minimax_memoization,\n",
    "    algo_name_black='Minimax with memoization',\n",
    "    use_opening_book=True,\n",
    "    use_endgame_tablebase=False\n",
    ")"
   ]
  },
  {
   "cell_type": "code",
   "execution_count": null,
   "metadata": {
    "cell_id": "6fefe739-b19a-414e-8741-1c52d27f30ee",
    "deepnote_app_coordinates": {
     "h": 5,
     "w": 12,
     "x": 0,
     "y": 198
    },
    "deepnote_cell_height": 207,
    "deepnote_cell_type": "code",
    "deepnote_to_be_reexecuted": true,
    "source_hash": "690c5f25",
    "tags": []
   },
   "outputs": [],
   "source": [
    "game_minimax_minimemo_endgame = perform_full_game_test(\n",
    "    make_move_white=make_move_minimax,\n",
    "    algo_name_white='Minimax',\n",
    "    make_move_black=make_move_minimax_memoization,\n",
    "    algo_name_black='Minimax with memoization',\n",
    "    use_opening_book=False,\n",
    "    use_endgame_tablebase=True\n",
    ")"
   ]
  },
  {
   "cell_type": "markdown",
   "metadata": {
    "cell_id": "f178479e-d4cf-4728-a9eb-a88649353750",
    "deepnote_app_coordinates": {
     "h": 5,
     "w": 12,
     "x": 0,
     "y": 228
    },
    "deepnote_cell_height": 46,
    "deepnote_cell_type": "markdown",
    "tags": []
   },
   "source": [
    "___"
   ]
  },
  {
   "cell_type": "code",
   "execution_count": null,
   "metadata": {
    "cell_id": "c52e2d77-5fc7-4003-9f6b-c8a328b0dcdd",
    "deepnote_app_coordinates": {
     "h": 5,
     "w": 12,
     "x": 0,
     "y": 234
    },
    "deepnote_cell_height": 207,
    "deepnote_cell_type": "code",
    "deepnote_to_be_reexecuted": true,
    "source_hash": "1cc837",
    "tags": []
   },
   "outputs": [],
   "source": [
    "game_minimax_alphabeta = perform_full_game_test(\n",
    "    make_move_white=make_move_minimax,\n",
    "    algo_name_white='Minimax',\n",
    "    make_move_black=make_move_alphabeta,\n",
    "    algo_name_black='Alpha-beta',\n",
    "    use_opening_book=False,\n",
    "    use_endgame_tablebase=False\n",
    ")"
   ]
  },
  {
   "cell_type": "code",
   "execution_count": null,
   "metadata": {
    "cell_id": "efefa26a-9a9e-4b0a-92d9-410d9129235c",
    "deepnote_app_coordinates": {
     "h": 5,
     "w": 12,
     "x": 0,
     "y": 240
    },
    "deepnote_cell_height": 207,
    "deepnote_cell_type": "code",
    "deepnote_to_be_reexecuted": true,
    "source_hash": "3691b39b",
    "tags": []
   },
   "outputs": [],
   "source": [
    "game_minimax_alphabeta_opening = perform_full_game_test(\n",
    "    make_move_white=make_move_minimax,\n",
    "    algo_name_white='Minimax',\n",
    "    make_move_black=make_move_alphabeta,\n",
    "    algo_name_black='Alpha-beta',\n",
    "    use_opening_book=True,\n",
    "    use_endgame_tablebase=False\n",
    ")"
   ]
  },
  {
   "cell_type": "code",
   "execution_count": null,
   "metadata": {
    "cell_id": "fe6bfda7-8b6a-4f4a-8469-b8ec7dfc889f",
    "deepnote_app_coordinates": {
     "h": 5,
     "w": 12,
     "x": 0,
     "y": 246
    },
    "deepnote_cell_height": 207,
    "deepnote_cell_type": "code",
    "deepnote_to_be_reexecuted": true,
    "source_hash": "2f5d2f4a",
    "tags": []
   },
   "outputs": [],
   "source": [
    "game_minimax_alphabeta_endgame = perform_full_game_test(\n",
    "    make_move_white=make_move_minimax,\n",
    "    algo_name_white='Minimax',\n",
    "    make_move_black=make_move_alphabeta,\n",
    "    algo_name_black='Alpha-beta',\n",
    "    use_opening_book=False,\n",
    "    use_endgame_tablebase=True\n",
    ")"
   ]
  },
  {
   "cell_type": "markdown",
   "metadata": {
    "cell_id": "ddefe1e9-f99a-4e68-b5eb-5dc23dff56f9",
    "deepnote_app_coordinates": {
     "h": 5,
     "w": 12,
     "x": 0,
     "y": 252
    },
    "deepnote_cell_height": 46,
    "deepnote_cell_type": "markdown",
    "tags": []
   },
   "source": [
    "___"
   ]
  },
  {
   "cell_type": "code",
   "execution_count": null,
   "metadata": {
    "cell_id": "37c22248-4a34-4f99-851b-9c945a206216",
    "deepnote_app_coordinates": {
     "h": 5,
     "w": 12,
     "x": 0,
     "y": 258
    },
    "deepnote_cell_height": 207,
    "deepnote_cell_type": "code",
    "deepnote_to_be_reexecuted": true,
    "source_hash": "faf2d3f6",
    "tags": []
   },
   "outputs": [],
   "source": [
    "game_minimemo_alphabeta = perform_full_game_test(\n",
    "    make_move_white=make_move_minimax_memoization,\n",
    "    algo_name_white='Minimax with memoization',\n",
    "    make_move_black=make_move_alphabeta,\n",
    "    algo_name_black='Alpha-beta',\n",
    "    use_opening_book=False,\n",
    "    use_endgame_tablebase=False\n",
    ")"
   ]
  },
  {
   "cell_type": "code",
   "execution_count": null,
   "metadata": {
    "cell_id": "6ae99fc0-b2e1-4e2b-823c-7db8d6a5aa4a",
    "deepnote_app_coordinates": {
     "h": 5,
     "w": 12,
     "x": 0,
     "y": 264
    },
    "deepnote_cell_height": 207,
    "deepnote_cell_type": "code",
    "deepnote_to_be_reexecuted": true,
    "source_hash": "f0987a1c",
    "tags": []
   },
   "outputs": [],
   "source": [
    "game_minimemo_alphabeta_opening = perform_full_game_test(\n",
    "    make_move_white=make_move_minimax_memoization,\n",
    "    algo_name_white='Minimax with memoization',\n",
    "    make_move_black=make_move_alphabeta,\n",
    "    algo_name_black='Alpha-beta',\n",
    "    use_opening_book=True,\n",
    "    use_endgame_tablebase=False\n",
    ")"
   ]
  },
  {
   "cell_type": "code",
   "execution_count": null,
   "metadata": {
    "cell_id": "399b2784-2074-4170-b780-861d24e10f09",
    "deepnote_app_coordinates": {
     "h": 5,
     "w": 12,
     "x": 0,
     "y": 270
    },
    "deepnote_cell_height": 207,
    "deepnote_cell_type": "code",
    "deepnote_to_be_reexecuted": true,
    "source_hash": "ffe5797c",
    "tags": []
   },
   "outputs": [],
   "source": [
    "game_minimemo_alphabeta_endgame = perform_full_game_test(\n",
    "    make_move_white=make_move_minimax_memoization,\n",
    "    algo_name_white='Minimax with memoization',\n",
    "    make_move_black=make_move_alphabeta,\n",
    "    algo_name_black='Alpha-beta',\n",
    "    use_opening_book=False,\n",
    "    use_endgame_tablebase=True\n",
    ")"
   ]
  },
  {
   "cell_type": "markdown",
   "metadata": {},
   "source": [
    "___"
   ]
  },
  {
   "cell_type": "code",
   "execution_count": null,
   "metadata": {},
   "outputs": [],
   "source": [
    "game_alphabeta_pd = perform_full_game_test(\n",
    "    make_move_white=make_move_alphabeta,\n",
    "    algo_name_white='Alpha-beta',\n",
    "    make_move_black=make_move_alphabeta_progressive_deepening,\n",
    "    algo_name_black='Alpha-beta progressive deepening',\n",
    "    use_opening_book=False,\n",
    "    use_endgame_tablebase=False\n",
    ")"
   ]
  },
  {
   "cell_type": "code",
   "execution_count": null,
   "metadata": {},
   "outputs": [],
   "source": [
    "game_alphabeta_pd_opening = perform_full_game_test(\n",
    "    make_move_white=make_move_alphabeta,\n",
    "    algo_name_white='Alpha-beta',\n",
    "    make_move_black=make_move_alphabeta_progressive_deepening,\n",
    "    algo_name_black='Alpha-beta progressive deepening',\n",
    "    use_opening_book=True,\n",
    "    use_endgame_tablebase=False\n",
    ")"
   ]
  },
  {
   "cell_type": "code",
   "execution_count": null,
   "metadata": {},
   "outputs": [],
   "source": [
    "game_alphabeta_pd_endgame = perform_full_game_test(\n",
    "    make_move_white=make_move_alphabeta,\n",
    "    algo_name_white='Alpha-beta',\n",
    "    make_move_black=make_move_alphabeta_progressive_deepening,\n",
    "    algo_name_black='Alpha-beta progressive deepening',\n",
    "    use_opening_book=False,\n",
    "    use_endgame_tablebase=True\n",
    ")"
   ]
  },
  {
   "cell_type": "markdown",
   "metadata": {},
   "source": [
    "___"
   ]
  },
  {
   "cell_type": "markdown",
   "metadata": {
    "cell_id": "7173465e678444cc85f662b8801d9fd5",
    "deepnote_app_coordinates": {
     "h": 5,
     "w": 12,
     "x": 0,
     "y": 0
    },
    "deepnote_cell_height": 250.796875,
    "deepnote_cell_type": "markdown",
    "tags": []
   },
   "source": [
    "#### perform_fen_test\n",
    "Makes a move for both the alpha-beta pruning algorithm and the minimax search algorithm on a board with a given FEN code, then returns the results.\n",
    "\n",
    "###### __<u>Arguments</u>__\n",
    "``fencode (str):``  \n",
    "The FEN code of the desired board.\n",
    "\n",
    "###### __<u>Returns _(dict<str, tuple>)_</u>__\n",
    "For the keys 'alphabeta' and 'minimax', a tuple containing the move and the corresponding score."
   ]
  },
  {
   "cell_type": "code",
   "execution_count": null,
   "metadata": {
    "cell_id": "00052-c932c24a-6ddd-4da7-b9c1-c99d46b2f690",
    "deepnote_cell_height": 405,
    "deepnote_cell_type": "code",
    "deepnote_to_be_reexecuted": false,
    "execution_millis": 2,
    "execution_start": 1651935363542,
    "owner_user_id": "bf601137-8aff-4afc-8e92-5767ca086e79",
    "source_hash": "6ad8ab3e"
   },
   "outputs": [],
   "source": [
    "def perform_fen_test(fencode: str):\n",
    "    fen_test_game = Game.Game(make_move_algorithm_white=make_move_alphabeta,\n",
    "            make_move_algorithm_black=make_move_alphabeta,\n",
    "            opening_book=None, endgame_tablebase_dir=None)\n",
    "    fen_test_game.board = chess.Board(fen=fencode)\n",
    "    fen_test_game.board.ending = False\n",
    "    score_alpha, move_alpha, _ = fen_test_game.make_move[chess.WHITE](\n",
    "            fen_test_game.board, chess.WHITE, 3, None, True)\n",
    "    fen_test_game.display()\n",
    "    fen_test_game = Game.Game(make_move_algorithm_white=make_move_minimax,\n",
    "            make_move_algorithm_black=make_move_alphabeta,\n",
    "            opening_book=None, endgame_tablebase_dir=None)\n",
    "    fen_test_game.board = chess.Board(fen=fencode)\n",
    "    fen_test_game.board.ending = False\n",
    "    score_minimax, move_minimax, _ = fen_test_game.make_move[chess.WHITE](\n",
    "            fen_test_game.board, chess.WHITE, 3, None, True)\n",
    "    fen_test_game.display()\n",
    "\n",
    "    return { 'alphabeta': (move_alpha, score_alpha), 'minimax': (move_minimax, score_minimax) }"
   ]
  },
  {
   "cell_type": "markdown",
   "metadata": {
    "cell_id": "00053-ce9fe99a-3616-4b39-a973-63c5dca98563",
    "deepnote_cell_height": 74.796875,
    "deepnote_cell_type": "markdown"
   },
   "source": [
    "In the following test, we check if the two basic algorithms (minimax and alpha-beta) make the same move for a given board. Since alpha-beta pruning is simply an optimized version of minimax search, this should be the case."
   ]
  },
  {
   "cell_type": "code",
   "execution_count": null,
   "metadata": {
    "cell_id": "00054-becaf972-809e-4d9d-b227-1d7cfa1685bd",
    "deepnote_cell_height": 689,
    "deepnote_cell_type": "code",
    "deepnote_output_heights": [
     502
    ],
    "deepnote_to_be_reexecuted": false,
    "execution_millis": 24,
    "execution_start": 1651935363548,
    "source_hash": "24aa5cfa"
   },
   "outputs": [],
   "source": [
    "fen = 'r7/4Kn2/5Q2/PR6/2nbkB2/2P3P1/2p1p1Np/8 w - - 0 1'\n",
    "display_game = Game.Game(make_move_algorithm_white=make_move_alphabeta,\n",
    "        make_move_algorithm_black=make_move_minimax, opening_book=None,\n",
    "        endgame_tablebase_dir=None)\n",
    "display_game.board = chess.Board(fen=fen)\n",
    "display_game.display()"
   ]
  },
  {
   "cell_type": "code",
   "execution_count": null,
   "metadata": {
    "cell_id": "00055-467bf027-8666-4dee-9917-418e85ec06e7",
    "deepnote_cell_height": 688.375,
    "deepnote_cell_type": "code",
    "deepnote_output_heights": [
     502,
     40.390625
    ],
    "deepnote_to_be_reexecuted": false,
    "execution_millis": 11414,
    "execution_start": 1651935364089,
    "source_hash": "7cd7c9de"
   },
   "outputs": [],
   "source": [
    "moves = perform_fen_test(fen)\n",
    "moves"
   ]
  }
 ],
 "metadata": {
  "deepnote": {
   "is_reactive": false
  },
  "deepnote_app_layout": "article",
  "deepnote_execution_queue": [],
  "deepnote_notebook_id": "eb801028-5ca1-4431-81c5-f30d8c1c0b0a",
  "keep_output": true,
  "kernelspec": {
   "display_name": "Python 3 (ipykernel)",
   "language": "python",
   "name": "python3"
  },
  "language_info": {
   "codemirror_mode": {
    "name": "ipython",
    "version": 3
   },
   "file_extension": ".py",
   "mimetype": "text/x-python",
   "name": "python",
   "nbconvert_exporter": "python",
   "pygments_lexer": "ipython3",
   "version": "3.9.12"
  }
 },
 "nbformat": 4,
 "nbformat_minor": 2
}
