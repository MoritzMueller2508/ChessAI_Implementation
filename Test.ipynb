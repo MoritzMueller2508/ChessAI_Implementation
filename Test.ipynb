{
 "cells": [
  {
   "cell_type": "code",
   "execution_count": null,
   "metadata": {
    "cell_id": "00000-392a7603-ffcf-4b29-842e-3b1047a9fec0",
    "deepnote_cell_type": "code",
    "deepnote_output_heights": [
     2
    ],
    "deepnote_to_be_reexecuted": false,
    "execution_millis": 45,
    "execution_start": 1643654317774,
    "source_hash": "bd190a5a",
    "tags": []
   },
   "outputs": [],
   "source": [
    "from IPython.core.display import HTML, display\n",
    "display(HTML('<style>.container { width:100%; !important } </style>'))"
   ]
  },
  {
   "cell_type": "code",
   "execution_count": null,
   "metadata": {
    "cell_id": "d9fabf97-2b5b-434b-9888-5cb2763443df",
    "deepnote_cell_type": "code",
    "deepnote_to_be_reexecuted": false,
    "execution_millis": 5012,
    "execution_start": 1643654317817,
    "source_hash": "911dd5fe",
    "tags": []
   },
   "outputs": [],
   "source": [
    "%pip install python-chess\n",
    "%pip install import_ipynb"
   ]
  },
  {
   "cell_type": "code",
   "execution_count": null,
   "metadata": {
    "cell_id": "00000-c71024d0-56ff-4b46-b36c-10eb76128607",
    "deepnote_cell_type": "code",
    "deepnote_output_heights": [
     null,
     2,
     null,
     2,
     null,
     2,
     null,
     2,
     null,
     2,
     null,
     2
    ],
    "deepnote_to_be_reexecuted": false,
    "execution_millis": 4518,
    "execution_start": 1643654322843,
    "source_hash": "d72a44d8",
    "tags": []
   },
   "outputs": [],
   "source": [
    "import chess\n",
    "import json\n",
    "\n",
    "import import_ipynb\n",
    "import Game\n",
    "import Globals\n",
    "from MinimaxAlgorithm import make_move_minimax, make_move_minimax_memoization\n",
    "from RandomAlgorithm import make_random_move\n",
    "from AlphaBetaAlgorithm import make_move_alphabeta, make_move_alphabeta_iterative_deepening\n",
    "\n",
    "\n"
   ]
  },
  {
   "cell_type": "markdown",
   "metadata": {
    "cell_id": "00004-2726a6f2-9189-4fb5-95b5-c20b321e8c1f",
    "deepnote_cell_type": "markdown"
   },
   "source": [
    "In genreal, a game of chess can be initialized through the instance of a Game-class. To be precise, the creation of the game-object can be \"customized\" with the following parameters:"
   ]
  },
  {
   "cell_type": "markdown",
   "metadata": {
    "cell_id": "00005-81de628f-36f0-4a74-b6ec-20840e14af18",
    "deepnote_cell_type": "markdown"
   },
   "source": [
    "    game = Game.Game(  \n",
    "                make_move_algorithm_white = \" desired_algo or None (human player) \" ,  \n",
    "                make_move_algorithm_black = \" desired_algo or None (human player) \" ,  \n",
    "                opening_book              = \" Path to opening_book-library or None\"        ,  \n",
    "                endgame_tablebase_dir     = \" Path to endgame_tablebase or None\"  \n",
    "                )"
   ]
  },
  {
   "cell_type": "markdown",
   "metadata": {
    "cell_id": "00006-1170fc30-154c-48e2-b2b2-502e30ce6d0e",
    "deepnote_cell_type": "markdown"
   },
   "source": [
    "in this case, the make_move_algorithm white and black represent the different algorithms which can play against each other or against a human enemy. In case a human wants to play against an algorithm, simply set \n",
    "\n",
    "    make_move_algorithm = None\n",
    "    \n",
    "as descriped above (Leaving out the argument has the same effect). \n",
    "The possible algorithms are:  \n",
    "\n",
    "1. make_random_move\n",
    "2. make_move_minimax\n",
    "3. make_move_minimax_memoization\n",
    "4. make_move_alphabeta\n",
    "5. make_move_alphabeta_iterative_deepening  \n",
    "\n",
    "Furthermore, it is recommended to use both the opening_book as well as the endgame_tablebase_dir argument as not None in order to boost efficiency and reduce the time needed by the AI to make a move."
   ]
  },
  {
   "cell_type": "markdown",
   "metadata": {
    "cell_id": "00007-ca3ced3e-b16b-46e0-9173-b033015001bc",
    "deepnote_cell_type": "markdown"
   },
   "source": [
    "Here is a basic game which can be played. The ai's are represented through the minimax-algorithm and the alphabeta-algorithm.<br>The second game (game_endgame) displays a game, in which the endgame-table is implemented. "
   ]
  },
  {
   "cell_type": "code",
   "execution_count": null,
   "metadata": {
    "cell_id": "00004-d3caf298-e575-48eb-acf5-ae812c8c05fd",
    "deepnote_cell_type": "code",
    "deepnote_output_heights": [
     null,
     542.75,
     420.7833251953125
    ],
    "deepnote_to_be_reexecuted": false,
    "execution_millis": 5,
    "execution_start": 1643654327364,
    "source_hash": "c4feccb1",
    "tags": []
   },
   "outputs": [],
   "source": [
    "game = Game.Game(make_move_minimax, make_move_alphabeta, endgame_tablebase_dir= None)\n",
    "#game_endgame = Game.Game(make_move_minimax, make_move_alphabeta)"
   ]
  },
  {
   "cell_type": "markdown",
   "metadata": {
    "cell_id": "00009-fd18796f-65ee-41d2-a96e-79ea05f268dd",
    "deepnote_cell_type": "markdown"
   },
   "source": [
    "___\n",
    "This is for debbuging purposes. In the following cell we can see multiple tests executed in a loop. Here, all possible tests are run.\n"
   ]
  },
  {
   "cell_type": "code",
   "execution_count": null,
   "metadata": {
    "cell_id": "00010-ed55fc69-acbf-4e8c-8b36-5ff4d7027e3c",
    "deepnote_cell_type": "code",
    "deepnote_output_heights": [
     null,
     543
    ],
    "deepnote_to_be_reexecuted": false,
    "execution_millis": 493,
    "execution_start": 1643654327418,
    "source_hash": "58e07e7b"
   },
   "outputs": [],
   "source": [
    "chess_problems = Globals.CHESS_PROBLEMS\n",
    "\n",
    "for c in chess_problems:\n",
    "    game.play(chess_problem = c, automation = True)\n",
    "\n",
    "for c in chess_problems:\n",
    "    game_endgame.play(chess_problem = c, automation = True)"
   ]
  },
  {
   "cell_type": "markdown",
   "metadata": {
    "cell_id": "00011-8ceb1081-7602-437c-ad2d-4edb2978c1ca",
    "deepnote_cell_type": "markdown"
   },
   "source": [
    "In the following cell the test-details of all previews tests are displayed."
   ]
  },
  {
   "cell_type": "code",
   "execution_count": null,
   "metadata": {
    "cell_id": "00012-b673ecb2-68ef-4b8f-a018-499e5ba60086",
    "deepnote_cell_type": "code",
    "deepnote_to_be_reexecuted": true,
    "execution_millis": 16,
    "execution_start": 1643383906037,
    "source_hash": "b35b1e97"
   },
   "outputs": [],
   "source": [
    "import pprint #importing prettyprint for prettier print :D\n",
    "\n",
    "pprint.pprint(game.problem_playthroughs)\n",
    "print(f'\\n{game.wins}')"
   ]
  },
  {
   "cell_type": "markdown",
   "metadata": {
    "cell_id": "00013-d9fa4701-e637-46b8-a0de-6b353c4bcc7f",
    "deepnote_cell_type": "markdown"
   },
   "source": [
    "___"
   ]
  },
  {
   "cell_type": "markdown",
   "metadata": {
    "cell_id": "00014-30710d27-e3b7-4132-9249-67614028ad1a",
    "deepnote_cell_type": "markdown"
   },
   "source": [
    "In the following case, a chess_problem is given in the function call. After that there is an example of a false argument"
   ]
  },
  {
   "cell_type": "code",
   "execution_count": null,
   "metadata": {
    "cell_id": "00015-a6b6194e-a756-4298-819a-e2643326c937",
    "deepnote_cell_type": "code",
    "deepnote_output_heights": [
     null,
     543
    ],
    "deepnote_to_be_reexecuted": true,
    "execution_millis": 48310,
    "execution_start": 1643383906071,
    "source_hash": "96cc3384"
   },
   "outputs": [],
   "source": [
    "game.play(chess_problem = \"EK\")"
   ]
  },
  {
   "cell_type": "code",
   "execution_count": null,
   "metadata": {
    "cell_id": "00005-c4e18063-24d6-4f69-b8db-e4a26eeafc33",
    "deepnote_cell_type": "code",
    "deepnote_to_be_reexecuted": true,
    "source_hash": "d289c78c",
    "tags": []
   },
   "outputs": [],
   "source": [
    "game.play(chess_problem = \"H\")\n"
   ]
  },
  {
   "cell_type": "markdown",
   "metadata": {},
   "source": [
    "In the following, a chess-game is initialized and played as example with all possible arguments, using the minimax and alpha-beta-algorithm.\n"
   ]
  },
  {
   "cell_type": "code",
   "execution_count": null,
   "metadata": {},
   "outputs": [],
   "source": [
    "example_game = Game.Game(\n",
    "    make_move_algorithm_white=make_move_minimax, \n",
    "    make_move_algorithm_black=make_move_alphabeta, \n",
    "    opening_book='Resources/baron30.bin', \n",
    "    endgame_tablebase_dir ='/datasets/gaviota'\n",
    "                        )\n",
    "\n",
    "example_game.play(debug=False, chess_problem=None, automation=False)"
   ]
  },
  {
   "cell_type": "markdown",
   "metadata": {},
   "source": [
    "---\n",
    "\n",
    "old tests!"
   ]
  },
  {
   "cell_type": "code",
   "execution_count": null,
   "metadata": {},
   "outputs": [],
   "source": [
    "random_minimax = Game.Game(make_random_move, make_move_minimax, endgame_tablebase_dir = None)\n",
    "random_minimax_endgame = Game.Game(make_random_move, make_move_minimax)\n",
    "\n",
    "random_alpha = Game.Game(make_random_move, make_move_alphabeta, endgame_tablebase_dir = None)\n",
    "random_alpha_endgame = Game.Game(make_random_move, make_move_alphabeta)\n",
    "\n",
    "minimax_alpha = Game.Game(make_move_minimax, make_move_alphabeta, endgame_tablebase_dir = None)\n",
    "minimax_alpha_endgame = Game.Game(make_move_minimax, make_move_alphabeta)\n",
    "\n",
    "random_minimemo = Game.Game(make_random_move, make_move_minimax_memoization, endgame_tablebase_dir = None)\n",
    "random_minimemo_endgame = Game.Game(make_random_move, make_move_minimax_memoization)\n",
    "\n",
    "random_alphadeep = Game.Game(make_random_move, make_move_alphabeta_iterative_deepening, endgame_tablebase_dir = None)\n",
    "random_alphadeep_endgame = Game.Game(make_random_move, make_move_alphabeta_iterative_deepening)\n",
    "\n",
    "minimemo_alpha = Game.Game(make_move_minimax_memoization, make_move_alphabeta, endgame_tablebase_dir = None)\n",
    "minimemo_alpha_endgame = Game.Game(make_move_minimax_memoization, make_move_alphabeta)\n",
    "\n",
    "minimemo_alphadeep = Game.Game(make_move_minimax_memoization, make_move_alphabeta_iterative_deepening, endgame_tablebase_dir = None)\n",
    "minimemo_alphadeep_endgame = Game.Game(make_move_minimax_memoization, make_move_alphabeta_iterative_deepening)\n",
    "\n",
    "alphadeep_mini = Game.Game(make_move_alphabeta_iterative_deepening, make_move_minimax, endgame_tablebase_dir = None)\n",
    "alphadeep_mini_endgame = Game.Game(make_move_alphabeta_iterative_deepening, make_move_minimax)\n",
    "\n",
    "mini_minimemo = Game.Game(make_move_minimax, make_move_minimax_memoization, endgame_tablebase_dir = None)\n",
    "mini_minimemo_endgame = Game.Game(make_move_minimax, make_move_minimax_memoization)\n",
    "\n",
    "alpha_alphadeep = Game.Game(make_move_alphabeta, make_move_alphabeta_iterative_deepening, endgame_tablebase_dir = None)\n",
    "alpha_alphadeep_endgame = Game.Game(make_move_alphabeta, make_move_alphabeta_iterative_deepening)"
   ]
  },
  {
   "cell_type": "code",
   "execution_count": null,
   "metadata": {},
   "outputs": [],
   "source": [
    "random_alpha_endgame.play()"
   ]
  },
  {
   "cell_type": "code",
   "execution_count": null,
   "metadata": {},
   "outputs": [],
   "source": [
    "random_alpha.play()"
   ]
  },
  {
   "cell_type": "markdown",
   "metadata": {},
   "source": [
    "___\n"
   ]
  },
  {
   "cell_type": "code",
   "execution_count": null,
   "metadata": {},
   "outputs": [],
   "source": [
    "random_minimax_endgame.play()"
   ]
  },
  {
   "cell_type": "code",
   "execution_count": null,
   "metadata": {},
   "outputs": [],
   "source": [
    "minimax_alpha.play()"
   ]
  },
  {
   "cell_type": "markdown",
   "metadata": {},
   "source": [
    "___"
   ]
  },
  {
   "cell_type": "code",
   "execution_count": null,
   "metadata": {},
   "outputs": [],
   "source": [
    "random_minimemo_endgame.play()"
   ]
  },
  {
   "cell_type": "code",
   "execution_count": null,
   "metadata": {},
   "outputs": [],
   "source": [
    "random_minimemo.play()"
   ]
  },
  {
   "cell_type": "markdown",
   "metadata": {},
   "source": [
    "___\n"
   ]
  },
  {
   "cell_type": "code",
   "execution_count": null,
   "metadata": {},
   "outputs": [],
   "source": [
    "random_alphadeep_endgame.play()"
   ]
  },
  {
   "cell_type": "code",
   "execution_count": null,
   "metadata": {},
   "outputs": [],
   "source": [
    "random_alphadeep.play()"
   ]
  },
  {
   "cell_type": "markdown",
   "metadata": {},
   "source": [
    "___"
   ]
  },
  {
   "cell_type": "code",
   "execution_count": null,
   "metadata": {},
   "outputs": [],
   "source": [
    "minimemo_alpha_endgame.play()"
   ]
  },
  {
   "cell_type": "code",
   "execution_count": null,
   "metadata": {},
   "outputs": [],
   "source": [
    "minimemo_alpha.play()"
   ]
  },
  {
   "cell_type": "markdown",
   "metadata": {},
   "source": [
    "___"
   ]
  },
  {
   "cell_type": "code",
   "execution_count": null,
   "metadata": {},
   "outputs": [],
   "source": [
    "minimemo_alphadeep_endgame.play()"
   ]
  },
  {
   "cell_type": "code",
   "execution_count": null,
   "metadata": {},
   "outputs": [],
   "source": [
    "minimemo_alphadeep.play()"
   ]
  },
  {
   "cell_type": "markdown",
   "metadata": {},
   "source": [
    "___"
   ]
  },
  {
   "cell_type": "code",
   "execution_count": null,
   "metadata": {},
   "outputs": [],
   "source": [
    "alphadeep_mini_endgame.play()"
   ]
  },
  {
   "cell_type": "code",
   "execution_count": null,
   "metadata": {},
   "outputs": [],
   "source": [
    "alphadeep_mini.play()"
   ]
  },
  {
   "cell_type": "markdown",
   "metadata": {},
   "source": [
    "___"
   ]
  },
  {
   "cell_type": "code",
   "execution_count": null,
   "metadata": {},
   "outputs": [],
   "source": [
    "mini_minimemo_endgame.play()"
   ]
  },
  {
   "cell_type": "code",
   "execution_count": null,
   "metadata": {},
   "outputs": [],
   "source": [
    "mini_minimemo.play()"
   ]
  },
  {
   "cell_type": "markdown",
   "metadata": {},
   "source": [
    "___"
   ]
  },
  {
   "cell_type": "code",
   "execution_count": null,
   "metadata": {},
   "outputs": [],
   "source": [
    "alpha_alphadeep_endgame.play()"
   ]
  },
  {
   "cell_type": "code",
   "execution_count": null,
   "metadata": {},
   "outputs": [],
   "source": [
    "alpha_alphadeep.play()"
   ]
  }
 ],
 "metadata": {
  "deepnote": {
   "is_reactive": false
  },
  "deepnote_execution_queue": [],
  "deepnote_notebook_id": "eb801028-5ca1-4431-81c5-f30d8c1c0b0a",
  "kernelspec": {
   "display_name": "Python 3 (ipykernel)",
   "language": "python",
   "name": "python3"
  },
  "language_info": {
   "codemirror_mode": {
    "name": "ipython",
    "version": 3
   },
   "file_extension": ".py",
   "mimetype": "text/x-python",
   "name": "python",
   "nbconvert_exporter": "python",
   "pygments_lexer": "ipython3",
   "version": "3.9.4"
  }
 },
 "nbformat": 4,
 "nbformat_minor": 2
}
