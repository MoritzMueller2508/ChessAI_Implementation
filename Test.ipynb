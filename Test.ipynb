{
 "cells": [
  {
   "cell_type": "code",
   "execution_count": null,
   "metadata": {
    "cell_id": "00000-392a7603-ffcf-4b29-842e-3b1047a9fec0",
    "deepnote_cell_type": "code",
    "deepnote_output_heights": [
     2
    ],
    "deepnote_to_be_reexecuted": false,
    "execution_millis": 45,
    "execution_start": 1643654317774,
    "source_hash": "bd190a5a",
    "tags": []
   },
   "outputs": [],
   "source": [
    "from IPython.core.display import HTML, display\n",
    "display(HTML('<style>.container { width:100%; !important } </style>'))"
   ]
  },
  {
   "cell_type": "code",
   "execution_count": null,
   "metadata": {
    "cell_id": "d9fabf97-2b5b-434b-9888-5cb2763443df",
    "deepnote_cell_type": "code",
    "deepnote_to_be_reexecuted": false,
    "execution_millis": 5012,
    "execution_start": 1643654317817,
    "source_hash": "911dd5fe",
    "tags": []
   },
   "outputs": [],
   "source": [
    "%pip install python-chess\n",
    "%pip install import_ipynb"
   ]
  },
  {
   "cell_type": "code",
   "execution_count": null,
   "metadata": {
    "cell_id": "00000-c71024d0-56ff-4b46-b36c-10eb76128607",
    "deepnote_cell_type": "code",
    "deepnote_output_heights": [
     null,
     2,
     null,
     2,
     null,
     2,
     null,
     2,
     null,
     2,
     null,
     2
    ],
    "deepnote_to_be_reexecuted": false,
    "execution_millis": 4518,
    "execution_start": 1643654322843,
    "source_hash": "d72a44d8",
    "tags": []
   },
   "outputs": [],
   "source": [
    "import chess\n",
    "import json\n",
    "\n",
    "import import_ipynb\n",
    "import Game\n",
    "import Globals\n",
    "from MinimaxAlgorithm import make_move_minimax, make_move_minimax_memoization\n",
    "from RandomAlgorithm import make_random_move\n",
    "from AlphaBetaAlgorithm import make_move_alphabeta, make_move_alphabeta_iterative_deepening\n",
    "\n",
    "\n"
   ]
  },
  {
   "cell_type": "markdown",
   "metadata": {
    "cell_id": "00004-2726a6f2-9189-4fb5-95b5-c20b321e8c1f",
    "deepnote_cell_type": "markdown"
   },
   "source": [
    "In genreal, a game of chess can be initialized through the instance of a Game-class. To be precise, the creation of the game-object can be \"customized\" with the following parameters:"
   ]
  },
  {
   "cell_type": "markdown",
   "metadata": {
    "cell_id": "00005-81de628f-36f0-4a74-b6ec-20840e14af18",
    "deepnote_cell_type": "markdown"
   },
   "source": [
    "    game = Game.Game(  \n",
    "                make_move_algorithm_white = \" desired_algo or None (human player) \" ,  \n",
    "                make_move_algorithm_black = \" desired_algo or None (human player) \" ,  \n",
    "                opening_book              = \" Path to opening_book-library or None\"        ,  \n",
    "                endgame_tablebase_dir     = \" Path to endgame_tablebase or None\"  \n",
    "                )"
   ]
  },
  {
   "cell_type": "markdown",
   "metadata": {
    "cell_id": "00006-1170fc30-154c-48e2-b2b2-502e30ce6d0e",
    "deepnote_cell_type": "markdown"
   },
   "source": [
    "in this case, the make_move_algorithm white and black represent the different algorithms which can play against each other or against a human enemy. In case a human wants to play against an algorithm, simply set \n",
    "\n",
    "    make_move_algorithm = None\n",
    "    \n",
    "as descriped above (Leaving out the argument has the same effect). \n",
    "The possible algorithms are:  \n",
    "\n",
    "1. make_random_move\n",
    "2. make_move_minimax\n",
    "3. make_move_minimax_memoization\n",
    "4. make_move_alphabeta\n",
    "5. make_move_alphabeta_iterative_deepening  \n",
    "\n",
    "Furthermore, it is recommended to use both the opening_book as well as the endgame_tablebase_dir argument as not None in order to boost efficiency and reduce the time needed by the AI to make a move."
   ]
  },
  {
   "cell_type": "markdown",
   "metadata": {
    "cell_id": "00007-ca3ced3e-b16b-46e0-9173-b033015001bc",
    "deepnote_cell_type": "markdown"
   },
   "source": [
    "Here is a basic game which can be played. The ai's are represented through the minimax-algorithm and the alphabeta-algorithm. In this case, the endgame-table is not implemented. "
   ]
  },
  {
   "cell_type": "code",
   "execution_count": null,
   "metadata": {
    "cell_id": "00004-d3caf298-e575-48eb-acf5-ae812c8c05fd",
    "deepnote_cell_type": "code",
    "deepnote_output_heights": [
     null,
     542.75,
     420.7833251953125
    ],
    "deepnote_to_be_reexecuted": false,
    "execution_millis": 5,
    "execution_start": 1643654327364,
    "source_hash": "c4feccb1",
    "tags": []
   },
   "outputs": [],
   "source": [
    "game = Game.Game(make_move_minimax, make_move_alphabeta, endgame_tablebase_dir= None)\n",
    "#game.play(automation = True)"
   ]
  },
  {
   "cell_type": "markdown",
   "metadata": {
    "cell_id": "00009-fd18796f-65ee-41d2-a96e-79ea05f268dd",
    "deepnote_cell_type": "markdown"
   },
   "source": [
    "___\n",
    "This is for debbuging purposes. In the following cell we can see multiple tests executed in a loop. Here, all possible tests are run.\n"
   ]
  },
  {
   "cell_type": "code",
   "execution_count": null,
   "metadata": {
    "cell_id": "00010-ed55fc69-acbf-4e8c-8b36-5ff4d7027e3c",
    "deepnote_cell_type": "code",
    "deepnote_output_heights": [
     null,
     543
    ],
    "deepnote_to_be_reexecuted": false,
    "execution_millis": 493,
    "execution_start": 1643654327418,
    "source_hash": "58e07e7b"
   },
   "outputs": [],
   "source": [
    "chess_problems = Globals.CHESS_PROBLEMS\n",
    "for c in chess_problems:\n",
    "    game.play(chess_problem = c,debug=True, automation = True)"
   ]
  },
  {
   "cell_type": "code",
   "execution_count": null,
   "metadata": {},
   "outputs": [],
   "source": [
    "game.problem_playthroughs"
   ]
  },
  {
   "cell_type": "code",
   "execution_count": null,
   "metadata": {},
   "outputs": [],
   "source": [
    "game.test_playthrough"
   ]
  },
  {
   "cell_type": "code",
   "execution_count": null,
   "metadata": {
    "cell_id": "1d81e488-a23e-4c02-8bd3-934531ca5ec0",
    "deepnote_cell_type": "code",
    "deepnote_to_be_reexecuted": true,
    "execution_millis": 9041,
    "execution_start": 1643654306571,
    "source_hash": "bc74ff1f",
    "tags": []
   },
   "outputs": [],
   "source": [
    "game.debug_play('BWS', automation=False)"
   ]
  },
  {
   "cell_type": "markdown",
   "metadata": {
    "cell_id": "00011-8ceb1081-7602-437c-ad2d-4edb2978c1ca",
    "deepnote_cell_type": "markdown"
   },
   "source": [
    "In the following cell the test-details of all previews tests are displayed."
   ]
  },
  {
   "cell_type": "code",
   "execution_count": null,
   "metadata": {
    "cell_id": "00012-b673ecb2-68ef-4b8f-a018-499e5ba60086",
    "deepnote_cell_type": "code",
    "deepnote_to_be_reexecuted": true,
    "execution_millis": 16,
    "execution_start": 1643383906037,
    "source_hash": "b35b1e97"
   },
   "outputs": [],
   "source": [
    "import pprint #importing prettyprint for prettier print :D\n",
    "\n",
    "pprint.pprint(game.auto_tests)\n",
    "print(f'\\n{game.wins}')"
   ]
  },
  {
   "cell_type": "code",
   "execution_count": null,
   "metadata": {
    "cell_id": "819665c1-195e-4797-971d-166be5d3f8ec",
    "deepnote_cell_type": "code",
    "deepnote_output_heights": [
     611
    ],
    "deepnote_to_be_reexecuted": true,
    "execution_millis": 6,
    "execution_start": 1643383906060,
    "source_hash": "a197e151",
    "tags": []
   },
   "outputs": [],
   "source": [
    "game.debug"
   ]
  },
  {
   "cell_type": "markdown",
   "metadata": {
    "cell_id": "00013-d9fa4701-e637-46b8-a0de-6b353c4bcc7f",
    "deepnote_cell_type": "markdown"
   },
   "source": [
    "___"
   ]
  },
  {
   "cell_type": "markdown",
   "metadata": {
    "cell_id": "00014-30710d27-e3b7-4132-9249-67614028ad1a",
    "deepnote_cell_type": "markdown"
   },
   "source": [
    "In the following case, a chess_problem is given in the function call. After that there is an example of a false argument"
   ]
  },
  {
   "cell_type": "code",
   "execution_count": null,
   "metadata": {
    "cell_id": "00015-a6b6194e-a756-4298-819a-e2643326c937",
    "deepnote_cell_type": "code",
    "deepnote_output_heights": [
     null,
     543
    ],
    "deepnote_to_be_reexecuted": true,
    "execution_millis": 48310,
    "execution_start": 1643383906071,
    "source_hash": "96cc3384"
   },
   "outputs": [],
   "source": [
    "game.debug_play(chess_problem = \"EK\")"
   ]
  },
  {
   "cell_type": "code",
   "execution_count": null,
   "metadata": {
    "cell_id": "00005-c4e18063-24d6-4f69-b8db-e4a26eeafc33",
    "deepnote_cell_type": "code",
    "deepnote_to_be_reexecuted": true,
    "source_hash": "d289c78c",
    "tags": []
   },
   "outputs": [],
   "source": [
    "game.debug_play(chess_problem = \"H\")\n"
   ]
  },
  {
   "cell_type": "markdown",
   "metadata": {
    "created_in_deepnote_cell": true,
    "deepnote_cell_type": "markdown",
    "tags": []
   },
   "source": [
    "<a style='text-decoration:none;line-height:16px;display:flex;color:#5B5B62;padding:10px;justify-content:end;' href='https://deepnote.com?utm_source=created-in-deepnote-cell&projectId=d6ce9acd-52c5-4422-904d-8424da19408b' target=\"_blank\">\n",
    "<img alt='Created in deepnote.com' style='display:inline;max-height:16px;margin:0px;margin-right:7.5px;' src='data:image/svg+xml;base64,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' > </img>\n",
    "Created in <span style='font-weight:600;margin-left:4px;'>Deepnote</span></a>"
   ]
  },
  {
   "cell_type": "code",
   "execution_count": null,
   "metadata": {},
   "outputs": [],
   "source": []
  }
 ],
 "metadata": {
  "deepnote": {
   "is_reactive": false
  },
  "deepnote_execution_queue": [],
  "deepnote_notebook_id": "eb801028-5ca1-4431-81c5-f30d8c1c0b0a",
  "kernelspec": {
   "display_name": "Python 3 (ipykernel)",
   "language": "python",
   "name": "python3"
  },
  "language_info": {
   "codemirror_mode": {
    "name": "ipython",
    "version": 3
   },
   "file_extension": ".py",
   "mimetype": "text/x-python",
   "name": "python",
   "nbconvert_exporter": "python",
   "pygments_lexer": "ipython3",
   "version": "3.9.4"
  }
 },
 "nbformat": 4,
 "nbformat_minor": 2
}
