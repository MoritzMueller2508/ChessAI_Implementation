{
 "cells": [
  {
   "cell_type": "code",
   "execution_count": null,
   "metadata": {
    "cell_id": "00000-392a7603-ffcf-4b29-842e-3b1047a9fec0",
    "deepnote_cell_type": "code",
    "deepnote_output_heights": [
     2
    ],
    "deepnote_to_be_reexecuted": false,
    "execution_millis": 893527,
    "execution_start": 1643999675876,
    "source_hash": "bd190a5a",
    "tags": []
   },
   "outputs": [],
   "source": [
    "from IPython.core.display import HTML, display\n",
    "display(HTML('<style>.container { width:100%; !important } </style>'))"
   ]
  },
  {
   "cell_type": "code",
   "execution_count": null,
   "metadata": {
    "cell_id": "00000-c71024d0-56ff-4b46-b36c-10eb76128607",
    "deepnote_cell_type": "code",
    "deepnote_output_heights": [
     null,
     2,
     null,
     2,
     null,
     2,
     null,
     2,
     null,
     2,
     null,
     2
    ],
    "deepnote_to_be_reexecuted": false,
    "execution_millis": 4970,
    "execution_start": 1643999699074,
    "source_hash": "82144fee",
    "tags": []
   },
   "outputs": [],
   "source": [
    "import chess\n",
    "import json\n",
    "import pprint\n",
    "\n",
    "import import_ipynb\n",
    "import Game\n",
    "from Globals import Globals\n",
    "from MinimaxAlgorithm import make_move_minimax, make_move_minimax_memoization\n",
    "from RandomAlgorithm import make_random_move\n",
    "from AlphaBetaAlgorithm import make_move_alphabeta, make_move_alphabeta_iterative_deepening"
   ]
  },
  {
   "cell_type": "markdown",
   "metadata": {
    "cell_id": "00004-2726a6f2-9189-4fb5-95b5-c20b321e8c1f",
    "deepnote_cell_type": "markdown"
   },
   "source": [
    "In general, a game of chess can be initialized through the instance of the Game class. To be precise, the creation of the Game object can be configured with the following parameters:"
   ]
  },
  {
   "cell_type": "markdown",
   "metadata": {
    "cell_id": "00005-81de628f-36f0-4a74-b6ec-20840e14af18",
    "deepnote_cell_type": "markdown"
   },
   "source": [
    "<b>make_move_algorithm_white</b> <i>(Callable, default: None)</i> : The function that the AI controlling the white pieces should use to make a new move, or None if the white pieces are player-controlled.<br>\n",
    "<b>make_move_algorithm_black</b> <i>(Callable, default: None)</i> : The function that the AI controlling the black pieces should use to make a new move, or None if the white pieces are player-controlled. <br>\n",
    "<b>search_depth_white</b> <i>(int, default: 3)</i> : The search depth for the white AI's search algorithm. <br>\n",
    "<b>search_depth_black</b> <i>(int, default: 3)</i> : The search depth for the black AI's search algorithm. <br>\n",
    "<b>opening_book</b> <i>(str, default: 'Resources/baron30.bin')</i> : The path to the desired opening book the AIs will use, or None if no opening book is desired. <br>\n",
    "<b>endgame_tablebase_dir</b> <i>(str, default: '/datasets/gaviota')</i> : The path to the directory of the desired endgame tablebase the AIs will use, or None if no endgame tablebase is desired. <br>"
   ]
  },
  {
   "cell_type": "markdown",
   "metadata": {
    "cell_id": "00006-1170fc30-154c-48e2-b2b2-502e30ce6d0e",
    "deepnote_cell_type": "markdown"
   },
   "source": [
    "The possible algorithms are:  \n",
    "\n",
    "1. make_random_move\n",
    "2. make_move_minimax\n",
    "3. make_move_minimax_memoization\n",
    "4. make_move_alphabeta\n",
    "5. make_move_alphabeta_iterative_deepening  \n",
    "\n",
    "Furthermore, it is recommended not to set the opening_book and endgame_tablebase_dir arguments to None in order to boost efficiency and reduce the time needed by the AI to make a move, unless the test case requires that the algorithms are tested without these aids."
   ]
  },
  {
   "cell_type": "markdown",
   "metadata": {
    "cell_id": "835fdaa5-9cea-4009-97d1-eabbb29c2f9f",
    "deepnote_cell_type": "markdown",
    "tags": []
   },
   "source": [
    "This test shows a basic game which can be played. The AIs are represented by the minimax search algorithm and the alpha-beta pruning algorithm.  \n",
    "In the following case, a chess problem is given in the function call. This test is written simply to test the basic functionality of the search algorithms as well as the initialization of a chess problem."
   ]
  },
  {
   "cell_type": "code",
   "execution_count": null,
   "metadata": {
    "cell_id": "d83dc44c-c625-4531-8f1f-d9d8a71af558",
    "deepnote_cell_type": "code",
    "deepnote_output_heights": [
     null,
     502
    ],
    "deepnote_to_be_reexecuted": false,
    "execution_millis": 901966,
    "execution_start": 1643999704105,
    "source_hash": "1c731fc5",
    "tags": []
   },
   "outputs": [],
   "source": [
    "chess_problem_test_game = Game.Game(make_move_minimax, make_move_alphabeta, endgame_tablebase_dir=None)\n",
    "chess_problem_test_game.play(chess_problem='EK')"
   ]
  },
  {
   "cell_type": "markdown",
   "metadata": {
    "cell_id": "5c0bb588-3304-4bd6-abc8-ad4c034afaef",
    "deepnote_cell_type": "markdown",
    "tags": []
   },
   "source": [
    "In the following, a normal chess game is initialized and played using the minimax search and alpha-beta pruning algorithms. This is a more complex tests as a whole game of chess is played rather than only a partial game, as was the case in the chess problem test above."
   ]
  },
  {
   "cell_type": "code",
   "execution_count": null,
   "metadata": {
    "cell_id": "65f38327-cad5-45db-993e-c6dc4ba386bc",
    "deepnote_cell_type": "code",
    "deepnote_to_be_reexecuted": false,
    "execution_millis": 143,
    "execution_start": 1643999704106,
    "source_hash": "10f644e0",
    "tags": []
   },
   "outputs": [],
   "source": [
    "normal_game = Game.Game(\n",
    "    make_move_algorithm_white=make_move_minimax, \n",
    "    make_move_algorithm_black=make_move_alphabeta\n",
    ")\n",
    "\n",
    "normal_game.play()"
   ]
  },
  {
   "cell_type": "markdown",
   "metadata": {
    "cell_id": "2cae479e-e5c1-45ed-98e4-2e2a89890696",
    "deepnote_cell_type": "markdown",
    "tags": []
   },
   "source": [
    "___"
   ]
  },
  {
   "cell_type": "markdown",
   "metadata": {
    "cell_id": "a02bba65-de45-4d97-ba70-2140720eb470",
    "deepnote_cell_type": "markdown",
    "tags": []
   },
   "source": [
    "#### perform_tests\n",
    "Runs the alpha-beta pruning algorithm against all available chess problems in order to test the functionality and effeciveness of this algorithm.\n",
    "\n",
    "###### __<u>Arguments</u>__\n",
    "__use_endgame_library__ _(bool)_ : Whether or not the endgame library can be used in the tests.  \n",
    "__search_depth_auto__ _(bool)_ : Whether or not the maximum search depth of the alpha-beta pruning algorithm should be set to the minimum amount of moves the chess problem takes to solve. In theory, setting this to True should always yield an optimal solution.\n",
    "\n",
    "###### __<u>Side effects</u>__\n",
    "- The current visual output is overwritten.\n",
    "- All defined tests are run.\n",
    "- Test playthrough information is tracked and printed."
   ]
  },
  {
   "cell_type": "code",
   "execution_count": null,
   "metadata": {
    "cell_id": "9e599e92-9484-4c91-b48a-d49967f51a17",
    "deepnote_cell_type": "code",
    "deepnote_to_be_reexecuted": false,
    "execution_millis": 1,
    "execution_start": 1643999704291,
    "source_hash": "771e11c7",
    "tags": []
   },
   "outputs": [],
   "source": [
    "def perform_tests(use_endgame_library: bool, search_depth_auto: bool) -> None:\n",
    "    if use_endgame_library:\n",
    "        test_game = Game.Game(make_move_alphabeta, make_move_alphabeta)\n",
    "    else:\n",
    "        test_game = Game.Game(make_move_alphabeta, make_move_alphabeta, endgame_tablebase_dir=None)\n",
    "\n",
    "    for c in Globals.CHESS_PROBLEMS:\n",
    "        test_game.play(chess_problem=c, search_depth_auto=search_depth_auto, automation=True)\n",
    "\n",
    "    pprint.pprint(test_game.problem_playthroughs)\n",
    "    print(f'\\n{test_game.wins}')"
   ]
  },
  {
   "cell_type": "markdown",
   "metadata": {
    "cell_id": "00009-fd18796f-65ee-41d2-a96e-79ea05f268dd",
    "deepnote_cell_type": "markdown"
   },
   "source": [
    "First, we test the search algorithm without an endgame tablebase. The search depth is the default value (3), therefore more complex chess problems are unlikely to be solved in the fewest possible moves.\n"
   ]
  },
  {
   "cell_type": "code",
   "execution_count": null,
   "metadata": {
    "cell_id": "00010-ed55fc69-acbf-4e8c-8b36-5ff4d7027e3c",
    "deepnote_cell_type": "code",
    "deepnote_output_heights": [
     null,
     502
    ],
    "deepnote_to_be_reexecuted": false,
    "execution_millis": 1,
    "execution_start": 1643999704292,
    "source_hash": "a4ba16a3"
   },
   "outputs": [],
   "source": [
    "perform_tests(use_endgame_library=False, search_depth_auto=False)"
   ]
  },
  {
   "cell_type": "markdown",
   "metadata": {
    "cell_id": "8efd7577-731a-4955-b504-6906d3742277",
    "deepnote_cell_type": "markdown",
    "tags": []
   },
   "source": [
    "Next, we test the search algorithm without an endgame tablebase, but with a search depth that's theoretically enough to solve the chess problem perfectly. This is simply the amount of moves that the chess problem takes to solve at minimum, because looking that many moves into the future should tell the algorithm how to reach a checkmate scenario.\n"
   ]
  },
  {
   "cell_type": "code",
   "execution_count": null,
   "metadata": {
    "cell_id": "54e76c3e-9ef6-47c5-84e3-dee6a5da894c",
    "deepnote_cell_type": "code",
    "deepnote_output_heights": [
     117,
     502,
     410
    ],
    "deepnote_to_be_reexecuted": false,
    "execution_millis": 901799,
    "execution_start": 1643999704294,
    "source_hash": "5760aa8e",
    "tags": []
   },
   "outputs": [],
   "source": [
    "perform_tests(use_endgame_library=False, search_depth_auto=True)"
   ]
  },
  {
   "cell_type": "markdown",
   "metadata": {
    "cell_id": "aef82bc1-7c62-458e-907e-50dcebb26049",
    "deepnote_cell_type": "markdown",
    "tags": []
   },
   "source": [
    "Lastly, we test the search algorithm with an endgame tablebase, in order to test if this tablebase is incorporated into the search function correctly. The search depth is set to the minimum move count to solve the problem, in order to see if the endgame tablebase is triggered at any point during an \"intended\" solution."
   ]
  },
  {
   "cell_type": "code",
   "execution_count": null,
   "metadata": {
    "cell_id": "49a76492-dbe0-44e6-b6f3-d33ece2a7f07",
    "deepnote_cell_type": "code",
    "deepnote_output_heights": [
     null,
     502,
     611,
     611
    ],
    "deepnote_to_be_reexecuted": false,
    "execution_millis": 4084,
    "execution_start": 1643999704295,
    "output_cleared": true,
    "source_hash": "ecbb4929",
    "tags": []
   },
   "outputs": [],
   "source": [
    "perform_tests(use_endgame_library=True, search_depth_auto=True)"
   ]
  },
  {
   "cell_type": "markdown",
   "metadata": {
    "cell_id": "00018-b1c9f53d-186d-4848-96e2-d9b6ffdca75e",
    "deepnote_cell_type": "markdown"
   },
   "source": [
    "---\n",
    "In the following, every AI plays against every AI (but not against itself). Each combination is tested with only an opening book, only an endgame tablebase and neither. This is done to retrieve various pieces of useful information:\n",
    "- If the algorithms function as intended. If a test ends in an unpredicted manner, it may be a sign that at least one of the involved algorithms is defective.\n",
    "- Which algorithm can make the most effective moves. In theory, every search algorithm should be equally effective, whereas the random algorithm is inferior.\n",
    "- Which algorithm can find moves the quickest. This is only applicable to search algorithms. In theory, alpha-beta pruning should be faster than minimax search. \n",
    "- How effective memoization is in a minimax search (and by extension in other searches).\n",
    "- How effective opening books are at speeding up search algorithms.\n",
    "- How effective endgame tablebases are at speeding up search algorithms.\n",
    "\n",
    "First, the different tests are defined.  After that, each cell contains one test, so the output for each test is not overwritten by the output of the following test."
   ]
  },
  {
   "cell_type": "code",
   "execution_count": null,
   "metadata": {
    "cell_id": "00019-cbf3c58c-d03c-460c-9aea-f5756b9eb070",
    "deepnote_cell_type": "code",
    "deepnote_to_be_reexecuted": true,
    "source_hash": "c2c60333"
   },
   "outputs": [],
   "source": [
    "random_minimax = Game.Game(make_random_move, make_move_minimax, opening_book=None, endgame_tablebase_dir=None)\n",
    "random_minimax_opening = Game.Game(make_random_move, make_move_minimax, endgame_tablebase_dir=None)\n",
    "random_minimax_endgame = Game.Game(make_random_move, make_move_minimax, opening_book=None)\n",
    "\n",
    "random_minimemo = Game.Game(make_random_move, make_move_minimax_memoization, opening_book=None, endgame_tablebase_dir=None)\n",
    "random_minimemo_opening = Game.Game(make_random_move, make_move_minimax_memoization, endgame_tablebase_dir=None)\n",
    "random_minimemo_endgame = Game.Game(make_random_move, make_move_minimax_memoization, opening_book=None)\n",
    "\n",
    "mini_minimemo = Game.Game(make_move_minimax, make_move_minimax_memoization, opening_book=None, endgame_tablebase_dir=None)\n",
    "mini_minimemo_opening = Game.Game(make_move_minimax, make_move_minimax_memoization, endgame_tablebase_dir=None)\n",
    "mini_minimemo_endgame = Game.Game(make_move_minimax, make_move_minimax_memoization, opening_book=None)\n",
    "\n",
    "random_alpha = Game.Game(make_random_move, make_move_alphabeta, opening_book=None, endgame_tablebase_dir=None)\n",
    "random_alpha_opening = Game.Game(make_random_move, make_move_alphabeta, endgame_tablebase_dir=None)\n",
    "random_alpha_endgame = Game.Game(make_random_move, make_move_alphabeta, opening_book=None)\n",
    "\n",
    "minimax_alpha = Game.Game(make_move_minimax, make_move_alphabeta,opening_book=None, endgame_tablebase_dir=None)\n",
    "minimax_alpha_opening = Game.Game(make_move_minimax, make_move_alphabeta, endgame_tablebase_dir=None)\n",
    "minimax_alpha_endgame = Game.Game(make_move_minimax, make_move_alphabeta, opening_book=None)\n",
    "\n",
    "minimemo_alpha = Game.Game(make_move_minimax_memoization, make_move_alphabeta, opening_book=None, endgame_tablebase_dir=None)\n",
    "minimemo_alpha_opening = Game.Game(make_move_minimax_memoization, make_move_alphabeta, endgame_tablebase_dir=None)\n",
    "minimemo_alpha_endgame = Game.Game(make_move_minimax_memoization, make_move_alphabeta, opening_book=None)"
   ]
  },
  {
   "cell_type": "markdown",
   "metadata": {
    "cell_id": "f867194f-d168-42ca-8f3b-4864c457144c",
    "deepnote_cell_type": "markdown",
    "tags": []
   },
   "source": [
    "___"
   ]
  },
  {
   "cell_type": "code",
   "execution_count": null,
   "metadata": {
    "cell_id": "3e5ac39e-24f7-4646-80ab-f6249569f11b",
    "deepnote_cell_type": "code",
    "deepnote_to_be_reexecuted": true,
    "source_hash": "b623e53d",
    "tags": []
   },
   "outputs": [],
   "source": [
    "random_minimax.play()"
   ]
  },
  {
   "cell_type": "code",
   "execution_count": null,
   "metadata": {
    "cell_id": "b9c2bc70-a33e-4fe9-ab80-4a2251f8d337",
    "deepnote_cell_type": "code",
    "tags": []
   },
   "outputs": [],
   "source": [
    "random_minimax_opening.play()"
   ]
  },
  {
   "cell_type": "code",
   "execution_count": null,
   "metadata": {
    "cell_id": "a7768397-ea9f-4a51-90ee-913e656f2ffa",
    "deepnote_cell_type": "code",
    "tags": []
   },
   "outputs": [],
   "source": [
    "random_minimax_endgame.play()"
   ]
  },
  {
   "cell_type": "markdown",
   "metadata": {
    "cell_id": "b602f679-be47-4529-a906-f655165a97a5",
    "deepnote_cell_type": "markdown",
    "tags": []
   },
   "source": [
    "___"
   ]
  },
  {
   "cell_type": "code",
   "execution_count": null,
   "metadata": {
    "cell_id": "705ec674-59e2-4748-9090-777410a03b08",
    "deepnote_cell_type": "code",
    "tags": []
   },
   "outputs": [],
   "source": [
    "random_minimemo.play()"
   ]
  },
  {
   "cell_type": "code",
   "execution_count": null,
   "metadata": {
    "cell_id": "3226a2cc-5f01-4c39-8af3-d3c49d204dca",
    "deepnote_cell_type": "code",
    "tags": []
   },
   "outputs": [],
   "source": [
    "random_minimemo_opening.play()"
   ]
  },
  {
   "cell_type": "code",
   "execution_count": null,
   "metadata": {
    "cell_id": "5b8216bb-520b-4932-bdbb-e0f4aecdc07d",
    "deepnote_cell_type": "code",
    "tags": []
   },
   "outputs": [],
   "source": [
    "random_minimemo_endgame.play()"
   ]
  },
  {
   "cell_type": "markdown",
   "metadata": {
    "cell_id": "f4508e00-002f-40a1-a878-9e118848f258",
    "deepnote_cell_type": "markdown",
    "tags": []
   },
   "source": [
    "___"
   ]
  },
  {
   "cell_type": "code",
   "execution_count": null,
   "metadata": {
    "cell_id": "b8118a9f-e88a-4fe6-bff2-183c3063d2a5",
    "deepnote_cell_type": "code",
    "tags": []
   },
   "outputs": [],
   "source": [
    "mini_minimemo.play()"
   ]
  },
  {
   "cell_type": "code",
   "execution_count": null,
   "metadata": {
    "cell_id": "ecec4a86-d8e6-4d15-a5bf-cd2406214d9e",
    "deepnote_cell_type": "code",
    "tags": []
   },
   "outputs": [],
   "source": [
    "mini_minimemo_opening.play()"
   ]
  },
  {
   "cell_type": "code",
   "execution_count": null,
   "metadata": {
    "cell_id": "6fefe739-b19a-414e-8741-1c52d27f30ee",
    "deepnote_cell_type": "code",
    "tags": []
   },
   "outputs": [],
   "source": [
    "mini_minimemo_endgame.play()"
   ]
  },
  {
   "cell_type": "markdown",
   "metadata": {
    "cell_id": "64636ab8-e944-40bb-95cb-a102573b2469",
    "deepnote_cell_type": "markdown",
    "tags": []
   },
   "source": [
    "___\n"
   ]
  },
  {
   "cell_type": "code",
   "execution_count": null,
   "metadata": {
    "cell_id": "211ca164-ef19-44a2-b560-ace3bc373748",
    "deepnote_cell_type": "code",
    "tags": []
   },
   "outputs": [],
   "source": [
    "random_alpha.play()"
   ]
  },
  {
   "cell_type": "code",
   "execution_count": null,
   "metadata": {
    "cell_id": "fe8a5d9e-5198-4405-9f6f-88d3cb56ca53",
    "deepnote_cell_type": "code",
    "tags": []
   },
   "outputs": [],
   "source": [
    "random_alpha_opening.play()"
   ]
  },
  {
   "cell_type": "code",
   "execution_count": null,
   "metadata": {
    "cell_id": "ed5b8e39-45c1-45a6-b2fc-9fb749fdff3c",
    "deepnote_cell_type": "code",
    "tags": []
   },
   "outputs": [],
   "source": [
    "random_alpha_endgame.play()"
   ]
  },
  {
   "cell_type": "markdown",
   "metadata": {
    "cell_id": "f178479e-d4cf-4728-a9eb-a88649353750",
    "deepnote_cell_type": "markdown",
    "tags": []
   },
   "source": [
    "___"
   ]
  },
  {
   "cell_type": "code",
   "execution_count": null,
   "metadata": {
    "cell_id": "c52e2d77-5fc7-4003-9f6b-c8a328b0dcdd",
    "deepnote_cell_type": "code",
    "tags": []
   },
   "outputs": [],
   "source": [
    "minimax_alpha.play()"
   ]
  },
  {
   "cell_type": "code",
   "execution_count": null,
   "metadata": {
    "cell_id": "efefa26a-9a9e-4b0a-92d9-410d9129235c",
    "deepnote_cell_type": "code",
    "tags": []
   },
   "outputs": [],
   "source": [
    "minimax_alpha_opening.play()"
   ]
  },
  {
   "cell_type": "code",
   "execution_count": null,
   "metadata": {
    "cell_id": "fe6bfda7-8b6a-4f4a-8469-b8ec7dfc889f",
    "deepnote_cell_type": "code",
    "tags": []
   },
   "outputs": [],
   "source": [
    "minimax_alpha_endgame.play()"
   ]
  },
  {
   "cell_type": "markdown",
   "metadata": {
    "cell_id": "ddefe1e9-f99a-4e68-b5eb-5dc23dff56f9",
    "deepnote_cell_type": "markdown",
    "tags": []
   },
   "source": [
    "___"
   ]
  },
  {
   "cell_type": "code",
   "execution_count": null,
   "metadata": {
    "cell_id": "37c22248-4a34-4f99-851b-9c945a206216",
    "deepnote_cell_type": "code",
    "tags": []
   },
   "outputs": [],
   "source": [
    "minimemo_alpha.play()"
   ]
  },
  {
   "cell_type": "code",
   "execution_count": null,
   "metadata": {
    "cell_id": "6ae99fc0-b2e1-4e2b-823c-7db8d6a5aa4a",
    "deepnote_cell_type": "code",
    "tags": []
   },
   "outputs": [],
   "source": [
    "minimemo_alpha_opening.play()"
   ]
  },
  {
   "cell_type": "code",
   "execution_count": null,
   "metadata": {
    "cell_id": "399b2784-2074-4170-b780-861d24e10f09",
    "deepnote_cell_type": "code",
    "tags": []
   },
   "outputs": [],
   "source": [
    "minimemo_alpha_endgame.play()"
   ]
  },
  {
   "cell_type": "markdown",
   "metadata": {
    "created_in_deepnote_cell": true,
    "deepnote_cell_type": "markdown",
    "tags": []
   },
   "source": [
    "<a style='text-decoration:none;line-height:16px;display:flex;color:#5B5B62;padding:10px;justify-content:end;' href='https://deepnote.com?utm_source=created-in-deepnote-cell&projectId=d6ce9acd-52c5-4422-904d-8424da19408b' target=\"_blank\">\n",
    "<img alt='Created in deepnote.com' style='display:inline;max-height:16px;margin:0px;margin-right:7.5px;' src='data:image/svg+xml;base64,PD94bWwgdmVyc2lvbj0iMS4wIiBlbmNvZGluZz0iVVRGLTgiPz4KPHN2ZyB3aWR0aD0iODBweCIgaGVpZ2h0PSI4MHB4IiB2aWV3Qm94PSIwIDAgODAgODAiIHZlcnNpb249IjEuMSIgeG1sbnM9Imh0dHA6Ly93d3cudzMub3JnLzIwMDAvc3ZnIiB4bWxuczp4bGluaz0iaHR0cDovL3d3dy53My5vcmcvMTk5OS94bGluayI+CiAgICA8IS0tIEdlbmVyYXRvcjogU2tldGNoIDU0LjEgKDc2NDkwKSAtIGh0dHBzOi8vc2tldGNoYXBwLmNvbSAtLT4KICAgIDx0aXRsZT5Hcm91cCAzPC90aXRsZT4KICAgIDxkZXNjPkNyZWF0ZWQgd2l0aCBTa2V0Y2guPC9kZXNjPgogICAgPGcgaWQ9IkxhbmRpbmciIHN0cm9rZT0ibm9uZSIgc3Ryb2tlLXdpZHRoPSIxIiBmaWxsPSJub25lIiBmaWxsLXJ1bGU9ImV2ZW5vZGQiPgogICAgICAgIDxnIGlkPSJBcnRib2FyZCIgdHJhbnNmb3JtPSJ0cmFuc2xhdGUoLTEyMzUuMDAwMDAwLCAtNzkuMDAwMDAwKSI+CiAgICAgICAgICAgIDxnIGlkPSJHcm91cC0zIiB0cmFuc2Zvcm09InRyYW5zbGF0ZSgxMjM1LjAwMDAwMCwgNzkuMDAwMDAwKSI+CiAgICAgICAgICAgICAgICA8cG9seWdvbiBpZD0iUGF0aC0yMCIgZmlsbD0iIzAyNjVCNCIgcG9pbnRzPSIyLjM3NjIzNzYyIDgwIDM4LjA0NzY2NjcgODAgNTcuODIxNzgyMiA3My44MDU3NTkyIDU3LjgyMTc4MjIgMzIuNzU5MjczOSAzOS4xNDAyMjc4IDMxLjY4MzE2ODMiPjwvcG9seWdvbj4KICAgICAgICAgICAgICAgIDxwYXRoIGQ9Ik0zNS4wMDc3MTgsODAgQzQyLjkwNjIwMDcsNzYuNDU0OTM1OCA0Ny41NjQ5MTY3LDcxLjU0MjI2NzEgNDguOTgzODY2LDY1LjI2MTk5MzkgQzUxLjExMjI4OTksNTUuODQxNTg0MiA0MS42NzcxNzk1LDQ5LjIxMjIyODQgMjUuNjIzOTg0Niw0OS4yMTIyMjg0IEMyNS40ODQ5Mjg5LDQ5LjEyNjg0NDggMjkuODI2MTI5Niw0My4yODM4MjQ4IDM4LjY0NzU4NjksMzEuNjgzMTY4MyBMNzIuODcxMjg3MSwzMi41NTQ0MjUgTDY1LjI4MDk3Myw2Ny42NzYzNDIxIEw1MS4xMTIyODk5LDc3LjM3NjE0NCBMMzUuMDA3NzE4LDgwIFoiIGlkPSJQYXRoLTIyIiBmaWxsPSIjMDAyODY4Ij48L3BhdGg+CiAgICAgICAgICAgICAgICA8cGF0aCBkPSJNMCwzNy43MzA0NDA1IEwyNy4xMTQ1MzcsMC4yNTcxMTE0MzYgQzYyLjM3MTUxMjMsLTEuOTkwNzE3MDEgODAsMTAuNTAwMzkyNyA4MCwzNy43MzA0NDA1IEM4MCw2NC45NjA0ODgyIDY0Ljc3NjUwMzgsNzkuMDUwMzQxNCAzNC4zMjk1MTEzLDgwIEM0Ny4wNTUzNDg5LDc3LjU2NzA4MDggNTMuNDE4MjY3Nyw3MC4zMTM2MTAzIDUzLjQxODI2NzcsNTguMjM5NTg4NSBDNTMuNDE4MjY3Nyw0MC4xMjg1NTU3IDM2LjMwMzk1NDQsMzcuNzMwNDQwNSAyNS4yMjc0MTcsMzcuNzMwNDQwNSBDMTcuODQzMDU4NiwzNy43MzA0NDA1IDkuNDMzOTE5NjYsMzcuNzMwNDQwNSAwLDM3LjczMDQ0MDUgWiIgaWQ9IlBhdGgtMTkiIGZpbGw9IiMzNzkzRUYiPjwvcGF0aD4KICAgICAgICAgICAgPC9nPgogICAgICAgIDwvZz4KICAgIDwvZz4KPC9zdmc+' > </img>\n",
    "Created in <span style='font-weight:600;margin-left:4px;'>Deepnote</span></a>"
   ]
  }
 ],
 "metadata": {
  "deepnote": {
   "is_reactive": false
  },
  "deepnote_execution_queue": [],
  "deepnote_notebook_id": "eb801028-5ca1-4431-81c5-f30d8c1c0b0a",
  "kernelspec": {
   "display_name": "Python 3",
   "language": "python",
   "name": "python3"
  },
  "language_info": {
   "codemirror_mode": {
    "name": "ipython",
    "version": 3
   },
   "file_extension": ".py",
   "mimetype": "text/x-python",
   "name": "python",
   "nbconvert_exporter": "python",
   "pygments_lexer": "ipython3",
   "version": "3.9.5"
  }
 },
 "nbformat": 4,
 "nbformat_minor": 2
}
