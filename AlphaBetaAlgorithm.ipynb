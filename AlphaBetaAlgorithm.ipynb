{
 "cells": [
  {
   "cell_type": "code",
   "metadata": {
    "cell_id": "00000-eaf2c185-bd61-4747-a8a9-a8499790a2ed",
    "tags": [],
    "deepnote_to_be_reexecuted": false,
    "source_hash": "bd190a5a",
    "execution_start": 1646752631669,
    "execution_millis": 450936,
    "deepnote_cell_type": "code",
    "deepnote_cell_height": 116.75,
    "deepnote_output_heights": [
     2
    ]
   },
   "source": "from IPython.core.display import HTML, display\ndisplay(HTML('<style>.container { width:100%; !important } </style>'))",
   "execution_count": null,
   "outputs": [
    {
     "data": {
      "text/plain": "<IPython.core.display.HTML object>",
      "text/html": "<style>.container { width:100%; !important } </style>"
     },
     "metadata": {},
     "output_type": "display_data"
    }
   ]
  },
  {
   "cell_type": "markdown",
   "source": "# Alpha-beta pruning algorithm",
   "metadata": {
    "cell_id": "00001-c358cce6-2aff-4654-b7eb-eb6f0810073f",
    "tags": [],
    "deepnote_cell_type": "markdown",
    "deepnote_cell_height": 81.83332824707031
   }
  },
  {
   "cell_type": "markdown",
   "source": "### Dependencies",
   "metadata": {
    "cell_id": "00001-3f544fa2-3e1d-4cf9-85f4-553b75404d38",
    "tags": [],
    "deepnote_cell_type": "markdown",
    "deepnote_cell_height": 61.83332824707031
   }
  },
  {
   "cell_type": "code",
   "metadata": {
    "cell_id": "dda8470d-f205-42f9-a341-d545a0126f7d",
    "tags": [],
    "deepnote_to_be_reexecuted": false,
    "source_hash": "457e246f",
    "execution_start": 1646752631710,
    "execution_millis": 15464,
    "deepnote_cell_type": "code",
    "deepnote_cell_height": 547.9166870117188
   },
   "source": "!pip install python-chess\n!pip install import_ipynb",
   "execution_count": null,
   "outputs": [
    {
     "name": "stdout",
     "text": "Collecting python-chess\n  Downloading python_chess-1.999-py3-none-any.whl (1.4 kB)\nCollecting chess<2,>=1\n  Downloading chess-1.8.0-py3-none-any.whl (147 kB)\n\u001b[K     |████████████████████████████████| 147 kB 18.7 MB/s \n\u001b[?25hInstalling collected packages: chess, python-chess\nSuccessfully installed chess-1.8.0 python-chess-1.999\n\u001b[33mWARNING: You are using pip version 20.1.1; however, version 22.0.4 is available.\nYou should consider upgrading via the '/root/venv/bin/python -m pip install --upgrade pip' command.\u001b[0m\nCollecting import_ipynb\n  Downloading import-ipynb-0.1.3.tar.gz (4.0 kB)\nBuilding wheels for collected packages: import-ipynb\n  Building wheel for import-ipynb (setup.py) ... \u001b[?25ldone\n\u001b[?25h  Created wheel for import-ipynb: filename=import_ipynb-0.1.3-py3-none-any.whl size=2975 sha256=dbcf2e163e95ea06fec24b592188cfc5f992359ce2983bacbba9118e6646c17a\n  Stored in directory: /root/.cache/pip/wheels/b1/5e/dc/79780689896a056199b0b9f24471e3ee184fbd816df355d5f0\nSuccessfully built import-ipynb\nInstalling collected packages: import-ipynb\nSuccessfully installed import-ipynb-0.1.3\n\u001b[33mWARNING: You are using pip version 20.1.1; however, version 22.0.4 is available.\nYou should consider upgrading via the '/root/venv/bin/python -m pip install --upgrade pip' command.\u001b[0m\n",
     "output_type": "stream"
    }
   ]
  },
  {
   "cell_type": "code",
   "metadata": {
    "cell_id": "00001-bddf5d66-c8ba-4ae2-be82-34d272432057",
    "deepnote_to_be_reexecuted": false,
    "execution_millis": 385,
    "execution_start": 1646752647230,
    "source_hash": "e57b20bf",
    "tags": [],
    "deepnote_cell_type": "code",
    "deepnote_cell_height": 402.83331298828125,
    "deepnote_output_heights": [
     null,
     2,
     null,
     2
    ]
   },
   "source": "import chess\nimport chess.gaviota\nimport random\nimport signal\nimport time\nfrom typing import Union\nfrom enum import Enum\n\nimport import_ipynb\nimport Util\nfrom Globals import *",
   "execution_count": null,
   "outputs": [
    {
     "name": "stdout",
     "text": "importing Jupyter notebook from Util.ipynb\n",
     "output_type": "stream"
    },
    {
     "data": {
      "text/plain": "<IPython.core.display.HTML object>",
      "text/html": "<style>.container { width:100%; !important } </style>"
     },
     "metadata": {},
     "output_type": "display_data"
    },
    {
     "name": "stdout",
     "text": "importing Jupyter notebook from Globals.ipynb\n",
     "output_type": "stream"
    },
    {
     "data": {
      "text/plain": "<IPython.core.display.HTML object>",
      "text/html": "<style>.container { width:100%; !important } </style>"
     },
     "metadata": {},
     "output_type": "display_data"
    }
   ]
  },
  {
   "cell_type": "markdown",
   "source": "#### chess.Board.get_best_move_alphabeta\nFinds the best move to make based on the alpha-beta pruning algorithm. This algorithm works as follows:\n- Iterate over all legal moves in the current position.\n- For each move, find the best possible score after making this move.\n    - This is done by calling the alpha-beta pruning function recursively: increasing the current iteration by 1 and switching turns.\n    - If a move yields a worse score than the previously examined move in the hierarchy, it cannot be the optimal move. Therefore, such moves are not evaluated further.\n- Find the maximum (if it's the AI's turn) or the minimum (if it's other player's/AI's turn) score of all legal moves, alongside the move that was able to reach this optimized state. This is the move that the algorithm recommends.\n\nOptionally, the algorithm uses memoization, which is a type of caching. This works by mapping a board state, plus iteration details, to the corresponding score and move and storing it in a cache dictionary. If, during a later iteration, the same board state is reached on the same iteration, these values can be read from the cache.\n\n__This function is implemented recursively.__\n\n###### <b><u>Arguments</u></b>\n__cache__ _(dict)_ : A cache dictionary if memoization is desired, or None if memoization should be disabled.  \n__alpha__ _(int)_ : The \"alpha\" value in the current iteration. On the first iteration, this value should be strongly negative.  \n__beta__ _(int)_ : The \"beta\" value in the current iteration. On the first iteration, this value should be strongly positive.  \n__ai_turn__ _(bool)_ : Whether or not the current turn is of the AI that started the search. If this is the case, the score should be maximized. Otherwise, the score should be minimized.  \n__color__ _(chess.Color)_ : The color of the player whose turn it currently is.  \n__endgame_tablebase__ _(Union[chess.gaviota.NativeTablebase, chess.gaviota.PythonTablebase])_ : The endgame tablebase attached to the game, which serves as a shortcut for ideal moves in the endgame.  \n__iteration__ _(int)_ : The depth of the search (amount of moves currently looking ahead).  \n__max_iterations__ _(int)_ : The maximum depth of the search.  \n__using_progressive_deepening__ _(bool)_ : Whether or not the search is part of a progressive deepening search.  \n__last_eval_score__ _(int)_ : The score provided by the previous evaluation in the search.  \n\n###### <b><u>Returns <i>(int, chess.Move, bool)</i></u></b>\n- The board score after making the recommended best move.\n- The recommended best move to make.\n- Whether or not the endgame library was used to find the move.\n- Whether or not the endgame library was used to find the move.\n\n###### <b><u>Side effects</u></b>\n- If a cache dictionary is provided, new values may be added to this dictionary.\n- If the search is interrupted, the board may be in a different state than when the search started.",
   "metadata": {
    "cell_id": "00003-32528de8-188f-4576-b697-033fd4194f00",
    "tags": [],
    "deepnote_cell_type": "markdown",
    "deepnote_cell_height": 1635.2333984375
   }
  },
  {
   "cell_type": "code",
   "metadata": {
    "cell_id": "00000-b7c8cf8f-e01f-4e59-9631-2964ed372358",
    "deepnote_to_be_reexecuted": false,
    "execution_millis": 2,
    "execution_start": 1646752647634,
    "source_hash": "b9922ea5",
    "tags": [],
    "is_code_hidden": false,
    "deepnote_cell_type": "code",
    "deepnote_cell_height": 1376.8333740234375
   },
   "source": "def get_best_move_alphabeta(\n    self,\n    cache: dict,\n    alpha: int,\n    beta: int,\n    ai_turn: bool,\n    color: chess.Color,\n    endgame_tablebase: Union[chess.gaviota.NativeTablebase, chess.gaviota.PythonTablebase],\n    iteration: int,\n    max_iterations: int,\n    using_progressive_deepening: bool,\n    last_eval_score: int\n) -> (int, chess.Move, bool):\n\n    state = self.get_state_string()\n    if cache is not None:                \n        alpha, beta, cached_entry = self.get_alphabeta_cache(cache, iteration, max_iterations, state, alpha, beta)\n        if cached_entry is not None: return cached_entry\n\n    original_color = color if ai_turn else not color\n    result_score = self.get_search_result_if_finished(original_color, iteration, max_iterations, last_eval_score)\n    if result_score is not None:\n        return result_score, None, False\n\n    # If the game has not finished, check additional moves using the alpha-beta pruning algorithm\n    best_score = Globals.MAX_EVALUATION_SCORE * (-1 if ai_turn else 1)\n    best_move = None\n    best_move_used_endgame = False\n\n    # Single value extension\n    if len(self.legal_moves) == 1:\n        return self.get_best_move_alphabeta(cache, alpha, beta, not ai_turn, not color, endgame_tablebase, iteration,\n                                            max_iterations, using_progressive_deepening, last_eval_score)\n\n    available_moves = self.get_sorted_moves(cache, ai_turn, max_iterations) if using_progressive_deepening else self.legal_moves\n    for move in available_moves:\n        eval_score, used_endgame_anywhere = self.evaluate_move(color, not ai_turn, last_eval_score, iteration, move, endgame_tablebase)\n        self.push(move)\n\n        if self.is_game_over():\n            score_after_move = eval_score\n        else:\n            score_after_move, _, used_endgame = self.get_best_move_alphabeta(cache, alpha, beta, not ai_turn, not color, endgame_tablebase,\n                                                                             iteration + 1, max_iterations, using_progressive_deepening,\n                                                                             eval_score)\n            used_endgame_anywhere = used_endgame_anywhere or used_endgame\n\n        self.pop()\n                                                               \n        if (ai_turn and score_after_move > best_score) or (not ai_turn and score_after_move < best_score):\n            best_score = score_after_move\n            best_move = move\n            best_move_used_endgame = used_endgame_anywhere\n\n        if ai_turn:\n            if best_score >= beta:\n                return best_score, best_move, best_move_used_endgame\n            if best_score > alpha:\n                alpha = best_score\n        else:\n            if best_score <= alpha:\n                return best_score, best_move, best_move_used_endgame\n            if best_score < beta:\n                beta = best_score\n\n    result = (best_score, best_move, best_move_used_endgame)\n    if cache is not None:\n        self.store_alphabeta_cache(cache, iteration, max_iterations, state, alpha, beta, result)\n        \n    return result\n\nchess.Board.get_best_move_alphabeta = get_best_move_alphabeta\ndel get_best_move_alphabeta",
   "execution_count": null,
   "outputs": []
  },
  {
   "cell_type": "code",
   "metadata": {
    "cell_id": "b2eafaee-876b-4f32-a562-403ea177a709",
    "tags": [],
    "deepnote_to_be_reexecuted": false,
    "source_hash": "f848c8ab",
    "execution_start": 1646752647644,
    "execution_millis": 1,
    "deepnote_cell_type": "code",
    "deepnote_cell_height": 134.8333282470703
   },
   "source": "class Comparisons(Enum):\n    EQUAL = 0\n    LTE = 1 # Less than or equal to\n    GTE = 2 # Greater than or equal to",
   "execution_count": null,
   "outputs": []
  },
  {
   "cell_type": "code",
   "metadata": {
    "cell_id": "a6e40fb8-e9fc-48a1-8828-a6bb03a80018",
    "tags": [],
    "deepnote_to_be_reexecuted": false,
    "source_hash": "610c5561",
    "execution_start": 1646752647657,
    "execution_millis": 4,
    "deepnote_cell_type": "code",
    "deepnote_cell_height": 710.8333129882812
   },
   "source": "def get_alphabeta_cache(\n    self,\n    cache: dict,\n    iteration: int,\n    max_iterations: int,\n    state: str,\n    alpha: int,\n    beta: int\n) -> (int, int, (int, chess.Move, bool)):\n\n    # Note: if a result is returned (i.e. not None) then alpha and beta don't matter anymore\n\n    key = (iteration, max_iterations, state)\n    if key not in cache:\n        return alpha, beta, None\n\n    flag, result = cache[key]\n    score, _, _ = result\n    if flag == Comparisons.EQUAL:\n        return alpha, beta, result\n    if flag == Comparisons.LTE:\n        if score <= alpha:\n            return alpha, beta, result\n        if score < beta: # alpha < score < beta\n            return alpha, score, None\n    if flag == Comparisons.GTE:\n        if beta <= score:\n            return alpha, beta, result\n        if alpha < score: # alpha < score < beta\n            return score, beta, None\n\n    # Invalid flag or no optimization possible\n    return alpha, beta, None\n\nchess.Board.get_alphabeta_cache = get_alphabeta_cache\ndel get_alphabeta_cache",
   "execution_count": null,
   "outputs": []
  },
  {
   "cell_type": "code",
   "metadata": {
    "cell_id": "0f087a79-7cbb-4bef-95de-5562749be1a6",
    "tags": [],
    "deepnote_to_be_reexecuted": false,
    "source_hash": "a374430c",
    "execution_start": 1646752647672,
    "execution_millis": 1,
    "deepnote_cell_type": "code",
    "deepnote_cell_height": 476.83331298828125
   },
   "source": "def store_alphabeta_cache(\n    self,\n    cache: dict,\n    iteration: int,\n    max_iterations: int,\n    state: str,\n    alpha: int,\n    beta: int,\n    result: tuple\n) -> None:\n\n    key = (iteration, max_iterations, state)\n    score, _, _ = result\n\n    if score <= alpha:\n        cache[key] = (Comparisons.LTE, result)\n    elif score < beta: # alpha < score < beta\n        cache[key] = (Comparisons.EQUAL, result)\n    else: # beta <= score\n        cache[key] = (Comparisons.GTE, result)\n\nchess.Board.store_alphabeta_cache = store_alphabeta_cache\ndel store_alphabeta_cache",
   "execution_count": null,
   "outputs": []
  },
  {
   "cell_type": "code",
   "metadata": {
    "cell_id": "c7bc5d80-447d-4f93-bf20-fbb0f244aee5",
    "tags": [],
    "deepnote_to_be_reexecuted": false,
    "source_hash": "59151123",
    "execution_start": 1646752647682,
    "execution_millis": 1,
    "deepnote_cell_type": "code",
    "deepnote_cell_height": 314.83331298828125
   },
   "source": "def alpha_beta_value_cache(self, cache: dict, move: chess.Move, max_iterations: int) -> int:\n    if max_iterations < 1:\n        return 0\n        \n    self.push(move)\n    state = self.get_state_string()\n    self.pop()\n    \n    _, result = cache.get((0, max_iterations, state), ('=', (0, None, False)))\n    score, _, _ = result\n    return score\n\nchess.Board.alpha_beta_value_cache = alpha_beta_value_cache\ndel alpha_beta_value_cache",
   "execution_count": null,
   "outputs": []
  },
  {
   "cell_type": "code",
   "metadata": {
    "cell_id": "3768c34c-fd6b-4f6e-a31f-c99755b5bd9d",
    "tags": [],
    "deepnote_to_be_reexecuted": false,
    "source_hash": "d509e800",
    "execution_start": 1646752647718,
    "execution_millis": 0,
    "deepnote_cell_type": "code",
    "deepnote_cell_height": 152.8333282470703
   },
   "source": "def get_sorted_moves(self, cache: dict, ai_turn: bool, max_iterations: int) -> list:\n    return sorted(self.legal_moves, reverse=ai_turn, key=lambda move: self.alpha_beta_value_cache(cache, move, max_iterations - 2))\n\nchess.Board.get_sorted_moves = get_sorted_moves\ndel get_sorted_moves",
   "execution_count": null,
   "outputs": []
  },
  {
   "cell_type": "markdown",
   "source": "#### make_move_alphabeta\nFinds the best possible move according to the alpha-beta pruning algorithm and pushes it onto the move stack.\n\n###### <b><u>Arguments</u></b>\n__board__ _(chess.Board)_ : The board to push the move to.  \n__color__ _(chess.Color)_ : The color of the player that makes the move.  \n__search_depth__ _(int)_ : The iteration depth of the alpha-beta search.  \n__endgame_tablebase__ _(Union[chess.gaviota.NativeTablebase, chess.gaviota.PythonTablebase])_ : The endgame tablebase attached to the game, which serves as a shortcut for ideal moves in the endgame.  \n\n###### <b><u>Returns <i>(int, chess.Move, bool, bool)</i></u></b>\n- The evaluated score of the best possible move.\n- The best possible move that was found.\n- Whether or not the endgame library was used to find the move.\n- Whether or not the endgame library was used to find the move.\n\n###### <b><u>Side effects</u></b>\n- The best possible move is pushed to the move stack of the board.",
   "metadata": {
    "cell_id": "00011-23576796-2219-48b5-9b85-338d5304a3fa",
    "tags": [],
    "deepnote_cell_type": "markdown",
    "deepnote_cell_height": 450.433349609375
   }
  },
  {
   "cell_type": "code",
   "metadata": {
    "cell_id": "00004-f54aaa33-8247-43b3-9098-2890db438a8d",
    "deepnote_to_be_reexecuted": false,
    "execution_millis": 0,
    "execution_start": 1646752647719,
    "source_hash": "4ca7d759",
    "tags": [],
    "deepnote_cell_type": "code",
    "deepnote_cell_height": 458.83331298828125
   },
   "source": "def make_move_alphabeta(\n    board: chess.Board,\n    color: chess.Color,\n    search_depth: int,\n    endgame_tablebase: Union[chess.gaviota.NativeTablebase, chess.gaviota.PythonTablebase]\n) -> (int, chess.Move, bool):\n\n    score, move, used_endgame = board.get_best_move_alphabeta(\n        cache={}, \n        alpha=-Globals.MAX_EVALUATION_SCORE, \n        beta=Globals.MAX_EVALUATION_SCORE, \n        ai_turn=True, \n        color=color,\n        endgame_tablebase=endgame_tablebase,\n        iteration=0, \n        max_iterations=search_depth,\n        using_progressive_deepening=False,\n        last_eval_score=0 # The starting board score doesn't matter, it's evaluated by score difference\n    )\n    \n    board.push(move)\n    return score, move, used_endgame",
   "execution_count": null,
   "outputs": []
  },
  {
   "cell_type": "code",
   "metadata": {
    "cell_id": "3f145f6b-a43b-4ed2-b0f6-485e5aed44a4",
    "tags": [],
    "deepnote_to_be_reexecuted": false,
    "source_hash": "699f9d1",
    "execution_start": 1646752647719,
    "execution_millis": 1,
    "deepnote_cell_type": "code",
    "deepnote_cell_height": 602.8333129882812
   },
   "source": "def make_move_alphabeta_progressive_deepening(\n    board: chess.Board,\n    color: chess.Color,\n    search_depth: int,\n    endgame_tablebase: Union[chess.gaviota.NativeTablebase, chess.gaviota.PythonTablebase]\n) -> (int, chess.Move, bool):\n\n    cache = {}\n    score, move, used_endgame = 0, None, False\n\n    for limit in range(1, search_depth + 1):\n        score, move, used_endgame = board.get_best_move_alphabeta(\n            cache=cache,\n            alpha=-Globals.MAX_EVALUATION_SCORE,\n            beta=Globals.MAX_EVALUATION_SCORE,\n            ai_turn=True,\n            color=color,\n            endgame_tablebase=endgame_tablebase,\n            iteration=0,\n            max_iterations=limit,\n            using_progressive_deepening=True,\n            last_eval_score=0 # The starting board score doesn't matter, it's evaluated by score difference\n        )\n\n        # If a checkmate in favor of the AI has been found, there's no reason to search any further\n        if score == Globals.EVALUATION_SCORE_CHECKMATE:\n            return score, move, used_endgame\n\n    board.push(move)\n    return score, move, used_endgame",
   "execution_count": null,
   "outputs": []
  },
  {
   "cell_type": "code",
   "metadata": {
    "cell_id": "5e6ef12e-ae57-4778-a70a-1d460c1bcd12",
    "tags": [],
    "deepnote_to_be_reexecuted": false,
    "source_hash": "b623e53d",
    "execution_start": 1646752647722,
    "execution_millis": 2,
    "deepnote_cell_type": "code",
    "deepnote_cell_height": 80.83332824707031
   },
   "source": "",
   "execution_count": null,
   "outputs": []
  },
  {
   "cell_type": "markdown",
   "source": "<a style='text-decoration:none;line-height:16px;display:flex;color:#5B5B62;padding:10px;justify-content:end;' href='https://deepnote.com?utm_source=created-in-deepnote-cell&projectId=d6ce9acd-52c5-4422-904d-8424da19408b' target=\"_blank\">\n<img alt='Created in deepnote.com' style='display:inline;max-height:16px;margin:0px;margin-right:7.5px;' src='data:image/svg+xml;base64,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' > </img>\nCreated in <span style='font-weight:600;margin-left:4px;'>Deepnote</span></a>",
   "metadata": {
    "tags": [],
    "created_in_deepnote_cell": true,
    "deepnote_cell_type": "markdown"
   }
  }
 ],
 "nbformat": 4,
 "nbformat_minor": 2,
 "metadata": {
  "deepnote": {
   "is_reactive": false
  },
  "deepnote_execution_queue": [],
  "deepnote_notebook_id": "a3aa8d62-1517-4618-8cd7-29b3aa7b5c6c",
  "kernelspec": {
   "display_name": "Python 3 (ipykernel)",
   "language": "python",
   "name": "python3"
  },
  "language_info": {
   "codemirror_mode": {
    "name": "ipython",
    "version": 3
   },
   "file_extension": ".py",
   "mimetype": "text/x-python",
   "name": "python",
   "nbconvert_exporter": "python",
   "pygments_lexer": "ipython3",
   "version": "3.9.4"
  }
 }
}