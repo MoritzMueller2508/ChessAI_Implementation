{
 "cells": [
  {
   "cell_type": "code",
   "execution_count": null,
   "metadata": {
    "cell_id": "00000-eaf2c185-bd61-4747-a8a9-a8499790a2ed",
    "deepnote_cell_type": "code",
    "deepnote_output_heights": [
     2
    ],
    "tags": []
   },
   "outputs": [],
   "source": [
    "from IPython.core.display import HTML, display\n",
    "display(HTML('<style>.container { width:100%; !important } </style>'))"
   ]
  },
  {
   "cell_type": "markdown",
   "metadata": {
    "cell_id": "00001-c358cce6-2aff-4654-b7eb-eb6f0810073f",
    "deepnote_cell_type": "markdown",
    "tags": []
   },
   "source": [
    "# Alpha-beta pruning algorithm"
   ]
  },
  {
   "cell_type": "markdown",
   "metadata": {
    "cell_id": "00001-3f544fa2-3e1d-4cf9-85f4-553b75404d38",
    "deepnote_cell_type": "markdown",
    "tags": []
   },
   "source": [
    "### Dependencies"
   ]
  },
  {
   "cell_type": "code",
   "execution_count": null,
   "metadata": {
    "cell_id": "00001-bddf5d66-c8ba-4ae2-be82-34d272432057",
    "deepnote_cell_type": "code",
    "deepnote_output_heights": [
     null,
     2,
     null,
     2
    ],
    "deepnote_to_be_reexecuted": false,
    "execution_millis": 2,
    "execution_start": 1642695538374,
    "source_hash": "895bbd9e",
    "tags": []
   },
   "outputs": [],
   "source": [
    "import chess\n",
    "import chess.gaviota\n",
    "import random\n",
    "import signal\n",
    "import time\n",
    "from typing import Union\n",
    "\n",
    "import import_ipynb\n",
    "import Util\n",
    "from Globals import *"
   ]
  },
  {
   "cell_type": "markdown",
   "metadata": {
    "cell_id": "00003-32528de8-188f-4576-b697-033fd4194f00",
    "deepnote_cell_type": "markdown",
    "tags": []
   },
   "source": [
    "#### chess.Board.get_best_move_alphabeta\n",
    "Finds the best move to make based on the alpha-beta pruning algorithm. This algorithm works as follows:\n",
    "- Iterate over all legal moves in the current position.\n",
    "- For each move, find the best possible score after making this move.\n",
    "    - This is done by calling the alpha-beta pruning function recursively: increasing the current iteration by 1 and switching turns.\n",
    "    - If a move yields a worse score than the previously examined move in the hierarchy, it cannot be the optimal move. Therefore, such moves are not evaluated further.\n",
    "- Find the maximum (if it's the AI's turn) or the minimum (if it's other player's/AI's turn) score of all legal moves, alongside the move that was able to reach this optimized state. This is the move that the algorithm recommends.\n",
    "\n",
    "Optionally, the algorithm uses memoization, which is a type of caching. This works by mapping a board state, plus iteration details, to the corresponding score and move and storing it in a cache dictionary. If, during a later iteration, the same board state is reached on the same iteration, these values can be read from the cache.\n",
    "\n",
    "__This function is implemented recursively.__\n",
    "\n",
    "###### <b><u>Arguments</u></b>\n",
    "__cache__ _(dict)_ : A cache dictionary if memoization is desired, or None if memoization should be disabled.  \n",
    "__alpha__ _(int)_ : The \"alpha\" value in the current iteration. On the first iteration, this value should be strongly negative.  \n",
    "__beta__ _(int)_ : The \"beta\" value in the current iteration. On the first iteration, this value should be strongly positive.  \n",
    "__ai_turn__ _(bool)_ : Whether or not the current turn is of the AI that started the search.  \n",
    "__color__ _(chess.Color)_ : The color of the player whose turn it currently is.  \n",
    "__endgame_tablebase__ _(Union[chess.gaviota.NativeTablebase, chess.gaviota.PythonTablebase])_ : The endgame tablebase attached to the game, which serves as a shortcut for ideal moves in the endgame.  \n",
    "__iteration__ _(int)_ : The depth of the search (amount of moves currently looking ahead).  \n",
    "__max_iterations__ _(int)_ : The maximum depth of the search.  \n",
    "__last_eval_score__ _(int)_ : The score provided by the previous evaluation in the search.  \n",
    "\n",
    "###### <b><u>Returns <i>(int, chess.Move, bool)</i></u></b>\n",
    "- The board score after making the recommended best move.\n",
    "- The recommended best move to make.\n",
    "- Whether or not the endgame library was used to find the move.\n",
    "- Whether or not the endgame library was used to find the move.\n",
    "\n",
    "###### <b><u>Side effects</u></b>\n",
    "- If a cache dictionary is provided, new values may be added to this dictionary.\n",
    "- If the search is interrupted, the board may be in a different state than when the search started."
   ]
  },
  {
   "cell_type": "code",
   "execution_count": null,
   "metadata": {
    "cell_id": "00000-b7c8cf8f-e01f-4e59-9631-2964ed372358",
    "deepnote_cell_type": "code",
    "deepnote_to_be_reexecuted": false,
    "execution_millis": 39,
    "execution_start": 1637933574910,
    "source_hash": "8e69fb13",
    "tags": []
   },
   "outputs": [],
   "source": [
    "def get_best_move_alphabeta(\n",
    "    self,\n",
    "    cache: dict,\n",
    "    alpha: int,\n",
    "    beta: int,\n",
    "    ai_turn: bool,\n",
    "    color: chess.Color,\n",
    "    endgame_tablebase: Union[chess.gaviota.NativeTablebase, chess.gaviota.PythonTablebase],\n",
    "    iteration: int,\n",
    "    max_iterations: int,\n",
    "    last_eval_score: int\n",
    ") -> (int, chess.Move, bool):\n",
    "                            \n",
    "    if cache is not None and (iteration, self.get_state_string()) in cache:\n",
    "        return cache[(iteration, self.get_state_string())]\n",
    "\n",
    "    original_color = color if ai_turn else not color\n",
    "    result_score = self.get_search_result_if_finished(original_color, iteration, max_iterations, last_eval_score)\n",
    "    if result_score is not None:\n",
    "        return result_score, None, False\n",
    "\n",
    "    # If the game has not finished, check additional moves using the alpha-beta pruning algorithm\n",
    "    best_score = Globals.MAX_EVALUATION_SCORE * (-1 if ai_turn else 1)\n",
    "    best_move = None\n",
    "    best_move_used_endgame = False\n",
    "    for move in self.legal_moves:\n",
    "        eval_score, used_endgame_anywhere = self.evaluate_move(color, not ai_turn, last_eval_score, iteration, move, endgame_tablebase)\n",
    "        self.push(move)\n",
    "\n",
    "        if self.is_game_over():\n",
    "            score_after_move = eval_score\n",
    "        else:\n",
    "            score_after_move, _, used_endgame = self.get_best_move_alphabeta(cache, alpha, beta, not ai_turn, not color, endgame_tablebase,\n",
    "                                                                             iteration + 1, max_iterations, eval_score)\n",
    "            used_endgame_anywhere = used_endgame_anywhere or used_endgame\n",
    "\n",
    "        self.pop()\n",
    "                                                               \n",
    "        if (ai_turn and score_after_move > best_score) or (not ai_turn and score_after_move < best_score):\n",
    "            best_score = score_after_move\n",
    "            best_move = move\n",
    "            best_move_used_endgame = used_endgame_anywhere\n",
    "\n",
    "        if ai_turn:\n",
    "            if best_score >= beta:\n",
    "                return best_score, best_move, best_move_used_endgame\n",
    "            if best_score > alpha:\n",
    "                alpha = best_score\n",
    "        else:\n",
    "            if best_score <= alpha:\n",
    "                return best_score, best_move, best_move_used_endgame\n",
    "            if best_score < beta:\n",
    "                beta = best_score\n",
    "\n",
    "    if cache is not None:\n",
    "        cache[(iteration, self.get_state_string())] = best_score, best_move, best_move_used_endgame\n",
    "        \n",
    "    return best_score, best_move, best_move_used_endgame\n",
    "\n",
    "chess.Board.get_best_move_alphabeta = get_best_move_alphabeta\n",
    "del get_best_move_alphabeta"
   ]
  },
  {
   "cell_type": "markdown",
   "metadata": {
    "cell_id": "00011-23576796-2219-48b5-9b85-338d5304a3fa",
    "deepnote_cell_type": "markdown",
    "tags": []
   },
   "source": [
    "#### make_move_alphabeta\n",
    "Finds the best possible move according to the alpha-beta pruning algorithm and pushes it onto the move stack.\n",
    "\n",
    "###### <b><u>Arguments</u></b>\n",
    "__board__ _(chess.Board)_ : The board to push the move to.  \n",
    "__color__ _(chess.Color)_ : The color of the player that makes the move.  \n",
    "__search_depth__ _(int)_ : The iteration depth of the alpha-beta search.  \n",
    "__endgame_tablebase__ _(Union[chess.gaviota.NativeTablebase, chess.gaviota.PythonTablebase])_ : The endgame tablebase attached to the game, which serves as a shortcut for ideal moves in the endgame.  \n",
    "\n",
    "###### <b><u>Returns <i>(int, chess.Move, bool, bool)</i></u></b>\n",
    "- The evaluated score of the best possible move.\n",
    "- The best possible move that was found.\n",
    "- Whether or not the endgame library was used to find the move.\n",
    "- Whether or not the endgame library was used to find the move.\n",
    "\n",
    "###### <b><u>Side effects</u></b>\n",
    "- The best possible move is pushed to the move stack of the board."
   ]
  },
  {
   "cell_type": "code",
   "execution_count": null,
   "metadata": {
    "cell_id": "00004-f54aaa33-8247-43b3-9098-2890db438a8d",
    "deepnote_cell_type": "code",
    "deepnote_to_be_reexecuted": false,
    "execution_millis": 1,
    "execution_start": 1637933575122,
    "source_hash": "7d50cb7b",
    "tags": []
   },
   "outputs": [],
   "source": [
    "def make_move_alphabeta(\n",
    "    board: chess.Board,\n",
    "    color: chess.Color,\n",
    "    search_depth: int,\n",
    "    endgame_tablebase: Union[chess.gaviota.NativeTablebase, chess.gaviota.PythonTablebase]\n",
    ") -> (int, chess.Move, bool):\n",
    "\n",
    "    score, move, used_endgame = board.get_best_move_alphabeta(\n",
    "        cache={}, \n",
    "        alpha=-Globals.MAX_EVALUATION_SCORE, \n",
    "        beta=Globals.MAX_EVALUATION_SCORE, \n",
    "        ai_turn=True, \n",
    "        color=color,\n",
    "        endgame_tablebase=endgame_tablebase,\n",
    "        iteration=0, \n",
    "        max_iterations=search_depth,\n",
    "        last_eval_score=0 # The starting board score doesn't matter, it's evaluated by score difference\n",
    "    )\n",
    "    \n",
    "    board.push(move)\n",
    "    return score, move, used_endgame"
   ]
  },
  {
   "cell_type": "markdown",
   "metadata": {
    "created_in_deepnote_cell": true,
    "deepnote_cell_type": "markdown",
    "tags": []
   },
   "source": [
    "<a style='text-decoration:none;line-height:16px;display:flex;color:#5B5B62;padding:10px;justify-content:end;' href='https://deepnote.com?utm_source=created-in-deepnote-cell&projectId=d6ce9acd-52c5-4422-904d-8424da19408b' target=\"_blank\">\n",
    "<img alt='Created in deepnote.com' style='display:inline;max-height:16px;margin:0px;margin-right:7.5px;' src='data:image/svg+xml;base64,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' > </img>\n",
    "Created in <span style='font-weight:600;margin-left:4px;'>Deepnote</span></a>"
   ]
  }
 ],
 "metadata": {
  "deepnote": {
   "is_reactive": false
  },
  "deepnote_execution_queue": [],
  "deepnote_notebook_id": "a3aa8d62-1517-4618-8cd7-29b3aa7b5c6c",
  "kernelspec": {
   "display_name": "Python 3 (ipykernel)",
   "language": "python",
   "name": "python3"
  },
  "language_info": {
   "codemirror_mode": {
    "name": "ipython",
    "version": 3
   },
   "file_extension": ".py",
   "mimetype": "text/x-python",
   "name": "python",
   "nbconvert_exporter": "python",
   "pygments_lexer": "ipython3",
   "version": "3.9.4"
  }
 },
 "nbformat": 4,
 "nbformat_minor": 2
}
