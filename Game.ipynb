{
 "cells": [
  {
   "cell_type": "code",
   "execution_count": null,
   "metadata": {
    "cell_id": "00000-bf48c591-cf89-4605-a4f0-94c0da4eee47",
    "deepnote_app_coordinates": {
     "h": 5,
     "w": 12,
     "x": 0,
     "y": null
    },
    "deepnote_cell_height": 117,
    "deepnote_cell_type": "code",
    "deepnote_output_heights": [
     2
    ],
    "deepnote_to_be_reexecuted": false,
    "execution_millis": 52,
    "execution_start": 1652790801392,
    "source_hash": "bd190a5a",
    "tags": []
   },
   "outputs": [],
   "source": [
    "from IPython.core.display import HTML, display\n",
    "display(HTML('<style>.container { width:100%; !important } </style>'))"
   ]
  },
  {
   "cell_type": "markdown",
   "metadata": {
    "cell_id": "00001-c58a7d41-da07-42e9-9ddc-60816ec2a229",
    "deepnote_app_coordinates": {
     "h": 5,
     "w": 12,
     "x": 0,
     "y": 6
    },
    "deepnote_cell_height": 82,
    "deepnote_cell_type": "markdown",
    "tags": []
   },
   "source": [
    "# The Chess Interface and Game Loop"
   ]
  },
  {
   "cell_type": "markdown",
   "metadata": {
    "cell_id": "00001-21a73485-cde6-4ade-8067-a798ef992bd0",
    "deepnote_app_coordinates": {
     "h": 5,
     "w": 12,
     "x": 0,
     "y": 12
    },
    "deepnote_cell_height": 62,
    "deepnote_cell_type": "markdown",
    "tags": []
   },
   "source": [
    "### Dependencies"
   ]
  },
  {
   "cell_type": "code",
   "execution_count": null,
   "metadata": {
    "cell_id": "00000-6f985b14-fa1e-4d1d-a929-be0f93ddb0df",
    "deepnote_app_coordinates": {
     "h": 5,
     "w": 12,
     "x": 0,
     "y": 18
    },
    "deepnote_cell_height": 333,
    "deepnote_cell_type": "code",
    "deepnote_output_heights": [
     null,
     2,
     null,
     2,
     null,
     2
    ],
    "deepnote_to_be_reexecuted": false,
    "execution_millis": 804,
    "execution_start": 1654260871008,
    "output_cleared": true,
    "source_hash": "dca1dc74",
    "tags": []
   },
   "outputs": [],
   "source": [
    "import chess\n",
    "import chess.svg\n",
    "import chess.polyglot\n",
    "import chess.gaviota\n",
    "import time\n",
    "import random\n",
    "import re\n",
    "from IPython.display import clear_output, SVG, display, HTML\n",
    "from typing import Callable, Union\n",
    "from pathlib import Path\n",
    "\n",
    "import import_ipynb\n",
    "import Util\n",
    "from Globals import Globals\n",
    "from ChessAlgorithm import ChessAlgorithm"
   ]
  },
  {
   "cell_type": "markdown",
   "metadata": {
    "cell_id": "00003-87b30704-4e52-4f35-b53a-560dedb4974c",
    "deepnote_app_coordinates": {
     "h": 5,
     "w": 12,
     "x": 0,
     "y": 24
    },
    "deepnote_cell_height": 192,
    "deepnote_cell_type": "markdown",
    "tags": []
   },
   "source": [
    "#### chess.Board.push_legal\n",
    "Pushes a move to a board's move stack only if it is a valid, legal move. If the move is illegal or invalid, a `ValueError` is raised and the board state remains unaffected.\n",
    "\n",
    "###### __<u>Arguments</u>__\n",
    "``move (chess.Move):``  \n",
    "The move that should be pushed to the move stack."
   ]
  },
  {
   "cell_type": "code",
   "execution_count": null,
   "metadata": {
    "cell_id": "00001-05c7d25b-a6a6-4f73-92b7-f40ff39334a7",
    "deepnote_app_coordinates": {
     "h": 5,
     "w": 12,
     "x": 0,
     "y": 30
    },
    "deepnote_cell_height": 189,
    "deepnote_cell_type": "code",
    "deepnote_to_be_reexecuted": false,
    "execution_millis": 772,
    "execution_start": 1654459883983,
    "output_cleared": true,
    "source_hash": "a6731782",
    "tags": []
   },
   "outputs": [],
   "source": [
    "def push_legal(self, move: chess.Move):\n",
    "    if move not in self.legal_moves:\n",
    "        raise ValueError('Illegal move')\n",
    "    self.push(move)\n",
    "\n",
    "chess.Board.push_legal = push_legal\n",
    "del push_legal"
   ]
  },
  {
   "cell_type": "markdown",
   "metadata": {
    "cell_id": "3d65a59697964bf89564ebf03807439c",
    "deepnote_app_coordinates": {
     "h": 5,
     "w": 12,
     "x": 0,
     "y": 0
    },
    "deepnote_cell_height": 326.796875,
    "deepnote_cell_type": "markdown",
    "tags": []
   },
   "source": [
    "<a id= 'OpeningEnd'></a>\n",
    "For the implementation of the `Game` class to make sense, we must first define opening books and endgame tablebases.\n",
    "\n",
    "**Opening books** contain logical moves to make in a variety of positions in the early game. These are tried and tested moves that professional chess players often use in these positions. Reading a move from an opening book is very quick, so our implementation makes use of such an opening book. The opening book we use is *The Baron's Polyglot Opening Book* (see [Pijl, R. \\[2018\\]](Bibliography.ipynb#PR18)).\n",
    "\n",
    "**Endgame tablebases** are similar in concept to opening books, but are applied during the endgame. Positions during endgames where both players have few pieces are stored in these tablebases. When reading such a position, one can retrieve an endgame score. If this score is positive, the current side to move has a guaranteed checkmate in that many moves. If this score is negative, the current side to move is guaranteed to be checkmated by the opponent in that many moves, assuming perfect play from the opponent. If this score is $0$, a draw is forced. Endgame tablebases allow search algorithms to find if moves lead to checkmates or draws, even if the amount of plies leading up to that event exceeds their search depth. The endgame tablebases we use are the *Gaviota endgame tablebases* (see [Chess Programming Wiki \\[2020a\\]](Bibliography.ipynb#CPW20a)).  \n",
    "If the algorithm checks if the endgame tablebases can be used on each move, there is an unnecessary loss in performance. Therefore, it is important to only probe the endgame tablebases if the game is actually in the endgame. "
   ]
  },
  {
   "cell_type": "markdown",
   "metadata": {
    "cell_id": "00005-e57b162a-1158-4a3f-87ce-d787ede02b90",
    "deepnote_app_coordinates": {
     "h": 5,
     "w": 12,
     "x": 0,
     "y": 36
    },
    "deepnote_cell_height": 769.1875,
    "deepnote_cell_type": "markdown",
    "tags": []
   },
   "source": [
    "### Game Class\n",
    "Lets the user play a game of chess against an AI using a virtual chess board UI. Alternatively, two AIs may play against each other. The game may use any algorithm for the AI(s) to make their moves.\n",
    "<br><br>\n",
    "\n",
    "#### Game.\\_\\_init\\_\\_\n",
    "The constructor for the `Game` class. Gets called whenever a new `Game` instance is created.\n",
    "\n",
    "###### __<u>Arguments</u>__\n",
    "``algorithm_white (type[ChessAlgorithm], default: None):``  \n",
    "The class of the chess algorithm that the white pieces should use to make a new move, or `None` if the white pieces are player-controlled.  \n",
    "\n",
    "``algorithm_black (type[ChessAlgorithm], default: None):``  \n",
    "The class of the chess algorithm that the black pieces should use to make a new move, or `None` if the black pieces are player-controlled. \n",
    "\n",
    "``search_depth_white (int, default: 4):``  \n",
    "The search depth for the white AI's search algorithm. \n",
    "\n",
    "``search_depth_black (int, default: 4):``  \n",
    "The search depth for the black AI's search algorithm.\n",
    "\n",
    "``opening_book (str, default: 'Resources/baron30.bin'):``  \n",
    "The path to the desired opening book the AIs will use, or `None` if no opening book is desired.\n",
    "\n",
    "``endgame_tablebase_dir (str, default: 'Resources/Gaviota'):``  \n",
    "The path to the directory of the desired endgame tablebases the AIs will use, or `None` if no endgame tablebases are desired.\n",
    "\n",
    "``use_heuristic (bool, default: True):``  \n",
    "Whether or not to use a heuristic to evaluate moves. This is only `False` in the context of chess problems, where only checkmates need to be considered.\n",
    "\n",
    "``fen (str, default: None):``  \n",
    "The FEN code representing the state that the chess board should start in, or `None` if it should start in the standard starting layout.  \n",
    "\n",
    "###### <b><u>Side effects</u></b>\n",
    "If neither `algorithm_white` nor `algorithm_black` is set to be an AI, the game will exit. At least one AI is required to play the game.\n"
   ]
  },
  {
   "cell_type": "code",
   "execution_count": null,
   "metadata": {
    "cell_id": "00007-00baebf0-015e-4a8f-b2f4-0d1c9579dc6c",
    "deepnote_app_coordinates": {
     "h": 5,
     "w": 12,
     "x": 0,
     "y": 42
    },
    "deepnote_cell_height": 891,
    "deepnote_cell_type": "code",
    "deepnote_to_be_reexecuted": false,
    "execution_millis": 60,
    "execution_start": 1654460230419,
    "source_hash": "2895e254",
    "tags": []
   },
   "outputs": [],
   "source": [
    "class Game:\n",
    "    def __init__(\n",
    "        self,\n",
    "        algorithm_white: type[ChessAlgorithm]=None,\n",
    "        algorithm_black: type[ChessAlgorithm]=None,\n",
    "        search_depth_white: int=4,\n",
    "        search_depth_black: int=4,\n",
    "        opening_book: str='Resources/baron30.bin',\n",
    "        endgame_tablebase_dir: str='Resources/Gaviota',\n",
    "        use_heuristic: bool=True,\n",
    "        fen: str=None\n",
    "    ):\n",
    "        self.opening_book = opening_book\n",
    "        self.endgame_tablebase_dir = endgame_tablebase_dir\n",
    "\n",
    "        self.test_playthrough = []\n",
    "        self.problem_playthroughs = {}\n",
    "        self.wins = []\n",
    "\n",
    "        self.board = chess.Board() if fen is None else chess.Board(fen=fen)\n",
    "        self.board.ending = False\n",
    "        self.board.check_endgame_tablebase = False\n",
    "\n",
    "        if self.endgame_tablebase_dir is not None:\n",
    "            self.endgame_tablebase = chess.gaviota.open_tablebase(\n",
    "                    self.endgame_tablebase_dir)\n",
    "\n",
    "        self.move_times = { chess.WHITE: [], chess.BLACK: [] }\n",
    "\n",
    "        if algorithm_white is not None:\n",
    "            algorithm_white = algorithm_white(self.board, search_depth_white,\n",
    "                    self.endgame_tablebase, use_heuristic)\n",
    "        if algorithm_black is not None:\n",
    "            algorithm_black = algorithm_black(self.board, search_depth_black,\n",
    "                    self.endgame_tablebase, use_heuristic)\n",
    "\n",
    "        self.algorithm = {\n",
    "            chess.WHITE: algorithm_white,\n",
    "            chess.BLACK: algorithm_black\n",
    "        }\n",
    "        self.is_ai = self.get_ai_state()\n",
    "\n",
    "        # The game requires that at least one player is an AI.\n",
    "        # It is not a multiplayer chess game.\n",
    "        if not self.is_ai[chess.WHITE] and not self.is_ai[chess.BLACK]:\n",
    "            raise ValueError('At least one player must be an AI')"
   ]
  },
  {
   "cell_type": "markdown",
   "metadata": {
    "cell_id": "edf4f21e-b0ad-4d28-9cc3-70110197c8ee",
    "deepnote_app_coordinates": {
     "h": 5,
     "w": 12,
     "x": 0,
     "y": 48
    },
    "deepnote_cell_height": 698.796875,
    "deepnote_cell_type": "markdown",
    "tags": []
   },
   "source": [
    "#### Game: Class Variables  \n",
    "\n",
    "``BOARD_DISPLAY_SIZE (int):``  \n",
    "The size of the displayed chess board in pixels.\n",
    "\n",
    "``board (chess.Board):``   \n",
    "The chess board instance that's used for the game.\n",
    "\n",
    "``algorithm (dict<chess.Color, ChessAlgorithm>):``   \n",
    "The algorithms the AIs, playing white and/or black, use to make a move.\n",
    "\n",
    "``is_ai (dict<chess.Color, bool>):``   \n",
    "Whether a color is AI-controlled (`True`) or player-controlled (`False`).\n",
    "\n",
    "``move_times (dict<chess.Color, list>):``   \n",
    "The time the AI(s) took to make their move.\n",
    "\n",
    "``test_playthrough (list<tuple<int, chess.Move, bool>>):``  \n",
    "The progress of the current game playthrough (evaluated move score, move and if the endgame tablebases produced the move).\n",
    "\n",
    "``problem_playthroughs (dict<str, list>):``   \n",
    "A test playthrough list (see above) for each test, useful when debugging multiple chess problem tests.\n",
    "\n",
    "``wins (list<chess.Color>):``   \n",
    "A list of colors that have won in the previous tests (`None` in case of a draw).\n",
    "\n",
    "``opening_book (str):``  \n",
    "A path to a Polyglot opening book, or `None` if no opening book is in use.\n",
    "\n",
    "``endgame_tablebase_dir (str):``  \n",
    "A path to a Gaviota endgame tablebase directory, or `None` if no endgame tablebases are in use.\n",
    "\n",
    "``endgame_tablebase (chess.gaviota.PythonTablebase):``   \n",
    "The endgame tablebase object, or `None` if no endgame tablebases are in use."
   ]
  },
  {
   "cell_type": "code",
   "execution_count": null,
   "metadata": {
    "cell_id": "21325334-a5f7-4d76-a40f-9e184b3b7b6c",
    "deepnote_app_coordinates": {
     "h": 5,
     "w": 12,
     "x": 0,
     "y": 54
    },
    "deepnote_cell_height": 423,
    "deepnote_cell_type": "code",
    "deepnote_to_be_reexecuted": false,
    "execution_millis": 0,
    "execution_start": 1652790802180,
    "source_hash": "b9909d1b",
    "tags": []
   },
   "outputs": [],
   "source": [
    "# Constants\n",
    "Game.BOARD_DISPLAY_SIZE = 500\n",
    "\n",
    "# Board variables\n",
    "Game.board = None\n",
    "\n",
    "# AI and player declarations\n",
    "Game.algorithm = None\n",
    "Game.is_ai = None\n",
    "\n",
    "# Testing declarations\n",
    "Game.move_times = None\n",
    "Game.test_playthrough = None\n",
    "Game.problem_playthroughs = None\n",
    "Game.wins = None\n",
    "\n",
    "# Opening book and endgame tablebase declarations\n",
    "Game.opening_book = None\n",
    "Game.endgame_tablebase_dir = None\n",
    "Game.endgame_tablebase = None"
   ]
  },
  {
   "cell_type": "markdown",
   "metadata": {
    "cell_id": "173d3240-cd83-4555-82bf-c63fb48220e2",
    "deepnote_app_coordinates": {
     "h": 5,
     "w": 12,
     "x": 0,
     "y": 60
    },
    "deepnote_cell_height": 756,
    "deepnote_cell_type": "markdown",
    "owner_user_id": "bf601137-8aff-4afc-8e92-5767ca086e79",
    "tags": []
   },
   "source": [
    "#### Game.play  \n",
    "\n",
    "Starts a game of chess. Allows the AI(s) and optionally a human player to make moves, updating the chess board accordingly and displaying it visually. There are two distinct ways a game can progress:\n",
    "\n",
    "``(AI, AI):``  \n",
    "In this case, two AIs, specified by the user in the constructor of the class, play against each other. The AIs make moves based on the specified algorithms, depending on the current board state. The AIs take turns.\n",
    "  \n",
    "``(AI, Player) - (Player, AI):``    \n",
    "In this case, an AI, specified by the user in the constructor of the class, and a human player compete against each other. The AI makes the best move found by the algorithm based on the current board state. On the other hand, the player can specify the move to make via input (if it's valid and legal). The player and AI take turns.\n",
    "\n",
    "###### <b><u>Arguments</u></b>\n",
    "``chess_problem (str, default: None):``  \n",
    "The name of the chess problem which should be executed, or `None` if no chess problem is used.\n",
    "\n",
    "``search_depth_auto (bool, default: False):``  \n",
    "Whether or not the search depth should automatically be set to solve a chess problem. In games that don't involve a chess problem, this should be `False`.\n",
    "\n",
    "``automation (bool, default: True):``  \n",
    "Whether or not the game progresses without user input. This should always be `True` if more than one chess problem is executed.\n",
    "\n",
    "``max_depth (int, default: None):``  \n",
    "Only applicable to chess problems. Chess problems whose solutions require more plies than this value are skipped. If set to `None`, no chess problems are skipped.  \n",
    "\n",
    "\n",
    "######  <u>__Side effects__</u> \n",
    "- The state of the board is changed.  \n",
    "- The chess board is visually displayed.\n",
    "- The times the AI(s) take to make a move are tracked and saved.\n",
    "- All moves are tracked and saved.\n",
    "- A \"winner message\" is displayed upon the end of the game.\n",
    "- The game is saved in a text file. The name of this file is the current Unix timestamp.\n"
   ]
  },
  {
   "cell_type": "code",
   "execution_count": null,
   "metadata": {
    "cell_id": "00010-02b76cdf-4dac-4e74-a323-9b8775fcd1cb",
    "deepnote_app_coordinates": {
     "h": 5,
     "w": 12,
     "x": 0,
     "y": 66
    },
    "deepnote_cell_height": 1368.1875,
    "deepnote_cell_type": "code",
    "deepnote_to_be_reexecuted": false,
    "execution_millis": 587,
    "execution_start": 1654253332863,
    "source_hash": "93428120",
    "tags": []
   },
   "outputs": [],
   "source": [
    "def play(\n",
    "    self,\n",
    "    chess_problem: str=None,\n",
    "    search_depth_auto: bool=False,\n",
    "    automation: bool=True,\n",
    "    max_depth: int=None\n",
    ") -> None:\n",
    "\n",
    "    # Set up a chess problem if required\n",
    "    use_heuristic = (chess_problem is None)\n",
    "    if chess_problem is None:\n",
    "        problem, iterations = None, None\n",
    "    else:\n",
    "        problem, iterations = self.set_up_chess_problem(chess_problem)\n",
    "        if max_depth is not None and iterations > max_depth:\n",
    "            return\n",
    "        \n",
    "    # Play the game\n",
    "    self.display(display_board_score=False, automation=True)\n",
    "    while not self.board.is_game_over():\n",
    "        if self.is_ai[self.board.turn]:\n",
    "            # AI makes a move\n",
    "            time_stamp = time.time()\n",
    "\n",
    "            # Make move\n",
    "            made_opening_move, opening_move = self.make_opening_move()\n",
    "            if made_opening_move:\n",
    "                # Move from the opening library\n",
    "                score, move, used_endgame, move_list = 'opening_library', opening_move, False, []\n",
    "            else:\n",
    "                color = self.board.turn\n",
    "                \n",
    "                # For chess problems, automatically set the search depth high enough\n",
    "                # to solve the problem\n",
    "                if search_depth_auto and iterations is not None:\n",
    "                    self.algorithm[color].search_depth = iterations\n",
    "                \n",
    "                score, move, used_endgame, move_list = self.algorithm[color].make_move()\n",
    "                self.test_playthrough.append((score, move.uci(), used_endgame))\n",
    "\n",
    "            # Register time it took to make the move\n",
    "            move_time = time.time() - time_stamp\n",
    "            self.move_times[not self.board.turn].append(move_time)\n",
    "        else:\n",
    "            # Human player makes a move\n",
    "            move = self.make_move_human()\n",
    "            score, used_endgame, move_list, move_time = 'Human_move', 'Human_move', [], 'Human_move'\n",
    "\n",
    "        self.board.check_and_set_ending()\n",
    "        if self.endgame_tablebase is not None: self.board.update_check_endgame_tablebase()\n",
    "        self.display(score, move, used_endgame, move_list, move_time, automation=automation)\n",
    "\n",
    "    # Display message after the game has ended\n",
    "    is_draw = self.board.outcome() is None or self.board.outcome().winner is None\n",
    "    winner = '' if is_draw \\\n",
    "        else 'White' if self.board.outcome().winner == chess.WHITE \\\n",
    "        else 'Black'\n",
    "    winner_message = 'It\\'s a draw!' if is_draw else f'{winner} is the winner!'\n",
    "    print(f'The game has ended. {winner_message}\\n')\n",
    "    print(self.board.outcome()) \n",
    "    \n",
    "    # Register chess problem info\n",
    "    if problem is not None and automation:\n",
    "        self.set_problem_playthrough(problem)\n",
    "\n",
    "    self.save_game()\n",
    "\n",
    "Game.play = play\n",
    "del play"
   ]
  },
  {
   "cell_type": "markdown",
   "metadata": {
    "cell_id": "f451b212-7258-4a2c-90da-da3ebbbb176c",
    "deepnote_app_coordinates": {
     "h": 5,
     "w": 12,
     "x": 0,
     "y": 72
    },
    "deepnote_cell_height": 1316.796875,
    "deepnote_cell_type": "markdown",
    "tags": []
   },
   "source": [
    "#### Game.display\n",
    "Displays the chess board graphically. Optionally, it also displays the last move, the score of that last move, the predicted move sequence, whether or not the endgame tablebases were used to find that move and how long the AI took to find that move. Optionally, it also displays the total board score for the color that just made a move, using the function `chess.Board.board_score` in [Util.ipynb](Util.ipynb#BoardScore).\n",
    "\n",
    "###### __<u>Arguments</u>__\n",
    "\n",
    "``score (Union[int, str], default: None): ``  \n",
    "The score of the last move. Can also be a string displaying information if a score isn't applicable. If `None`, no score is displayed.  \n",
    "\n",
    "``move (chess.Move, default: None): ``  \n",
    "The move that was last made. If `None`, no move is displayed.  \n",
    "\n",
    "``used_endgame (Union[bool, str], default: None): ``  \n",
    "Whether or not the endgame tablebases were used to find the last move. Can also be a string displaying information if this statistic isn't applicable. If `None`, this statistic is not displayed. \n",
    "\n",
    "``move_list (list<chess.Move>, default: None): ``  \n",
    "The predicted sequence of moves that the algorithm found. If `None`, no move list is displayed.    \n",
    "\n",
    "``move_time (Union[float, str], default: None): ``  \n",
    "The time, in seconds, that the AI took to find the last move. Can also be a string displaying information if a search time isn't applicable. If `None`, no time is displayed.  \n",
    "\n",
    "``display_board_score (bool, default: True): ``  \n",
    "Whether or not to display the board score for the last player that made a move.\n",
    "   \n",
    "``automation (bool, default: True): ``  \n",
    "Whether or not the game progresses without user input.  \n",
    "\n",
    "###### __<u>Side effects</u>__\n",
    "The current visual output is overwritten.\n"
   ]
  },
  {
   "cell_type": "code",
   "execution_count": null,
   "metadata": {
    "cell_id": "00009-d720b37e-432a-49ca-8aa8-0bc95e23401f",
    "deepnote_app_coordinates": {
     "h": 5,
     "w": 12,
     "x": 0,
     "y": 78
    },
    "deepnote_cell_height": 765,
    "deepnote_cell_type": "code",
    "deepnote_to_be_reexecuted": false,
    "execution_millis": 0,
    "execution_start": 1652790802224,
    "source_hash": "992b1d26"
   },
   "outputs": [],
   "source": [
    "def display(\n",
    "    self,\n",
    "    score: Union[int, str]=None,\n",
    "    move: chess.Move=None,\n",
    "    used_endgame: Union[bool, str]=None,\n",
    "    move_list: list=None,\n",
    "    move_time: Union[float, str]=None,\n",
    "    display_board_score: bool=True,\n",
    "    automation: bool=True\n",
    ") -> None:\n",
    "\n",
    "    # Display board\n",
    "    clear_output(wait=True)\n",
    "    try:\n",
    "        last_move = self.board.peek()\n",
    "        board_visual = chess.svg.board(self.board, size=self.BOARD_DISPLAY_SIZE,\n",
    "                lastmove=last_move, check=self.get_check_square()) \n",
    "    except IndexError:\n",
    "        board_visual = chess.svg.board(self.board, size=self.BOARD_DISPLAY_SIZE)\n",
    "    display(board_visual)\n",
    "\n",
    "    # Display stats\n",
    "    seconds_string = '' if isinstance(move_time, str) else 'seconds'\n",
    "    if move_time is not None: print(f'Search time: {move_time} {seconds_string}')\n",
    "    if move is not None: print(f'Move: {move.uci()}')\n",
    "    if move_list is not None and len(move_list) > 0:\n",
    "        move_sequence = ', '.join( move.uci() for move in move_list )\n",
    "        print(f'Predicted move sequence: {move_sequence}')\n",
    "    if score is not None: print(f'Move score: {score}')\n",
    "    if used_endgame is not None: print(f'Used endgame tablebase: {used_endgame}')\n",
    "    if display_board_score:\n",
    "        color_string = 'white' if not self.board.turn == chess.WHITE else 'black'\n",
    "        print(f'Board score for {color_string}: {self.board.board_score(not self.board.turn)}')\n",
    "\n",
    "    if not automation:\n",
    "        input('Press any button to continue')\n",
    "\n",
    "Game.display = display\n",
    "del display"
   ]
  },
  {
   "cell_type": "markdown",
   "metadata": {
    "cell_id": "cbdf8a61-1337-4c09-ab19-048f4ef7b7e2",
    "deepnote_app_coordinates": {
     "h": 5,
     "w": 12,
     "x": 0,
     "y": 84
    },
    "deepnote_cell_height": 169.59375,
    "deepnote_cell_type": "markdown",
    "tags": []
   },
   "source": [
    "#### Game.get_check_square\n",
    "Checks if a piece is giving check, and if so, returns the square that piece is on. Due to limitations of the chess library, only one check square can be displayed. Therefore, if multiple pieces are giving check, only one such square is returned.\n",
    "\n",
    "######  __<u>Returns _(chess.Square)_</u>__\n",
    "The square which gives check, or `None` if there is no check.\n",
    "    "
   ]
  },
  {
   "cell_type": "code",
   "execution_count": null,
   "metadata": {
    "cell_id": "00010-f6d2a47e-5679-43e8-afac-3a669b571dd3",
    "deepnote_app_coordinates": {
     "h": 5,
     "w": 12,
     "x": 0,
     "y": 90
    },
    "deepnote_cell_height": 189,
    "deepnote_cell_type": "code",
    "deepnote_to_be_reexecuted": false,
    "execution_millis": 6281233535,
    "execution_start": 1652790802225,
    "source_hash": "77d4d154"
   },
   "outputs": [],
   "source": [
    "def get_check_square(self) -> chess.Square:\n",
    "    if self.board.is_check():\n",
    "        return self.board.checkers().pop()\n",
    "    return None\n",
    "            \n",
    "Game.get_check_square = get_check_square\n",
    "del get_check_square"
   ]
  },
  {
   "cell_type": "markdown",
   "metadata": {
    "cell_id": "fb4be5bf-207b-46e1-aabf-3bb49553dc18",
    "deepnote_app_coordinates": {
     "h": 5,
     "w": 12,
     "x": 0,
     "y": 96
    },
    "deepnote_cell_height": 189.59375,
    "deepnote_cell_type": "markdown",
    "tags": []
   },
   "source": [
    "#### Game.make_opening_move\n",
    "Makes a random move from the opening book, if available. If not, no move is made.\n",
    "\n",
    "###### __<u>Returns _(bool, chess.Move)_</u>__\n",
    "- Whether or not an opening move has been made.\n",
    "- The move that was made, or `None` if no move has been made."
   ]
  },
  {
   "cell_type": "code",
   "execution_count": null,
   "metadata": {
    "cell_id": "00011-79094b90-bc3f-46fd-879c-c3dd9480661e",
    "deepnote_app_coordinates": {
     "h": 5,
     "w": 12,
     "x": 0,
     "y": 102
    },
    "deepnote_cell_height": 351,
    "deepnote_cell_type": "code",
    "deepnote_to_be_reexecuted": false,
    "execution_millis": 1,
    "execution_start": 1652790802287,
    "source_hash": "f398a7ad"
   },
   "outputs": [],
   "source": [
    "def make_opening_move(self) -> (bool, chess.Move):\n",
    "    if self.opening_book is None:\n",
    "        return False, None\n",
    "\n",
    "    with chess.polyglot.open_reader(self.opening_book) as reader:\n",
    "        possible_moves = [ entry.move for entry in reader.find_all(self.board) ]\n",
    "        if len(possible_moves) > 0:\n",
    "            move = random.choice(possible_moves)\n",
    "            self.board.push(move)\n",
    "            self.test_playthrough.append(('opening_library', move.uci(), False))\n",
    "            return True, move\n",
    "\n",
    "    return False, None\n",
    "\n",
    "Game.make_opening_move = make_opening_move\n",
    "del make_opening_move"
   ]
  },
  {
   "cell_type": "markdown",
   "metadata": {
    "cell_id": "bd85924b-457e-47e9-89dd-7efbda5f41ed",
    "deepnote_app_coordinates": {
     "h": 5,
     "w": 12,
     "x": 0,
     "y": 108
    },
    "deepnote_cell_height": 189.59375,
    "deepnote_cell_type": "markdown",
    "tags": []
   },
   "source": [
    "#### Game.get_ai_state\n",
    "Defines which players are AIs depending on the `self.algorithm` dictionary.\n",
    "\n",
    "###### __<u>Returns _(dict<chess.Color, bool>)_</u>__\n",
    "- The color of the player (white or black).\n",
    "- Whether or not that player is an AI."
   ]
  },
  {
   "cell_type": "code",
   "execution_count": null,
   "metadata": {
    "cell_id": "00012-aa1192f6-48e7-49fe-9e32-f3a470f6a2ba",
    "deepnote_app_coordinates": {
     "h": 5,
     "w": 12,
     "x": 0,
     "y": 114
    },
    "deepnote_cell_height": 207,
    "deepnote_cell_type": "code",
    "deepnote_to_be_reexecuted": false,
    "execution_millis": 12654018,
    "execution_start": 1652790802332,
    "source_hash": "674845b1"
   },
   "outputs": [],
   "source": [
    "def get_ai_state(self) -> dict:\n",
    "    return {\n",
    "        color: self.algorithm[color] is not None\n",
    "            for color in ( chess.WHITE, chess.BLACK )\n",
    "    }\n",
    "\n",
    "Game.get_ai_state = get_ai_state\n",
    "del get_ai_state"
   ]
  },
  {
   "cell_type": "markdown",
   "metadata": {
    "cell_id": "9615c9df-c881-4662-b1ca-a48604c4b70d",
    "deepnote_app_coordinates": {
     "h": 5,
     "w": 12,
     "x": 0,
     "y": 120
    },
    "deepnote_cell_height": 169.59375,
    "deepnote_cell_type": "markdown",
    "tags": []
   },
   "source": [
    "#### Game.make_move_human\n",
    "If the player is human, this method enables the human player to make a move through the input console. The moves should contain the starting and ending square, e.g. `e2e4`. A fifth character is required in the case of a promotion to denote the piece to promote to, e.g. `e7e8q` for promoting the pawn to a queen.\n",
    "\n",
    "###### __<u>Returns _(chess.Move)_</u>__\n",
    "The move that was made."
   ]
  },
  {
   "cell_type": "code",
   "execution_count": null,
   "metadata": {
    "cell_id": "00013-2e9fea17-72ac-404d-9865-0cc6d70107f4",
    "deepnote_app_coordinates": {
     "h": 5,
     "w": 12,
     "x": 0,
     "y": 126
    },
    "deepnote_cell_height": 351,
    "deepnote_cell_type": "code",
    "deepnote_to_be_reexecuted": false,
    "execution_millis": 6281233626,
    "execution_start": 1652790802333,
    "source_hash": "e380986d"
   },
   "outputs": [],
   "source": [
    "def make_move_human(self) -> chess.Move:\n",
    "    move = None\n",
    "    input_prompt = 'Please input your move: '\n",
    "    while True:\n",
    "        try:\n",
    "            move = chess.Move.from_uci(input(input_prompt))\n",
    "            self.board.push_legal(move)\n",
    "            self.test_playthrough.append(('Human_move', move.uci(), 'Human_move'))\n",
    "            return\n",
    "        except ValueError:\n",
    "            input_prompt = 'Illegal move, please try again: '\n",
    "\n",
    "    return move\n",
    "                \n",
    "Game.make_move_human = make_move_human\n",
    "del make_move_human"
   ]
  },
  {
   "cell_type": "markdown",
   "metadata": {
    "cell_id": "c0a073aa-8a15-4d0d-9455-a0f16c3f740a",
    "deepnote_app_coordinates": {
     "h": 5,
     "w": 12,
     "x": 0,
     "y": 132
    },
    "deepnote_cell_height": 110.796875,
    "deepnote_cell_type": "markdown",
    "tags": []
   },
   "source": [
    "#### Game.save_game\n",
    "Saves the move stack as well as all the scores and endgame tablebase usages to a file. The file is stored in the `SavedGames` directory. The name consists of the Unix timestamp at the time of the file's creation. \n",
    "This file can then later be loaded."
   ]
  },
  {
   "cell_type": "code",
   "execution_count": null,
   "metadata": {
    "cell_id": "00015-c86a10a8-f015-4024-ba7c-4a4e6b8ed038",
    "deepnote_app_coordinates": {
     "h": 5,
     "w": 12,
     "x": 0,
     "y": 138
    },
    "deepnote_cell_height": 657,
    "deepnote_cell_type": "code",
    "deepnote_to_be_reexecuted": false,
    "execution_millis": 0,
    "execution_start": 1652791588277,
    "source_hash": "e13292ad"
   },
   "outputs": [],
   "source": [
    "def save_game(self) -> None:\n",
    "    try:\n",
    "        path = './SavedGames'\n",
    "        Path(path).mkdir(parents=True, exist_ok=True)\n",
    "        filename = str(time.time()).replace('.', '_') + '.txt'\n",
    "        \n",
    "        file_contents = ''\n",
    "        with open(path + '/' + filename, 'w') as f:\n",
    "            file_contents = 'move_white, move_black | score_white, score_black | ' \\\n",
    "                    + 'endgameUsed_white , endgameUsed_black ; \\n'\n",
    "\n",
    "            playthrough = { chess.WHITE: [], chess.BLACK: [] }\n",
    "            for i, entry in enumerate(self.test_playthrough):\n",
    "                color = chess.WHITE if i % 2 == 0 else chess.BLACK\n",
    "                playthrough[color].append(entry)\n",
    "\n",
    "            for i in range(len(playthrough[chess.WHITE])):\n",
    "                score_white, move_white, used_endgame_white = playthrough[chess.WHITE][i]\n",
    "                try:\n",
    "                    score_black, move_black, used_endgame_black = playthrough[chess.BLACK][i]\n",
    "                except IndexError:\n",
    "                    score_black, move_black, used_endgame_black = None, None, None\n",
    "                entry = f'{i}. {move_white} , {move_black} | {score_white} , {score_black} ' \\\n",
    "                        + f'| {used_endgame_white} , {used_endgame_black} ;\\n'\n",
    "                file_contents += entry\n",
    "\n",
    "            file_contents += str(self.board.outcome())\n",
    "            f.write(file_contents)\n",
    "    except OSError:\n",
    "        print('Could not write to the save file')\n",
    "            \n",
    "Game.save_game = save_game\n",
    "del save_game"
   ]
  },
  {
   "cell_type": "markdown",
   "metadata": {
    "cell_id": "c08f78a1-a559-45ff-90da-e1aef5e67f28",
    "deepnote_app_coordinates": {
     "h": 5,
     "w": 12,
     "x": 0,
     "y": 144
    },
    "deepnote_cell_height": 250.796875,
    "deepnote_cell_type": "markdown",
    "tags": []
   },
   "source": [
    "#### Game.load_game\n",
    "A saved game is loaded. The user must input the path to the saved file using an input console. The game will be recreated by loading the move stack from a saved game. Optionally, the user can play back all the moves that were made during the game, and resume the game from the current position at any point.\n",
    "\n",
    "###### __<u>Arguments</u>__\n",
    "``playback (bool, default: True):``  \n",
    "Whether or not to play back all moves of the game.\n",
    "\n",
    "###### __<u>Side effects</u>__  \n",
    "Execution is paused until a valid file name is given as user input."
   ]
  },
  {
   "cell_type": "code",
   "execution_count": null,
   "metadata": {
    "cell_id": "2832041b-20f2-4b52-ae4a-36a99888814b",
    "deepnote_app_coordinates": {
     "h": 5,
     "w": 12,
     "x": 0,
     "y": 150
    },
    "deepnote_cell_height": 1071,
    "deepnote_cell_type": "code",
    "deepnote_to_be_reexecuted": false,
    "execution_millis": 0,
    "execution_start": 1652793565549,
    "source_hash": "ee1b82b1",
    "tags": []
   },
   "outputs": [],
   "source": [
    "def load_game(self, playback: bool=True) -> None:\n",
    "    while True:\n",
    "        try:\n",
    "            filename = input('Input the path to your save file:\\n')\n",
    "            if not filename.endswith('.txt'):\n",
    "                filename += '.txt'\n",
    "\n",
    "            self.board.reset()\n",
    "            self.board.clear_stack()\n",
    "            if playback:\n",
    "                self.display()\n",
    "                \n",
    "            with open(filename) as f:\n",
    "                lines = f.readlines()[1:-1]\n",
    "                for line in lines:\n",
    "                    items = [\n",
    "                        item for item in line.split()\n",
    "                            if item not in [',', '|', ';']\n",
    "                            and not re.match('[0-9]+\\.', item)\n",
    "                    ]\n",
    "                    if len(items) != 6:\n",
    "                        raise OSError\n",
    "\n",
    "                    move_white, move_black, score_white, score_black, \\\n",
    "                            used_endgame_white, used_endgame_black = items\n",
    "                    items_white = (move_white, score_white, used_endgame_white)\n",
    "                    items_black = (move_black, score_black, used_endgame_black)\n",
    "\n",
    "                    for move, score, used_endgame in (items_white, items_black):\n",
    "                        if move == 'None':\n",
    "                            self.play()\n",
    "                            return\n",
    "\n",
    "                        if playback:\n",
    "                            decision = input(\"Input 'P' to play from this state, input anything \" \\\n",
    "                                    + 'else to continue')\n",
    "                            if decision.lower() == 'p':\n",
    "                                self.play()\n",
    "                                return\n",
    "                            self.test_playthrough.append((score, move, used_endgame))\n",
    "                            self.board.push_legal(chess.Move.from_uci(move))\n",
    "                            self.display()\n",
    "                            print(f'Score: {score}, move: {move}, used endgame tablebase: {used_endgame}')\n",
    "                        else:\n",
    "                            self.test_playthrough.append((score, move, used_endgame))\n",
    "                            self.board.push_legal(chess.Move.from_uci(move))\n",
    "\n",
    "                        self.board.check_and_set_ending()\n",
    "                        if self.endgame_tablebase is not None: self.board.update_check_endgame_tablebase()\n",
    "\n",
    "            return\n",
    "        except OSError:\n",
    "            print(f'Ther file coult not be found or the file is corrupted - please try again')\n",
    "    \n",
    "Game.load_game = load_game\n",
    "del load_game"
   ]
  },
  {
   "cell_type": "markdown",
   "metadata": {
    "cell_id": "00027-7a6a38e0-9810-4824-aea2-46fe3ebebd46",
    "deepnote_app_coordinates": {
     "h": 5,
     "w": 12,
     "x": 0,
     "y": 156
    },
    "deepnote_cell_height": 360.390625,
    "deepnote_cell_type": "markdown"
   },
   "source": [
    "#### Game.set_up_chess_problem\n",
    "Sets the board state to the starting state of a chess problem, using a FEN code. If the given chess problem is invalid, it asks the user for input. Furthermore, it finds the minimum amount of moves to solve the chess problem, which can be used as a search depth to theoretically guarantee that a search algorithm can find the optimal solution.\n",
    "\n",
    "\n",
    "###### __<u>Arguments</u>__\n",
    "``chess_problem (str):``  \n",
    "The abbreviated name of the chess problem (see `Globals.CHESS_PROBLEMS`).\n",
    "\n",
    "###### <u>__Returns _(str, int)___</u>\n",
    "- The abbreviated name of the problem that is played.\n",
    "- The minimum amount of plies to solve the chess problem.\n",
    "\n",
    "###### __<u>Side effects</u>__\n",
    "If no chess problem is given as an argument, the user is prompted for input."
   ]
  },
  {
   "cell_type": "code",
   "execution_count": null,
   "metadata": {
    "cell_id": "00028-d7d0c68e-743a-4b2a-af01-8df6064535e7",
    "deepnote_app_coordinates": {
     "h": 5,
     "w": 12,
     "x": 0,
     "y": 162
    },
    "deepnote_cell_height": 603,
    "deepnote_cell_type": "code",
    "deepnote_to_be_reexecuted": false,
    "execution_millis": 17,
    "execution_start": 1652790802421,
    "source_hash": "feec45d3"
   },
   "outputs": [],
   "source": [
    "def set_up_chess_problem(self, chess_problem: str) -> (str, int):\n",
    "    # Clear the test_playthrough list - this dict may have contained moves from\n",
    "    # the last playthrough\n",
    "    self.test_playthrough.clear()\n",
    "\n",
    "    if chess_problem not in Globals.CHESS_PROBLEMS:\n",
    "        for p in Globals.CHESS_PROBLEMS:\n",
    "            print(f' {p},')\n",
    "        problem = input('Please choose a chess problem from the above. \\n' \\\n",
    "                + 'You can find further information about the given problems ' \\\n",
    "                + 'in Globals.ipynb\\n')\n",
    "        while problem not in Globals.CHESS_PROBLEMS:\n",
    "            clear_output()\n",
    "            for p in Globals.CHESS_PROBLEMS:\n",
    "                print(f' {p},')\n",
    "            problem = input('Wrong input, please try again. Type one of the '\n",
    "                    + 'above abbreviations to initialze the test')\n",
    "    else:\n",
    "        problem = chess_problem\n",
    "\n",
    "    if problem is not None:\n",
    "        self.board.set_fen(Globals.CHESS_PROBLEMS[problem])\n",
    "\n",
    "    iterations = Globals.CHESS_PROBLEM_PLY_COUNT[problem] \\\n",
    "            if problem in Globals.CHESS_PROBLEM_PLY_COUNT \\\n",
    "            else None\n",
    "    return problem, iterations\n",
    "\n",
    "Game.set_up_chess_problem = set_up_chess_problem\n",
    "del set_up_chess_problem"
   ]
  },
  {
   "cell_type": "markdown",
   "metadata": {
    "cell_id": "00029-04261029-6cbc-4126-a754-8d51b1df29f8",
    "deepnote_app_coordinates": {
     "h": 5,
     "w": 12,
     "x": 0,
     "y": 168
    },
    "deepnote_cell_height": 192,
    "deepnote_cell_type": "markdown"
   },
   "source": [
    "#### Game.set_problem_playthrough\n",
    "Registers a playthrough of the current chess problem as defined in `self.test_playthrough`. This is added to the `self.problems_playthrough` dictionary so that the playthrough is saved even if another test is run. Furthermore, the winning color is appended to a list of winners.\n",
    "\n",
    "###### __<u>Arguments</u>__\n",
    "``problem (str):``  \n",
    "The abbreviated name of the chess problem."
   ]
  },
  {
   "cell_type": "code",
   "execution_count": null,
   "metadata": {
    "cell_id": "00030-7681eebc-a9b9-4772-a26b-e331af35011b",
    "deepnote_app_coordinates": {
     "h": 5,
     "w": 12,
     "x": 0,
     "y": 174
    },
    "deepnote_cell_height": 315,
    "deepnote_cell_type": "code",
    "deepnote_to_be_reexecuted": false,
    "execution_millis": 11,
    "execution_start": 1652790802455,
    "owner_user_id": "1e489002-1d0e-4892-8dc4-49d215805343",
    "source_hash": "4143bf91"
   },
   "outputs": [],
   "source": [
    "def set_problem_playthrough(self, problem: str) -> None:\n",
    "    self.problem_playthroughs[problem] = list(self.test_playthrough)\n",
    "    winner = None\n",
    "    if self.board.outcome() is None or self.board.outcome().winner is None:\n",
    "        winner = None \n",
    "    elif self.board.outcome().winner == chess.WHITE:\n",
    "        winner = 'white'\n",
    "    else:\n",
    "        winner = 'black'\n",
    "            \n",
    "    self.wins.append(winner)\n",
    "    \n",
    "Game.set_problem_playthrough = set_problem_playthrough\n",
    "del set_problem_playthrough"
   ]
  }
 ],
 "metadata": {
  "deepnote": {
   "is_reactive": false
  },
  "deepnote_app_layout": "article",
  "deepnote_execution_queue": [],
  "deepnote_notebook_id": "b3597d7b-68ac-4caa-b143-c84d929dc93f",
  "kernelspec": {
   "display_name": "Python 3 (ipykernel)",
   "language": "python",
   "name": "python3"
  },
  "language_info": {
   "codemirror_mode": {
    "name": "ipython",
    "version": 3
   },
   "file_extension": ".py",
   "mimetype": "text/x-python",
   "name": "python",
   "nbconvert_exporter": "python",
   "pygments_lexer": "ipython3",
   "version": "3.9.12"
  }
 },
 "nbformat": 4,
 "nbformat_minor": 2
}
