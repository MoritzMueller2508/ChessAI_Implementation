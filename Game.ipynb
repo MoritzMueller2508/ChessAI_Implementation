{
 "cells": [
  {
   "cell_type": "markdown",
   "source": "# The chess interface and game loop",
   "metadata": {
    "tags": [],
    "cell_id": "00001-c58a7d41-da07-42e9-9ddc-60816ec2a229",
    "deepnote_cell_type": "markdown"
   }
  },
  {
   "cell_type": "markdown",
   "source": "### Dependencies",
   "metadata": {
    "tags": [],
    "cell_id": "00001-21a73485-cde6-4ade-8067-a798ef992bd0",
    "deepnote_cell_type": "markdown"
   }
  },
  {
   "cell_type": "code",
   "metadata": {
    "tags": [],
    "cell_id": "00000-6f985b14-fa1e-4d1d-a929-be0f93ddb0df",
    "deepnote_to_be_reexecuted": false,
    "source_hash": "f4414631",
    "execution_start": 1635859445060,
    "execution_millis": 5967,
    "deepnote_cell_type": "code"
   },
   "source": "%pip install python-chess # TODO Remove\n\nimport chess, chess.svg\nfrom IPython.display import clear_output, SVG, display, HTML",
   "execution_count": 21,
   "outputs": [
    {
     "name": "stdout",
     "text": "Requirement already satisfied: python-chess in /usr/local/lib/python3.7/site-packages (1.999)\nRequirement already satisfied: chess<2,>=1 in /usr/local/lib/python3.7/site-packages (from python-chess) (1.7.0)\n\u001b[33mWARNING: Running pip as the 'root' user can result in broken permissions and conflicting behaviour with the system package manager. It is recommended to use a virtual environment instead: https://pip.pypa.io/warnings/venv\u001b[0m\n\u001b[33mWARNING: You are using pip version 21.2.4; however, version 21.3.1 is available.\nYou should consider upgrading via the '/usr/local/bin/python -m pip install --upgrade pip' command.\u001b[0m\nNote: you may need to restart the kernel to use updated packages.\n",
     "output_type": "stream"
    }
   ]
  },
  {
   "cell_type": "markdown",
   "source": "### chess.Board.push_legal\nPushes a move to a board's move stack only if it is a valid, legal move. If the move is illegal or invalid, a ValueError is raised and the board state remains unaffected.\n\n##### Arguments\n    move : chess.Move\n        The move that should be pushed to the move stack.\n\n##### Returns\n    N/A\n\n##### Side effects\n    - Pushes a move to the board's move stack, assuming the move was valid and legal.",
   "metadata": {
    "tags": [],
    "cell_id": "00003-87b30704-4e52-4f35-b53a-560dedb4974c",
    "deepnote_cell_type": "markdown"
   }
  },
  {
   "cell_type": "code",
   "metadata": {
    "tags": [],
    "cell_id": "00001-05c7d25b-a6a6-4f73-92b7-f40ff39334a7",
    "deepnote_to_be_reexecuted": false,
    "source_hash": "dd4cc157",
    "execution_start": 1635858665201,
    "execution_millis": 24,
    "deepnote_cell_type": "code"
   },
   "source": "def push_legal(self, move: chess.Move):\n    if move not in self.legal_moves:\n        raise ValueError('Illegal move')\n    self.push(move)\n\nchess.Board.push_legal = push_legal",
   "execution_count": 2,
   "outputs": []
  },
  {
   "cell_type": "markdown",
   "source": "---\n<br>\n\n## Game class\nLets the user play a game of chess against the AI using a virtual chess board UI. The game may use any algorithm for the AI to make its move.\n<br><br>\n\n### Class variables\n    board : chess.Board\n        The chess board instance that's used for the game.\n    make_move : function(chess.Board)\n        The function that the AI uses to make a new move.\n<br>\n\n### \\_\\_init\\_\\_\n    The constructor for the Game class. Gets called whenever a new Game instance is created.\n<br>\n\n##### Arguments\n    make_move_algorithm : function(chess.Board)\n        The function that the AI should use to make a new move.\n\n##### Returns\n    N/A\n\n##### Side effects\n    N/A\n<br><br>\n\n### play\n    Plays the game, which includes three features:\n    - Displays the chess board visually.\n    - Lets the AI make a move based on the board state.\n    - Lets the human player input their move and pushes it to the board (if it's valid and legal).\n\n##### Arguments\n    N/A\n\n##### Returns\n    N/A\n\n##### Side effects\n    - The state of the board in the Game class is changed.\n<br><br>\n\n### display\n    Displays the chess board graphically.\n\n##### Arguments\n    html : str\n        HTML content that should be displayed next to the board.\n    header : str\n        Text to display at the top of the HTML content.\n    board_size : int\n        The size of the board (both width and height), in pixels.\n\n##### Returns\n    N/A\n\n##### Side effects\n    - The current visual output is overwritten.",
   "metadata": {
    "tags": [],
    "cell_id": "00005-e57b162a-1158-4a3f-87ce-d787ede02b90",
    "deepnote_cell_type": "markdown"
   }
  },
  {
   "cell_type": "code",
   "metadata": {
    "tags": [],
    "cell_id": "00000-b969d167-7da3-4ac2-b3e7-c31a423d1c22",
    "deepnote_to_be_reexecuted": false,
    "source_hash": "81716f94",
    "execution_start": 1635862734539,
    "execution_millis": 0,
    "deepnote_cell_type": "code"
   },
   "source": "class Game:\n    board = None\n    make_move = None\n\n    def __init__(self, make_move_algorithm):\n        self.board = chess.Board()\n        self.make_move = make_move_algorithm\n\n    def play(self):\n        while not self.board.is_game_over():\n            self.make_move(self.board)\n            self.display(\"html stuff\", \"Header\")\n\n            input_prompt = 'Please input your move: '\n            while True:\n                try:\n                    move = chess.Move.from_uci(input(input_prompt))\n                    self.board.push_legal(move)\n                    break\n                except ValueError:\n                    input_prompt = 'Illegal move, please try again: '\n            \n            self.display(\"html stuff\", \"Header\")\n            \n\n    def display(self, html: str, header: str, board_size: int = 500):\n        clear_output(wait=True)\n        board_visual = None\n        try:\n            last_move = self.board.peek()\n            board_visual = chess.svg.board(self.board, size=board_size, lastmove=last_move) \n        except IndexError:\n            board_visual = chess.svg.board(self.board, size=board_size)\n        table = '<table><th>Board</th><th>{}</th><tr><td><div style=\\\"vertical-align: top; text-align: left\\\">{}</div></td><td>{}</td></div></tr></table>'\n        display(HTML(table.format(header, board_visual, html)))\n\n",
   "execution_count": 32,
   "outputs": []
  },
  {
   "cell_type": "code",
   "source": "",
   "metadata": {
    "tags": [],
    "cell_id": "00009-ae207723-21a3-4fc5-b78a-94c4eaf85866",
    "deepnote_cell_type": "code"
   },
   "outputs": [],
   "execution_count": null
  },
  {
   "cell_type": "markdown",
   "source": "<a style='text-decoration:none;line-height:16px;display:flex;color:#5B5B62;padding:10px;justify-content:end;' href='https://deepnote.com?utm_source=created-in-deepnote-cell&projectId=d6ce9acd-52c5-4422-904d-8424da19408b' target=\"_blank\">\n<img alt='Created in deepnote.com' style='display:inline;max-height:16px;margin:0px;margin-right:7.5px;' src='data:image/svg+xml;base64,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' > </img>\nCreated in <span style='font-weight:600;margin-left:4px;'>Deepnote</span></a>",
   "metadata": {
    "tags": [],
    "created_in_deepnote_cell": true,
    "deepnote_cell_type": "markdown"
   }
  }
 ],
 "nbformat": 4,
 "nbformat_minor": 2,
 "metadata": {
  "orig_nbformat": 2,
  "deepnote": {
   "is_reactive": false
  },
  "deepnote_notebook_id": "b3597d7b-68ac-4caa-b143-c84d929dc93f",
  "deepnote_execution_queue": []
 }
}