{
 "cells": [
  {
   "cell_type": "code",
   "execution_count": null,
   "metadata": {
    "cell_id": "00000-bf48c591-cf89-4605-a4f0-94c0da4eee47",
    "deepnote_app_coordinates": {
     "h": 5,
     "w": 12,
     "x": 0,
     "y": null
    },
    "deepnote_cell_height": 116.75,
    "deepnote_cell_type": "code",
    "deepnote_output_heights": [
     2
    ],
    "deepnote_to_be_reexecuted": false,
    "execution_millis": 43,
    "execution_start": 1646509568120,
    "source_hash": "bd190a5a",
    "tags": []
   },
   "outputs": [
    {
     "data": {
      "text/html": [
       "<style>.container { width:100%; !important } </style>"
      ],
      "text/plain": [
       "<IPython.core.display.HTML object>"
      ]
     },
     "metadata": {},
     "output_type": "display_data"
    }
   ],
   "source": [
    "from IPython.core.display import HTML, display\n",
    "display(HTML('<style>.container { width:100%; !important } </style>'))"
   ]
  },
  {
   "cell_type": "markdown",
   "metadata": {
    "cell_id": "00001-c58a7d41-da07-42e9-9ddc-60816ec2a229",
    "deepnote_app_coordinates": {
     "h": 5,
     "w": 12,
     "x": 0,
     "y": 6
    },
    "deepnote_cell_height": 81.83332824707031,
    "deepnote_cell_type": "markdown",
    "owner_user_id": "1e489002-1d0e-4892-8dc4-49d215805343",
    "tags": []
   },
   "source": [
    "# The Chess Interface and Game Loop"
   ]
  },
  {
   "cell_type": "markdown",
   "metadata": {
    "cell_id": "00001-21a73485-cde6-4ade-8067-a798ef992bd0",
    "deepnote_app_coordinates": {
     "h": 5,
     "w": 12,
     "x": 0,
     "y": 12
    },
    "deepnote_cell_height": 61.83332824707031,
    "deepnote_cell_type": "markdown",
    "tags": []
   },
   "source": [
    "### Dependencies"
   ]
  },
  {
   "cell_type": "code",
   "execution_count": null,
   "metadata": {
    "cell_id": "00000-6f985b14-fa1e-4d1d-a929-be0f93ddb0df",
    "deepnote_app_coordinates": {
     "h": 5,
     "w": 12,
     "x": 0,
     "y": 18
    },
    "deepnote_cell_height": 342.33331298828125,
    "deepnote_cell_type": "code",
    "deepnote_output_heights": [
     null,
     2
    ],
    "deepnote_to_be_reexecuted": false,
    "execution_millis": 436,
    "execution_start": 1646509568163,
    "output_cleared": false,
    "source_hash": "605877b5",
    "tags": []
   },
   "outputs": [
    {
     "name": "stdout",
     "output_type": "stream",
     "text": [
      "importing Jupyter notebook from Globals.ipynb\n"
     ]
    },
    {
     "data": {
      "text/html": [
       "<style>.container { width:100%; !important } </style>"
      ],
      "text/plain": [
       "<IPython.core.display.HTML object>"
      ]
     },
     "metadata": {},
     "output_type": "display_data"
    }
   ],
   "source": [
    "import chess\n",
    "import chess.svg\n",
    "import chess.polyglot\n",
    "import chess.gaviota\n",
    "import time\n",
    "import random\n",
    "import json\n",
    "import re\n",
    "from IPython.display import clear_output, SVG, display, HTML\n",
    "from typing import Callable, Union\n",
    "\n",
    "import import_ipynb\n",
    "from Globals import Globals"
   ]
  },
  {
   "cell_type": "markdown",
   "metadata": {
    "cell_id": "00003-87b30704-4e52-4f35-b53a-560dedb4974c",
    "deepnote_app_coordinates": {
     "h": 5,
     "w": 12,
     "x": 0,
     "y": 24
    },
    "deepnote_cell_height": 228.23333740234375,
    "deepnote_cell_type": "markdown",
    "tags": []
   },
   "source": [
    "#### chess.Board.push_legal\n",
    "Pushes a move to a board's move stack only if it is a valid, legal move. If the move is illegal or invalid, a ValueError is raised and the board state remains unaffected.\n",
    "\n",
    "###### __<u>Arguments</u>__\n",
    "``move (chess.Move):`` \n",
    "The move that should be pushed to the move stack.\n",
    "\n",
    "###### __<u>Side effects</u>__\n",
    "Pushes a move to the board's move stack, assuming the move was valid and legal."
   ]
  },
  {
   "cell_type": "code",
   "execution_count": null,
   "metadata": {
    "cell_id": "00001-05c7d25b-a6a6-4f73-92b7-f40ff39334a7",
    "deepnote_app_coordinates": {
     "h": 5,
     "w": 12,
     "x": 0,
     "y": 30
    },
    "deepnote_cell_height": 188.8333282470703,
    "deepnote_cell_type": "code",
    "deepnote_to_be_reexecuted": false,
    "execution_millis": 3,
    "execution_start": 1646509568608,
    "source_hash": "a6731782",
    "tags": []
   },
   "outputs": [],
   "source": [
    "def push_legal(self, move: chess.Move):\n",
    "    if move not in self.legal_moves:\n",
    "        raise ValueError('Illegal move')\n",
    "    self.push(move)\n",
    "\n",
    "chess.Board.push_legal = push_legal\n",
    "del push_legal"
   ]
  },
  {
   "cell_type": "markdown",
   "metadata": {
    "cell_id": "00005-e57b162a-1158-4a3f-87ce-d787ede02b90",
    "deepnote_app_coordinates": {
     "h": 5,
     "w": 12,
     "x": 0,
     "y": 36
    },
    "deepnote_cell_height": 697.1500244140625,
    "deepnote_cell_type": "markdown",
    "tags": []
   },
   "source": [
    "---\n",
    "\n",
    "### Game Class\n",
    "Lets the user play a game of chess against the AI using a virtual chess board UI. Alternatively, two AIs may play against each other. The game may use any algorithm for the AI(s) to make their moves.\n",
    "<br><br>\n",
    "\n",
    "#### \\_\\_init\\_\\_\n",
    "The constructor for the Game class. Gets called whenever a new Game instance is created.\n",
    "###### __<u>Arguments</u>__\n",
    "``make_move_algorithm_white (Callable, default: None):``  \n",
    "The function that the AI controlling the white pieces should use to make a new move, or None if the white pieces are player-controlled.\n",
    "\n",
    "``make_move_algorithm_black (Callable, default: None):``  \n",
    "The function that the AI controlling the black pieces should use to make a new move, or None if the black pieces are player-controlled. \n",
    "\n",
    "``search_depth_white (int, default: 3):``  \n",
    "The search depth for the white AI's search algorithm. \n",
    "\n",
    "``search_depth_black (int, default: 3):``  \n",
    "The search depth for the black AI's search algorithm. \n",
    "\n",
    "``opening_book (str, default: 'Resources/baron30.bin'):``  \n",
    "The path to the desired opening book the AIs will use, or None if no opening book is desired.\n",
    "\n",
    "``endgame_tablebase_dir (str, default: 'Resources/Gaviota'):``  \n",
    "The path to the directory of the desired endgame tablebase the AIs will use, or None if no endgame tablebase is desired.\n",
    "\n",
    "###### <b><u>Side effects</u></b>\n",
    "If neither white nor black is set to be an AI, the game will exit. At least one AI is required to play the game.\n"
   ]
  },
  {
   "cell_type": "code",
   "execution_count": null,
   "metadata": {
    "cell_id": "00007-00baebf0-015e-4a8f-b2f4-0d1c9579dc6c",
    "deepnote_app_coordinates": {
     "h": 5,
     "w": 12,
     "x": 0,
     "y": 42
    },
    "deepnote_cell_height": 764.8333129882812,
    "deepnote_cell_type": "code",
    "deepnote_to_be_reexecuted": false,
    "execution_millis": 0,
    "execution_start": 1646509568662,
    "source_hash": "509cdc9f",
    "tags": []
   },
   "outputs": [],
   "source": [
    "class Game:\n",
    "    def __init__(\n",
    "            self,\n",
    "            make_move_algorithm_white: Callable=None,\n",
    "            make_move_algorithm_black: Callable=None,\n",
    "            search_depth_white: int=3,\n",
    "            search_depth_black: int=3,\n",
    "            opening_book: str='Resources/baron30.bin',\n",
    "            endgame_tablebase_dir: str='/datasets/gaviota'\n",
    "    ):\n",
    "        self.opening_book = opening_book\n",
    "        self.endgame_tablebase_dir = endgame_tablebase_dir\n",
    "\n",
    "        self.test_playthrough = []\n",
    "        self.problem_playthroughs = {}\n",
    "        self.wins = []\n",
    "\n",
    "        self.board = chess.Board()\n",
    "        self.board.ending = False\n",
    "\n",
    "        self.move_times = { chess.WHITE: [], chess.BLACK: [] }\n",
    "        self.make_move = {\n",
    "            chess.WHITE: make_move_algorithm_white,\n",
    "            chess.BLACK: make_move_algorithm_black\n",
    "        }\n",
    "        self.search_depth = {\n",
    "            chess.WHITE: search_depth_white,\n",
    "            chess.BLACK: search_depth_black\n",
    "        }\n",
    "        self.is_ai = self.get_ai_state()\n",
    "\n",
    "        if self.endgame_tablebase_dir is not None:\n",
    "            self.endgame_tablebase = chess.gaviota.open_tablebase(\n",
    "                    self.endgame_tablebase_dir)\n",
    "\n",
    "        # The game requires that at least one player is an AI\n",
    "        # - it is not a multiplayer chess game\n",
    "        if not self.is_ai[chess.WHITE] and not self.is_ai[chess.BLACK]:\n",
    "            raise ValueError('At least one player must be an AI')"
   ]
  },
  {
   "cell_type": "markdown",
   "metadata": {
    "cell_id": "edf4f21e-b0ad-4d28-9cc3-70110197c8ee",
    "deepnote_app_coordinates": {
     "h": 5,
     "w": 12,
     "x": 0,
     "y": 48
    },
    "deepnote_cell_height": 779.8333129882812,
    "deepnote_cell_type": "markdown",
    "tags": []
   },
   "source": [
    "#### Game: Class Variables  \n",
    "\n",
    "``BOARD_DISPLAY_SIZE (int):``  \n",
    "The size of the displayed chess board in pixels.\n",
    "\n",
    "``board (chess.Board):``   \n",
    "The chess board instance that's used for the game.\n",
    "\n",
    "``make_move (dict<chess.Color, Callable>):``   \n",
    "The algorithms the AIs, playing white and/or black, use to make a move.\n",
    "\n",
    "``search_depth (dict<chess.Color, int>):``   \n",
    "The search depth for the AI's search algorithm for either color.\n",
    "\n",
    "``is_ai (dict<chess.Color, bool>):``   \n",
    "Whether a color is AI-controlled (True) or player-controlled (False).\n",
    "\n",
    "``move_times dict<chess.Color, list>):``   \n",
    "The time the AI(s) take to make their move.\n",
    "\n",
    "``test_playthrough (list<tuple<int, chess.Move, bool>>):``  \n",
    "The progress of the current game playthrough (evaluated move score, move and if the endgame library produced the move), for debugging purposes.\n",
    "\n",
    "``problem_playthroughs (dict<str, list>):``   \n",
    "A debug score, move and endgame list (see above) for each test, useful when debugging multiple chess problem tests.\n",
    "\n",
    "``wins (list<chess.Color>):``   \n",
    "A list of colors that have won in the previous tests (None in case of a draw).\n",
    "\n",
    "``opening_book (str):``  \n",
    "A path to a Polyglot opening book, or None if no opening book is in use.\n",
    "\n",
    "``endgame_tablebase_dir (str):``  \n",
    "A path to a Gaviota endgame tablebase directory, or None if no endgame tablebase is in use.\n",
    "\n",
    "``endgame_tablebase (Union[NativeTablebase, PythonTablebase]):``   \n",
    "The endgame tablebase object, or None if no endgame tablebase is in use."
   ]
  },
  {
   "cell_type": "code",
   "execution_count": null,
   "metadata": {
    "cell_id": "21325334-a5f7-4d76-a40f-9e184b3b7b6c",
    "deepnote_app_coordinates": {
     "h": 5,
     "w": 12,
     "x": 0,
     "y": 54
    },
    "deepnote_cell_height": 440.83331298828125,
    "deepnote_cell_type": "code",
    "deepnote_to_be_reexecuted": false,
    "execution_millis": 0,
    "execution_start": 1646509568663,
    "source_hash": "acfe5ec7",
    "tags": []
   },
   "outputs": [],
   "source": [
    "# Constants\n",
    "Game.BOARD_DISPLAY_SIZE = 500\n",
    "\n",
    "# Board variables\n",
    "Game.board = None\n",
    "\n",
    "# AI and player declarations\n",
    "Game.make_move = None\n",
    "Game.search_depth = None\n",
    "Game.is_ai = None\n",
    "\n",
    "# Testing declarations\n",
    "Game.move_times = None\n",
    "Game.test_playthrough = None\n",
    "Game.problem_playthroughs = None\n",
    "Game.wins = None\n",
    "\n",
    "# Opening book and endgame tablebase declarations\n",
    "Game.opening_book = None\n",
    "Game.endgame_tablebase_dir = None\n",
    "Game.endgame_tablebase = None"
   ]
  },
  {
   "cell_type": "markdown",
   "metadata": {
    "cell_id": "173d3240-cd83-4555-82bf-c63fb48220e2",
    "deepnote_app_coordinates": {
     "h": 5,
     "w": 12,
     "x": 0,
     "y": 60
    },
    "deepnote_cell_height": 823.0333251953125,
    "deepnote_cell_type": "markdown",
    "tags": []
   },
   "source": [
    "#### Game.play  \n",
    "\n",
    "Starts the game.\n",
    "Depending on the input arguments there are different game-states and features:  \n",
    "\n",
    "``(AI, AI):``  \n",
    "In this case, the chess board is displayed visually while two AIs, specified by the user in the constructor of the Game-class, play against each other. Therefore making moves based on the specified algorithms, depending on the current game- / board-state.  The AIs take turns.\n",
    "  \n",
    "  \n",
    "``(AI, Player) - (Player, AI):``    \n",
    "In this case, the chess board is displayed visually while an AI, specified by the user in the constructor of the Game-class, and a human-Player compete against each other. Therefore, the AI is making the best move evaluated by the algorithm based on the current game- / board-state. On the other hand, the player can specify the move to make via input (If it's valid and legal).  \n",
    "The player and AI take turns.\n",
    "\n",
    "###### <b><u>Arguments</u></b>\n",
    "``debug (bool, default: False):``  \n",
    "Indicates, whether the game is started in 'debug-mode' or 'normal-mode'. In debug-mode, further information is tracked. In normal mode, a typical game of chess is started. \n",
    "\n",
    "``chess_problem (str, default: None):``  \n",
    "The name of the chess-problem which should be executed.\n",
    "\n",
    "``automation (bool, default: True):``  \n",
    "Whether or not the user has to press a button to get to the next board-state. This should always be true if more than one problem is executed. Furthermore, if automation = True, further information will be tracked.  \n",
    "\n",
    "``search_depth_auto (bool):``  \n",
    "Whether or not the max iteration should be evaluated with default max iteration 3, or ideal max iteration defined in Globals.\n",
    "\n",
    "\n",
    "######  <u>__Side effects__</u> \n",
    "- The state of the board in the Game class is changed.  \n",
    "- The state of is_first_move is changed after the first move.\n",
    "- The times the AIs take to make a move is tracked and saved.\n",
    "- The chess board is visually displayed.\n",
    "- All taken moves are tracked and saved.\n",
    "- A \"Winner-message\" is displayed upon the end of the game.\n",
    "- The game is saved in a file - name of the file is the unix timestamp\n"
   ]
  },
  {
   "cell_type": "code",
   "execution_count": null,
   "metadata": {
    "cell_id": "00010-02b76cdf-4dac-4e74-a323-9b8775fcd1cb",
    "deepnote_app_coordinates": {
     "h": 5,
     "w": 12,
     "x": 0,
     "y": 66
    },
    "deepnote_cell_height": 1016.8333129882812,
    "deepnote_cell_type": "code",
    "deepnote_to_be_reexecuted": false,
    "execution_millis": 5,
    "execution_start": 1646509568664,
    "source_hash": "158e6b93",
    "tags": []
   },
   "outputs": [],
   "source": [
    "def play(\n",
    "    self,\n",
    "    debug: bool=False,\n",
    "    chess_problem: str=None,\n",
    "    search_depth_auto: bool=False,\n",
    "    automation: bool=True\n",
    ") -> None:\n",
    "\n",
    "    use_heuristic = (chess_problem is None)\n",
    "    if chess_problem is None:\n",
    "        problem, iterations = None, None\n",
    "    else:\n",
    "        problem, iterations = self.set_up_chess_problem(chess_problem)\n",
    "        \n",
    "    while not self.board.is_game_over():\n",
    "        self.display(automation=True)\n",
    "        if self.is_ai[self.board.turn]:\n",
    "            # Start time\n",
    "            time_stamp = time.time()\n",
    "\n",
    "            # Make move\n",
    "            if not self.make_opening_move():\n",
    "                color = self.board.turn\n",
    "                search_depth = iterations \\\n",
    "                        if search_depth_auto and iterations is not None \\\n",
    "                        else self.search_depth[color]\n",
    "                score, move, used_endgame = self.make_move[color](\n",
    "                        self.board, color, search_depth, self.endgame_tablebase,\n",
    "                        use_heuristic)\n",
    "                self.test_playthrough.append((score, move.uci(), used_endgame))\n",
    "\n",
    "            # Add time difference to move times\n",
    "            time_stamp = time.time() - time_stamp\n",
    "            self.move_times[not self.board.turn].append(time_stamp)\n",
    "        else:\n",
    "            self.make_move_human()\n",
    "\n",
    "        self.board.check_and_set_ending()\n",
    "        self.display(automation=automation, debug=debug)\n",
    "\n",
    "    is_draw = self.board.outcome() is None or self.board.outcome().winner is None\n",
    "    winner = '' if is_draw \\\n",
    "        else 'White' if self.board.outcome().winner == chess.WHITE \\\n",
    "        else 'Black'\n",
    "    winner_message = 'It\\'s a draw!' if is_draw else f'{winner} is the winner!'\n",
    "    print(f'The game has ended. {winner_message}\\n')\n",
    "    print(self.board.outcome()) \n",
    "    \n",
    "    if problem is not None and automation:\n",
    "        self.set_problem_playthrough(problem)\n",
    "\n",
    "    self.save_state()\n",
    "\n",
    "Game.play = play\n",
    "del play"
   ]
  },
  {
   "cell_type": "markdown",
   "metadata": {
    "cell_id": "f451b212-7258-4a2c-90da-da3ebbbb176c",
    "deepnote_app_coordinates": {
     "h": 5,
     "w": 12,
     "x": 0,
     "y": 72
    },
    "deepnote_cell_height": 287.0333251953125,
    "deepnote_cell_type": "markdown",
    "tags": []
   },
   "source": [
    "#### Game.display\n",
    "Displays the chess board graphically.\n",
    "\n",
    "###### __<u>Arguments</u>__\n",
    "\n",
    "``debug(bool, default: False):``  \n",
    "Whether or not to wait to clear the output until new output is available to replace it.\n",
    "   \n",
    "``automation(bool. default: True): ``  \n",
    "Whether or not the user has to press a key after each move to continue.  \n",
    "\n",
    "###### __<u>Side effects</u>__\n",
    "The current visual output is overwritten.\n"
   ]
  },
  {
   "cell_type": "code",
   "execution_count": null,
   "metadata": {
    "cell_id": "00009-d720b37e-432a-49ca-8aa8-0bc95e23401f",
    "deepnote_app_coordinates": {
     "h": 5,
     "w": 12,
     "x": 0,
     "y": 78
    },
    "deepnote_cell_height": 350.83331298828125,
    "deepnote_cell_type": "code",
    "deepnote_to_be_reexecuted": false,
    "execution_millis": 8,
    "execution_start": 1646509568670,
    "source_hash": "9001f637"
   },
   "outputs": [],
   "source": [
    "def display(self, debug: bool=False, automation: bool=True) -> None:\n",
    "    clear_output(wait=not debug)\n",
    "    try:\n",
    "        last_move = self.board.peek()\n",
    "        board_visual = chess.svg.board(self.board, size=self.BOARD_DISPLAY_SIZE,\n",
    "                lastmove=last_move, check=self.get_check_square()) \n",
    "    except IndexError:\n",
    "        board_visual = chess.svg.board(self.board, size=self.BOARD_DISPLAY_SIZE)\n",
    "    display(board_visual)\n",
    "    if not automation:\n",
    "        if len(self.board.move_stack) != 0:\n",
    "            print(self.test_playthrough[-1])\n",
    "        input('Press any button to continue')\n",
    "\n",
    "Game.display = display\n",
    "del display"
   ]
  },
  {
   "cell_type": "markdown",
   "metadata": {
    "cell_id": "cbdf8a61-1337-4c09-ab19-048f4ef7b7e2",
    "deepnote_app_coordinates": {
     "h": 5,
     "w": 12,
     "x": 0,
     "y": 84
    },
    "deepnote_cell_height": 205.8333282470703,
    "deepnote_cell_type": "markdown",
    "tags": []
   },
   "source": [
    "#### Game.get_check_squares\n",
    "checks for pieces or squares giving check.\n",
    "######  __<u>Returns _(chess.Square)_</u>__\n",
    "The square which gives check.\n",
    "###### __<u>Side effects</u>__\n",
    "If get_check_squares returns a value, the display function will indicate the square giving check with a red background.\n",
    "    "
   ]
  },
  {
   "cell_type": "code",
   "execution_count": null,
   "metadata": {
    "cell_id": "00010-f6d2a47e-5679-43e8-afac-3a669b571dd3",
    "deepnote_app_coordinates": {
     "h": 5,
     "w": 12,
     "x": 0,
     "y": 90
    },
    "deepnote_cell_height": 188.8333282470703,
    "deepnote_cell_type": "code",
    "deepnote_to_be_reexecuted": false,
    "execution_millis": 3294964918,
    "execution_start": 1646509568690,
    "source_hash": "77d4d154"
   },
   "outputs": [],
   "source": [
    "def get_check_square(self) -> chess.Square:\n",
    "    if self.board.is_check():\n",
    "        return self.board.checkers().pop()\n",
    "    return None\n",
    "            \n",
    "Game.get_check_square = get_check_square\n",
    "del get_check_square"
   ]
  },
  {
   "cell_type": "markdown",
   "metadata": {
    "cell_id": "fb4be5bf-207b-46e1-aabf-3bb49553dc18",
    "deepnote_app_coordinates": {
     "h": 5,
     "w": 12,
     "x": 0,
     "y": 96
    },
    "deepnote_cell_height": 147.03334045410156,
    "deepnote_cell_type": "markdown",
    "tags": []
   },
   "source": [
    "#### Game.make_opening_move\n",
    "Makes a random move from the opening book, if available. If not, no move is made.\n",
    "###### __<u>Returns _(bool)_</u>__\n",
    "Whether or not an opening move has been made."
   ]
  },
  {
   "cell_type": "code",
   "execution_count": null,
   "metadata": {
    "cell_id": "00011-79094b90-bc3f-46fd-879c-c3dd9480661e",
    "deepnote_app_coordinates": {
     "h": 5,
     "w": 12,
     "x": 0,
     "y": 102
    },
    "deepnote_cell_height": 350.83331298828125,
    "deepnote_cell_type": "code",
    "deepnote_to_be_reexecuted": false,
    "execution_millis": 1,
    "execution_start": 1646509568692,
    "source_hash": "4faf3d87"
   },
   "outputs": [],
   "source": [
    "def make_opening_move(self) -> bool:\n",
    "    if self.opening_book is None:\n",
    "        return False\n",
    "\n",
    "    with chess.polyglot.open_reader(self.opening_book) as reader:\n",
    "        possible_moves = [ entry.move for entry in reader.find_all(self.board) ]\n",
    "        if len(possible_moves) > 0:\n",
    "            move = random.choice(possible_moves)\n",
    "            self.board.push(move)\n",
    "            self.test_playthrough.append(('opening library', move.uci(), False))\n",
    "            return True\n",
    "\n",
    "    return False\n",
    "\n",
    "Game.make_opening_move = make_opening_move\n",
    "del make_opening_move"
   ]
  },
  {
   "cell_type": "markdown",
   "metadata": {
    "cell_id": "bd85924b-457e-47e9-89dd-7efbda5f41ed",
    "deepnote_app_coordinates": {
     "h": 5,
     "w": 12,
     "x": 0,
     "y": 108
    },
    "deepnote_cell_height": 189.43333435058594,
    "deepnote_cell_type": "markdown",
    "tags": []
   },
   "source": [
    "#### Game.get_ai_state\n",
    "Defines which players are AIs depending on the make_move parameters in the constructor.\n",
    "\n",
    "###### __<u>Returns _(dict<chess.Color, bool>)_</u>__\n",
    "- The color of the player (white or black).\n",
    "- Whether or not that player is an AI."
   ]
  },
  {
   "cell_type": "code",
   "execution_count": null,
   "metadata": {
    "cell_id": "00012-aa1192f6-48e7-49fe-9e32-f3a470f6a2ba",
    "deepnote_app_coordinates": {
     "h": 5,
     "w": 12,
     "x": 0,
     "y": 114
    },
    "deepnote_cell_height": 206.8333282470703,
    "deepnote_cell_type": "code",
    "deepnote_to_be_reexecuted": false,
    "execution_millis": 4,
    "execution_start": 1646509568695,
    "source_hash": "a3cfe3cd"
   },
   "outputs": [],
   "source": [
    "def get_ai_state(self) -> dict:\n",
    "    return {\n",
    "        color: self.make_move[color] is not None\n",
    "            for color in ( chess.WHITE, chess.BLACK )\n",
    "    }\n",
    "\n",
    "Game.get_ai_state = get_ai_state\n",
    "del get_ai_state"
   ]
  },
  {
   "cell_type": "markdown",
   "metadata": {
    "cell_id": "9615c9df-c881-4662-b1ca-a48604c4b70d",
    "deepnote_app_coordinates": {
     "h": 5,
     "w": 12,
     "x": 0,
     "y": 120
    },
    "deepnote_cell_height": 147.03334045410156,
    "deepnote_cell_type": "markdown",
    "tags": []
   },
   "source": [
    "#### Game.make_move_human\n",
    "If the player is human, this method enables the human user to make a move through the input console.\n",
    "###### __<u>Side effects</u>__\n",
    "A move is pushed onto the move stack and it is the next player's turn."
   ]
  },
  {
   "cell_type": "code",
   "execution_count": null,
   "metadata": {
    "cell_id": "00013-2e9fea17-72ac-404d-9865-0cc6d70107f4",
    "deepnote_app_coordinates": {
     "h": 5,
     "w": 12,
     "x": 0,
     "y": 126
    },
    "deepnote_cell_height": 278.83331298828125,
    "deepnote_cell_type": "code",
    "deepnote_to_be_reexecuted": false,
    "execution_millis": 4,
    "execution_start": 1646509568706,
    "source_hash": "faa65795"
   },
   "outputs": [],
   "source": [
    "def make_move_human(self) -> None:\n",
    "    input_prompt = 'Please input your move: '\n",
    "    while True:\n",
    "        try:\n",
    "            move = chess.Move.from_uci(input(input_prompt))\n",
    "            self.board.push_legal(move)\n",
    "            self.test_playthrough.append((\"Human move\", move.uci(), \"Human move\"))\n",
    "            return\n",
    "        except ValueError:\n",
    "            input_prompt = 'Illegal move, please try again: '\n",
    "                \n",
    "Game.make_move_human = make_move_human\n",
    "del make_move_human"
   ]
  },
  {
   "cell_type": "markdown",
   "metadata": {
    "cell_id": "c0a073aa-8a15-4d0d-9455-a0f16c3f740a",
    "deepnote_app_coordinates": {
     "h": 5,
     "w": 12,
     "x": 0,
     "y": 132
    },
    "deepnote_cell_height": 169.43333435058594,
    "deepnote_cell_type": "markdown",
    "tags": []
   },
   "source": [
    "#### Game.save_state\n",
    "The move stack as well as all the scores are saved in a file, named by the user. The file is stored in the current working directory. \n",
    "This file can then later be loaded to open a game.\n",
    "       \n",
    "###### __<u>Side effect</u>__  \n",
    "The savefile-name of the file is the unix timestamp at the time of creation."
   ]
  },
  {
   "cell_type": "code",
   "execution_count": null,
   "metadata": {
    "cell_id": "00015-c86a10a8-f015-4024-ba7c-4a4e6b8ed038",
    "deepnote_app_coordinates": {
     "h": 5,
     "w": 12,
     "x": 0,
     "y": 138
    },
    "deepnote_cell_height": 296.83331298828125,
    "deepnote_cell_type": "code",
    "deepnote_to_be_reexecuted": false,
    "execution_millis": 1,
    "execution_start": 1646509568716,
    "source_hash": "8a084ce1"
   },
   "outputs": [],
   "source": [
    "def save_state(self) -> None:\n",
    "    while True:\n",
    "        try:\n",
    "            filename = str(time.time()).replace('.', '_') + '.chessgame'\n",
    "            #filename = input('Please input save name:\\n') + '.chessgame'\n",
    "            \n",
    "            with open(filename, 'w') as f:\n",
    "                f.write('move_white, move_black | score_white, score_black | endgameUsed?_white , endgameUsed?_black ; \\n')\n",
    "                e = 1\n",
    "                for i in range(0, len(self.test_playthrough),2):\n",
    "                    score_white, move_white, endgame_white = self.test_playthrough[i]\n",
    "                    score_black, move_black, endgame_black = self.test_playthrough[i+1]\n",
    "                    s = str(e) + '. ' + str(move_white) + ' , ' + str(move_black) + ' | ' + str(score_white) + ' , ' + str(score_black) + ' | ' + str(endgame_white) + ' , ' + str(endgame_black) + ' ;\\n'\n",
    "                    f.write(s) \n",
    "                    e+=1\n",
    "                f.write(str(self.board.outcome()))\n",
    "            \n",
    "            return\n",
    "        except OSError:\n",
    "            print('we could not save the game, sorry about that')\n",
    "            \n",
    "Game.save_state = save_state\n",
    "del save_state"
   ]
  },
  {
   "cell_type": "markdown",
   "metadata": {
    "cell_id": "c08f78a1-a559-45ff-90da-e1aef5e67f28",
    "deepnote_app_coordinates": {
     "h": 5,
     "w": 12,
     "x": 0,
     "y": 144
    },
    "deepnote_cell_height": 147.03334045410156,
    "deepnote_cell_type": "markdown",
    "tags": []
   },
   "source": [
    "#### Game.load_game\n",
    "A saved game is loaded. Therefore, the game will be recreated by loading the move stack from a saved game.\n",
    "\n",
    "###### __<u>Side effect</u>__  \n",
    "Execution is paused until valid file name is given as user input."
   ]
  },
  {
   "cell_type": "code",
   "execution_count": null,
   "metadata": {
    "cell_id": "2832041b-20f2-4b52-ae4a-36a99888814b",
    "deepnote_app_coordinates": {
     "h": 5,
     "w": 12,
     "x": 0,
     "y": 150
    },
    "deepnote_cell_height": 458.83331298828125,
    "deepnote_cell_type": "code",
    "deepnote_to_be_reexecuted": false,
    "execution_millis": 0,
    "execution_start": 1646509568757,
    "source_hash": "93d7b525",
    "tags": []
   },
   "outputs": [],
   "source": [
    "def load_game(self) -> None:\n",
    "    while True:\n",
    "        try:\n",
    "            filename = input('What is your save file called?:\\n')\n",
    "            if not filename.endswith('.chessgame'):\n",
    "                filename += '.chessgame'\n",
    "                \n",
    "            with open(filename) as f:\n",
    "                s = f.read()\n",
    "                s = s.split()\n",
    "                s = s[10: -3]\n",
    "                newList = [item for item in s if item != ',' and item != '|' and item != ';' and not re.match('[0-9]+\\.', item)]\n",
    "                whiteList = list()\n",
    "                blackList = list()\n",
    "                moveStack = list()\n",
    "                for i in range(0,len(newList), 2):\n",
    "                    whiteList.append(newList[i])\n",
    "                    blackList.append(newList[i+1])\n",
    "\n",
    "                for e in range(0, len(whiteList), 3):\n",
    "                    moveStack.append((whiteList[e+1], whiteList[e], whiteList[e+2]))\n",
    "                    moveStack.append((blackList[e+1], blackList[e], blackList[e+2]))\n",
    "\n",
    "                self.test_playthrough = moveStack   \n",
    "                self.board.reset()\n",
    "\n",
    "                self.board.clear_stack()\n",
    "\n",
    "                \n",
    "                for _, move, _ in self.test_playthrough:\n",
    "                    self.board.push_legal(chess.Move.from_uci(move))\n",
    "\n",
    "            return\n",
    "        except OSError:\n",
    "            print(f'There is no such file called {filename} - please try again')\n",
    "    \n",
    "Game.load_game = load_game\n",
    "del load_game"
   ]
  },
  {
   "cell_type": "markdown",
   "metadata": {
    "cell_id": "00027-7a6a38e0-9810-4824-aea2-46fe3ebebd46",
    "deepnote_app_coordinates": {
     "h": 5,
     "w": 12,
     "x": 0,
     "y": 156
    },
    "deepnote_cell_height": 360.23333740234375,
    "deepnote_cell_type": "markdown"
   },
   "source": [
    "#### Game.set_up_chess_problem\n",
    "Sets the board state to the starting state of a chess problem, using a FEN code. If the given chess problem is invalid, it asks the user for input. Furthermore, it finds the minimum amount of moves to solve the chess problem, which can be used as a search depth to theoretically guarantee that a search algorithm can find the optimal solution.\n",
    "\n",
    "\n",
    "###### __<u>Arguments</u>__\n",
    "``chess_problem (str):``  \n",
    "The abbreviated name of the chess problem (see Globals.CHESS_PROBLEMS).\n",
    "\n",
    "###### <u>__Returns__ _(str, int)_</u>\n",
    "- The abbreviated name of the problem that is played\n",
    "- The minimum amount of moves to solve the chess problem.\n",
    "\n",
    "###### __<u>Side effects</u>__\n",
    "If no chess problem is given as an argument, the user is prompted for input."
   ]
  },
  {
   "cell_type": "code",
   "execution_count": null,
   "metadata": {
    "cell_id": "00028-d7d0c68e-743a-4b2a-af01-8df6064535e7",
    "deepnote_app_coordinates": {
     "h": 5,
     "w": 12,
     "x": 0,
     "y": 162
    },
    "deepnote_cell_height": 602.8333129882812,
    "deepnote_cell_type": "code",
    "deepnote_to_be_reexecuted": false,
    "execution_millis": 1,
    "execution_start": 1646509568757,
    "source_hash": "96d0bee1"
   },
   "outputs": [],
   "source": [
    "def set_up_chess_problem(self, chess_problem: str) -> (str, int):\n",
    "    # Clear the test_playthrough list - this dict may have contained moves from\n",
    "    # the last playthrough\n",
    "    self.test_playthrough.clear()\n",
    "\n",
    "    if chess_problem not in Globals.CHESS_PROBLEMS:\n",
    "        for p in Globals.CHESS_PROBLEMS:\n",
    "            print(f' {p},')\n",
    "        problem = input('Please choose a chess problem from the above. \\n' \\\n",
    "                + 'You can find further information about the given problems ' \\\n",
    "                + 'in Globals.ipynb\\n')\n",
    "        while problem not in Globals.CHESS_PROBLEMS:\n",
    "            clear_output()\n",
    "            for p in Globals.CHESS_PROBLEMS:\n",
    "                print(f' {p},')\n",
    "            problem = input('Wrong input, please try again. Type one of the '\n",
    "                    + 'above abbreviations to initialze the test')\n",
    "    else:\n",
    "        problem = chess_problem\n",
    "\n",
    "    if problem is not None:\n",
    "        self.board.set_fen(Globals.CHESS_PROBLEMS[problem])\n",
    "\n",
    "    iterations = Globals.CHESS_PROBLEM_PLY_COUNT[problem] \\\n",
    "            if problem in Globals.CHESS_PROBLEM_PLY_COUNT \\\n",
    "            else None\n",
    "    return problem, iterations\n",
    "\n",
    "Game.set_up_chess_problem = set_up_chess_problem\n",
    "del set_up_chess_problem"
   ]
  },
  {
   "cell_type": "markdown",
   "metadata": {
    "cell_id": "00029-04261029-6cbc-4126-a754-8d51b1df29f8",
    "deepnote_app_coordinates": {
     "h": 5,
     "w": 12,
     "x": 0,
     "y": 168
    },
    "deepnote_cell_height": 273.0333251953125,
    "deepnote_cell_type": "markdown"
   },
   "source": [
    "#### Game.set_problem_playthrough\n",
    "Registers a playthrough of the current chess problem as defined in test_playthrough. This is added to the problems_playthrough dictionary so that the playthrough is saved even if another test is run. Furthermore, the winning color is appended to a list of winners.\n",
    "\n",
    "###### __<u>Arguments</u>__\n",
    "``problem (str):``  \n",
    "The abbreviated name of the chess problem.\n",
    "\n",
    "###### __<u>Side effects</u>__\n",
    "The playthrough is added to the test_playthrough dictionary and the winner (or draw) is appended to the winners list."
   ]
  },
  {
   "cell_type": "code",
   "execution_count": null,
   "metadata": {
    "cell_id": "00030-7681eebc-a9b9-4772-a26b-e331af35011b",
    "deepnote_app_coordinates": {
     "h": 5,
     "w": 12,
     "x": 0,
     "y": 174
    },
    "deepnote_cell_height": 314.83331298828125,
    "deepnote_cell_type": "code",
    "deepnote_to_be_reexecuted": false,
    "execution_millis": 0,
    "execution_start": 1646509568758,
    "source_hash": "4143bf91"
   },
   "outputs": [],
   "source": [
    "def set_problem_playthrough(self, problem: str) -> None:\n",
    "    self.problem_playthroughs[problem] = list(self.test_playthrough)\n",
    "    winner = None\n",
    "    if self.board.outcome() is None or self.board.outcome().winner is None:\n",
    "        winner = None \n",
    "    elif self.board.outcome().winner == chess.WHITE:\n",
    "        winner = 'white'\n",
    "    else:\n",
    "        winner = 'black'\n",
    "            \n",
    "    self.wins.append(winner)\n",
    "    \n",
    "Game.set_problem_playthrough = set_problem_playthrough\n",
    "del set_problem_playthrough"
   ]
  },
  {
   "cell_type": "markdown",
   "metadata": {
    "created_in_deepnote_cell": true,
    "deepnote_cell_type": "markdown",
    "tags": []
   },
   "source": [
    "<a style='text-decoration:none;line-height:16px;display:flex;color:#5B5B62;padding:10px;justify-content:end;' href='https://deepnote.com?utm_source=created-in-deepnote-cell&projectId=d6ce9acd-52c5-4422-904d-8424da19408b' target=\"_blank\">\n",
    "<img alt='Created in deepnote.com' style='display:inline;max-height:16px;margin:0px;margin-right:7.5px;' src='data:image/svg+xml;base64,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' > </img>\n",
    "Created in <span style='font-weight:600;margin-left:4px;'>Deepnote</span></a>"
   ]
  }
 ],
 "metadata": {
  "deepnote": {
   "is_reactive": false
  },
  "deepnote_app_layout": "article",
  "deepnote_execution_queue": [],
  "deepnote_notebook_id": "b3597d7b-68ac-4caa-b143-c84d929dc93f",
  "kernelspec": {
   "display_name": "Python 3 (ipykernel)",
   "language": "python",
   "name": "python3"
  },
  "language_info": {
   "codemirror_mode": {
    "name": "ipython",
    "version": 3
   },
   "file_extension": ".py",
   "mimetype": "text/x-python",
   "name": "python",
   "nbconvert_exporter": "python",
   "pygments_lexer": "ipython3",
   "version": "3.9.12"
  }
 },
 "nbformat": 4,
 "nbformat_minor": 2
}
