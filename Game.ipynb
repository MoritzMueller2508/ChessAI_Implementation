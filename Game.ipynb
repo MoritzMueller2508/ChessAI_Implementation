{
 "cells": [
  {
   "cell_type": "code",
   "metadata": {
    "cell_id": "00000-bf48c591-cf89-4605-a4f0-94c0da4eee47",
    "deepnote_output_heights": [
     2
    ],
    "deepnote_to_be_reexecuted": false,
    "execution_millis": 43,
    "execution_start": 1643212360996,
    "source_hash": "bd190a5a",
    "tags": [],
    "deepnote_cell_type": "code"
   },
   "source": "from IPython.core.display import HTML, display\ndisplay(HTML('<style>.container { width:100%; !important } </style>'))",
   "outputs": [
    {
     "data": {
      "text/plain": "<IPython.core.display.HTML object>",
      "text/html": "<style>.container { width:100%; !important } </style>"
     },
     "metadata": {},
     "output_type": "display_data"
    }
   ],
   "execution_count": 1
  },
  {
   "cell_type": "markdown",
   "source": "# The chess interface and game loop",
   "metadata": {
    "cell_id": "00001-c58a7d41-da07-42e9-9ddc-60816ec2a229",
    "tags": [],
    "deepnote_cell_type": "markdown"
   }
  },
  {
   "cell_type": "markdown",
   "source": "### Dependencies\nIn the following all required dependencies, modules or notebooks are imported",
   "metadata": {
    "cell_id": "00001-21a73485-cde6-4ade-8067-a798ef992bd0",
    "tags": [],
    "deepnote_cell_type": "markdown"
   }
  },
  {
   "cell_type": "code",
   "metadata": {
    "cell_id": "00000-6f985b14-fa1e-4d1d-a929-be0f93ddb0df",
    "deepnote_to_be_reexecuted": false,
    "execution_millis": 4354,
    "execution_start": 1643212361038,
    "source_hash": "c038a3c8",
    "tags": [],
    "deepnote_output_heights": [
     null,
     2
    ],
    "output_cleared": true,
    "deepnote_cell_type": "code"
   },
   "source": "%pip install python-chess\n\nimport chess\nimport chess.svg # TODO remove?\nimport chess.polyglot # TODO remove?\nimport chess.gaviota # TODO remove?\nimport time\nimport random\nimport json\nfrom IPython.display import clear_output, SVG, display, HTML\nfrom typing import Callable, Union\n\nimport import_ipynb\nimport Constants",
   "outputs": [],
   "execution_count": 2
  },
  {
   "cell_type": "markdown",
   "source": "#### chess.Board.push_legal\nPushes a move to a board's move stack only if it is a valid, legal move. If the move is illegal or invalid, a ValueError is raised and the board state remains unaffected.\n\n###### <b><u>Arguments</u></b>\n<b>move</b> <i>(chess.Move)</i> : The move that should be pushed to the move stack.\n\n###### <b><u>Side effects</u></b>\nPushes a move to the board's move stack, assuming the move was valid and legal.",
   "metadata": {
    "cell_id": "00003-87b30704-4e52-4f35-b53a-560dedb4974c",
    "tags": [],
    "deepnote_cell_type": "markdown"
   }
  },
  {
   "cell_type": "code",
   "metadata": {
    "cell_id": "00001-05c7d25b-a6a6-4f73-92b7-f40ff39334a7",
    "deepnote_to_be_reexecuted": false,
    "execution_millis": 2,
    "execution_start": 1643212365402,
    "source_hash": "a6731782",
    "tags": [],
    "deepnote_cell_type": "code"
   },
   "source": "def push_legal(self, move: chess.Move):\n    if move not in self.legal_moves:\n        raise ValueError('Illegal move')\n    self.push(move)\n\nchess.Board.push_legal = push_legal\ndel push_legal",
   "outputs": [],
   "execution_count": 3
  },
  {
   "cell_type": "markdown",
   "source": "---\n<br>\n\n### Game class\nLets the user play a game of chess against the AI using a virtual chess board UI. The game may use any algorithm for the AI to make its move.\n<br><br>\n\n#### <u><i>Class variables</u></i>\n<b>HTML_CONTENT</b> <i>String</i>        : The content which is displayed next to the chess board. <br> \n<b>HTML_HEADER</b> <i>String</i>         : The Header of the HTML-content. <br>\n<b>BOARD_DISPLAY_SIZE</b> <i>Integer</i> : The size of the board in pixels. <br>\n\n    ---\n\n<b>board</b> <i>chess.Board</i>            : The chess board instance that's used for the game.<br>\n<b>make_move</b> <i>dictionary(chess.COLOR : Callable)</i> : A dictionary of algorithms the AI uses to make a move according to the      \ncolor-representation of the AI.<br>\n<b>is_ai</b> <i>dictionary(chess.COLOR     : Boolean)</i> : A dictionary, where the chess.COLOR indicates, whether or not this color is controlled by\nan AI. <br>\n<b>move_times</b> <i>dictionary(chess.COLOR : List)</i> : A dictionary with Lists, inheriting the times an AI takes to move according to the \nchess.COLOR the AI possesses. <br>\n<b>opening_book</b> <i>String</i> : A String, representing a path to an opening library. <br>\n<b>is_first_move</b> <i>Boolean</i> : A boolean, representing whether or not the first move has already been executed\n#### \\_\\_init\\_\\_\nThe constructor for the Game class. Gets called whenever a new Game instance is created.\n###### __<u>Arguments</u>__\n<b>make_move_algorithm_white</b> <i>Callable(chess.Board) [Optional] (Default behavior : None)</i>: The function that the AI controlling the white pieces should use to make a new move.<br>\n__make_move_algorithm_black__ _Callable(chess.Board) [Optional] (Default behavior: None)_ : The function that the AI controlling the black pieces should use to make a new move. <br>\n__opening_book__ _String [Optional] (Default behavior : None)_ : A String representing the path to the desired opening library the AIs will use. <br>\n###### __<u>Side effects</u>__\nIf no AI is selected as at least one player, the game will exit. At least one AI is required to play the game.\n",
   "metadata": {
    "cell_id": "00005-e57b162a-1158-4a3f-87ce-d787ede02b90",
    "tags": [],
    "deepnote_cell_type": "markdown"
   }
  },
  {
   "cell_type": "code",
   "metadata": {
    "cell_id": "00007-00baebf0-015e-4a8f-b2f4-0d1c9579dc6c",
    "deepnote_to_be_reexecuted": false,
    "execution_millis": 0,
    "execution_start": 1643212365450,
    "source_hash": "b8d30906",
    "tags": [],
    "deepnote_cell_type": "code"
   },
   "source": "class Game:\n    # Constants\n    HTML_CONTENT = 'html stuff'\n    HTML_HEADER = 'Header'\n    BOARD_DISPLAY_SIZE = 500\n\n    # Board variables\n    board = None\n\n    # AI and player declarations\n    make_move = None\n    is_ai = None\n\n    # Testing declarations\n    move_times = None\n    debug = None\n    auto_tests = None\n    wins = None\n\n    # Opening book and endgame tablebase declarations\n    opening_book = None\n    endgame_tablebase_dir = None\n    endgame_tablebase = None\n\n    def __init__(\n            self,\n            make_move_algorithm_white: Callable=None,\n            make_move_algorithm_black: Callable=None,\n            opening_book: str='Resources/baron30.bin',\n            endgame_tablebase_dir: str='/datasets/gaviota'\n    ):\n        self.opening_book = opening_book\n        self.endgame_tablebase_dir = endgame_tablebase_dir\n\n        self.debug = {}\n        self.auto_tests = {}\n        self.wins = []\n\n        self.board = chess.Board()\n        self.board.ending = False\n\n        self.move_times = { chess.WHITE: [], chess.BLACK: [] }\n        self.make_move = { chess.WHITE: make_move_algorithm_white, chess.BLACK: make_move_algorithm_black }\n        self.is_ai = self.get_ai_state()\n\n        if self.endgame_tablebase_dir is not None:\n            self.endgame_tablebase = chess.gaviota.open_tablebase(self.endgame_tablebase_dir)\n\n        # The game requires that at least one player is an AI - it is not a multiplayer chess game\n        if not self.is_ai[chess.WHITE] and not self.is_ai[chess.BLACK]:\n            raise ValueError('At least one player must be an AI')\n",
   "outputs": [],
   "execution_count": 4
  },
  {
   "cell_type": "markdown",
   "source": "### play\nPlays the game.\nDepending on the input arguments there are different game-states and features:\n1. (AI, AI): \n    - Displays the chess board visually.\n    - Lets the AI make a move based on the board state and specified algorithm.\n    - Lets the other AI make a move based on the board state and specified algorithm.\n2. (AI, Player) - (Player, AI):\n    - Displays the chess board visually.\n    - Lets the AI make a move based on the board state.\n    - Lets the human player input their move and pushes it to the board \n    (if it's valid and legal).\n3. (Player, Player): \n    - Game will exit -> At least one AI is required to play the game\n\n######  <u><i>Side effects</i></u> \n- The state of the board in the Game class is changed.  \n- The state of is_first_move is changed after the first move.\n- The times the AIs take to make a move is tracked and saved.\n- The chess board is visually displayed.\n",
   "metadata": {
    "cell_id": "00008-8e077224-680a-43aa-9624-3f9e89b01dd5",
    "deepnote_cell_type": "markdown"
   }
  },
  {
   "cell_type": "code",
   "metadata": {
    "cell_id": "00010-02b76cdf-4dac-4e74-a323-9b8775fcd1cb",
    "deepnote_to_be_reexecuted": false,
    "execution_millis": 0,
    "execution_start": 1643212365451,
    "source_hash": "610286aa",
    "tags": [],
    "deepnote_cell_type": "code"
   },
   "source": "def play(self) -> None:\n    self.debug.clear() # clear the debug dictionary - this dict may have contained moves from the last playthrough\n    while not self.board.is_game_over():\n        self.display()\n        if self.is_ai[self.board.turn]:\n            # Start time\n            time_stamp = time.time()\n            if not self.make_opening_move():\n                score, move = self.make_move[self.board.turn](self.board, self.board.turn, self.endgame_tablebase)\n                self.debug[len(self.board.move_stack)] = (score, move.uci())\n            # Find time difference\n            time_stamp = time.time() - time_stamp\n            # Add time to move_times\n            self.move_times[self.board.turn].append(time_stamp)\n        else:\n            self.make_move_human()\n\n        if self.endgame_tablebase is not None:\n            try:\n                self.HTML_CONTENT = ''\n                self.HTML_CONTENT += 'DTM:\\n'\n                self.HTML_CONTENT += str(self.endgame_tablebase.probe_dtm(self.board)) + '\\n'\n                self.HTML_CONTENT += 'WDL:\\n'\n                self.HTML_CONTENT += str(self.endgame_tablebase.probe_wdl(self.board)) + '\\n'\n            except KeyError:\n                pass\n        else:\n            self.HTML_CONTENT = 'wut'\n\n        self.board.check_and_set_ending()\n        self.display()\n\n    winner_message = 'It\\'s a draw!' if self.board.outcome() is None or self.board.outcome().winner is None \\\n        else f'{\"White\" if self.board.outcome().winner == chess.WHITE else \"Black\"} is the winner!'\n    print(f'The game has ended. {winner_message}\\n')\n    print(self.board.outcome()) \n\nGame.play = play\ndel play",
   "outputs": [],
   "execution_count": 5
  },
  {
   "cell_type": "markdown",
   "source": "### display\nDisplays the chess board graphically. Furthermore, custom HTML is displayed next to the board.\n\n###### <u><i>Side effects</i></u>\nThe current visual output is overwritten.\n",
   "metadata": {
    "cell_id": "00010-5cdc9a16-0200-4866-8da3-54c245c20ee8",
    "deepnote_cell_type": "markdown"
   }
  },
  {
   "cell_type": "code",
   "metadata": {
    "cell_id": "00009-d720b37e-432a-49ca-8aa8-0bc95e23401f",
    "deepnote_to_be_reexecuted": false,
    "execution_millis": 2,
    "execution_start": 1643212365451,
    "source_hash": "40180b50",
    "deepnote_cell_type": "code"
   },
   "source": "def display(self) -> None:\n    clear_output(wait=True)\n    try:\n        last_move = self.board.peek()\n        board_visual = chess.svg.board(self.board, size=self.BOARD_DISPLAY_SIZE, lastmove=last_move, check=self.get_check_square()) \n    except IndexError:\n        board_visual = chess.svg.board(self.board, size=self.BOARD_DISPLAY_SIZE)\n    table = '<table><th>Board</th><th>{}</th><tr><td><div style=\\\"vertical-align: top; text-align: left\\\">{}</div></td><td>{}</td></div></tr></table>'\n    display(HTML(table.format(self.HTML_HEADER, board_visual, self.HTML_CONTENT)))\n\nGame.display = display\ndel display",
   "outputs": [],
   "execution_count": 6
  },
  {
   "cell_type": "markdown",
   "source": "### get_check_squares\nchecks for piecs or squares giving check.\n###### <u><i>Returns</u></i>\n__chess.Square__ _None [if no square sets gives check]_\n###### <u><i>Side effects</u></i>\nIf get_check_squares returns a value, the display function will indicate the square giving check with a red background\n    ",
   "metadata": {
    "cell_id": "00012-6c34d953-7539-499c-ab7b-9a877a6c1566",
    "deepnote_cell_type": "markdown"
   }
  },
  {
   "cell_type": "code",
   "metadata": {
    "cell_id": "00010-f6d2a47e-5679-43e8-afac-3a669b571dd3",
    "deepnote_to_be_reexecuted": false,
    "execution_millis": 0,
    "execution_start": 1643212365494,
    "source_hash": "617ca7b9",
    "deepnote_cell_type": "code"
   },
   "source": "def get_check_square(self) -> chess.Square:\n    if self.board.is_check():\n        return self.board.checkers().pop()\n    else:\n        return None\n            \nGame.get_check_square = get_check_square\ndel get_check_square",
   "outputs": [],
   "execution_count": 7
  },
  {
   "cell_type": "markdown",
   "source": "### make_opening_move\nMakes a random move from the opening book, if available. If not, no move is made.\n###### <u><i>Returns</u></i>\n__True:__ A move from the opening book was made.  \n__False:__ A move from the opening book was not made.\n",
   "metadata": {
    "cell_id": "00014-19e9955a-56ec-4e6f-b84e-6b78aa2d5779",
    "deepnote_cell_type": "markdown"
   }
  },
  {
   "cell_type": "code",
   "metadata": {
    "cell_id": "00011-79094b90-bc3f-46fd-879c-c3dd9480661e",
    "deepnote_to_be_reexecuted": false,
    "execution_millis": 0,
    "execution_start": 1643212365495,
    "source_hash": "11f402a7",
    "deepnote_cell_type": "code"
   },
   "source": "def make_opening_move(self) -> bool:\n    if self.opening_book is None:\n        return False\n\n    with chess.polyglot.open_reader(self.opening_book) as reader:\n        possible_moves = [ entry.move for entry in reader.find_all(self.board) ]\n        if len(possible_moves) > 0:\n            move = random.choice(possible_moves)\n            self.board.push(move)\n            self.debug[len(self.board.move_stack)] = (\"opening library\", move.uci())\n            return True\n\n    return False\n\nGame.make_opening_move = make_opening_move\ndel make_opening_move",
   "outputs": [],
   "execution_count": 8
  },
  {
   "cell_type": "markdown",
   "source": "### get_ai_state\nDefine the AIs for the game. Dependent on the ai_algorithms given as arguments in game.play()\nthis functions defines the player state for the different colors. (AI or Player). If the \n\"player\" is defined as an ai, the dictionary value to the coresponding chess.Color is defined \nas True.\n###### <u><i>Returns</u></i>\n__{chess.Color: Bool}__ _Dict_\n",
   "metadata": {
    "cell_id": "00016-0d8b5e8a-9e4c-4bde-9334-71bfb1842fc8",
    "deepnote_cell_type": "markdown"
   }
  },
  {
   "cell_type": "code",
   "metadata": {
    "cell_id": "00012-aa1192f6-48e7-49fe-9e32-f3a470f6a2ba",
    "deepnote_to_be_reexecuted": false,
    "execution_millis": 0,
    "execution_start": 1643212365495,
    "source_hash": "d7df8be3",
    "deepnote_cell_type": "code"
   },
   "source": "def get_ai_state(self) -> dict:\n    return {\n        color: self.make_move[color] is not None\n        for color in ( chess.WHITE, chess.BLACK )\n    }\n\nGame.get_ai_state = get_ai_state\ndel get_ai_state",
   "outputs": [],
   "execution_count": 9
  },
  {
   "cell_type": "markdown",
   "source": "\n### make_move_human\nIf the \"player\" is human, this method enables the human user to make a move through the \ninput-console.\n###### <u><i>Side effects</u></i>\nA move is pushed onto the move_stack and it is the next players turn.",
   "metadata": {
    "cell_id": "00018-792e7d19-e254-46b0-81c6-952ce10e7c8e",
    "deepnote_cell_type": "markdown"
   }
  },
  {
   "cell_type": "code",
   "metadata": {
    "cell_id": "00013-2e9fea17-72ac-404d-9865-0cc6d70107f4",
    "deepnote_to_be_reexecuted": false,
    "execution_millis": 2,
    "execution_start": 1643212365498,
    "source_hash": "faa65795",
    "deepnote_cell_type": "code"
   },
   "source": "def make_move_human(self) -> None:\n    input_prompt = 'Please input your move: '\n    while True:\n        try:\n            move = chess.Move.from_uci(input(input_prompt))\n            self.board.push_legal(move)\n            return\n        except ValueError:\n            input_prompt = 'Illegal move, please try again: '\n                \nGame.make_move_human = make_move_human\ndel make_move_human",
   "outputs": [],
   "execution_count": 10
  },
  {
   "cell_type": "markdown",
   "source": "### save_state\nThe movestack as well as all the scores are saved in a file, named by the user. The file is stored in the current working-directory. \nThis file can then later be loaded to open a game.\n       ",
   "metadata": {
    "cell_id": "4691c8e9-c0db-40d0-82ef-d5f012ddb2d9",
    "tags": [],
    "deepnote_cell_type": "markdown"
   }
  },
  {
   "cell_type": "code",
   "metadata": {
    "cell_id": "00015-c86a10a8-f015-4024-ba7c-4a4e6b8ed038",
    "deepnote_to_be_reexecuted": false,
    "execution_millis": 1,
    "execution_start": 1643212365542,
    "source_hash": "a00976a4",
    "deepnote_cell_type": "code"
   },
   "source": "def save_state(self) -> None:\n    filename = input(\"Please input save-name:\\n \") + \".txt\"\n    f = open(filename, 'w')\n    state = json.dumps(self.debug)\n    f.write(state)\n    f.close()\n    \nGame.save_state = save_state\ndel save_state",
   "outputs": [],
   "execution_count": 11
  },
  {
   "cell_type": "markdown",
   "source": "### load_state\nA saved game is loaded. Therefore, the game will be recreated by loading the move_stack from a saved game.\n       \n       ",
   "metadata": {
    "cell_id": "00022-0c24cf5c-4eb0-4ee7-afd9-356d5131fb12",
    "deepnote_cell_type": "markdown"
   }
  },
  {
   "cell_type": "code",
   "metadata": {
    "cell_id": "00023-38ebb046-bcb3-47a7-b36e-1339f3f6c55c",
    "deepnote_to_be_reexecuted": false,
    "source_hash": "21738b6a",
    "execution_start": 1643212365543,
    "execution_millis": 0,
    "deepnote_cell_type": "code"
   },
   "source": "def load_game(self):\n    try:\n        f = open(input(\"What is your save-file called? :\\n\"))\n    except OSError:\n        print(f'There is no such file called {f} - please try again')\n    s = f.read()\n    d = json.loads(s)\n    self.debug = d\n    self.board.clear_stack()\n    \n    for _, moves in self.debug.values():\n        self.board.push_legal(chess.Move.from_uci(moves))\n    \nGame.load_game = load_game\ndel load_game",
   "execution_count": 12,
   "outputs": []
  },
  {
   "cell_type": "markdown",
   "source": "______________________________________________________________\n\n# Debug Section\n<br>\n\n**In this section, the Game.play() and Game.display() - Methods will be modified and saved as Game.debug_play() and Game.display_debug()**\n\nThe reason is, that a mode for debuging purpose is generally needed if we want to figure out the reason behind bugs or problems. \nInstead of using the tricky python debuger, we developed a method to show only the desired attributes when we need to see them. \nThrough this, we can take a deeper look into the Game.play() method while changing the display()-method, so we can see through step by step or move by move.\n",
   "metadata": {
    "cell_id": "00024-c2d32269-75f0-418b-b484-0b5c02ca44f0",
    "deepnote_cell_type": "markdown"
   }
  },
  {
   "cell_type": "markdown",
   "source": "### debug_play\nThis is the debugger-method for bug-detection. Here, a dictionary of chess-problems is given. The user can choose to present a certain problem as\nargument of the method or choose the problem out of given problems while running the \"debugger\". Furthermore, it is possible to automate the procedure,\nif the methods gets executed in a loop. (Example in Test.ipynb) Through this it is possible to run all tests and track all necessary information. If \nautomation is not enabled, the information is not saved, due to the user beeing able to access it through the game-object. (If the method is called\ntwice or more, the information will be overwritten, so be careful to enable automation if you run multiple tests!).\nBesides small differences to enable better debugging-opportunities, this function performs like Game.play(). \n###### <u><i>Arguments</u></i>\n__chess_problem__ _Callable(String) [Optional] (Default behavior: None)_  \nA string associated with a key of the Constants.chess_problems dictionary.  \n__automation__ _Callable(Boolean) [Optional] (Default behavior: False)_  \nA boolean indicating whether or not this call is part of a automatic test-run consisting of multiple tests.  \n###### <u><i>Side effects</u></i>\n__automation = False__  \nIf automation is set to false, the user has to press a button after every move. Therefore we can deside how long we want wait and look at the \ndisplayed details before the next move is executed.  \n__automation = True__  \nAll tests run without interruption. After all tests ran, details can be accessed through game.auto_tests, a collection of all debug-dictionaries and \ngame.wins, a collection of all winners ('white', 'black' or None -> Draw).    \n  \nThe user has to press any key after each move.",
   "metadata": {
    "cell_id": "00025-4d8613fb-5f95-4cd9-a24a-8f2f125800fd",
    "deepnote_cell_type": "markdown"
   }
  },
  {
   "cell_type": "code",
   "metadata": {
    "cell_id": "00026-d48d6eec-d722-4bca-916d-2421bcf4ce25",
    "deepnote_to_be_reexecuted": false,
    "source_hash": "fd852889",
    "execution_start": 1643212365544,
    "execution_millis": 3,
    "deepnote_cell_type": "code"
   },
   "source": "def debug_play(self, chess_problem = None, automation = False) -> None:\n    problem_dict = Constants.chess_problems\n    self.debug.clear() # clear the debug dictionary - this dict may have contained moves from the last playthrough\n    if chess_problem is None or chess_problem not in problem_dict:\n        problem = input(\"Please choose chess-problem: \\nAJW, \\nAF, \\nLE, \\nMPN, \\nEK, \\nGBE \\nyou can find further information about the given problems in Constants.ipynb\\n\")\n        while problem not in problem_dict:\n            clear_output()\n            print(\"\\nAJW, \\nAF, \\nLE, \\nMPN, \\nEK, \\nGBE\")\n            problem = input(\"Wrong input, please try again. Type one of the above numbers to initialze the test\")\n    else: problem = chess_problem\n    self.board.set_fen(problem_dict[problem])\n    \n    while not self.board.is_game_over():\n        self.display_debug(automation)\n        if self.is_ai[self.board.turn]:\n            # Start time\n            time_stamp = time.time()\n            if not self.make_opening_move():\n                score, move = self.make_move[self.board.turn](self.board, self.board.turn, self.endgame_tablebase)\n                self.debug[len(self.board.move_stack)] = (score, move.uci())\n            # Find time difference\n            time_stamp = time.time() - time_stamp\n            # Add time to move_times\n            self.move_times[self.board.turn].append(time_stamp)\n        else:\n            self.make_move_human()\n\n        if self.endgame_tablebase is not None:\n            try:\n                self.HTML_CONTENT = ''\n                self.HTML_CONTENT += 'DTM:\\n'\n                self.HTML_CONTENT += str(self.endgame_tablebase.probe_dtm(self.board)) + '\\n'\n                self.HTML_CONTENT += 'WDL:\\n'\n                self.HTML_CONTENT += str(self.endgame_tablebase.probe_wdl(self.board)) + '\\n'\n            except KeyError:\n                pass\n        else:\n            self.HTML_CONTENT = 'wut'\n\n        self.board.check_and_set_ending()\n        \n    self.display_debug(True)\n    winner_message = 'It\\'s a draw!' if self.board.outcome() is None or self.board.outcome().winner is None \\\n        else f'{\"White\" if self.board.outcome().winner == chess.WHITE else \"Black\"} is the winner!'\n    print(f'The game has ended. {winner_message}\\n')\n    print(self.board.outcome())\n    if automation:\n        self.auto_tests[problem] = self.debug\n        winner = None\n        if self.board.outcome() is None or self.board.outcome().winner is None:\n            winner = None \n        elif self.board.outcome().winner == chess.WHITE:\n            winner = \"white\"\n        else: winner = \"black\"\n            \n        self.wins.append(winner)\n\nGame.debug_play = debug_play\ndel debug_play",
   "execution_count": 13,
   "outputs": []
  },
  {
   "cell_type": "markdown",
   "source": "### display_debug\nThis is the display-method used in the debug_play-method. Besides the method waiting for the user to press a button, this method doesn't differ from the display-method.\n    \n###### <u><i>Arguments</u></i>\n__Bool__ _Boolean_  \nA boolean to determine if this call is one of multiple-automated tests.\n\n###### <u><i>Side effects</u></i>\n__Bool = True__  \nThe user has to press any key after each move.",
   "metadata": {
    "cell_id": "00027-0ccfe541-8bc3-4a88-af47-6b876bb3c0be",
    "deepnote_cell_type": "markdown"
   }
  },
  {
   "cell_type": "code",
   "metadata": {
    "cell_id": "00028-3ef9fa88-d0ea-44f7-835e-5d55b4ae0e3f",
    "deepnote_to_be_reexecuted": false,
    "source_hash": "ebb8e5fe",
    "execution_start": 1643212365549,
    "execution_millis": 15,
    "deepnote_cell_type": "code"
   },
   "source": "def display_debug(self, Bool) -> None:\n    clear_output()\n    try:\n        last_move = self.board.peek()\n        board_visual = chess.svg.board(self.board, size=self.BOARD_DISPLAY_SIZE, lastmove=last_move, check=self.get_check_square()) \n    except IndexError:\n        board_visual = chess.svg.board(self.board, size=self.BOARD_DISPLAY_SIZE)\n    table = '<table><th>Board</th><th>{}</th><tr><td><div style=\\\"vertical-align: top; text-align: left\\\">{}</div></td><td>{}</td></div></tr></table>'\n    display(HTML(table.format(self.HTML_HEADER, board_visual, self.HTML_CONTENT)))\n    if(not Bool):\n        if len(self.board.move_stack) != 0:\n            print(self.debug[len(self.board.move_stack)])\n        input(\"press any button to continue\")\n\nGame.display_debug = display_debug\ndel display_debug",
   "execution_count": 14,
   "outputs": []
  },
  {
   "cell_type": "markdown",
   "source": "<a style='text-decoration:none;line-height:16px;display:flex;color:#5B5B62;padding:10px;justify-content:end;' href='https://deepnote.com?utm_source=created-in-deepnote-cell&projectId=d6ce9acd-52c5-4422-904d-8424da19408b' target=\"_blank\">\n<img alt='Created in deepnote.com' style='display:inline;max-height:16px;margin:0px;margin-right:7.5px;' src='data:image/svg+xml;base64,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' > </img>\nCreated in <span style='font-weight:600;margin-left:4px;'>Deepnote</span></a>",
   "metadata": {
    "tags": [],
    "created_in_deepnote_cell": true,
    "deepnote_cell_type": "markdown"
   }
  }
 ],
 "nbformat": 4,
 "nbformat_minor": 2,
 "metadata": {
  "deepnote": {
   "is_reactive": false
  },
  "deepnote_execution_queue": [],
  "deepnote_notebook_id": "b3597d7b-68ac-4caa-b143-c84d929dc93f",
  "kernelspec": {
   "display_name": "Python 3 (ipykernel)",
   "language": "python",
   "name": "python3"
  },
  "language_info": {
   "codemirror_mode": {
    "name": "ipython",
    "version": 3
   },
   "file_extension": ".py",
   "mimetype": "text/x-python",
   "name": "python",
   "nbconvert_exporter": "python",
   "pygments_lexer": "ipython3",
   "version": "3.8.3"
  }
 }
}