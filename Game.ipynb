{
 "cells": [
  {
   "cell_type": "code",
   "metadata": {
    "cell_id": "00000-bf48c591-cf89-4605-a4f0-94c0da4eee47",
    "deepnote_output_heights": [
     2
    ],
    "deepnote_to_be_reexecuted": true,
    "execution_millis": 45,
    "execution_start": 1643214589534,
    "source_hash": "bd190a5a",
    "tags": [],
    "deepnote_cell_type": "code"
   },
   "source": "from IPython.core.display import HTML, display\ndisplay(HTML('<style>.container { width:100%; !important } </style>'))",
   "execution_count": null,
   "outputs": [
    {
     "data": {
      "text/plain": "<IPython.core.display.HTML object>",
      "text/html": "<style>.container { width:100%; !important } </style>"
     },
     "metadata": {},
     "output_type": "display_data"
    },
    {
     "output_type": "error",
     "ename": "KernelInterrupted",
     "evalue": "Execution interrupted by the Jupyter kernel.",
     "traceback": [
      "\u001b[0;31m---------------------------------------------------------------------------\u001b[0m",
      "\u001b[0;31mKernelInterrupted\u001b[0m: Execution interrupted by the Jupyter kernel."
     ]
    }
   ]
  },
  {
   "cell_type": "markdown",
   "source": "# The chess interface and game loop",
   "metadata": {
    "cell_id": "00001-c58a7d41-da07-42e9-9ddc-60816ec2a229",
    "tags": [],
    "deepnote_cell_type": "markdown"
   }
  },
  {
   "cell_type": "markdown",
   "source": "### Dependencies",
   "metadata": {
    "cell_id": "00001-21a73485-cde6-4ade-8067-a798ef992bd0",
    "tags": [],
    "deepnote_cell_type": "markdown"
   }
  },
  {
   "cell_type": "code",
   "metadata": {
    "cell_id": "00000-6f985b14-fa1e-4d1d-a929-be0f93ddb0df",
    "deepnote_to_be_reexecuted": true,
    "execution_millis": 13973,
    "execution_start": 1643214589589,
    "source_hash": "fd1ef748",
    "tags": [],
    "output_cleared": false,
    "deepnote_output_heights": [
     null,
     2
    ],
    "deepnote_cell_type": "code"
   },
   "source": "%pip install python-chess\n\nimport chess\nimport chess.svg\nimport chess.polyglot\nimport chess.gaviota\nimport time\nimport random\nimport json\nfrom IPython.display import clear_output, SVG, display, HTML\nfrom typing import Callable, Union\n\nimport import_ipynb\nimport Globals",
   "execution_count": null,
   "outputs": [
    {
     "name": "stdout",
     "text": "Requirement already satisfied: python-chess in /usr/local/lib/python3.7/site-packages (1.999)\nRequirement already satisfied: chess<2,>=1 in /root/venv/lib/python3.7/site-packages (from python-chess) (1.8.0)\n\u001b[33mWARNING: You are using pip version 20.1.1; however, version 21.3.1 is available.\nYou should consider upgrading via the '/usr/local/bin/python -m pip install --upgrade pip' command.\u001b[0m\nNote: you may need to restart the kernel to use updated packages.\nimporting Jupyter notebook from Globals.ipynb\n",
     "output_type": "stream"
    },
    {
     "data": {
      "text/plain": "<IPython.core.display.HTML object>",
      "text/html": "<style>.container { width:100%; !important } </style>"
     },
     "metadata": {},
     "output_type": "display_data"
    }
   ]
  },
  {
   "cell_type": "markdown",
   "source": "#### chess.Board.push_legal\nPushes a move to a board's move stack only if it is a valid, legal move. If the move is illegal or invalid, a ValueError is raised and the board state remains unaffected.\n\n###### <b><u>Arguments</u></b>\n<b>move</b> <i>(chess.Move)</i> : The move that should be pushed to the move stack.\n\n###### <b><u>Side effects</u></b>\nPushes a move to the board's move stack, assuming the move was valid and legal.",
   "metadata": {
    "cell_id": "00003-87b30704-4e52-4f35-b53a-560dedb4974c",
    "tags": [],
    "deepnote_cell_type": "markdown"
   }
  },
  {
   "cell_type": "code",
   "metadata": {
    "cell_id": "00001-05c7d25b-a6a6-4f73-92b7-f40ff39334a7",
    "deepnote_to_be_reexecuted": true,
    "execution_millis": 295495,
    "execution_start": 1643214603606,
    "source_hash": "a6731782",
    "tags": [],
    "deepnote_cell_type": "code"
   },
   "source": "def push_legal(self, move: chess.Move):\n    if move not in self.legal_moves:\n        raise ValueError('Illegal move')\n    self.push(move)\n\nchess.Board.push_legal = push_legal\ndel push_legal",
   "execution_count": null,
   "outputs": []
  },
  {
   "cell_type": "markdown",
   "source": "---\n<br>\n\n### Game class\nLets the user play a game of chess against the AI using a virtual chess board UI. Alternatively, two AIs may play against each other. The game may use any algorithm for the AI(s) to make their moves.\n<br><br>\n\n#### \\_\\_init\\_\\_\nThe constructor for the Game class. Gets called whenever a new Game instance is created.\n###### __<u>Arguments</u>__\n<b>make_move_algorithm_white</b> <i>(Callable, default: None)</i> : The function that the AI controlling the white pieces should use to make a new move, or None if the white pieces are player-controlled.<br>\n<b>make_move_algorithm_black</b> <i>(Callable, default: None)</i> : The function that the AI controlling the black pieces should use to make a new move, or None if the white pieces are player-controlled. <br>\n<b>search_depth_white</b> <i>(int, default: 3)</i> : The search depth for the white AI's search algorithm. <br>\n<b>search_depth_black</b> <i>(int, default: 3)</i> : The search depth for the black AI's search algorithm. <br>\n<b>opening_book</b> <i>(str, default: 'Resources/baron30.bin')</i> : The path to the desired opening book the AIs will use, or None if no opening book is desired. <br>\n<b>endgame_tablebase_dir</b> <i>(str, default: '/datasets/gaviota')</i> : The path to the directory of the desired endgame tablebase the AIs will use, or None if no endgame tablebase is desired. <br>\n###### <b><u>Side effects</u></b>\nIf neither white nor black is set to be an AI, the game will exit. At least one AI is required to play the game.\n",
   "metadata": {
    "cell_id": "00005-e57b162a-1158-4a3f-87ce-d787ede02b90",
    "tags": [],
    "deepnote_cell_type": "markdown"
   }
  },
  {
   "cell_type": "code",
   "metadata": {
    "cell_id": "00007-00baebf0-015e-4a8f-b2f4-0d1c9579dc6c",
    "deepnote_to_be_reexecuted": true,
    "execution_millis": 295512,
    "execution_start": 1643214603650,
    "source_hash": "3fe4e291",
    "tags": [],
    "deepnote_cell_type": "code"
   },
   "source": "class Game:\n    def __init__(\n            self,\n            make_move_algorithm_white: Callable=None,\n            make_move_algorithm_black: Callable=None,\n            search_depth_white: int=3,\n            search_depth_black: int=3,\n            opening_book: str='Resources/baron30.bin',\n            endgame_tablebase_dir: str='/datasets/gaviota'\n    ):\n        self.opening_book = opening_book\n        self.endgame_tablebase_dir = endgame_tablebase_dir\n\n        self.debug = {}\n        self.auto_tests = {}\n        self.wins = []\n\n        self.board = chess.Board()\n        self.board.ending = False\n\n        self.move_times = { chess.WHITE: [], chess.BLACK: [] }\n        self.make_move = { chess.WHITE: make_move_algorithm_white, chess.BLACK: make_move_algorithm_black }\n        self.search_depth = { chess.WHITE: search_depth_white, chess.BLACK: search_depth_black }\n        self.is_ai = self.get_ai_state()\n\n        if self.endgame_tablebase_dir is not None:\n            self.endgame_tablebase = chess.gaviota.open_tablebase(self.endgame_tablebase_dir)\n\n        # The game requires that at least one player is an AI - it is not a multiplayer chess game\n        if not self.is_ai[chess.WHITE] and not self.is_ai[chess.BLACK]:\n            raise ValueError('At least one player must be an AI')",
   "execution_count": null,
   "outputs": []
  },
  {
   "cell_type": "markdown",
   "source": "#### Game: class variables\n<b>BOARD_DISPLAY_SIZE</b> <i>(int)</i> : The size of the displayed chess board in pixels. <br>\n\n<b>board</b> <i>(chess.Board)</i> : The chess board instance that's used for the game. <br>\n\n<b>make_move</b> <i>(dict<chess.Color, Callable>)</i> : The algorithms the AIs, playing white and/or black, use to make a move. <br>\n<b>search_depth</b> <i>(dict<chess.Color, int>)</i> : The search depth for the AI's search algorithm for either color. <br>\n<b>is_ai</b> <i>(dict<chess.Color, bool>)</i> : Whether a color is AI-controlled (True) or player-controlled (False). <br>\n\n<b>move_times</b> <i>(dict<chess.Color, list>)</i> : The time the AI(s) take to make their move. <br>\n<b>test_playthrough</b> <i>(list<tuple<int, chess.Move>)</i> : The moves that are made during the game as well as their evaluated move scores, for debugging purposes. <br>\n<b>problem_playthroughs</b> <i>(dict<str, list>)</i> : A debug move-and-score list (see above) for each test, useful when debugging multiple chess problem tests. <br>\n<b>wins</b> <i>(list<chess.Color>)</i> : A list of colors that have won in the previous tests (None in case of a draw).<br>\n\n<b>opening_book</b> <i>(str)</i> : A path to a Polyglot opening book, or None if no opening book is in use. <br>\n<b>endgame_tablebase_dir</b> <i>(str)</i> : A path to a Gaviota endgame tablebase directory, or None if no endgame tablebase is in use. <br>\n<b>endgame_tablebase</b> <i>(Union[NativeTablebase, PythonTablebase])</i> : The endgame tablebase object, or None if no endgame tablebase is in use. <br>",
   "metadata": {
    "cell_id": "edf4f21e-b0ad-4d28-9cc3-70110197c8ee",
    "tags": [],
    "deepnote_cell_type": "markdown"
   }
  },
  {
   "cell_type": "code",
   "metadata": {
    "cell_id": "21325334-a5f7-4d76-a40f-9e184b3b7b6c",
    "tags": [],
    "deepnote_cell_type": "code"
   },
   "source": "# Constants\nGame.BOARD_DISPLAY_SIZE = 500\n\n# Board variables\nGame.board = None\n\n# AI and player declarations\nGame.make_move = None\nGame.search_depth = None\nGame.is_ai = None\n\n# Testing declarations\nGame.move_times = None\nGame.debug = None\nGame.auto_tests = None\nGame.wins = None\n\n# Opening book and endgame tablebase declarations\nGame.opening_book = None\nGame.endgame_tablebase_dir = None\nGame.endgame_tablebase = None",
   "execution_count": null,
   "outputs": []
  },
  {
   "cell_type": "markdown",
   "source": "### play\nPlays the game.\nDepending on the input arguments there are different game-states and features:\n1. (AI, AI): \n    - Displays the chess board visually.\n    - Lets the AI make a move based on the board state and specified algorithm.\n    - Lets the other AI make a move based on the board state and specified algorithm.\n2. (AI, Player) - (Player, AI):\n    - Displays the chess board visually.\n    - Lets the AI make a move based on the board state.\n    - Lets the human player input their move and pushes it to the board \n    (if it's valid and legal).\n\n######  <u><i>Side effects</i></u> \n- The state of the board in the Game class is changed.  \n- The state of is_first_move is changed after the first move.\n- The times the AIs take to make a move is tracked and saved.\n- The chess board is visually displayed.\n",
   "metadata": {
    "cell_id": "173d3240-cd83-4555-82bf-c63fb48220e2",
    "tags": [],
    "deepnote_cell_type": "markdown"
   }
  },
  {
   "cell_type": "code",
   "metadata": {
    "cell_id": "00010-02b76cdf-4dac-4e74-a323-9b8775fcd1cb",
    "deepnote_to_be_reexecuted": true,
    "execution_millis": 295509,
    "execution_start": 1643214603695,
    "source_hash": "3864e46a",
    "tags": [],
    "deepnote_cell_type": "code"
   },
   "source": "def play(self, debug: bool=False) -> None:\n    while not self.board.is_game_over():\n        self.display()\n        if self.is_ai[self.board.turn]:\n            # Start time\n            time_stamp = time.time()\n\n            # Make move\n            if not self.make_opening_move():\n                color = self.board.turn\n                score, move = self.make_move[color](self.board, color, self.search_depth[color], self.endgame_tablebase)\n                self.debug[len(self.board.move_stack)] = (score, move.uci())\n\n            # Add time difference to move times\n            time_stamp = time.time() - time_stamp\n            self.move_times[self.board.turn].append(time_stamp)\n        else:\n            self.make_move_human()\n\n        self.board.check_and_set_ending()\n        self.display(wait=True)\n\n    winner_message = 'It\\'s a draw!' if self.board.outcome() is None or self.board.outcome().winner is None \\\n        else f'{\"White\" if self.board.outcome().winner == chess.WHITE else \"Black\"} is the winner!'\n    print(f'The game has ended. {winner_message}\\n')\n    print(self.board.outcome()) \n\nGame.play = play\ndel play",
   "execution_count": null,
   "outputs": []
  },
  {
   "cell_type": "markdown",
   "source": "### display\nDisplays the chess board graphically.\n\n###### __<u>Arguments</u>__\n__wait__ _(bool)_ : Whether or not to wait to clear the output until new output is available to replace it.\n\n###### __<u>Side effects</u>__\nThe current visual output is overwritten.\n",
   "metadata": {
    "cell_id": "f451b212-7258-4a2c-90da-da3ebbbb176c",
    "tags": [],
    "deepnote_cell_type": "markdown"
   }
  },
  {
   "cell_type": "code",
   "metadata": {
    "cell_id": "00009-d720b37e-432a-49ca-8aa8-0bc95e23401f",
    "deepnote_to_be_reexecuted": true,
    "source_hash": "40180b50",
    "execution_start": 1643214603740,
    "execution_millis": 295515,
    "deepnote_cell_type": "code"
   },
   "source": "def display(self, debug: bool=False) -> None:\n    clear_output(wait=not debug)\n    try:\n        last_move = self.board.peek()\n        board_visual = chess.svg.board(self.board, size=self.BOARD_DISPLAY_SIZE, lastmove=last_move, check=self.get_check_square()) \n    except IndexError:\n        board_visual = chess.svg.board(self.board, size=self.BOARD_DISPLAY_SIZE)\n    display(board_visual)\n\nGame.display = display\ndel display",
   "execution_count": null,
   "outputs": []
  },
  {
   "cell_type": "markdown",
   "source": "### get_check_squares\nchecks for piecs or squares giving check.\n###### <u><i>Returns</u></i>\n__chess.Square__ _None [if no square sets gives check]_\n###### <u><i>Side effects</u></i>\nIf get_check_squares returns a value, the display function will indicate the square giving check with a red background\n    ",
   "metadata": {
    "cell_id": "cbdf8a61-1337-4c09-ab19-048f4ef7b7e2",
    "tags": [],
    "deepnote_cell_type": "markdown"
   }
  },
  {
   "cell_type": "code",
   "metadata": {
    "cell_id": "00010-f6d2a47e-5679-43e8-afac-3a669b571dd3",
    "deepnote_to_be_reexecuted": true,
    "source_hash": "617ca7b9",
    "execution_start": 1643214603772,
    "execution_millis": 295502,
    "deepnote_cell_type": "code"
   },
   "source": "def get_check_square(self) -> chess.Square:\n    if self.board.is_check():\n        return self.board.checkers().pop()\n    return None\n            \nGame.get_check_square = get_check_square\ndel get_check_square",
   "execution_count": null,
   "outputs": []
  },
  {
   "cell_type": "markdown",
   "source": "### make_opening_move\nMakes a random move from the opening book, if available. If not, no move is made.\n###### <u><i>Returns</u></i>\n__True:__ A move from the opening book was made.  \n__False:__ A move from the opening book was not made.",
   "metadata": {
    "cell_id": "fb4be5bf-207b-46e1-aabf-3bb49553dc18",
    "tags": [],
    "deepnote_cell_type": "markdown"
   }
  },
  {
   "cell_type": "code",
   "metadata": {
    "cell_id": "00011-79094b90-bc3f-46fd-879c-c3dd9480661e",
    "deepnote_to_be_reexecuted": true,
    "source_hash": "11f402a7",
    "execution_start": 1643214603833,
    "execution_millis": 295513,
    "deepnote_cell_type": "code"
   },
   "source": "def make_opening_move(self) -> bool:\n    if self.opening_book is None:\n        return False\n\n    with chess.polyglot.open_reader(self.opening_book) as reader:\n        possible_moves = [ entry.move for entry in reader.find_all(self.board) ]\n        if len(possible_moves) > 0:\n            move = random.choice(possible_moves)\n            self.board.push(move)\n            self.debug[len(self.board.move_stack)] = ('opening library', move.uci())\n            return True\n\n    return False\n\nGame.make_opening_move = make_opening_move\ndel make_opening_move",
   "execution_count": null,
   "outputs": []
  },
  {
   "cell_type": "markdown",
   "source": "### get_ai_state\nDefine the AIs for the game. Dependent on the ai_algorithms given as arguments in game.play()\nthis functions defines the player state for the different colors. (AI or Player). If the \n\"player\" is defined as an ai, the dictionary value to the coresponding chess.Color is defined \nas True.\n###### <u><i>Returns</u></i>\n__{chess.Color: Bool}__ _Dict_\n",
   "metadata": {
    "cell_id": "bd85924b-457e-47e9-89dd-7efbda5f41ed",
    "tags": [],
    "deepnote_cell_type": "markdown"
   }
  },
  {
   "cell_type": "code",
   "metadata": {
    "cell_id": "00012-aa1192f6-48e7-49fe-9e32-f3a470f6a2ba",
    "deepnote_to_be_reexecuted": true,
    "source_hash": "d7df8be3",
    "execution_start": 1643214603838,
    "execution_millis": 295472,
    "deepnote_cell_type": "code"
   },
   "source": "def get_ai_state(self) -> dict:\n    return {\n        color: self.make_move[color] is not None\n        for color in ( chess.WHITE, chess.BLACK )\n    }\n\nGame.get_ai_state = get_ai_state\ndel get_ai_state",
   "execution_count": null,
   "outputs": []
  },
  {
   "cell_type": "markdown",
   "source": "\n### make_move_human\nIf the \"player\" is human, this method enables the human user to make a move through the \ninput-console.\n###### <u><i>Side effects</u></i>\nA move is pushed onto the move_stack and it is the next players turn.",
   "metadata": {
    "cell_id": "9615c9df-c881-4662-b1ca-a48604c4b70d",
    "tags": [],
    "deepnote_cell_type": "markdown"
   }
  },
  {
   "cell_type": "code",
   "metadata": {
    "cell_id": "00013-2e9fea17-72ac-404d-9865-0cc6d70107f4",
    "deepnote_to_be_reexecuted": true,
    "source_hash": "faa65795",
    "execution_start": 1643214603851,
    "execution_millis": 295435,
    "deepnote_cell_type": "code"
   },
   "source": "def make_move_human(self) -> None:\n    input_prompt = 'Please input your move: '\n    while True:\n        try:\n            move = chess.Move.from_uci(input(input_prompt))\n            self.board.push_legal(move)\n            return\n        except ValueError:\n            input_prompt = 'Illegal move, please try again: '\n                \nGame.make_move_human = make_move_human\ndel make_move_human",
   "execution_count": null,
   "outputs": []
  },
  {
   "cell_type": "markdown",
   "source": "### save_state\nThe movestack as well as all the scores are saved in a file, named by the user. The file is stored in the current working-directory. \nThis file can then later be loaded to open a game.\n       \nSide effect: Execution is paused until valid file is given as user input.",
   "metadata": {
    "cell_id": "c0a073aa-8a15-4d0d-9455-a0f16c3f740a",
    "tags": [],
    "deepnote_cell_type": "markdown"
   }
  },
  {
   "cell_type": "code",
   "metadata": {
    "cell_id": "00015-c86a10a8-f015-4024-ba7c-4a4e6b8ed038",
    "deepnote_to_be_reexecuted": true,
    "source_hash": "a00976a4",
    "execution_start": 1643214603915,
    "execution_millis": 295405,
    "deepnote_cell_type": "code"
   },
   "source": "def save_state(self) -> None:\n    filename = input('Please input save name:\\n') + '.chessgame'\n    with open(filename, 'w') as f:\n        state = json.dumps(self.debug)\n        f.write(state)\n    \nGame.save_state = save_state\ndel save_state",
   "execution_count": null,
   "outputs": []
  },
  {
   "cell_type": "markdown",
   "source": "### load_state\nA saved game is loaded. Therefore, the game will be recreated by loading the move_stack from a saved game.\n\nSide effect: Execution is paused until valid file is given as user input.",
   "metadata": {
    "cell_id": "c08f78a1-a559-45ff-90da-e1aef5e67f28",
    "tags": [],
    "deepnote_cell_type": "markdown"
   }
  },
  {
   "cell_type": "code",
   "metadata": {
    "cell_id": "2832041b-20f2-4b52-ae4a-36a99888814b",
    "tags": [],
    "deepnote_to_be_reexecuted": true,
    "source_hash": "21738b6a",
    "execution_start": 1643214603916,
    "execution_millis": 295414,
    "deepnote_cell_type": "code"
   },
   "source": "def load_game(self) -> None:\n    while True:\n        try:\n            filename = input('What is your save file called?:\\n')\n            if not filename.endswith('.chessgame'):\n                filename += '.chessgame'\n                \n            with open(filename) as f:\n                s = f.read()\n                d = json.loads(s)\n                self.debug = d\n                self.board.clear_stack()\n                \n                for _, moves in self.debug.values():\n                    self.board.push_legal(chess.Move.from_uci(moves))\n\n            return\n        except OSError:\n            print(f'There is no such file called {filename} - please try again')\n    \nGame.load_game = load_game\ndel load_game",
   "execution_count": null,
   "outputs": []
  },
  {
   "cell_type": "markdown",
   "source": "______________________________________________________________\n\n# Debug Section\n<br>\n\n**In this section, the Game.play() and Game.display() - Methods will be modified and saved as Game.debug_play() and Game.display_debug()**\n\nThe reason is, that a mode for debuging purpose is generally needed if we want to figure out the reason behind bugs or problems. \nInstead of using the tricky python debuger, we developed a method to show only the desired attributes when we need to see them. \nThrough this, we can take a deeper look into the Game.play() method while changing the display()-method, so we can see through step by step or move by move.\n",
   "metadata": {
    "cell_id": "8d987995-8b72-468b-add4-9f4450300a29",
    "tags": [],
    "deepnote_cell_type": "markdown"
   }
  },
  {
   "cell_type": "markdown",
   "source": "### debug_play\nThis is the debugger-method for bug-detection. Here, a dictionary of chess-problems is given. The user can choose to present a certain problem as\nargument of the method or choose the problem out of given problems while running the \"debugger\". Furthermore, it is possible to automate the procedure,\nif the methods gets executed in a loop. (Example in Test.ipynb) Through this it is possible to run all tests and track all necessary information. If \nautomation is not enabled, the information is not saved, due to the user beeing able to access it through the game-object. (If the method is called\ntwice or more, the information will be overwritten, so be careful to enable automation if you run multiple tests!).\nBesides small differences to enable better debugging-opportunities, this function performs like Game.play(). \n###### <u><i>Arguments</u></i>\n__chess_problem__ _Callable(String) [Optional] (Default behavior: None)_  \nA string associated with a key of the Constants.chess_problems dictionary.  \n__automation__ _Callable(Boolean) [Optional] (Default behavior: False)_  \nA boolean indicating whether or not this call is part of a automatic test-run consisting of multiple tests.  \n###### <u><i>Side effects</u></i>\n__automation = False__  \nIf automation is set to false, the user has to press a button after every move. Therefore we can deside how long we want wait and look at the \ndisplayed details before the next move is executed.  \n__automation = True__  \nAll tests run without interruption. After all tests ran, details can be accessed through game.auto_tests, a collection of all debug-dictionaries and \ngame.wins, a collection of all winners ('white', 'black' or None -> Draw).    \n  \nThe user has to press any key after each move.",
   "metadata": {
    "cell_id": "33e6e27d-148a-47e3-b63c-5b3f25953ace",
    "tags": [],
    "deepnote_cell_type": "markdown"
   }
  },
  {
   "cell_type": "code",
   "metadata": {
    "cell_id": "ffbe1389-4f6c-4af7-b528-64ae6f3ffbaf",
    "tags": [],
    "deepnote_to_be_reexecuted": true,
    "source_hash": "74acb858",
    "execution_start": 1643214604019,
    "execution_millis": 1,
    "deepnote_cell_type": "code"
   },
   "source": "def debug_play(self, chess_problem = None, automation = False) -> None:\n    problem_dict = Globals.CHESS_PROBLEMS\n    self.debug.clear() # clear the debug dictionary - this dict may have contained moves from the last playthrough\n    if chess_problem is None or chess_problem not in problem_dict:\n        problem = input(\"Please choose chess-problem: \\nAJW, \\nAF, \\nLE, \\nMPN, \\nEK, \\nGBE \\nyou can find further information about the given problems in Constants.ipynb\\n\")\n        while problem not in problem_dict:\n            clear_output()\n            print(\"\\nAJW, \\nAF, \\nLE, \\nMPN, \\nEK, \\nGBE\")\n            problem = input(\"Wrong input, please try again. Type one of the above numbers to initialze the test\")\n    else:\n        problem = chess_problem\n\n    self.board.set_fen(problem_dict[problem])\n    \n    while not self.board.is_game_over():\n        self.display_debug(automation)\n        if self.is_ai[self.board.turn]:\n            # Start time\n            time_stamp = time.time()\n\n            # Make move\n            if not self.make_opening_move():\n                color = self.board.turn\n                score, move = self.make_move[color](self.board, color, self.search_depth[color], self.endgame_tablebase)\n                self.debug[len(self.board.move_stack)] = (score, move.uci())\n\n            # Add time difference to move times\n            time_stamp = time.time() - time_stamp\n            self.move_times[self.board.turn].append(time_stamp)\n        else:\n            self.make_move_human()\n\n        self.board.check_and_set_ending()\n        \n    self.display_debug(True)\n    winner_message = 'It\\'s a draw!' if self.board.outcome() is None or self.board.outcome().winner is None \\\n        else f'{\"White\" if self.board.outcome().winner == chess.WHITE else \"Black\"} is the winner!'\n    print(f'The game has ended. {winner_message}\\n')\n    print(self.board.outcome())\n    if automation:\n        self.auto_tests[problem] = dict(self.debug)\n        winner = None\n        if self.board.outcome() is None or self.board.outcome().winner is None:\n            winner = None \n        elif self.board.outcome().winner == chess.WHITE:\n            winner = \"white\"\n        else: winner = \"black\"\n            \n        self.wins.append(winner)\n\nGame.debug_play = debug_play\ndel debug_play",
   "execution_count": null,
   "outputs": []
  },
  {
   "cell_type": "markdown",
   "source": "### display_debug\nThis is the display-method used in the debug_play-method. Besides the method waiting for the user to press a button, this method doesn't differ from the display-method.\n    \n###### <u><i>Arguments</u></i>\n__Bool__ _Boolean_  \nA boolean to determine if this call is one of multiple-automated tests.\n\n###### <u><i>Side effects</u></i>\n__Bool = True__  \nThe user has to press any key after each move.",
   "metadata": {
    "cell_id": "2db9bc0c-1028-4f82-830f-23708268103d",
    "tags": [],
    "deepnote_cell_type": "markdown"
   }
  },
  {
   "cell_type": "code",
   "metadata": {
    "cell_id": "ade3543a-cca7-44e4-bfe8-cb42085a6d09",
    "tags": [],
    "deepnote_to_be_reexecuted": true,
    "source_hash": "ebb8e5fe",
    "execution_start": 1643214604021,
    "execution_millis": 1,
    "deepnote_cell_type": "code"
   },
   "source": "def display_debug(self, automation: bool=False) -> None:\n    display(wait=False)\n    if not automation:\n        if len(self.board.move_stack) != 0:\n            print(self.debug[len(self.board.move_stack)])\n        input(\"press any button to continue\")\n\nGame.display_debug = display_debug\ndel display_debug",
   "execution_count": null,
   "outputs": []
  },
  {
   "cell_type": "markdown",
   "source": "",
   "metadata": {
    "cell_id": "b131ef68-4315-460c-9875-d58563ed3708",
    "tags": [],
    "deepnote_cell_type": "markdown"
   }
  },
  {
   "cell_type": "markdown",
   "source": "<a style='text-decoration:none;line-height:16px;display:flex;color:#5B5B62;padding:10px;justify-content:end;' href='https://deepnote.com?utm_source=created-in-deepnote-cell&projectId=d6ce9acd-52c5-4422-904d-8424da19408b' target=\"_blank\">\n<img alt='Created in deepnote.com' style='display:inline;max-height:16px;margin:0px;margin-right:7.5px;' src='data:image/svg+xml;base64,PD94bWwgdmVyc2lvbj0iMS4wIiBlbmNvZGluZz0iVVRGLTgiPz4KPHN2ZyB3aWR0aD0iODBweCIgaGVpZ2h0PSI4MHB4IiB2aWV3Qm94PSIwIDAgODAgODAiIHZlcnNpb249IjEuMSIgeG1sbnM9Imh0dHA6Ly93d3cudzMub3JnLzIwMDAvc3ZnIiB4bWxuczp4bGluaz0iaHR0cDovL3d3dy53My5vcmcvMTk5OS94bGluayI+CiAgICA8IS0tIEdlbmVyYXRvcjogU2tldGNoIDU0LjEgKDc2NDkwKSAtIGh0dHBzOi8vc2tldGNoYXBwLmNvbSAtLT4KICAgIDx0aXRsZT5Hcm91cCAzPC90aXRsZT4KICAgIDxkZXNjPkNyZWF0ZWQgd2l0aCBTa2V0Y2guPC9kZXNjPgogICAgPGcgaWQ9IkxhbmRpbmciIHN0cm9rZT0ibm9uZSIgc3Ryb2tlLXdpZHRoPSIxIiBmaWxsPSJub25lIiBmaWxsLXJ1bGU9ImV2ZW5vZGQiPgogICAgICAgIDxnIGlkPSJBcnRib2FyZCIgdHJhbnNmb3JtPSJ0cmFuc2xhdGUoLTEyMzUuMDAwMDAwLCAtNzkuMDAwMDAwKSI+CiAgICAgICAgICAgIDxnIGlkPSJHcm91cC0zIiB0cmFuc2Zvcm09InRyYW5zbGF0ZSgxMjM1LjAwMDAwMCwgNzkuMDAwMDAwKSI+CiAgICAgICAgICAgICAgICA8cG9seWdvbiBpZD0iUGF0aC0yMCIgZmlsbD0iIzAyNjVCNCIgcG9pbnRzPSIyLjM3NjIzNzYyIDgwIDM4LjA0NzY2NjcgODAgNTcuODIxNzgyMiA3My44MDU3NTkyIDU3LjgyMTc4MjIgMzIuNzU5MjczOSAzOS4xNDAyMjc4IDMxLjY4MzE2ODMiPjwvcG9seWdvbj4KICAgICAgICAgICAgICAgIDxwYXRoIGQ9Ik0zNS4wMDc3MTgsODAgQzQyLjkwNjIwMDcsNzYuNDU0OTM1OCA0Ny41NjQ5MTY3LDcxLjU0MjI2NzEgNDguOTgzODY2LDY1LjI2MTk5MzkgQzUxLjExMjI4OTksNTUuODQxNTg0MiA0MS42NzcxNzk1LDQ5LjIxMjIyODQgMjUuNjIzOTg0Niw0OS4yMTIyMjg0IEMyNS40ODQ5Mjg5LDQ5LjEyNjg0NDggMjkuODI2MTI5Niw0My4yODM4MjQ4IDM4LjY0NzU4NjksMzEuNjgzMTY4MyBMNzIuODcxMjg3MSwzMi41NTQ0MjUgTDY1LjI4MDk3Myw2Ny42NzYzNDIxIEw1MS4xMTIyODk5LDc3LjM3NjE0NCBMMzUuMDA3NzE4LDgwIFoiIGlkPSJQYXRoLTIyIiBmaWxsPSIjMDAyODY4Ij48L3BhdGg+CiAgICAgICAgICAgICAgICA8cGF0aCBkPSJNMCwzNy43MzA0NDA1IEwyNy4xMTQ1MzcsMC4yNTcxMTE0MzYgQzYyLjM3MTUxMjMsLTEuOTkwNzE3MDEgODAsMTAuNTAwMzkyNyA4MCwzNy43MzA0NDA1IEM4MCw2NC45NjA0ODgyIDY0Ljc3NjUwMzgsNzkuMDUwMzQxNCAzNC4zMjk1MTEzLDgwIEM0Ny4wNTUzNDg5LDc3LjU2NzA4MDggNTMuNDE4MjY3Nyw3MC4zMTM2MTAzIDUzLjQxODI2NzcsNTguMjM5NTg4NSBDNTMuNDE4MjY3Nyw0MC4xMjg1NTU3IDM2LjMwMzk1NDQsMzcuNzMwNDQwNSAyNS4yMjc0MTcsMzcuNzMwNDQwNSBDMTcuODQzMDU4NiwzNy43MzA0NDA1IDkuNDMzOTE5NjYsMzcuNzMwNDQwNSAwLDM3LjczMDQ0MDUgWiIgaWQ9IlBhdGgtMTkiIGZpbGw9IiMzNzkzRUYiPjwvcGF0aD4KICAgICAgICAgICAgPC9nPgogICAgICAgIDwvZz4KICAgIDwvZz4KPC9zdmc+' > </img>\nCreated in <span style='font-weight:600;margin-left:4px;'>Deepnote</span></a>",
   "metadata": {
    "tags": [],
    "created_in_deepnote_cell": true,
    "deepnote_cell_type": "markdown"
   }
  }
 ],
 "nbformat": 4,
 "nbformat_minor": 2,
 "metadata": {
  "deepnote": {
   "is_reactive": false
  },
  "deepnote_execution_queue": [],
  "deepnote_notebook_id": "b3597d7b-68ac-4caa-b143-c84d929dc93f",
  "kernelspec": {
   "display_name": "Python 3 (ipykernel)",
   "language": "python",
   "name": "python3"
  },
  "language_info": {
   "codemirror_mode": {
    "name": "ipython",
    "version": 3
   },
   "file_extension": ".py",
   "mimetype": "text/x-python",
   "name": "python",
   "nbconvert_exporter": "python",
   "pygments_lexer": "ipython3",
   "version": "3.9.4"
  }
 }
}