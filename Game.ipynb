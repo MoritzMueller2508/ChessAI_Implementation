{
 "cells": [
  {
   "cell_type": "markdown",
   "source": "# The chess interface and game loop",
   "metadata": {
    "tags": [],
    "cell_id": "00001-c58a7d41-da07-42e9-9ddc-60816ec2a229",
    "deepnote_cell_type": "markdown"
   }
  },
  {
   "cell_type": "markdown",
   "source": "### Dependencies",
   "metadata": {
    "tags": [],
    "cell_id": "00001-21a73485-cde6-4ade-8067-a798ef992bd0",
    "deepnote_cell_type": "markdown"
   }
  },
  {
   "cell_type": "code",
   "metadata": {
    "tags": [],
    "cell_id": "00000-6f985b14-fa1e-4d1d-a929-be0f93ddb0df",
    "deepnote_to_be_reexecuted": false,
    "source_hash": "29087aa5",
    "execution_start": 1639008477726,
    "execution_millis": 3984,
    "deepnote_cell_type": "code"
   },
   "source": "%pip install python-chess # TODO Remove\n\nimport chess, chess.svg, chess.polyglot\nimport time\nimport random\nfrom IPython.display import clear_output, SVG, display, HTML\nfrom typing import Callable",
   "execution_count": 1,
   "outputs": [
    {
     "name": "stdout",
     "text": "Requirement already satisfied: python-chess in /usr/local/lib/python3.7/site-packages (1.999)\nRequirement already satisfied: chess<2,>=1 in /root/venv/lib/python3.7/site-packages (from python-chess) (1.7.0)\n\u001b[33mWARNING: You are using pip version 20.1.1; however, version 21.3.1 is available.\nYou should consider upgrading via the '/usr/local/bin/python -m pip install --upgrade pip' command.\u001b[0m\nNote: you may need to restart the kernel to use updated packages.\n",
     "output_type": "stream"
    }
   ]
  },
  {
   "cell_type": "markdown",
   "source": "### chess.Board.push_legal\nPushes a move to a board's move stack only if it is a valid, legal move. If the move is illegal or invalid, a ValueError is raised and the board state remains unaffected.\n\n##### Arguments\n    move : chess.Move\n        The move that should be pushed to the move stack.\n\n##### Returns\n    N/A\n\n##### Side effects\n    - Pushes a move to the board's move stack, assuming the move was valid and legal.",
   "metadata": {
    "tags": [],
    "cell_id": "00003-87b30704-4e52-4f35-b53a-560dedb4974c",
    "deepnote_cell_type": "markdown"
   }
  },
  {
   "cell_type": "code",
   "metadata": {
    "tags": [],
    "cell_id": "00001-05c7d25b-a6a6-4f73-92b7-f40ff39334a7",
    "deepnote_to_be_reexecuted": false,
    "source_hash": "dd4cc157",
    "execution_start": 1639008481715,
    "execution_millis": 4,
    "deepnote_cell_type": "code"
   },
   "source": "def push_legal(self, move: chess.Move):\n    if move not in self.legal_moves:\n        raise ValueError('Illegal move')\n    self.push(move)\n\nchess.Board.push_legal = push_legal",
   "execution_count": 2,
   "outputs": []
  },
  {
   "cell_type": "markdown",
   "source": "---\n<br>\n\n## Game class\nLets the user play a game of chess against the AI using a virtual chess board UI. The game may use any algorithm for the AI to make its move.\n<br><br>\n\n### Class variables\n    HTML_CONTENT : String\n        The content which is displayed next to the chess board. \n    HTML_HEADER: String\n        The Header of the HTML-content.\n    BOARD_DISPLAY_SIZE : Integer\n        The size of the board in pixels.\n\n    ---\n\n    board : chess.Board\n        The chess board instance that's used for the game.\n    make_move : dictionary(chess.COLOR : Callable)\n        A dictionary of algorithms the AI uses to make a move according to the      \n        color-representation of the AI.\n    is_ai : dictionary(chess.COLOR : Boolean)\n        A dictionary, where the chess.COLOR indicates, whether or not this color is controlled by\n        an AI.\n    move_times : dictionary(chess.COLOR : List)\n        A dictionary with Lists, inheriting the times an AI takes to move according to the \n        chess.COLOR the AI possesses.\n    opening_book : String\n        A String, representing a path to an opening library.\n    is_first_move : Boolean\n        A boolean, representing whether or not the first move has already been executed\n    \n    \n<br>\n\n### \\_\\_init\\_\\_\n    The constructor for the Game class. Gets called whenever a new Game instance is created.\n<br>\n\n##### Arguments\n    make_move_algorithm_white : Callable(chess.Board) [Optional] (Default behavior : None)\n        The function that the AI controlling the white pieces should use to make a new move.\n    make_move_algorithm_black : Callable(chess.Board) [Optional] (Default behavior: None)\n        The function that the AI controlling the black pieces should use to make a new move.\n    opening_book: String [Optional] (Default behavior : None)\n        A String representing the path to the desired opening library the AIs will use.\n\n##### Returns\n    N/A\n\n##### Side effects\n    If no AI is selected as at least one player, the game will exit. At least one AI is required   \n    to play the game.\n<br><br>\n\n### play\n    Plays the game.\n    Depending on the input arguments there are different game-states and features:\n    1. (AI, AI):\n        - Displays the chess board visually.\n        - Lets the AI make a move based on the board state and specified algorithm.\n        - Lets the other AI make a move based on the board state and specified algorithm.\n    2. (AI, Player) - (Player, AI):\n        - Displays the chess board visually.\n        - Lets the AI make a move based on the board state.\n        - Lets the human player input their move and pushes it to the board \n        (if it's valid and legal).\n    3. (Player, Player):\n        - Game will exit -> At least one AI is required to play the game\n\n##### Arguments\n    N/A\n\n##### Returns\n    N/A\n\n##### Side effects\n    - The state of the board in the Game class is changed.\n    - The state of is_first_move is changed after the first move.\n    - The times the AIs take to make a move is tracked and saved.\n    - The chess board is visually displayed.\n<br><br>\n\n### display\n    Displays the chess board graphically. Furthermore, custom HTML is displayed next to the board.\n\n##### Arguments\n    N/A\n\n##### Returns\n    N/A\n\n##### Side effects\n    - The current visual output is overwritten.\n<br> <br>\n\n### get_check_squares\n    checks for piecs or squares giving check.\n#### Arguments\n    N/A\n\n#### Returns\n    chess.Square | None (if no square sets gives check)\n\n##### Side effects\n    - If get_check_squares returns a value, the display function will indicate the square giving\n      check with a red background\n    \n<br><br>\n\n### make_opening_move\n    If it's the first move to be taken, make a random move out of possible legal moves, defined by \n    the opening library.\n#### Arguments\n    N/A\n#### Returns\n    True: First move has not been executed yet\n    False: First move has already been executed\n#### Side effects\n    N/A\n\n### get_ai_state\n    Define the AIs for the game. Dependent on the ai_algorithms given as arguments in game.play()\n    this functions defines the player state for the different colors. (AI or Player). If the \n    \"player\" is defined as an ai, the dictionary value to the coresponding chess.Color is defined \n    as True.\n#### Arguments\n    N/A\n#### Returns\n    {chess.Color: Bool} - Dict\n#### Side effects\n    N/A\n\n### make_move_human\n    If the \"player\" is human, this method enables the human user to make a move through the \n    input-console.\n#### Arguments\n    N/A\n#### Return\n    N/A\n#### Side effects\n    A move is pushed onto the move_stack and it is the next players turn.",
   "metadata": {
    "tags": [],
    "cell_id": "00005-e57b162a-1158-4a3f-87ce-d787ede02b90",
    "deepnote_cell_type": "markdown"
   }
  },
  {
   "cell_type": "code",
   "metadata": {
    "tags": [],
    "cell_id": "00007-00baebf0-015e-4a8f-b2f4-0d1c9579dc6c",
    "deepnote_to_be_reexecuted": false,
    "source_hash": "b76f70de",
    "execution_start": 1639008481746,
    "execution_millis": 6,
    "deepnote_cell_type": "code"
   },
   "source": "class Game:\n    # Constants\n    HTML_CONTENT = 'html stuff'\n    HTML_HEADER = 'Header'\n    BOARD_DISPLAY_SIZE = 500\n\n    # Board variables\n    board = None\n\n    # AI and player declarations\n    make_move = None\n    is_ai = None\n\n    # Testing declarations\n    move_times = None\n\n    # Starting library declarations\n    opening_book = None\n    is_first_move = False    \n\n    def __init__(self, make_move_algorithm_white: Callable=None, make_move_algorithm_black: Callable=None, opening_book: str=None):\n        self.board = chess.Board()\n        self.board.ending = False\n\n        self.move_times = { chess.WHITE: [], chess.BLACK: [] }\n        self.make_move = { chess.WHITE: make_move_algorithm_white, chess.BLACK: make_move_algorithm_black }\n        self.is_ai = self.__get_ai_state()\n        self.opening_book = opening_book\n        self.is_first_move = self.is_ai[chess.WHITE]\n\n        # The game requires that at least one player is an AI - it is not a multiplayer chess game\n        if not self.is_ai[chess.WHITE] and not self.is_ai[chess.BLACK]:\n            raise ValueError('At least one player must be an AI')\n\n    def play(self) -> None:\n        while not self.board.is_game_over():\n            self.__display()\n            if self.is_ai[self.board.turn]:\n                # Start time\n                time_stamp = time.time()\n                if not self.__make_opening_move():\n                    self.make_move[self.board.turn](self.board, self.board.turn)\n                # Find time difference\n                time_stamp = time.time() - time_stamp\n                # Add time to move_times\n                self.move_times[self.board.turn].append(time_stamp)\n            else:\n                self.__make_move_human()\n   \n            self.board.check_and_set_ending()\n            self.__display()\n\n        print(self.board.outcome())      \n        \n    def __display(self) -> None:\n        clear_output(wait=True)\n        try:\n            last_move = self.board.peek()\n            board_visual = chess.svg.board(self.board, size=self.BOARD_DISPLAY_SIZE, lastmove=last_move, check=self.__get_check_square()) \n        except IndexError:\n            board_visual = chess.svg.board(self.board, size=self.BOARD_DISPLAY_SIZE)\n        table = '<table><th>Board</th><th>{}</th><tr><td><div style=\\\"vertical-align: top; text-align: left\\\">{}</div></td><td>{}</td></div></tr></table>'\n        display(HTML(table.format(self.HTML_HEADER, board_visual, self.HTML_CONTENT)))\n\n    def __get_check_square(self) -> chess.Square:\n        if self.board.is_check():\n            return self.board.checkers().pop()\n        else:\n            return None\n\n    def __make_opening_move(self) -> bool:\n        if not self.is_first_move or self.opening_book is None:\n            self.is_first_move = False\n            return False\n\n        with chess.polyglot.open_reader(self.opening_book) as reader:\n            possible_moves = [ entry.move for entry in reader.find_all(self.board) ]\n            self.board.push(random.choice(possible_moves))\n\n        self.is_first_move = False\n        return True\n            \n\n    def __get_ai_state(self) -> dict:\n        return {\n            color: self.make_move[color] is not None\n                for color in ( chess.WHITE, chess.BLACK )\n        }\n\n    def __make_move_human(self) -> None:\n        input_prompt = 'Please input your move: '\n        while True:\n            try:\n                move = chess.Move.from_uci(input(input_prompt))\n                self.board.push_legal(move)\n                return\n            except ValueError:\n                input_prompt = 'Illegal move, please try again: '\n",
   "execution_count": 3,
   "outputs": []
  },
  {
   "cell_type": "code",
   "metadata": {
    "tags": [],
    "cell_id": "00010-02b76cdf-4dac-4e74-a323-9b8775fcd1cb",
    "deepnote_to_be_reexecuted": false,
    "source_hash": "b623e53d",
    "execution_start": 1639008481755,
    "execution_millis": 140251,
    "deepnote_cell_type": "code"
   },
   "source": "",
   "execution_count": 3,
   "outputs": []
  },
  {
   "cell_type": "markdown",
   "source": "<a style='text-decoration:none;line-height:16px;display:flex;color:#5B5B62;padding:10px;justify-content:end;' href='https://deepnote.com?utm_source=created-in-deepnote-cell&projectId=d6ce9acd-52c5-4422-904d-8424da19408b' target=\"_blank\">\n<img alt='Created in deepnote.com' style='display:inline;max-height:16px;margin:0px;margin-right:7.5px;' src='data:image/svg+xml;base64,PD94bWwgdmVyc2lvbj0iMS4wIiBlbmNvZGluZz0iVVRGLTgiPz4KPHN2ZyB3aWR0aD0iODBweCIgaGVpZ2h0PSI4MHB4IiB2aWV3Qm94PSIwIDAgODAgODAiIHZlcnNpb249IjEuMSIgeG1sbnM9Imh0dHA6Ly93d3cudzMub3JnLzIwMDAvc3ZnIiB4bWxuczp4bGluaz0iaHR0cDovL3d3dy53My5vcmcvMTk5OS94bGluayI+CiAgICA8IS0tIEdlbmVyYXRvcjogU2tldGNoIDU0LjEgKDc2NDkwKSAtIGh0dHBzOi8vc2tldGNoYXBwLmNvbSAtLT4KICAgIDx0aXRsZT5Hcm91cCAzPC90aXRsZT4KICAgIDxkZXNjPkNyZWF0ZWQgd2l0aCBTa2V0Y2guPC9kZXNjPgogICAgPGcgaWQ9IkxhbmRpbmciIHN0cm9rZT0ibm9uZSIgc3Ryb2tlLXdpZHRoPSIxIiBmaWxsPSJub25lIiBmaWxsLXJ1bGU9ImV2ZW5vZGQiPgogICAgICAgIDxnIGlkPSJBcnRib2FyZCIgdHJhbnNmb3JtPSJ0cmFuc2xhdGUoLTEyMzUuMDAwMDAwLCAtNzkuMDAwMDAwKSI+CiAgICAgICAgICAgIDxnIGlkPSJHcm91cC0zIiB0cmFuc2Zvcm09InRyYW5zbGF0ZSgxMjM1LjAwMDAwMCwgNzkuMDAwMDAwKSI+CiAgICAgICAgICAgICAgICA8cG9seWdvbiBpZD0iUGF0aC0yMCIgZmlsbD0iIzAyNjVCNCIgcG9pbnRzPSIyLjM3NjIzNzYyIDgwIDM4LjA0NzY2NjcgODAgNTcuODIxNzgyMiA3My44MDU3NTkyIDU3LjgyMTc4MjIgMzIuNzU5MjczOSAzOS4xNDAyMjc4IDMxLjY4MzE2ODMiPjwvcG9seWdvbj4KICAgICAgICAgICAgICAgIDxwYXRoIGQ9Ik0zNS4wMDc3MTgsODAgQzQyLjkwNjIwMDcsNzYuNDU0OTM1OCA0Ny41NjQ5MTY3LDcxLjU0MjI2NzEgNDguOTgzODY2LDY1LjI2MTk5MzkgQzUxLjExMjI4OTksNTUuODQxNTg0MiA0MS42NzcxNzk1LDQ5LjIxMjIyODQgMjUuNjIzOTg0Niw0OS4yMTIyMjg0IEMyNS40ODQ5Mjg5LDQ5LjEyNjg0NDggMjkuODI2MTI5Niw0My4yODM4MjQ4IDM4LjY0NzU4NjksMzEuNjgzMTY4MyBMNzIuODcxMjg3MSwzMi41NTQ0MjUgTDY1LjI4MDk3Myw2Ny42NzYzNDIxIEw1MS4xMTIyODk5LDc3LjM3NjE0NCBMMzUuMDA3NzE4LDgwIFoiIGlkPSJQYXRoLTIyIiBmaWxsPSIjMDAyODY4Ij48L3BhdGg+CiAgICAgICAgICAgICAgICA8cGF0aCBkPSJNMCwzNy43MzA0NDA1IEwyNy4xMTQ1MzcsMC4yNTcxMTE0MzYgQzYyLjM3MTUxMjMsLTEuOTkwNzE3MDEgODAsMTAuNTAwMzkyNyA4MCwzNy43MzA0NDA1IEM4MCw2NC45NjA0ODgyIDY0Ljc3NjUwMzgsNzkuMDUwMzQxNCAzNC4zMjk1MTEzLDgwIEM0Ny4wNTUzNDg5LDc3LjU2NzA4MDggNTMuNDE4MjY3Nyw3MC4zMTM2MTAzIDUzLjQxODI2NzcsNTguMjM5NTg4NSBDNTMuNDE4MjY3Nyw0MC4xMjg1NTU3IDM2LjMwMzk1NDQsMzcuNzMwNDQwNSAyNS4yMjc0MTcsMzcuNzMwNDQwNSBDMTcuODQzMDU4NiwzNy43MzA0NDA1IDkuNDMzOTE5NjYsMzcuNzMwNDQwNSAwLDM3LjczMDQ0MDUgWiIgaWQ9IlBhdGgtMTkiIGZpbGw9IiMzNzkzRUYiPjwvcGF0aD4KICAgICAgICAgICAgPC9nPgogICAgICAgIDwvZz4KICAgIDwvZz4KPC9zdmc+' > </img>\nCreated in <span style='font-weight:600;margin-left:4px;'>Deepnote</span></a>",
   "metadata": {
    "tags": [],
    "created_in_deepnote_cell": true,
    "deepnote_cell_type": "markdown"
   }
  }
 ],
 "nbformat": 4,
 "nbformat_minor": 2,
 "metadata": {
  "orig_nbformat": 2,
  "deepnote": {
   "is_reactive": false
  },
  "deepnote_notebook_id": "b3597d7b-68ac-4caa-b143-c84d929dc93f",
  "deepnote_execution_queue": []
 }
}