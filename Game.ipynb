{
 "cells": [
  {
   "cell_type": "markdown",
   "source": "# The chess interface and game loop",
   "metadata": {
    "tags": [],
    "cell_id": "00001-c58a7d41-da07-42e9-9ddc-60816ec2a229",
    "deepnote_cell_type": "markdown"
   }
  },
  {
   "cell_type": "markdown",
   "source": "### Dependencies",
   "metadata": {
    "tags": [],
    "cell_id": "00001-21a73485-cde6-4ade-8067-a798ef992bd0",
    "deepnote_cell_type": "markdown"
   }
  },
  {
   "cell_type": "code",
   "metadata": {
    "tags": [],
    "cell_id": "00000-6f985b14-fa1e-4d1d-a929-be0f93ddb0df",
    "deepnote_to_be_reexecuted": false,
    "source_hash": "f3ec79b5",
    "execution_start": 1637939510343,
    "execution_millis": 5078,
    "deepnote_cell_type": "code"
   },
   "source": "%pip install python-chess # TODO Remove\n\nimport chess, chess.svg, chess.polyglot\nimport time\nimport random\nfrom IPython.display import clear_output, SVG, display, HTML\n",
   "execution_count": null,
   "outputs": [
    {
     "name": "stdout",
     "text": "Requirement already satisfied: python-chess in /usr/local/lib/python3.7/site-packages (1.999)\nRequirement already satisfied: chess<2,>=1 in /usr/local/lib/python3.7/site-packages (from python-chess) (1.7.0)\n\u001b[33mWARNING: You are using pip version 20.1.1; however, version 21.3.1 is available.\nYou should consider upgrading via the '/usr/local/bin/python -m pip install --upgrade pip' command.\u001b[0m\nNote: you may need to restart the kernel to use updated packages.\n",
     "output_type": "stream"
    }
   ]
  },
  {
   "cell_type": "markdown",
   "source": "### chess.Board.push_legal\nPushes a move to a board's move stack only if it is a valid, legal move. If the move is illegal or invalid, a ValueError is raised and the board state remains unaffected.\n\n##### Arguments\n    move : chess.Move\n        The move that should be pushed to the move stack.\n\n##### Returns\n    N/A\n\n##### Side effects\n    - Pushes a move to the board's move stack, assuming the move was valid and legal.",
   "metadata": {
    "tags": [],
    "cell_id": "00003-87b30704-4e52-4f35-b53a-560dedb4974c",
    "deepnote_cell_type": "markdown"
   }
  },
  {
   "cell_type": "code",
   "metadata": {
    "tags": [],
    "cell_id": "00001-05c7d25b-a6a6-4f73-92b7-f40ff39334a7",
    "deepnote_to_be_reexecuted": false,
    "source_hash": "dd4cc157",
    "execution_start": 1637939515436,
    "execution_millis": 7,
    "deepnote_cell_type": "code"
   },
   "source": "def push_legal(self, move: chess.Move):\n    if move not in self.legal_moves:\n        raise ValueError('Illegal move')\n    self.push(move)\n\nchess.Board.push_legal = push_legal",
   "execution_count": null,
   "outputs": []
  },
  {
   "cell_type": "markdown",
   "source": "---\n<br>\n\n## Game class\nLets the user play a game of chess against the AI using a virtual chess board UI. The game may use any algorithm for the AI to make its move.\n<br><br>\n\n### Class variables\n    board : chess.Board\n        The chess board instance that's used for the game.\n    make_move : function(chess.Board)\n        The function that the AI uses to make a new move.\n<br>\n\n### \\_\\_init\\_\\_\n    The constructor for the Game class. Gets called whenever a new Game instance is created.\n<br>\n\n##### Arguments\n    make_move_algorithm : function(chess.Board)\n        The function that the AI should use to make a new move.\n\n##### Returns\n    N/A\n\n##### Side effects\n    N/A\n<br><br>\n\n### play\n    Plays the game, which includes three features:\n    - Displays the chess board visually.\n    - Lets the AI make a move based on the board state.\n    - Lets the human player input their move and pushes it to the board (if it's valid and legal).\n\n##### Arguments\n    N/A\n\n##### Returns\n    N/A\n\n##### Side effects\n    - The state of the board in the Game class is changed.\n<br><br>\n\n### display\n    Displays the chess board graphically.\n\n##### Arguments\n    html : str\n        HTML content that should be displayed next to the board.\n    header : str\n        Text to display at the top of the HTML content.\n    board_size : int\n        The size of the board (both width and height), in pixels.\n\n##### Returns\n    N/A\n\n##### Side effects\n    - The current visual output is overwritten.",
   "metadata": {
    "tags": [],
    "cell_id": "00005-e57b162a-1158-4a3f-87ce-d787ede02b90",
    "deepnote_cell_type": "markdown"
   }
  },
  {
   "cell_type": "code",
   "metadata": {
    "tags": [],
    "cell_id": "00000-b969d167-7da3-4ac2-b3e7-c31a423d1c22",
    "deepnote_to_be_reexecuted": false,
    "source_hash": "b1d9995c",
    "execution_start": 1637939515449,
    "execution_millis": 6,
    "deepnote_cell_type": "code"
   },
   "source": "class Gam2e:\n    board = None\n    make_move = None\n\n    def __init__(self, make_move_algorithm):\n        self.board = chess.Board()\n        self.make_move = make_move_algorithm\n\n    def play(self):\n        while not self.board.is_game_over():\n            self.make_move(self.board)\n            self.display(\"html stuff\", \"Header\")\n\n            input_prompt = 'Please input your move: '\n            while True:\n                try:\n                    move = chess.Move.from_uci(input(input_prompt))\n                    self.board.push_legal(move)\n                    break\n                except ValueError:\n                    input_prompt = 'Illegal move, please try again: '\n            \n            self.display(\"html stuff\", \"Header\")\n            \n\n    def display(self, html: str, header: str, board_size: int = 500):\n        clear_output(wait=True)\n        board_visual = None\n        try:\n            last_move = self.board.peek()\n            board_visual = chess.svg.board(self.board, size=board_size, lastmove=last_move) \n        except IndexError:\n            board_visual = chess.svg.board(self.board, size=board_size)\n        table = '<table><th>Board</th><th>{}</th><tr><td><div style=\\\"vertical-align: top; text-align: left\\\">{}</div></td><td>{}</td></div></tr></table>'\n        display(HTML(table.format(header, board_visual, html)))\n\n",
   "execution_count": null,
   "outputs": []
  },
  {
   "cell_type": "code",
   "metadata": {
    "tags": [],
    "cell_id": "00009-ae207723-21a3-4fc5-b78a-94c4eaf85866",
    "deepnote_to_be_reexecuted": false,
    "source_hash": "6dcbb99c",
    "execution_start": 1637939515478,
    "execution_millis": 4,
    "deepnote_cell_type": "code"
   },
   "source": "class Game:\n    board = None\n    make_move = None\n    is_ai = None\n    enemy_ai = None\n    move_times = None\n    opening_book = None\n    is_first_move = True\n\n    def __init__(self, make_move_algorithm, is_ai, enemy_ai=None, opening_book=None):\n        self.board = chess.Board()\n        self.move_times = { 'white': [], 'black': [] }\n        self.is_first_move = True\n        self.make_move = make_move_algorithm\n        self.enemy_ai = enemy_ai \n        self.is_ai = is_ai\n        self.opening_book = opening_book\n\n    def play(self):\n        while not self.board.is_game_over():\n            # Start time [white]\n            time_stamp = time.time()\n            if not self.make_opening_move():\n                self.make_move(self.board)\n            # Find time difference\n            time_stamp = time.time() - time_stamp\n            #Add time to white_move\n            self.move_times['white'].append(time_stamp)\n\n            #display board\n            self.display(\"html stuff\", \"Header\")\n            if self.is_ai['black'] != True:\n                input_prompt = 'Please input your move: '\n                while not self.board.is_game_over():\n                    try:\n                        move = chess.Move.from_uci(input(input_prompt))\n                        self.board.push_legal(move)\n                        break\n                    except ValueError:\n                        input_prompt = 'Illegal move, please try again: '\n                \n                    self.display(\"html stuff\", \"Header\")\n            else:\n                while not self.board.is_game_over():\n                    try:\n                        #Start time [black]\n                        time_stamp = time.time()\n                        self.enemy_ai(self.board)\n                        #Find time difference\n                        time_stamp = time.time() - time_stamp\n                        #Add time to black_moves\n                        self.move_times['black'].append(time_stamp)\n                        \n                        #display board\n                        self.display(\"html stuff\", \"Header\")\n                        break\n                    except Exception as e:\n                        print(\"Unkown error, we are sorry!\")\n                        print(e)\n        print(self.board.outcome())\n\n\n            \n\n    def display(self, html: str, header: str, board_size: int = 500):\n        clear_output(wait=True)\n        board_visual = None\n        try:\n            last_move = self.board.peek()\n            board_visual = chess.svg.board(self.board, size=board_size, lastmove=last_move, check=self.check_check()) \n        except IndexError:\n            board_visual = chess.svg.board(self.board, size=board_size)\n        table = '<table><th>Board</th><th>{}</th><tr><td><div style=\\\"vertical-align: top; text-align: left\\\">{}</div></td><td>{}</td></div></tr></table>'\n        display(HTML(table.format(header, board_visual, html)))\n\n    def check_check(self):\n        if self.board.is_check():\n            return self.board.checkers().pop()\n        else:\n            return None\n\n    def make_opening_move(self):\n        if not self.is_first_move or self.opening_book is None:\n            self.is_first_move = False\n            return False\n\n        with chess.polyglot.open_reader(self.opening_book) as reader:\n            possible_moves = [ entry.move for entry in reader.find_all(self.board) ]\n            self.board.push(random.choice(possible_moves))\n\n        self.is_first_move = False\n        return True\n            \n",
   "execution_count": null,
   "outputs": []
  },
  {
   "cell_type": "code",
   "metadata": {
    "tags": [],
    "cell_id": "00008-a70bb3e9-679a-4ee1-b0e9-f426024b3c3a",
    "deepnote_to_be_reexecuted": false,
    "source_hash": "f40d50ce",
    "execution_start": 1637939515508,
    "execution_millis": 30,
    "deepnote_cell_type": "code"
   },
   "source": "class GameTest:\n    board = None\n    make_move = None\n    is_ai = None\n    enemy_ai = None # Rename\n    move_times = None\n    opening_book = None\n    is_first_move = True\n\n    def __init__(self, make_move_algorithm, is_ai, enemy_ai=None, opening_book=None):\n        self.board = chess.Board()\n        self.move_times = { 'white': [], 'black': [] }\n        self.is_first_move = True\n        self.make_move = make_move_algorithm\n        self.enemy_ai = enemy_ai \n        self.is_ai = is_ai\n        self.opening_book = opening_book\n\n    def play(self):\n        while not self.board.is_game_over():\n            # Start time [white]\n            time_stamp = time.time()\n            if not self.make_opening_move():\n                self.make_move(self.board)\n            # Find time difference\n            time_stamp = time.time() - time_stamp\n            #Add time to white_move\n            self.move_times['white'].append(time_stamp)\n\n            #display board\n            self.display(\"html stuff\", \"Header\")\n            if self.is_ai['black'] != True:\n                input_prompt = 'Please input your move: '\n                while not self.board.is_game_over():\n                    try:\n                        move = chess.Move.from_uci(input(input_prompt))\n                        self.board.push_legal(move)\n                        break\n                    except ValueError:\n                        input_prompt = 'Illegal move, please try again: '\n                \n                    self.display(\"html stuff\", \"Header\")\n            else:\n                while not self.board.is_game_over():\n                    try:\n                        #Start time [black]\n                        time_stamp = time.time()\n                        self.enemy_ai(self.board)\n                        #Find time difference\n                        time_stamp = time.time() - time_stamp\n                        #Add time to black_moves\n                        self.move_times['black'].append(time_stamp)\n                        \n                        #display board\n                        self.display(\"html stuff\", \"Header\")\n                        break\n                    except Exception as e:\n                        print(\"Unkown error, we are sorry!\")\n                        print(e)\n        print(self.board.outcome())\n\n\n            \n\n    def display(self, html: str, header: str, board_size: int = 500):\n        clear_output(wait=True)\n        board_visual = None\n        try:\n            last_move = self.board.peek()\n            board_visual = chess.svg.board(self.board, size=board_size, lastmove=last_move, check=self.check_check()) \n        except IndexError:\n            board_visual = chess.svg.board(self.board, size=board_size)\n        table = '<table><th>Board</th><th>{}</th><tr><td><div style=\\\"vertical-align: top; text-align: left\\\">{}</div></td><td>{}</td></div></tr></table>'\n        display(HTML(table.format(header, board_visual, html)))\n\n    def check_check(self):\n        if self.board.is_check():\n            return self.board.checkers().pop()\n        else:\n            return None\n\n    def make_opening_move(self):\n        if not self.is_first_move or self.opening_book is None:\n            self.is_first_move = False\n            return False\n\n        with chess.polyglot.open_reader(self.opening_book) as reader:\n            print([ entry.move for entry in reader.find_all(self.board) ])\n            time.sleep(5)\n            self.board.push(random.choice([ entry.move for entry in reader.find_all(self.board) ]))\n            # for entry in reader.find_all(self.board):\n            #     print(entry, entry.move, entry.weight, entry.learn)\n\n        self.is_first_move = False\n        return True\n            \n",
   "execution_count": null,
   "outputs": []
  },
  {
   "cell_type": "code",
   "metadata": {
    "tags": [],
    "cell_id": "00008-2704beb9-ec3b-4df5-8264-1f39698e2cee",
    "deepnote_to_be_reexecuted": false,
    "source_hash": "59cd13f2",
    "execution_start": 1637939526687,
    "execution_millis": 2,
    "deepnote_output_heights": [
     78.796875
    ],
    "deepnote_cell_type": "code"
   },
   "source": "class Game3:\n    board = None\n    make_move_white = None\n    is_ai = { 'white': None, 'black': None }\n    make_move_black = None\n    player = None\n\n    def __init__(self, make_move_algorithm_white = None, make_move_algorithm_black = None):\n        self.board = chess.Board()\n        self.make_move_white = make_move_algorithm_white\n        self.make_move_black = make_move_algorithm_black \n        self.is_ai, self.player = self.get_player_state()\n\n    def play(self):\n\n        if self.make_move_black is None and self.make_move_white is None:\n            print(\"Exiting game, no AI detected!\")\n            return None\n\n        while not self.board.is_game_over():\n           \n            if self.player == 'black':\n                print(\"Player is black\")\n                while not self.board.is_game_over():\n                    self.make_move_white(self.board)\n                    self.display(\"html stuff\", \"Header\")\n                    input_prompt = 'Please input your move: '\n                    try:\n                        move = chess.Move.from_uci(input(input_prompt))\n                        self.board.push_legal(move)\n                        \n                    except ValueError:\n                        input_prompt = 'Illegal move, please try again: '\n                \n                    self.display(\"html stuff\", \"Header\")\n\n            elif self.player == 'white':\n                while not self.board.is_game_over():\n                    self.display(\"html stuff\", \"Header\")\n                    input_prompt = 'Please input your move: '\n                    move = chess.Move.from_uci(input(input_prompt))\n                    self.board.push_legal(move)\n                    self.display(\"html stuff\", \"Header\")\n                    self.make_move_black(self.board)\n                    self.display(\"html stuff\", \"Header\")\n\n\n                       \n                \n            \n            \n            \n            else:\n                while not self.board.is_game_over():\n                    try:\n                        self.make_move_white(self.board)\n                        self.display(\"html stuff\", \"Header\")\n                        self.make_move_black(self.board)\n                        self.display(\"html stuff\", \"Header\")\n                        \n                    except Exception as e:\n                        print(\"Unkown error, we are sorry!\")\n                        print(e)\n        \n        print(self.board.outcome())\n\n\n            \n\n    def display(self, html: str, header: str, board_size: int = 500):\n        clear_output(wait=True)\n        board_visual = None\n        try:\n            last_move = self.board.peek()\n            board_visual = chess.svg.board(self.board, size=board_size, lastmove=last_move, check=self.check_check()) \n        except IndexError:\n            board_visual = chess.svg.board(self.board, size=board_size)\n        table = '<table><th>Board</th><th>{}</th><tr><td><div style=\\\"vertical-align: top; text-align: left\\\">{}</div></td><td>{}</td></div></tr></table>'\n        display(HTML(table.format(header, board_visual, html)))\n\n    def check_check(self):\n        if self.board.is_check():\n            return self.board.checkers().pop()\n        else:\n            return None\n\n    def get_player_state(self):\n        while True:\n            if self.make_move_black is not None and self.make_move_white is not None:\n                return {'white': True, 'black': True},  None\n            elif self.make_move_black is not None and self.make_move_white is None:\n                return {'white': False, 'black': True}, 'white'\n            elif self.make_move_black is None and self.make_move_white is not None:\n                return {'white': True, 'black': False}, 'black'\n        \n            \n",
   "execution_count": null,
   "outputs": []
  },
  {
   "cell_type": "code",
   "metadata": {
    "tags": [],
    "cell_id": "00010-02b76cdf-4dac-4e74-a323-9b8775fcd1cb",
    "deepnote_to_be_reexecuted": true,
    "source_hash": "b623e53d",
    "execution_start": 1637939367778,
    "execution_millis": 11,
    "deepnote_cell_type": "code"
   },
   "source": "",
   "execution_count": null,
   "outputs": []
  },
  {
   "cell_type": "markdown",
   "source": "<a style='text-decoration:none;line-height:16px;display:flex;color:#5B5B62;padding:10px;justify-content:end;' href='https://deepnote.com?utm_source=created-in-deepnote-cell&projectId=d6ce9acd-52c5-4422-904d-8424da19408b' target=\"_blank\">\n<img alt='Created in deepnote.com' style='display:inline;max-height:16px;margin:0px;margin-right:7.5px;' src='data:image/svg+xml;base64,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' > </img>\nCreated in <span style='font-weight:600;margin-left:4px;'>Deepnote</span></a>",
   "metadata": {
    "tags": [],
    "created_in_deepnote_cell": true,
    "deepnote_cell_type": "markdown"
   }
  }
 ],
 "nbformat": 4,
 "nbformat_minor": 2,
 "metadata": {
  "orig_nbformat": 2,
  "deepnote": {
   "is_reactive": false
  },
  "deepnote_notebook_id": "b3597d7b-68ac-4caa-b143-c84d929dc93f",
  "deepnote_execution_queue": []
 }
}