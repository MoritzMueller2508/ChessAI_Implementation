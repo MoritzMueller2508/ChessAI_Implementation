{
 "cells": [
  {
   "cell_type": "code",
   "execution_count": null,
   "metadata": {
    "cell_id": "00000-bf48c591-cf89-4605-a4f0-94c0da4eee47",
    "deepnote_cell_type": "code",
    "deepnote_output_heights": [
     2
    ],
    "deepnote_to_be_reexecuted": false,
    "execution_millis": 47,
    "execution_start": 1642208948606,
    "source_hash": "bd190a5a",
    "tags": []
   },
   "outputs": [
    {
     "data": {
      "text/html": [
       "<style>.container { width:100%; !important } </style>"
      ],
      "text/plain": [
       "<IPython.core.display.HTML object>"
      ]
     },
     "metadata": {},
     "output_type": "display_data"
    }
   ],
   "source": [
    "from IPython.core.display import HTML, display\n",
    "display(HTML('<style>.container { width:100%; !important } </style>'))"
   ]
  },
  {
   "cell_type": "markdown",
   "metadata": {
    "cell_id": "00001-c58a7d41-da07-42e9-9ddc-60816ec2a229",
    "deepnote_cell_type": "markdown",
    "tags": []
   },
   "source": [
    "# The chess interface and game loop"
   ]
  },
  {
   "cell_type": "markdown",
   "metadata": {
    "cell_id": "00001-21a73485-cde6-4ade-8067-a798ef992bd0",
    "deepnote_cell_type": "markdown",
    "tags": []
   },
   "source": [
    "### Dependencies"
   ]
  },
  {
   "cell_type": "code",
   "execution_count": null,
   "metadata": {
    "cell_id": "00000-6f985b14-fa1e-4d1d-a929-be0f93ddb0df",
    "deepnote_cell_type": "code",
    "deepnote_to_be_reexecuted": false,
    "execution_millis": 3375,
    "execution_start": 1642208948650,
    "source_hash": "74337bdb",
    "tags": []
   },
   "outputs": [
    {
     "name": "stdout",
     "output_type": "stream",
     "text": [
      "Requirement already satisfied: python-chess in /usr/local/lib/python3.7/site-packages (1.999)\n",
      "Requirement already satisfied: chess<2,>=1 in /root/venv/lib/python3.7/site-packages (from python-chess) (1.8.0)\n",
      "\u001b[33mWARNING: You are using pip version 20.1.1; however, version 21.3.1 is available.\n",
      "You should consider upgrading via the '/usr/local/bin/python -m pip install --upgrade pip' command.\u001b[0m\n",
      "Note: you may need to restart the kernel to use updated packages.\n"
     ]
    }
   ],
   "source": [
    "%pip install python-chess\n",
    "\n",
    "import chess\n",
    "import chess.svg # TODO remove?\n",
    "import chess.polyglot # TODO remove?\n",
    "import chess.gaviota # TODO remove?\n",
    "import time\n",
    "import random\n",
    "from IPython.display import clear_output, SVG, display, HTML\n",
    "from typing import Callable, Union"
   ]
  },
  {
   "cell_type": "markdown",
   "metadata": {
    "cell_id": "00003-87b30704-4e52-4f35-b53a-560dedb4974c",
    "deepnote_cell_type": "markdown",
    "tags": []
   },
   "source": [
    "#### chess.Board.push_legal\n",
    "Pushes a move to a board's move stack only if it is a valid, legal move. If the move is illegal or invalid, a ValueError is raised and the board state remains unaffected.\n",
    "\n",
    "###### <b><u>Arguments</u></b>\n",
    "<b>move</b> <i>(chess.Move)</i> : The move that should be pushed to the move stack.\n",
    "\n",
    "###### <b><u>Side effects</u></b>\n",
    "Pushes a move to the board's move stack, assuming the move was valid and legal."
   ]
  },
  {
   "cell_type": "code",
   "execution_count": null,
   "metadata": {
    "cell_id": "00001-05c7d25b-a6a6-4f73-92b7-f40ff39334a7",
    "deepnote_cell_type": "code",
    "deepnote_to_be_reexecuted": false,
    "execution_millis": 4,
    "execution_start": 1642208951905,
    "source_hash": "a6731782",
    "tags": []
   },
   "outputs": [],
   "source": [
    "def push_legal(self, move: chess.Move):\n",
    "    if move not in self.legal_moves:\n",
    "        raise ValueError('Illegal move')\n",
    "    self.push(move)\n",
    "\n",
    "chess.Board.push_legal = push_legal\n",
    "del push_legal"
   ]
  },
  {
   "cell_type": "markdown",
   "metadata": {
    "cell_id": "00005-e57b162a-1158-4a3f-87ce-d787ede02b90",
    "deepnote_cell_type": "markdown",
    "tags": []
   },
   "source": [
    "---\n",
    "<br>\n",
    "\n",
    "## Game class\n",
    "Lets the user play a game of chess against the AI using a virtual chess board UI. The game may use any algorithm for the AI to make its move.\n",
    "<br><br>\n",
    "\n",
    "### Class variables\n",
    "    HTML_CONTENT : String\n",
    "        The content which is displayed next to the chess board. \n",
    "    HTML_HEADER: String\n",
    "        The Header of the HTML-content.\n",
    "    BOARD_DISPLAY_SIZE : Integer\n",
    "        The size of the board in pixels.\n",
    "\n",
    "    ---\n",
    "\n",
    "    board : chess.Board\n",
    "        The chess board instance that's used for the game.\n",
    "    make_move : dictionary(chess.COLOR : Callable)\n",
    "        A dictionary of algorithms the AI uses to make a move according to the      \n",
    "        color-representation of the AI.\n",
    "    is_ai : dictionary(chess.COLOR : Boolean)\n",
    "        A dictionary, where the chess.COLOR indicates, whether or not this color is controlled by\n",
    "        an AI.\n",
    "    move_times : dictionary(chess.COLOR : List)\n",
    "        A dictionary with Lists, inheriting the times an AI takes to move according to the \n",
    "        chess.COLOR the AI possesses.\n",
    "    opening_book : String\n",
    "        A String, representing a path to an opening library.\n",
    "    is_first_move : Boolean\n",
    "        A boolean, representing whether or not the first move has already been executed\n",
    "    \n",
    "    \n",
    "<br>\n",
    "\n",
    "### \\_\\_init\\_\\_\n",
    "    The constructor for the Game class. Gets called whenever a new Game instance is created.\n",
    "<br>\n",
    "\n",
    "##### Arguments\n",
    "    make_move_algorithm_white : Callable(chess.Board) [Optional] (Default behavior : None)\n",
    "        The function that the AI controlling the white pieces should use to make a new move.\n",
    "    make_move_algorithm_black : Callable(chess.Board) [Optional] (Default behavior: None)\n",
    "        The function that the AI controlling the black pieces should use to make a new move.\n",
    "    opening_book: String [Optional] (Default behavior : None)\n",
    "        A String representing the path to the desired opening library the AIs will use.\n",
    "##### Side effects\n",
    "    If no AI is selected as at least one player, the game will exit. At least one AI is required   \n",
    "    to play the game.\n",
    "\n",
    "\n",
    "\n",
    "\n",
    "\n",
    "\n",
    "\n",
    "\n",
    "\n",
    "### make_move_human\n",
    "    If the \"player\" is human, this method enables the human user to make a move through the \n",
    "    input-console.\n",
    "#### Arguments\n",
    "    N/A\n",
    "#### Return\n",
    "    N/A\n",
    "#### Side effects\n",
    "    A move is pushed onto the move_stack and it is the next players turn."
   ]
  },
  {
   "cell_type": "code",
   "execution_count": null,
   "metadata": {
    "cell_id": "00007-00baebf0-015e-4a8f-b2f4-0d1c9579dc6c",
    "deepnote_cell_type": "code",
    "deepnote_to_be_reexecuted": false,
    "execution_millis": 6,
    "execution_start": 1642208951916,
    "source_hash": "46e079e",
    "tags": []
   },
   "outputs": [],
   "source": [
    "class Game:\n",
    "    # Constants\n",
    "    HTML_CONTENT = 'html stuff'\n",
    "    HTML_HEADER = 'Header'\n",
    "    BOARD_DISPLAY_SIZE = 500\n",
    "\n",
    "    # Board variables\n",
    "    board = None\n",
    "\n",
    "    # AI and player declarations\n",
    "    make_move = None\n",
    "    is_ai = None\n",
    "\n",
    "    # Testing declarations\n",
    "    move_times = None\n",
    "\n",
    "    # Opening book and endgame tablebase declarations\n",
    "    opening_book = None\n",
    "    endgame_tablebase_dir = None\n",
    "    endgame_tablebase = None\n",
    "\n",
    "    def __init__(\n",
    "            self,\n",
    "            make_move_algorithm_white: Callable=None,\n",
    "            make_move_algorithm_black: Callable=None,\n",
    "            opening_book: str='Resources/baron30.bin',\n",
    "            endgame_tablebase_dir: str='/datasets/gaviota'\n",
    "    ):\n",
    "        self.opening_book = opening_book\n",
    "        self.endgame_tablebase_dir = endgame_tablebase_dir\n",
    "\n",
    "        self.board = chess.Board()\n",
    "        self.board.ending = False\n",
    "\n",
    "        self.move_times = { chess.WHITE: [], chess.BLACK: [] }\n",
    "        self.make_move = { chess.WHITE: make_move_algorithm_white, chess.BLACK: make_move_algorithm_black }\n",
    "        self.is_ai = self.get_ai_state()\n",
    "\n",
    "        if self.endgame_tablebase_dir is not None:\n",
    "            self.endgame_tablebase = chess.gaviota.open_tablebase(self.endgame_tablebase_dir)\n",
    "\n",
    "        # The game requires that at least one player is an AI - it is not a multiplayer chess game\n",
    "        if not self.is_ai[chess.WHITE] and not self.is_ai[chess.BLACK]:\n",
    "            raise ValueError('At least one player must be an AI')\n"
   ]
  },
  {
   "cell_type": "markdown",
   "metadata": {},
   "source": [
    "### play\n",
    "    Plays the game.\n",
    "    Depending on the input arguments there are different game-states and features:\n",
    "    1. (AI, AI):\n",
    "        - Displays the chess board visually.\n",
    "        - Lets the AI make a move based on the board state and specified algorithm.\n",
    "        - Lets the other AI make a move based on the board state and specified algorithm.\n",
    "    2. (AI, Player) - (Player, AI):\n",
    "        - Displays the chess board visually.\n",
    "        - Lets the AI make a move based on the board state.\n",
    "        - Lets the human player input their move and pushes it to the board \n",
    "        (if it's valid and legal).\n",
    "    3. (Player, Player):\n",
    "        - Game will exit -> At least one AI is required to play the game\n",
    "\n",
    "##### Side effects\n",
    "    - The state of the board in the Game class is changed.\n",
    "    - The state of is_first_move is changed after the first move.\n",
    "    - The times the AIs take to make a move is tracked and saved.\n",
    "    - The chess board is visually displayed.\n"
   ]
  },
  {
   "cell_type": "code",
   "execution_count": null,
   "metadata": {
    "cell_id": "00010-02b76cdf-4dac-4e74-a323-9b8775fcd1cb",
    "deepnote_cell_type": "code",
    "deepnote_to_be_reexecuted": false,
    "execution_millis": 6,
    "execution_start": 1642208951922,
    "source_hash": "b5aea016",
    "tags": []
   },
   "outputs": [],
   "source": [
    "def play(self) -> None:\n",
    "    while not self.board.is_game_over():\n",
    "        self.display()\n",
    "        if self.is_ai[self.board.turn]:\n",
    "            # Start time\n",
    "            time_stamp = time.time()\n",
    "            if not self.make_opening_move():\n",
    "                self.make_move[self.board.turn](self.board, self.board.turn, self.endgame_tablebase)\n",
    "            # Find time difference\n",
    "            time_stamp = time.time() - time_stamp\n",
    "            # Add time to move_times\n",
    "            self.move_times[self.board.turn].append(time_stamp)\n",
    "        else:\n",
    "            self.make_move_human()\n",
    "\n",
    "        if self.endgame_tablebase is not None:\n",
    "            try:\n",
    "                self.HTML_CONTENT = ''\n",
    "                self.HTML_CONTENT += 'DTM:\\n'\n",
    "                self.HTML_CONTENT += str(self.endgame_tablebase.probe_dtm(self.board)) + '\\n'\n",
    "                self.HTML_CONTENT += 'WDL:\\n'\n",
    "                self.HTML_CONTENT += str(self.endgame_tablebase.probe_wdl(self.board)) + '\\n'\n",
    "            except KeyError:\n",
    "                pass\n",
    "        else:\n",
    "            self.HTML_CONTENT = 'wut'\n",
    "\n",
    "        self.board.check_and_set_ending()\n",
    "        self.display()\n",
    "\n",
    "    winner_message = 'It\\'s a draw!' if self.board.outcome() is None or self.board.outcome().winner is None \\\n",
    "        else f'{\"White\" if self.board.outcome().winner == chess.WHITE else \"Black\"} is the winner!'\n",
    "    print(f'The game has ended. {winner_message}\\n')\n",
    "    print(self.board.outcome()) \n",
    "\n",
    "Game.play = play\n",
    "del play"
   ]
  },
  {
   "cell_type": "markdown",
   "metadata": {},
   "source": [
    "### display\n",
    "    Displays the chess board graphically. Furthermore, custom HTML is displayed next to the board.\n",
    "\n",
    "##### Side effects\n",
    "    - The current visual output is overwritten.\n"
   ]
  },
  {
   "cell_type": "code",
   "execution_count": null,
   "metadata": {
    "cell_id": "00009-d720b37e-432a-49ca-8aa8-0bc95e23401f",
    "deepnote_cell_type": "code",
    "deepnote_to_be_reexecuted": false,
    "execution_millis": 3,
    "execution_start": 1642208951934,
    "source_hash": "68722747"
   },
   "outputs": [],
   "source": [
    "def display(self) -> None:\n",
    "    clear_output(wait=True)\n",
    "    try:\n",
    "        last_move = self.board.peek()\n",
    "        board_visual = chess.svg.board(self.board, size=self.BOARD_DISPLAY_SIZE, lastmove=last_move, check=self.get_check_square()) \n",
    "    except IndexError:\n",
    "        board_visual = chess.svg.board(self.board, size=self.BOARD_DISPLAY_SIZE)\n",
    "    table = '<table><th>Board</th><th>{}</th><tr><td><div style=\\\"vertical-align: top; text-align: left\\\">{}</div></td><td>{}</td></div></tr></table>'\n",
    "    display(HTML(table.format(self.HTML_HEADER, board_visual, self.HTML_CONTENT)))\n",
    "\n",
    "Game.display = display\n",
    "del display"
   ]
  },
  {
   "cell_type": "markdown",
   "metadata": {},
   "source": [
    "### get_check_squares\n",
    "    checks for piecs or squares giving check.\n",
    "#### Returns\n",
    "    chess.Square | None (if no square sets gives check)\n",
    "##### Side effects\n",
    "    - If get_check_squares returns a value, the display function will indicate the square giving\n",
    "      check with a red background\n",
    "    "
   ]
  },
  {
   "cell_type": "code",
   "execution_count": null,
   "metadata": {
    "cell_id": "00010-f6d2a47e-5679-43e8-afac-3a669b571dd3",
    "deepnote_cell_type": "code",
    "deepnote_to_be_reexecuted": false,
    "execution_millis": 11,
    "execution_start": 1642208951939,
    "source_hash": "617ca7b9"
   },
   "outputs": [],
   "source": [
    "def get_check_square(self) -> chess.Square:\n",
    "    if self.board.is_check():\n",
    "        return self.board.checkers().pop()\n",
    "    else:\n",
    "        return None\n",
    "            \n",
    "Game.get_check_square = get_check_square\n",
    "del get_check_square"
   ]
  },
  {
   "cell_type": "markdown",
   "metadata": {},
   "source": [
    "### make_opening_move\n",
    "    Makes a random move from the opening book, if available. If not, no move is made.\n",
    "#### Returns\n",
    "    True: A move from the opening book was made.\n",
    "    False: A move from the opening book was not made.\n"
   ]
  },
  {
   "cell_type": "code",
   "execution_count": null,
   "metadata": {
    "cell_id": "00011-79094b90-bc3f-46fd-879c-c3dd9480661e",
    "deepnote_cell_type": "code",
    "deepnote_to_be_reexecuted": false,
    "execution_millis": 5,
    "execution_start": 1642208951954,
    "source_hash": "c42704da"
   },
   "outputs": [],
   "source": [
    "def make_opening_move(self) -> bool:\n",
    "    if self.opening_book is None:\n",
    "        return False\n",
    "\n",
    "    with chess.polyglot.open_reader(self.opening_book) as reader:\n",
    "        possible_moves = [ entry.move for entry in reader.find_all(self.board) ]\n",
    "        if len(possible_moves) > 0:\n",
    "            self.board.push(random.choice(possible_moves))\n",
    "            return True\n",
    "\n",
    "    return False\n",
    "\n",
    "Game.make_opening_move = make_opening_move\n",
    "del make_opening_move"
   ]
  },
  {
   "cell_type": "code",
   "execution_count": null,
   "metadata": {
    "cell_id": "00012-aa1192f6-48e7-49fe-9e32-f3a470f6a2ba",
    "deepnote_cell_type": "code",
    "deepnote_to_be_reexecuted": false,
    "execution_millis": 3,
    "execution_start": 1642208951963,
    "source_hash": "d7df8be3"
   },
   "outputs": [],
   "source": [
    "def get_ai_state(self) -> dict:\n",
    "    return {\n",
    "        color: self.make_move[color] is not None\n",
    "        for color in ( chess.WHITE, chess.BLACK )\n",
    "    }\n",
    "\n",
    "Game.get_ai_state = get_ai_state\n",
    "del get_ai_state"
   ]
  },
  {
   "cell_type": "code",
   "execution_count": null,
   "metadata": {
    "cell_id": "00013-2e9fea17-72ac-404d-9865-0cc6d70107f4",
    "deepnote_cell_type": "code",
    "deepnote_to_be_reexecuted": false,
    "execution_millis": 4,
    "execution_start": 1642208951970,
    "source_hash": "faa65795"
   },
   "outputs": [],
   "source": [
    "def make_move_human(self) -> None:\n",
    "    input_prompt = 'Please input your move: '\n",
    "    while True:\n",
    "        try:\n",
    "            move = chess.Move.from_uci(input(input_prompt))\n",
    "            self.board.push_legal(move)\n",
    "            return\n",
    "        except ValueError:\n",
    "            input_prompt = 'Illegal move, please try again: '\n",
    "                \n",
    "Game.make_move_human = make_move_human\n",
    "del make_move_human"
   ]
  },
  {
   "cell_type": "code",
   "execution_count": null,
   "metadata": {
    "cell_id": "00014-f2ae3728-b082-46aa-8182-501b1b8dba31",
    "deepnote_cell_type": "code",
    "deepnote_to_be_reexecuted": false,
    "execution_millis": 1,
    "execution_start": 1642208952022,
    "source_hash": "b623e53d"
   },
   "outputs": [],
   "source": []
  },
  {
   "cell_type": "code",
   "execution_count": null,
   "metadata": {
    "cell_id": "00015-c86a10a8-f015-4024-ba7c-4a4e6b8ed038",
    "deepnote_cell_type": "code",
    "deepnote_to_be_reexecuted": false,
    "execution_millis": 0,
    "execution_start": 1642208952023,
    "source_hash": "b623e53d"
   },
   "outputs": [],
   "source": []
  },
  {
   "cell_type": "markdown",
   "metadata": {
    "created_in_deepnote_cell": true,
    "deepnote_cell_type": "markdown",
    "tags": []
   },
   "source": [
    "<a style='text-decoration:none;line-height:16px;display:flex;color:#5B5B62;padding:10px;justify-content:end;' href='https://deepnote.com?utm_source=created-in-deepnote-cell&projectId=d6ce9acd-52c5-4422-904d-8424da19408b' target=\"_blank\">\n",
    "<img alt='Created in deepnote.com' style='display:inline;max-height:16px;margin:0px;margin-right:7.5px;' src='data:image/svg+xml;base64,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' > </img>\n",
    "Created in <span style='font-weight:600;margin-left:4px;'>Deepnote</span></a>"
   ]
  }
 ],
 "metadata": {
  "deepnote": {
   "is_reactive": false
  },
  "deepnote_execution_queue": [],
  "deepnote_notebook_id": "b3597d7b-68ac-4caa-b143-c84d929dc93f",
  "kernelspec": {
   "display_name": "Python 3 (ipykernel)",
   "language": "python",
   "name": "python3"
  },
  "language_info": {
   "codemirror_mode": {
    "name": "ipython",
    "version": 3
   },
   "file_extension": ".py",
   "mimetype": "text/x-python",
   "name": "python",
   "nbconvert_exporter": "python",
   "pygments_lexer": "ipython3",
   "version": "3.9.4"
  }
 },
 "nbformat": 4,
 "nbformat_minor": 2
}
