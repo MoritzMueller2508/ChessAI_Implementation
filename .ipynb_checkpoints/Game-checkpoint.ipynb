{
 "cells": [
  {
   "cell_type": "code",
   "execution_count": null,
   "metadata": {
    "cell_id": "00000-bf48c591-cf89-4605-a4f0-94c0da4eee47",
    "deepnote_cell_type": "code",
    "deepnote_output_heights": [
     2
    ],
    "deepnote_to_be_reexecuted": false,
    "execution_millis": 122,
    "execution_start": 1641495106935,
    "source_hash": "bd190a5a",
    "tags": []
   },
   "outputs": [],
   "source": [
    "from IPython.core.display import HTML, display\n",
    "display(HTML('<style>.container { width:100%; !important } </style>'))"
   ]
  },
  {
   "cell_type": "markdown",
   "metadata": {
    "cell_id": "00001-c58a7d41-da07-42e9-9ddc-60816ec2a229",
    "deepnote_cell_type": "markdown",
    "tags": []
   },
   "source": [
    "# The chess interface and game loop"
   ]
  },
  {
   "cell_type": "markdown",
   "metadata": {
    "cell_id": "00001-21a73485-cde6-4ade-8067-a798ef992bd0",
    "deepnote_cell_type": "markdown",
    "tags": []
   },
   "source": [
    "### Dependencies"
   ]
  },
  {
   "cell_type": "code",
   "execution_count": 1,
   "metadata": {
    "cell_id": "00000-6f985b14-fa1e-4d1d-a929-be0f93ddb0df",
    "deepnote_cell_type": "code",
    "deepnote_to_be_reexecuted": false,
    "execution_millis": 4386,
    "execution_start": 1641495106936,
    "source_hash": "9c4ef1dd",
    "tags": []
   },
   "outputs": [
    {
     "name": "stdout",
     "output_type": "stream",
     "text": [
      "Collecting python-chessNote: you may need to restart the kernel to use updated packages.\n",
      "  Downloading python_chess-1.999-py3-none-any.whl (1.4 kB)\n",
      "Requirement already satisfied: chess<2,>=1 in c:\\python39\\lib\\site-packages (from python-chess) (1.6.1)\n",
      "Installing collected packages: python-chess\n",
      "Successfully installed python-chess-1.999\n",
      "\n"
     ]
    },
    {
     "name": "stderr",
     "output_type": "stream",
     "text": [
      "WARNING: Ignoring invalid distribution -hardet (c:\\python39\\lib\\site-packages)\n",
      "WARNING: Ignoring invalid distribution -hardet (c:\\python39\\lib\\site-packages)\n",
      "WARNING: Ignoring invalid distribution -hardet (c:\\python39\\lib\\site-packages)\n",
      "WARNING: Ignoring invalid distribution -hardet (c:\\python39\\lib\\site-packages)\n",
      "WARNING: Ignoring invalid distribution -hardet (c:\\python39\\lib\\site-packages)\n",
      "WARNING: Ignoring invalid distribution -hardet (c:\\python39\\lib\\site-packages)\n",
      "WARNING: Ignoring invalid distribution -hardet (c:\\python39\\lib\\site-packages)\n",
      "WARNING: You are using pip version 21.1.1; however, version 21.3.1 is available.\n",
      "You should consider upgrading via the 'c:\\python39\\python.exe -m pip install --upgrade pip' command.\n"
     ]
    }
   ],
   "source": [
    "%pip install python-chess\n",
    "\n",
    "import chess\n",
    "import chess.svg # TODO remove?\n",
    "import chess.polyglot # TODO remove?\n",
    "import chess.gaviota # TODO remove?\n",
    "import time\n",
    "import random\n",
    "from IPython.display import clear_output, SVG, display, HTML\n",
    "from typing import Callable"
   ]
  },
  {
   "cell_type": "markdown",
   "metadata": {
    "cell_id": "00003-87b30704-4e52-4f35-b53a-560dedb4974c",
    "deepnote_cell_type": "markdown",
    "tags": []
   },
   "source": [
    "#### chess.Board.push_legal\n",
    "Pushes a move to a board's move stack only if it is a valid, legal move. If the move is illegal or invalid, a ValueError is raised and the board state remains unaffected.\n",
    "\n",
    "###### <b><u>Arguments</u></b>\n",
    "<b>move</b> <i>(chess.Move)</i> : The move that should be pushed to the move stack.\n",
    "\n",
    "###### <b><u>Side effects</u></b>\n",
    "Pushes a move to the board's move stack, assuming the move was valid and legal."
   ]
  },
  {
   "cell_type": "code",
   "execution_count": 2,
   "metadata": {
    "cell_id": "00001-05c7d25b-a6a6-4f73-92b7-f40ff39334a7",
    "deepnote_cell_type": "code",
    "deepnote_to_be_reexecuted": false,
    "execution_millis": 31,
    "execution_start": 1641495111333,
    "source_hash": "a6731782",
    "tags": []
   },
   "outputs": [],
   "source": [
    "def push_legal(self, move: chess.Move):\n",
    "    if move not in self.legal_moves:\n",
    "        raise ValueError('Illegal move')\n",
    "    self.push(move)\n",
    "\n",
    "chess.Board.push_legal = push_legal\n",
    "del push_legal"
   ]
  },
  {
   "cell_type": "markdown",
   "metadata": {
    "cell_id": "00005-e57b162a-1158-4a3f-87ce-d787ede02b90",
    "deepnote_cell_type": "markdown",
    "tags": []
   },
   "source": [
    "---\n",
    "<br>\n",
    "\n",
    "## Game class\n",
    "Lets the user play a game of chess against the AI using a virtual chess board UI. The game may use any algorithm for the AI to make its move.\n",
    "<br><br>\n",
    "\n",
    "### Class variables\n",
    "    HTML_CONTENT : String\n",
    "        The content which is displayed next to the chess board. \n",
    "    HTML_HEADER: String\n",
    "        The Header of the HTML-content.\n",
    "    BOARD_DISPLAY_SIZE : Integer\n",
    "        The size of the board in pixels.\n",
    "\n",
    "    ---\n",
    "\n",
    "    board : chess.Board\n",
    "        The chess board instance that's used for the game.\n",
    "    make_move : dictionary(chess.COLOR : Callable)\n",
    "        A dictionary of algorithms the AI uses to make a move according to the      \n",
    "        color-representation of the AI.\n",
    "    is_ai : dictionary(chess.COLOR : Boolean)\n",
    "        A dictionary, where the chess.COLOR indicates, whether or not this color is controlled by\n",
    "        an AI.\n",
    "    move_times : dictionary(chess.COLOR : List)\n",
    "        A dictionary with Lists, inheriting the times an AI takes to move according to the \n",
    "        chess.COLOR the AI possesses.\n",
    "    opening_book : String\n",
    "        A String, representing a path to an opening library.\n",
    "    is_first_move : Boolean\n",
    "        A boolean, representing whether or not the first move has already been executed\n",
    "    \n",
    "    \n",
    "<br>\n",
    "\n",
    "### \\_\\_init\\_\\_\n",
    "    The constructor for the Game class. Gets called whenever a new Game instance is created.\n",
    "<br>\n",
    "\n",
    "##### Arguments\n",
    "    make_move_algorithm_white : Callable(chess.Board) [Optional] (Default behavior : None)\n",
    "        The function that the AI controlling the white pieces should use to make a new move.\n",
    "    make_move_algorithm_black : Callable(chess.Board) [Optional] (Default behavior: None)\n",
    "        The function that the AI controlling the black pieces should use to make a new move.\n",
    "    opening_book: String [Optional] (Default behavior : None)\n",
    "        A String representing the path to the desired opening library the AIs will use.\n",
    "\n",
    "##### Returns\n",
    "    N/A\n",
    "\n",
    "##### Side effects\n",
    "    If no AI is selected as at least one player, the game will exit. At least one AI is required   \n",
    "    to play the game.\n",
    "<br><br>\n",
    "\n",
    "### play\n",
    "    Plays the game.\n",
    "    Depending on the input arguments there are different game-states and features:\n",
    "    1. (AI, AI):\n",
    "        - Displays the chess board visually.\n",
    "        - Lets the AI make a move based on the board state and specified algorithm.\n",
    "        - Lets the other AI make a move based on the board state and specified algorithm.\n",
    "    2. (AI, Player) - (Player, AI):\n",
    "        - Displays the chess board visually.\n",
    "        - Lets the AI make a move based on the board state.\n",
    "        - Lets the human player input their move and pushes it to the board \n",
    "        (if it's valid and legal).\n",
    "    3. (Player, Player):\n",
    "        - Game will exit -> At least one AI is required to play the game\n",
    "\n",
    "##### Arguments\n",
    "    N/A\n",
    "\n",
    "##### Returns\n",
    "    N/A\n",
    "\n",
    "##### Side effects\n",
    "    - The state of the board in the Game class is changed.\n",
    "    - The state of is_first_move is changed after the first move.\n",
    "    - The times the AIs take to make a move is tracked and saved.\n",
    "    - The chess board is visually displayed.\n",
    "<br><br>\n",
    "\n",
    "### display\n",
    "    Displays the chess board graphically. Furthermore, custom HTML is displayed next to the board.\n",
    "\n",
    "##### Arguments\n",
    "    N/A\n",
    "\n",
    "##### Returns\n",
    "    N/A\n",
    "\n",
    "##### Side effects\n",
    "    - The current visual output is overwritten.\n",
    "<br> <br>\n",
    "\n",
    "### get_check_squares\n",
    "    checks for piecs or squares giving check.\n",
    "#### Arguments\n",
    "    N/A\n",
    "\n",
    "#### Returns\n",
    "    chess.Square | None (if no square sets gives check)\n",
    "\n",
    "##### Side effects\n",
    "    - If get_check_squares returns a value, the display function will indicate the square giving\n",
    "      check with a red background\n",
    "    \n",
    "<br><br>\n",
    "\n",
    "### make_opening_move\n",
    "    Makes a random move from the opening book, if available. If not, no move is made.\n",
    "#### Arguments\n",
    "    N/A\n",
    "#### Returns\n",
    "    True: A move from the opening book was made.\n",
    "    False: A move from the opening book was not made.\n",
    "#### Side effects\n",
    "    N/A\n",
    "\n",
    "### get_ai_state\n",
    "    Define the AIs for the game. Dependent on the ai_algorithms given as arguments in game.play()\n",
    "    this functions defines the player state for the different colors. (AI or Player). If the \n",
    "    \"player\" is defined as an ai, the dictionary value to the coresponding chess.Color is defined \n",
    "    as True.\n",
    "#### Arguments\n",
    "    N/A\n",
    "#### Returns\n",
    "    {chess.Color: Bool} - Dict\n",
    "#### Side effects\n",
    "    N/A\n",
    "\n",
    "### make_move_human\n",
    "    If the \"player\" is human, this method enables the human user to make a move through the \n",
    "    input-console.\n",
    "#### Arguments\n",
    "    N/A\n",
    "#### Return\n",
    "    N/A\n",
    "#### Side effects\n",
    "    A move is pushed onto the move_stack and it is the next players turn."
   ]
  },
  {
   "cell_type": "code",
   "execution_count": 5,
   "metadata": {
    "cell_id": "00007-00baebf0-015e-4a8f-b2f4-0d1c9579dc6c",
    "deepnote_cell_type": "code",
    "deepnote_to_be_reexecuted": false,
    "execution_millis": 1,
    "execution_start": 1641495111364,
    "source_hash": "64b3d999",
    "tags": []
   },
   "outputs": [],
   "source": [
    "class Game:\n",
    "    # Constants\n",
    "    HTML_CONTENT = 'html stuff'\n",
    "    HTML_HEADER = 'Header'\n",
    "    BOARD_DISPLAY_SIZE = 500\n",
    "\n",
    "    # Board variables\n",
    "    board = None\n",
    "\n",
    "    # AI and player declarations\n",
    "    make_move = None\n",
    "    is_ai = None\n",
    "\n",
    "    # Testing declarations\n",
    "    move_times = None\n",
    "\n",
    "    # Opening book and endgame tablebase declarations\n",
    "    opening_book = None\n",
    "    endgame_tablebase_dir = None\n",
    "    endgame_tablebase = None\n",
    "\n",
    "    def __init__(\n",
    "            self,\n",
    "            make_move_algorithm_white: Callable=None,\n",
    "            make_move_algorithm_black: Callable=None,\n",
    "            opening_book: str='Resources/baron30.bin',\n",
    "            endgame_tablebase_dir: str='/datasets/gaviota'\n",
    "    ):\n",
    "        self.opening_book = opening_book\n",
    "        self.endgame_tablebase_dir = endgame_tablebase_dir\n",
    "\n",
    "        self.board = chess.Board()\n",
    "        self.board.ending = False\n",
    "\n",
    "        self.move_times = { chess.WHITE: [], chess.BLACK: [] }\n",
    "        self.make_move = { chess.WHITE: make_move_algorithm_white, chess.BLACK: make_move_algorithm_black }\n",
    "        self.is_ai = self.__get_ai_state()\n",
    "\n",
    "        if self.endgame_tablebase_dir is not None:\n",
    "            self.endgame_tablebase = chess.gaviota.open_tablebase(self.endgame_tablebase_dir)\n",
    "\n",
    "        # The game requires that at least one player is an AI - it is not a multiplayer chess game\n",
    "        if not self.is_ai[chess.WHITE] and not self.is_ai[chess.BLACK]:\n",
    "            raise ValueError('At least one player must be an AI')\n"
   ]
  },
  {
   "cell_type": "code",
   "execution_count": 6,
   "metadata": {
    "cell_id": "00010-02b76cdf-4dac-4e74-a323-9b8775fcd1cb",
    "deepnote_cell_type": "code",
    "deepnote_to_be_reexecuted": false,
    "execution_millis": 1,
    "execution_start": 1641495111366,
    "source_hash": "b623e53d",
    "tags": []
   },
   "outputs": [],
   "source": [
    "def play(self) -> None:\n",
    "        while not self.board.is_game_over():\n",
    "            self.__display()\n",
    "            if self.is_ai[self.board.turn]:\n",
    "                # Start time\n",
    "                time_stamp = time.time()\n",
    "                if not self.__make_opening_move():\n",
    "                    self.make_move[self.board.turn](self.board, self.board.turn)\n",
    "                # Find time difference\n",
    "                time_stamp = time.time() - time_stamp\n",
    "                # Add time to move_times\n",
    "                self.move_times[self.board.turn].append(time_stamp)\n",
    "            else:\n",
    "                self.__make_move_human()\n",
    "\n",
    "            if self.endgame_tablebase is not None:\n",
    "                try:\n",
    "                    self.HTML_CONTENT = ''\n",
    "                    self.HTML_CONTENT += 'DTM:\\n'\n",
    "                    self.HTML_CONTENT += str(self.endgame_tablebase.probe_dtm(self.board)) + '\\n'\n",
    "                    self.HTML_CONTENT += 'WDL:\\n'\n",
    "                    self.HTML_CONTENT += str(self.endgame_tablebase.probe_wdl(self.board)) + '\\n'\n",
    "                except KeyError:\n",
    "                    pass\n",
    "            else:\n",
    "                self.HTML_CONTENT = 'wut'\n",
    "   \n",
    "            self.board.check_and_set_ending()\n",
    "            self.__display()\n",
    "\n",
    "        winner_message = 'It\\'s a draw!' if self.board.outcome() is None or self.board.outcome().winner is None \\\n",
    "            else f'{\"White\" if self.board.outcome().winner == chess.WHITE else \"Black\"} is the winner!'\n",
    "        print(f'The game has ended. {winner_message}\\n')\n",
    "        print(self.board.outcome()) \n",
    "\n",
    "Game.play = play\n",
    "del play"
   ]
  },
  {
   "cell_type": "code",
   "execution_count": 7,
   "metadata": {},
   "outputs": [],
   "source": [
    "def __display(self) -> None:\n",
    "        clear_output(wait=True)\n",
    "        try:\n",
    "            last_move = self.board.peek()\n",
    "            board_visual = chess.svg.board(self.board, size=self.BOARD_DISPLAY_SIZE, lastmove=last_move, check=self.__get_check_square()) \n",
    "        except IndexError:\n",
    "            board_visual = chess.svg.board(self.board, size=self.BOARD_DISPLAY_SIZE)\n",
    "        table = '<table><th>Board</th><th>{}</th><tr><td><div style=\\\"vertical-align: top; text-align: left\\\">{}</div></td><td>{}</td></div></tr></table>'\n",
    "        display(HTML(table.format(self.HTML_HEADER, board_visual, self.HTML_CONTENT)))\n",
    "\n",
    "Game.display = display\n",
    "del display"
   ]
  },
  {
   "cell_type": "code",
   "execution_count": 8,
   "metadata": {},
   "outputs": [],
   "source": [
    " def __get_check_square(self) -> chess.Square:\n",
    "        if self.board.is_check():\n",
    "            return self.board.checkers().pop()\n",
    "        else:\n",
    "            return None\n",
    "Game.__get_check_square = __get_check_square\n",
    "del __get_check_square"
   ]
  },
  {
   "cell_type": "code",
   "execution_count": 9,
   "metadata": {},
   "outputs": [],
   "source": [
    "  def __make_opening_move(self) -> bool:\n",
    "        if self.opening_book is None:\n",
    "            return False\n",
    "\n",
    "        with chess.polyglot.open_reader(self.opening_book) as reader:\n",
    "            possible_moves = [ entry.move for entry in reader.find_all(self.board) ]\n",
    "            if len(possible_moves) > 0:\n",
    "                self.board.push(random.choice(possible_moves))\n",
    "                return True\n",
    "\n",
    "        return False\n",
    "\n",
    "Game.__make_opening_move = __make_opening_move\n",
    "del __make_opening_move"
   ]
  },
  {
   "cell_type": "code",
   "execution_count": 10,
   "metadata": {},
   "outputs": [],
   "source": [
    "def __get_ai_state(self) -> dict:\n",
    "        return {\n",
    "            color: self.make_move[color] is not None\n",
    "                for color in ( chess.WHITE, chess.BLACK )\n",
    "        }\n",
    "\n",
    "Game.__get_ai_state = __get_ai_state\n",
    "del __get_ai_state"
   ]
  },
  {
   "cell_type": "code",
   "execution_count": 11,
   "metadata": {},
   "outputs": [],
   "source": [
    " def __make_move_human(self) -> None:\n",
    "        input_prompt = 'Please input your move: '\n",
    "        while True:\n",
    "            try:\n",
    "                move = chess.Move.from_uci(input(input_prompt))\n",
    "                self.board.push_legal(move)\n",
    "                return\n",
    "            except ValueError:\n",
    "                input_prompt = 'Illegal move, please try again: '\n",
    "                \n",
    "Game.__make_move_human = __make_move_human\n",
    "del __make_move_human"
   ]
  },
  {
   "cell_type": "markdown",
   "metadata": {
    "created_in_deepnote_cell": true,
    "deepnote_cell_type": "markdown",
    "tags": []
   },
   "source": []
  },
  {
   "cell_type": "code",
   "execution_count": null,
   "metadata": {},
   "outputs": [],
   "source": [
    "\n"
   ]
  }
 ],
 "metadata": {
  "deepnote": {
   "is_reactive": false
  },
  "deepnote_execution_queue": [],
  "deepnote_notebook_id": "b3597d7b-68ac-4caa-b143-c84d929dc93f",
  "kernelspec": {
   "display_name": "Python 3 (ipykernel)",
   "language": "python",
   "name": "python3"
  },
  "language_info": {
   "codemirror_mode": {
    "name": "ipython",
    "version": 3
   },
   "file_extension": ".py",
   "mimetype": "text/x-python",
   "name": "python",
   "nbconvert_exporter": "python",
   "pygments_lexer": "ipython3",
   "version": "3.9.4"
  }
 },
 "nbformat": 4,
 "nbformat_minor": 2
}
