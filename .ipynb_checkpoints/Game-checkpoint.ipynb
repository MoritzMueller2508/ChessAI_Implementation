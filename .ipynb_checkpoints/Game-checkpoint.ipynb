{
 "cells": [
  {
   "cell_type": "code",
   "execution_count": 1,
   "metadata": {
    "cell_id": "00000-bf48c591-cf89-4605-a4f0-94c0da4eee47",
    "deepnote_cell_type": "code",
    "deepnote_output_heights": [
     2
    ],
    "deepnote_to_be_reexecuted": false,
    "execution_millis": 47,
    "execution_start": 1642208948606,
    "source_hash": "bd190a5a",
    "tags": []
   },
   "outputs": [
    {
     "data": {
      "text/html": [
       "<style>.container { width:100%; !important } </style>"
      ],
      "text/plain": [
       "<IPython.core.display.HTML object>"
      ]
     },
     "metadata": {},
     "output_type": "display_data"
    }
   ],
   "source": [
    "from IPython.core.display import HTML, display\n",
    "display(HTML('<style>.container { width:100%; !important } </style>'))"
   ]
  },
  {
   "cell_type": "markdown",
   "metadata": {
    "cell_id": "00001-c58a7d41-da07-42e9-9ddc-60816ec2a229",
    "deepnote_cell_type": "markdown",
    "tags": []
   },
   "source": [
    "# The chess interface and game loop"
   ]
  },
  {
   "cell_type": "markdown",
   "metadata": {
    "cell_id": "00001-21a73485-cde6-4ade-8067-a798ef992bd0",
    "deepnote_cell_type": "markdown",
    "tags": []
   },
   "source": [
    "### Dependencies\n",
    "In the following all required dependencies, modules or notebooks are imported"
   ]
  },
  {
   "cell_type": "code",
   "execution_count": 3,
   "metadata": {
    "cell_id": "00000-6f985b14-fa1e-4d1d-a929-be0f93ddb0df",
    "deepnote_cell_type": "code",
    "deepnote_to_be_reexecuted": false,
    "execution_millis": 3375,
    "execution_start": 1642208948650,
    "source_hash": "74337bdb",
    "tags": []
   },
   "outputs": [
    {
     "name": "stdout",
     "output_type": "stream",
     "text": [
      "Requirement already satisfied: python-chess in c:\\python39\\lib\\site-packages (1.999)\n",
      "Requirement already satisfied: chess<2,>=1 in c:\\python39\\lib\\site-packages (from python-chess) (1.6.1)\n",
      "Note: you may need to restart the kernel to use updated packages.\n",
      "importing Jupyter notebook from Constants.ipynb\n"
     ]
    },
    {
     "name": "stderr",
     "output_type": "stream",
     "text": [
      "WARNING: Ignoring invalid distribution -hardet (c:\\python39\\lib\\site-packages)\n",
      "WARNING: Ignoring invalid distribution -hardet (c:\\python39\\lib\\site-packages)\n",
      "WARNING: Ignoring invalid distribution -hardet (c:\\python39\\lib\\site-packages)\n",
      "WARNING: Ignoring invalid distribution -hardet (c:\\python39\\lib\\site-packages)\n",
      "WARNING: Ignoring invalid distribution -hardet (c:\\python39\\lib\\site-packages)\n",
      "WARNING: Ignoring invalid distribution -hardet (c:\\python39\\lib\\site-packages)\n",
      "WARNING: You are using pip version 21.1.1; however, version 21.3.1 is available.\n",
      "You should consider upgrading via the 'c:\\python39\\python.exe -m pip install --upgrade pip' command.\n"
     ]
    },
    {
     "data": {
      "text/html": [
       "<style>.container { width:100%; !important } </style>"
      ],
      "text/plain": [
       "<IPython.core.display.HTML object>"
      ]
     },
     "metadata": {},
     "output_type": "display_data"
    }
   ],
   "source": [
    "%pip install python-chess\n",
    "\n",
    "import chess\n",
    "import chess.svg # TODO remove?\n",
    "import chess.polyglot # TODO remove?\n",
    "import chess.gaviota # TODO remove?\n",
    "import time\n",
    "import random\n",
    "import json\n",
    "from IPython.display import clear_output, SVG, display, HTML\n",
    "from typing import Callable, Union\n",
    "\n",
    "import import_ipynb\n",
    "import Constants"
   ]
  },
  {
   "cell_type": "markdown",
   "metadata": {
    "cell_id": "00003-87b30704-4e52-4f35-b53a-560dedb4974c",
    "deepnote_cell_type": "markdown",
    "tags": []
   },
   "source": [
    "#### chess.Board.push_legal\n",
    "Pushes a move to a board's move stack only if it is a valid, legal move. If the move is illegal or invalid, a ValueError is raised and the board state remains unaffected.\n",
    "\n",
    "###### <b><u>Arguments</u></b>\n",
    "<b>move</b> <i>(chess.Move)</i> : The move that should be pushed to the move stack.\n",
    "\n",
    "###### <b><u>Side effects</u></b>\n",
    "Pushes a move to the board's move stack, assuming the move was valid and legal."
   ]
  },
  {
   "cell_type": "code",
   "execution_count": 4,
   "metadata": {
    "cell_id": "00001-05c7d25b-a6a6-4f73-92b7-f40ff39334a7",
    "deepnote_cell_type": "code",
    "deepnote_to_be_reexecuted": false,
    "execution_millis": 4,
    "execution_start": 1642208951905,
    "source_hash": "a6731782",
    "tags": []
   },
   "outputs": [],
   "source": [
    "def push_legal(self, move: chess.Move):\n",
    "    if move not in self.legal_moves:\n",
    "        raise ValueError('Illegal move')\n",
    "    self.push(move)\n",
    "\n",
    "chess.Board.push_legal = push_legal\n",
    "del push_legal"
   ]
  },
  {
   "cell_type": "markdown",
   "metadata": {
    "cell_id": "00005-e57b162a-1158-4a3f-87ce-d787ede02b90",
    "deepnote_cell_type": "markdown",
    "tags": []
   },
   "source": [
    "---\n",
    "<br>\n",
    "\n",
    "### Game class\n",
    "Lets the user play a game of chess against the AI using a virtual chess board UI. The game may use any algorithm for the AI to make its move.\n",
    "<br><br>\n",
    "\n",
    "#### <u><i>Class variables</u></i>\n",
    "<b>HTML_CONTENT</b> <i>String</i>        : The content which is displayed next to the chess board. <br> \n",
    "<b>HTML_HEADER</b> <i>String</i>         : The Header of the HTML-content. <br>\n",
    "<b>BOARD_DISPLAY_SIZE</b> <i>Integer</i> : The size of the board in pixels. <br>\n",
    "\n",
    "    ---\n",
    "\n",
    "<b>board</b> <i>chess.Board</i>            : The chess board instance that's used for the game.<br>\n",
    "<b>make_move</b> <i>dictionary(chess.COLOR : Callable)</i> : A dictionary of algorithms the AI uses to make a move according to the      \n",
    "color-representation of the AI.<br>\n",
    "<b>is_ai</b> <i>dictionary(chess.COLOR     : Boolean)</i> : A dictionary, where the chess.COLOR indicates, whether or not this color is controlled by\n",
    "an AI. <br>\n",
    "<b>move_times</b> <i>dictionary(chess.COLOR : List)</i> : A dictionary with Lists, inheriting the times an AI takes to move according to the \n",
    "chess.COLOR the AI possesses. <br>\n",
    "<b>opening_book</b> <i>String</i> : A String, representing a path to an opening library. <br>\n",
    "<b>is_first_move</b> <i>Boolean</i> : A boolean, representing whether or not the first move has already been executed\n",
    "#### \\_\\_init\\_\\_\n",
    "The constructor for the Game class. Gets called whenever a new Game instance is created.\n",
    "###### __<u>Arguments</u>__\n",
    "<b>make_move_algorithm_white</b> <i>Callable(chess.Board) [Optional] (Default behavior : None)</i>: The function that the AI controlling the white pieces should use to make a new move.<br>\n",
    "__make_move_algorithm_black__ _Callable(chess.Board) [Optional] (Default behavior: None)_ : The function that the AI controlling the black pieces should use to make a new move. <br>\n",
    "__opening_book__ _String [Optional] (Default behavior : None)_ : A String representing the path to the desired opening library the AIs will use. <br>\n",
    "###### __<u>Side effects</u>__\n",
    "If no AI is selected as at least one player, the game will exit. At least one AI is required to play the game.\n"
   ]
  },
  {
   "cell_type": "code",
   "execution_count": 21,
   "metadata": {
    "cell_id": "00007-00baebf0-015e-4a8f-b2f4-0d1c9579dc6c",
    "deepnote_cell_type": "code",
    "deepnote_to_be_reexecuted": false,
    "execution_millis": 6,
    "execution_start": 1642208951916,
    "source_hash": "46e079e",
    "tags": []
   },
   "outputs": [],
   "source": [
    "class Game:\n",
    "    # Constants\n",
    "    HTML_CONTENT = 'html stuff'\n",
    "    HTML_HEADER = 'Header'\n",
    "    BOARD_DISPLAY_SIZE = 500\n",
    "\n",
    "    # Board variables\n",
    "    board = None\n",
    "\n",
    "    # AI and player declarations\n",
    "    make_move = None\n",
    "    is_ai = None\n",
    "\n",
    "    # Testing declarations\n",
    "    move_times = None\n",
    "    debug = None\n",
    "    auto_tests = None\n",
    "    wins = None\n",
    "\n",
    "    # Opening book and endgame tablebase declarations\n",
    "    opening_book = None\n",
    "    endgame_tablebase_dir = None\n",
    "    endgame_tablebase = None\n",
    "\n",
    "    def __init__(\n",
    "            self,\n",
    "            make_move_algorithm_white: Callable=None,\n",
    "            make_move_algorithm_black: Callable=None,\n",
    "            opening_book: str='Resources/baron30.bin',\n",
    "            endgame_tablebase_dir: str='/datasets/gaviota'\n",
    "    ):\n",
    "        self.opening_book = opening_book\n",
    "        self.endgame_tablebase_dir = endgame_tablebase_dir\n",
    "\n",
    "        self.debug = {}\n",
    "        self.auto_tests = {}\n",
    "        self.wins = []\n",
    "\n",
    "        self.board = chess.Board()\n",
    "        self.board.ending = False\n",
    "\n",
    "        self.move_times = { chess.WHITE: [], chess.BLACK: [] }\n",
    "        self.make_move = { chess.WHITE: make_move_algorithm_white, chess.BLACK: make_move_algorithm_black }\n",
    "        self.is_ai = self.get_ai_state()\n",
    "\n",
    "        if self.endgame_tablebase_dir is not None:\n",
    "            self.endgame_tablebase = chess.gaviota.open_tablebase(self.endgame_tablebase_dir)\n",
    "\n",
    "        # The game requires that at least one player is an AI - it is not a multiplayer chess game\n",
    "        if not self.is_ai[chess.WHITE] and not self.is_ai[chess.BLACK]:\n",
    "            raise ValueError('At least one player must be an AI')\n"
   ]
  },
  {
   "cell_type": "markdown",
   "metadata": {},
   "source": [
    "### play\n",
    "Plays the game.\n",
    "Depending on the input arguments there are different game-states and features:\n",
    "1. (AI, AI): \n",
    "    - Displays the chess board visually.\n",
    "    - Lets the AI make a move based on the board state and specified algorithm.\n",
    "    - Lets the other AI make a move based on the board state and specified algorithm.\n",
    "2. (AI, Player) - (Player, AI):\n",
    "    - Displays the chess board visually.\n",
    "    - Lets the AI make a move based on the board state.\n",
    "    - Lets the human player input their move and pushes it to the board \n",
    "    (if it's valid and legal).\n",
    "3. (Player, Player): \n",
    "    - Game will exit -> At least one AI is required to play the game\n",
    "\n",
    "######  <u><i>Side effects</i></u> \n",
    "- The state of the board in the Game class is changed.  \n",
    "- The state of is_first_move is changed after the first move.\n",
    "- The times the AIs take to make a move is tracked and saved.\n",
    "- The chess board is visually displayed.\n"
   ]
  },
  {
   "cell_type": "code",
   "execution_count": 6,
   "metadata": {
    "cell_id": "00010-02b76cdf-4dac-4e74-a323-9b8775fcd1cb",
    "deepnote_cell_type": "code",
    "deepnote_to_be_reexecuted": false,
    "execution_millis": 6,
    "execution_start": 1642208951922,
    "source_hash": "b5aea016",
    "tags": []
   },
   "outputs": [],
   "source": [
    "def play(self) -> None:\n",
    "    self.debug.clear() # clear the debug dictionary - this dict may have contained moves from the last playthrough\n",
    "    while not self.board.is_game_over():\n",
    "        self.display()\n",
    "        if self.is_ai[self.board.turn]:\n",
    "            # Start time\n",
    "            time_stamp = time.time()\n",
    "            if not self.make_opening_move():\n",
    "                score, move = self.make_move[self.board.turn](self.board, self.board.turn, self.endgame_tablebase)\n",
    "                self.debug[len(self.board.move_stack)] = (score, move.uci())\n",
    "            # Find time difference\n",
    "            time_stamp = time.time() - time_stamp\n",
    "            # Add time to move_times\n",
    "            self.move_times[self.board.turn].append(time_stamp)\n",
    "        else:\n",
    "            self.make_move_human()\n",
    "\n",
    "        if self.endgame_tablebase is not None:\n",
    "            try:\n",
    "                self.HTML_CONTENT = ''\n",
    "                self.HTML_CONTENT += 'DTM:\\n'\n",
    "                self.HTML_CONTENT += str(self.endgame_tablebase.probe_dtm(self.board)) + '\\n'\n",
    "                self.HTML_CONTENT += 'WDL:\\n'\n",
    "                self.HTML_CONTENT += str(self.endgame_tablebase.probe_wdl(self.board)) + '\\n'\n",
    "            except KeyError:\n",
    "                pass\n",
    "        else:\n",
    "            self.HTML_CONTENT = 'wut'\n",
    "\n",
    "        self.board.check_and_set_ending()\n",
    "        self.display()\n",
    "\n",
    "    winner_message = 'It\\'s a draw!' if self.board.outcome() is None or self.board.outcome().winner is None \\\n",
    "        else f'{\"White\" if self.board.outcome().winner == chess.WHITE else \"Black\"} is the winner!'\n",
    "    print(f'The game has ended. {winner_message}\\n')\n",
    "    print(self.board.outcome()) \n",
    "\n",
    "Game.play = play\n",
    "del play"
   ]
  },
  {
   "cell_type": "markdown",
   "metadata": {},
   "source": [
    "### display\n",
    "Displays the chess board graphically. Furthermore, custom HTML is displayed next to the board.\n",
    "\n",
    "###### <u><i>Side effects</i></u>\n",
    "The current visual output is overwritten.\n"
   ]
  },
  {
   "cell_type": "code",
   "execution_count": 7,
   "metadata": {
    "cell_id": "00009-d720b37e-432a-49ca-8aa8-0bc95e23401f",
    "deepnote_cell_type": "code",
    "deepnote_to_be_reexecuted": false,
    "execution_millis": 3,
    "execution_start": 1642208951934,
    "source_hash": "68722747"
   },
   "outputs": [],
   "source": [
    "def display(self) -> None:\n",
    "    clear_output(wait=True)\n",
    "    try:\n",
    "        last_move = self.board.peek()\n",
    "        board_visual = chess.svg.board(self.board, size=self.BOARD_DISPLAY_SIZE, lastmove=last_move, check=self.get_check_square()) \n",
    "    except IndexError:\n",
    "        board_visual = chess.svg.board(self.board, size=self.BOARD_DISPLAY_SIZE)\n",
    "    table = '<table><th>Board</th><th>{}</th><tr><td><div style=\\\"vertical-align: top; text-align: left\\\">{}</div></td><td>{}</td></div></tr></table>'\n",
    "    display(HTML(table.format(self.HTML_HEADER, board_visual, self.HTML_CONTENT)))\n",
    "\n",
    "Game.display = display\n",
    "del display"
   ]
  },
  {
   "cell_type": "markdown",
   "metadata": {},
   "source": [
    "### get_check_squares\n",
    "checks for piecs or squares giving check.\n",
    "###### <u><i>Returns</u></i>\n",
    "__chess.Square__ _None [if no square sets gives check]_\n",
    "###### <u><i>Side effects</u></i>\n",
    "If get_check_squares returns a value, the display function will indicate the square giving check with a red background\n",
    "    "
   ]
  },
  {
   "cell_type": "code",
   "execution_count": 8,
   "metadata": {
    "cell_id": "00010-f6d2a47e-5679-43e8-afac-3a669b571dd3",
    "deepnote_cell_type": "code",
    "deepnote_to_be_reexecuted": false,
    "execution_millis": 11,
    "execution_start": 1642208951939,
    "source_hash": "617ca7b9"
   },
   "outputs": [],
   "source": [
    "def get_check_square(self) -> chess.Square:\n",
    "    if self.board.is_check():\n",
    "        return self.board.checkers().pop()\n",
    "    else:\n",
    "        return None\n",
    "            \n",
    "Game.get_check_square = get_check_square\n",
    "del get_check_square"
   ]
  },
  {
   "cell_type": "markdown",
   "metadata": {},
   "source": [
    "### make_opening_move\n",
    "Makes a random move from the opening book, if available. If not, no move is made.\n",
    "###### <u><i>Returns</u></i>\n",
    "__True:__ A move from the opening book was made.  \n",
    "__False:__ A move from the opening book was not made.\n"
   ]
  },
  {
   "cell_type": "code",
   "execution_count": 26,
   "metadata": {
    "cell_id": "00011-79094b90-bc3f-46fd-879c-c3dd9480661e",
    "deepnote_cell_type": "code",
    "deepnote_to_be_reexecuted": false,
    "execution_millis": 5,
    "execution_start": 1642208951954,
    "source_hash": "c42704da"
   },
   "outputs": [],
   "source": [
    "def make_opening_move(self) -> bool:\n",
    "    if self.opening_book is None:\n",
    "        return False\n",
    "\n",
    "    with chess.polyglot.open_reader(self.opening_book) as reader:\n",
    "        possible_moves = [ entry.move for entry in reader.find_all(self.board) ]\n",
    "        if len(possible_moves) > 0:\n",
    "            move = random.choice(possible_moves)\n",
    "            self.board.push(move)\n",
    "            self.debug[len(self.board.move_stack)] = (\"opening library\", move.uci())\n",
    "            return True\n",
    "\n",
    "    return False\n",
    "\n",
    "Game.make_opening_move = make_opening_move\n",
    "del make_opening_move"
   ]
  },
  {
   "cell_type": "markdown",
   "metadata": {},
   "source": [
    "### get_ai_state\n",
    "Define the AIs for the game. Dependent on the ai_algorithms given as arguments in game.play()\n",
    "this functions defines the player state for the different colors. (AI or Player). If the \n",
    "\"player\" is defined as an ai, the dictionary value to the coresponding chess.Color is defined \n",
    "as True.\n",
    "###### <u><i>Returns</u></i>\n",
    "__{chess.Color: Bool}__ _Dict_\n"
   ]
  },
  {
   "cell_type": "code",
   "execution_count": 22,
   "metadata": {
    "cell_id": "00012-aa1192f6-48e7-49fe-9e32-f3a470f6a2ba",
    "deepnote_cell_type": "code",
    "deepnote_to_be_reexecuted": false,
    "execution_millis": 3,
    "execution_start": 1642208951963,
    "source_hash": "d7df8be3"
   },
   "outputs": [],
   "source": [
    "def get_ai_state(self) -> dict:\n",
    "    return {\n",
    "        color: self.make_move[color] is not None\n",
    "        for color in ( chess.WHITE, chess.BLACK )\n",
    "    }\n",
    "\n",
    "Game.get_ai_state = get_ai_state\n",
    "del get_ai_state"
   ]
  },
  {
   "cell_type": "markdown",
   "metadata": {},
   "source": [
    "\n",
    "### make_move_human\n",
    "If the \"player\" is human, this method enables the human user to make a move through the \n",
    "input-console.\n",
    "###### <u><i>Side effects</u></i>\n",
    "A move is pushed onto the move_stack and it is the next players turn."
   ]
  },
  {
   "cell_type": "code",
   "execution_count": 11,
   "metadata": {
    "cell_id": "00013-2e9fea17-72ac-404d-9865-0cc6d70107f4",
    "deepnote_cell_type": "code",
    "deepnote_to_be_reexecuted": false,
    "execution_millis": 4,
    "execution_start": 1642208951970,
    "source_hash": "faa65795"
   },
   "outputs": [],
   "source": [
    "def make_move_human(self) -> None:\n",
    "    input_prompt = 'Please input your move: '\n",
    "    while True:\n",
    "        try:\n",
    "            move = chess.Move.from_uci(input(input_prompt))\n",
    "            self.board.push_legal(move)\n",
    "            return\n",
    "        except ValueError:\n",
    "            input_prompt = 'Illegal move, please try again: '\n",
    "                \n",
    "Game.make_move_human = make_move_human\n",
    "del make_move_human"
   ]
  },
  {
   "cell_type": "markdown",
   "metadata": {
    "cell_id": "00014-f2ae3728-b082-46aa-8182-501b1b8dba31",
    "deepnote_cell_type": "code",
    "deepnote_to_be_reexecuted": false,
    "execution_millis": 1,
    "execution_start": 1642208952022,
    "source_hash": "b623e53d"
   },
   "source": [
    "### save_state\n",
    "The movestack as well as all the scores are saved in a file, named by the user. The file is stored in the current working-directory. \n",
    "This file can then later be loaded to open a game.\n",
    "       "
   ]
  },
  {
   "cell_type": "code",
   "execution_count": 23,
   "metadata": {
    "cell_id": "00015-c86a10a8-f015-4024-ba7c-4a4e6b8ed038",
    "deepnote_cell_type": "code",
    "deepnote_to_be_reexecuted": false,
    "execution_millis": 0,
    "execution_start": 1642208952023,
    "source_hash": "b623e53d"
   },
   "outputs": [],
   "source": [
    "def save_state(self) -> None:\n",
    "    filename = input(\"Please input save-name:\\n \") + \".txt\"\n",
    "    f = open(filename, 'w')\n",
    "    state = json.dumps(self.debug)\n",
    "    f.write(state)\n",
    "    f.close()\n",
    "    \n",
    "Game.save_state = save_state\n",
    "del save_state"
   ]
  },
  {
   "cell_type": "markdown",
   "metadata": {},
   "source": [
    "### load_state\n",
    "A saved game is loaded. Therefore, the game will be recreated by loading the move_stack from a saved game.\n",
    "       \n",
    "       "
   ]
  },
  {
   "cell_type": "code",
   "execution_count": 24,
   "metadata": {},
   "outputs": [],
   "source": [
    "def load_game(self):\n",
    "    try:\n",
    "        f = open(input(\"What is your save-file called? :\\n\"))\n",
    "    except OSError:\n",
    "        print(f'There is no such file called {f} - please try again')\n",
    "    s = f.read()\n",
    "    d = json.loads(s)\n",
    "    self.debug = d\n",
    "    self.board.clear_stack()\n",
    "    \n",
    "    for _, moves in self.debug.values():\n",
    "        self.board.push_legal(chess.Move.from_uci(moves))\n",
    "    \n",
    "Game.load_game = load_game\n",
    "del load_game"
   ]
  },
  {
   "cell_type": "markdown",
   "metadata": {},
   "source": [
    "______________________________________________________________\n",
    "\n",
    "# Debug Section\n",
    "<br>\n",
    "\n",
    "**In this section, the Game.play() and Game.display() - Methods will be modified and saved as Game.debug_play() and Game.display_debug()**\n",
    "\n",
    "The reason is, that a mode for debuging purpose is generally needed if we want to figure out the reason behind bugs or problems. \n",
    "Instead of using the tricky python debuger, we developed a method to show only the desired attributes when we need to see them. \n",
    "Through this, we can take a deeper look into the Game.play() method while changing the display()-method, so we can see through step by step or move by move.\n"
   ]
  },
  {
   "cell_type": "markdown",
   "metadata": {},
   "source": [
    "### debug_play\n",
    "This is the debugger-method for bug-detection. Here, a dictionary of chess-problems is given. The user can choose to present a certain problem as\n",
    "argument of the method or choose the problem out of given problems while running the \"debugger\". Furthermore, it is possible to automate the procedure,\n",
    "if the methods gets executed in a loop. (Example in Test.ipynb) Through this it is possible to run all tests and track all necessary information. If \n",
    "automation is not enabled, the information is not saved, due to the user beeing able to access it through the game-object. (If the method is called\n",
    "twice or more, the information will be overwritten, so be careful to enable automation if you run multiple tests!).\n",
    "Besides small differences to enable better debugging-opportunities, this function performs like Game.play(). \n",
    "###### <u><i>Arguments</u></i>\n",
    "__chess_problem__ _Callable(String) [Optional] (Default behavior: None)_  \n",
    "A string associated with a key of the Constants.chess_problems dictionary.  \n",
    "__automation__ _Callable(Boolean) [Optional] (Default behavior: False)_  \n",
    "A boolean indicating whether or not this call is part of a automatic test-run consisting of multiple tests.  \n",
    "###### <u><i>Side effects</u></i>\n",
    "__automation = False__  \n",
    "If automation is set to false, the user has to press a button after every move. Therefore we can deside how long we want wait and look at the \n",
    "displayed details before the next move is executed.  \n",
    "__automation = True__  \n",
    "All tests run without interruption. After all tests ran, details can be accessed through game.auto_tests, a collection of all debug-dictionaries and \n",
    "game.wins, a collection of all winners ('white', 'black' or None -> Draw).    \n",
    "  \n",
    "The user has to press any key after each move."
   ]
  },
  {
   "cell_type": "code",
   "execution_count": 27,
   "metadata": {},
   "outputs": [],
   "source": [
    "def debug_play(self, chess_problem = None, automation = False) -> None:\n",
    "    problem_dict = Constants.chess_problems\n",
    "    self.debug.clear() # clear the debug dictionary - this dict may have contained moves from the last playthrough\n",
    "    if chess_problem is None or chess_problem not in problem_dict:\n",
    "        problem = input(\"Please choose chess-problem: \\nAJW, \\nAF, \\nLE, \\nMPN, \\nEK, \\nGBE \\nyou can find further information about the given problems in Constants.ipynb\\n\")\n",
    "        while problem not in problem_dict:\n",
    "            clear_output()\n",
    "            print(\"\\nAJW, \\nAF, \\nLE, \\nMPN, \\nEK, \\nGBE\")\n",
    "            problem = input(\"Wrong input, please try again. Type one of the above numbers to initialze the test\")\n",
    "    else: problem = chess_problem\n",
    "    self.board.set_fen(problem_dict[problem])\n",
    "    \n",
    "    while not self.board.is_game_over():\n",
    "        self.display_debug(automation)\n",
    "        if self.is_ai[self.board.turn]:\n",
    "            # Start time\n",
    "            time_stamp = time.time()\n",
    "            if not self.make_opening_move():\n",
    "                score, move = self.make_move[self.board.turn](self.board, self.board.turn, self.endgame_tablebase)\n",
    "                self.debug[len(self.board.move_stack)] = (score, move.uci())\n",
    "            # Find time difference\n",
    "            time_stamp = time.time() - time_stamp\n",
    "            # Add time to move_times\n",
    "            self.move_times[self.board.turn].append(time_stamp)\n",
    "        else:\n",
    "            self.make_move_human()\n",
    "\n",
    "        if self.endgame_tablebase is not None:\n",
    "            try:\n",
    "                self.HTML_CONTENT = ''\n",
    "                self.HTML_CONTENT += 'DTM:\\n'\n",
    "                self.HTML_CONTENT += str(self.endgame_tablebase.probe_dtm(self.board)) + '\\n'\n",
    "                self.HTML_CONTENT += 'WDL:\\n'\n",
    "                self.HTML_CONTENT += str(self.endgame_tablebase.probe_wdl(self.board)) + '\\n'\n",
    "            except KeyError:\n",
    "                pass\n",
    "        else:\n",
    "            self.HTML_CONTENT = 'wut'\n",
    "\n",
    "        self.board.check_and_set_ending()\n",
    "        \n",
    "    self.display_debug(True)\n",
    "    winner_message = 'It\\'s a draw!' if self.board.outcome() is None or self.board.outcome().winner is None \\\n",
    "        else f'{\"White\" if self.board.outcome().winner == chess.WHITE else \"Black\"} is the winner!'\n",
    "    print(f'The game has ended. {winner_message}\\n')\n",
    "    print(self.board.outcome())\n",
    "    if automation:\n",
    "        self.auto_tests[problem] = self.debug\n",
    "        winner = None\n",
    "        if self.board.outcome() is None or self.board.outcome().winner is None:\n",
    "            winner = None \n",
    "        elif self.board.outcome().winner == chess.WHITE:\n",
    "            winner = \"white\"\n",
    "        else: winner = \"black\"\n",
    "            \n",
    "        self.wins.append(winner)\n",
    "\n",
    "Game.debug_play = debug_play\n",
    "del debug_play"
   ]
  },
  {
   "cell_type": "markdown",
   "metadata": {},
   "source": [
    "### display_debug\n",
    "This is the display-method used in the debug_play-method. Besides the method waiting for the user to press a button, this method doesn't differ from the display-method.\n",
    "    \n",
    "###### <u><i>Arguments</u></i>\n",
    "__Bool__ _Boolean_  \n",
    "A boolean to determine if this call is one of multiple-automated tests.\n",
    "\n",
    "###### <u><i>Side effects</u></i>\n",
    "__Bool = True__  \n",
    "The user has to press any key after each move."
   ]
  },
  {
   "cell_type": "code",
   "execution_count": 15,
   "metadata": {},
   "outputs": [],
   "source": [
    "def display_debug(self, Bool) -> None:\n",
    "    clear_output()\n",
    "    try:\n",
    "        last_move = self.board.peek()\n",
    "        board_visual = chess.svg.board(self.board, size=self.BOARD_DISPLAY_SIZE, lastmove=last_move, check=self.get_check_square()) \n",
    "    except IndexError:\n",
    "        board_visual = chess.svg.board(self.board, size=self.BOARD_DISPLAY_SIZE)\n",
    "    table = '<table><th>Board</th><th>{}</th><tr><td><div style=\\\"vertical-align: top; text-align: left\\\">{}</div></td><td>{}</td></div></tr></table>'\n",
    "    display(HTML(table.format(self.HTML_HEADER, board_visual, self.HTML_CONTENT)))\n",
    "    if(not Bool):\n",
    "        if len(self.board.move_stack) != 0:\n",
    "            print(self.debug[len(self.board.move_stack)])\n",
    "        input(\"press any button to continue\")\n",
    "\n",
    "Game.display_debug = display_debug\n",
    "del display_debug"
   ]
  }
 ],
 "metadata": {
  "deepnote": {
   "is_reactive": false
  },
  "deepnote_execution_queue": [],
  "deepnote_notebook_id": "b3597d7b-68ac-4caa-b143-c84d929dc93f",
  "kernelspec": {
   "display_name": "Python 3 (ipykernel)",
   "language": "python",
   "name": "python3"
  },
  "language_info": {
   "codemirror_mode": {
    "name": "ipython",
    "version": 3
   },
   "file_extension": ".py",
   "mimetype": "text/x-python",
   "name": "python",
   "nbconvert_exporter": "python",
   "pygments_lexer": "ipython3",
   "version": "3.9.4"
  }
 },
 "nbformat": 4,
 "nbformat_minor": 2
}
