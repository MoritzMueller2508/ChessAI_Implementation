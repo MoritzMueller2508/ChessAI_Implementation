{
 "cells": [
  {
   "cell_type": "code",
   "metadata": {
    "tags": [],
    "cell_id": "00000-d180b7b4-02c4-412a-be8b-66c97115f3f8",
    "deepnote_cell_type": "code"
   },
   "source": "from IPython.core.display import HTML, display\ndisplay(HTML('<style>.container { width:100%; !important } </style>'))",
   "outputs": [],
   "execution_count": null
  },
  {
   "cell_type": "markdown",
   "source": "# Global constants",
   "metadata": {
    "tags": [],
    "cell_id": "00000-3f91735e-ed8d-46de-841d-598252485285",
    "deepnote_cell_type": "markdown"
   }
  },
  {
   "cell_type": "code",
   "metadata": {
    "tags": [],
    "cell_id": "00000-712451a2-7a7d-4025-99be-d9164422ff16",
    "deepnote_to_be_reexecuted": false,
    "source_hash": "4287e7ac",
    "execution_start": 1642695493820,
    "execution_millis": 1039711,
    "deepnote_cell_type": "code"
   },
   "source": "class Globals:\n    pass",
   "outputs": [],
   "execution_count": null
  },
  {
   "cell_type": "markdown",
   "source": "#### Globals.MAX_EVALUATION_SCORE\nA score that is higher than any achievable score from an evaluation. Minimax and alpha-beta start with this score but negative, so that the score that comes after is guaranteed to be the new best score (otherwise, a score that is not associated with any move would be the best score).",
   "metadata": {
    "cell_id": "1f14d25d-ef8f-4417-8fdd-a842ef9b5e05",
    "tags": [],
    "deepnote_cell_type": "markdown"
   }
  },
  {
   "cell_type": "code",
   "metadata": {
    "tags": [],
    "cell_id": "00001-08cb20aa-6fcb-4c4f-a93c-faba3576542f",
    "deepnote_to_be_reexecuted": false,
    "source_hash": "ca5cd93f",
    "execution_start": 1642694456525,
    "execution_millis": 0,
    "deepnote_cell_type": "code"
   },
   "source": "Globals.MAX_EVALUATION_SCORE = 100_000_000",
   "outputs": [],
   "execution_count": null
  },
  {
   "cell_type": "markdown",
   "source": "#### Globals.EVALUATION_SCORE_CHECKMATE\nThe score for a move that creates a checkmate situation. Such a move should always be chosen if on the winning side and should always be avoided if on the losing side, and the score should therefore be higher than that of any other type of move.",
   "metadata": {
    "cell_id": "ab08f610-d7d1-4d67-baaa-478ee4eb54f4",
    "tags": [],
    "deepnote_cell_type": "markdown"
   }
  },
  {
   "cell_type": "code",
   "source": "Globals.EVALUATION_SCORE_CHECKMATE = 10_000_000",
   "metadata": {
    "cell_id": "e64ac56b-6bdc-47df-ad7e-f13b983658b0",
    "tags": [],
    "deepnote_to_be_reexecuted": false,
    "source_hash": "bffb73b4",
    "execution_start": 1642694564572,
    "execution_millis": 0,
    "deepnote_cell_type": "code"
   },
   "outputs": [],
   "execution_count": null
  },
  {
   "cell_type": "markdown",
   "source": "#### Globals.EVALUATION_SCORE_ENDGAME\nThe score for a move that creates a guaranteed win or loss as defined in the endgame tablebase. Such a move should always be chosen if on the winning side and should always be avoided if on the losing side, except if a checkmate is also possible. While a guaranteed win is theoretically just as good as a checkmate (under the assumption that the 50-move rule is disabled, which is the case by default), a checkmate gets the win faster and is therefore preferable.",
   "metadata": {
    "cell_id": "dbc60423-2153-4ff9-ae30-6f99651b85eb",
    "tags": [],
    "deepnote_cell_type": "markdown"
   }
  },
  {
   "cell_type": "code",
   "source": "Globals.EVALUATION_SCORE_ENDGAME = 1_000_000",
   "metadata": {
    "cell_id": "80330dd3-e773-4b68-9db4-de9913ae65fb",
    "tags": [],
    "deepnote_to_be_reexecuted": false,
    "source_hash": "a56e32ac",
    "execution_start": 1642694706028,
    "execution_millis": 2,
    "deepnote_cell_type": "code"
   },
   "outputs": [],
   "execution_count": null
  },
  {
   "cell_type": "markdown",
   "source": "#### Globals.EVALUATION_SCORE_DRAW\nThe score for when a game ends in a draw. This is advantageous if a player is in a losing position and disadvantageous if they're in a winning position. In any case, it is less significant than a checkmate or a guaranteed win or loss.",
   "metadata": {
    "cell_id": "7a56ee61-8cc3-4b0e-bcc7-1f0d22a036c2",
    "tags": [],
    "deepnote_cell_type": "markdown"
   }
  },
  {
   "cell_type": "code",
   "source": "Globals.EVALUATION_SCORE_DRAW = 500_000",
   "metadata": {
    "cell_id": "e84a6fdf-640d-4e99-aa4e-d96c52c6401b",
    "tags": [],
    "deepnote_to_be_reexecuted": false,
    "source_hash": "3461fb21",
    "execution_start": 1642694760017,
    "execution_millis": 3,
    "deepnote_cell_type": "code"
   },
   "outputs": [],
   "execution_count": null
  },
  {
   "cell_type": "markdown",
   "source": "#### Globals.PIECE_VALUES\nThe piece values for all chess pieces as defined by Tomasz Michniewski (https://www.chessprogramming.org/Simplified_Evaluation_Function). <br>\nThese values represent what each chess piece is worth and are based on rules that are defined on the web page linked above. They are used to evaluate attacks and promotions, as well as to determine which player is in a winning position.",
   "metadata": {
    "cell_id": "39888146-6393-43be-9d6b-ec199ad9764f",
    "tags": [],
    "deepnote_cell_type": "markdown"
   }
  },
  {
   "cell_type": "code",
   "source": "Globals.PIECE_VALUES = {\n    'p': 100,   # Pawns\n    'n': 320,   # Knights\n    'b': 330,   # Bishops\n    'r': 500,   # Rooks\n    'q': 900,   # Queen\n    'k': 20000  # King\n}",
   "metadata": {
    "cell_id": "cf7ea31e-b5e4-45d7-a6fd-0aae6b710d67",
    "tags": [],
    "deepnote_to_be_reexecuted": false,
    "source_hash": "c6185dff",
    "execution_start": 1642694785679,
    "execution_millis": 4,
    "deepnote_cell_type": "code"
   },
   "outputs": [],
   "execution_count": null
  },
  {
   "cell_type": "markdown",
   "source": "#### Globals.PIECE_SQUARE_TABLES\nThe piece square tables for all chess pieces as defined by Tomasz Michniewski (https://www.chessprogramming.org/Simplified_Evaluation_Function). <br>\nThese tables contain a positional score for each position on the chess board for each piece type. This score represents how good a certain position is for the chess piece, with high scores being advantageous and low scores being disadvantageous. The argumentation for the values in these tables can be found on the web page linked above. These tables are used to evaluate positional advantages, castling and promotions, as well as to determine which player is in a winning position.",
   "metadata": {
    "cell_id": "0a3a7b64-7b50-4715-b4ce-fbdde3bc9c6f",
    "tags": [],
    "deepnote_cell_type": "markdown"
   }
  },
  {
   "cell_type": "code",
   "source": "Globals.PIECE_SQUARE_TABLES = {\n    'p': [ # Pawns\n        [   0,   0,   0,   0,   0,   0,   0,   0 ],\n        [  50,  50,  50,  50,  50,  50,  50,  50 ],\n        [  10,  10,  20,  30,  30,  20,  10,  10 ],\n        [   5,   5,  10,  25,  25,  10,   5,   5 ],\n        [   0,   0,   0,  20,  20,   0,   0,   0 ],\n        [   5,  -5, -10,   0,   0, -10,  -5,   5 ],\n        [   5,  10,  10, -20, -20,  10,  10,   5 ],\n        [   0,   0,   0,   0,   0,   0,   0,   0 ]\n    ],\n\n    'n': [ # Knights\n        [ -50, -40, -30, -30, -30, -30, -40, -50 ],\n        [ -40, -20,   0,   0,   0,   0, -20, -40 ],\n        [ -30,   0,  10,  15,  15,  10,   0, -30 ],\n        [ -30,   5,  15,  20,  20,  15,   5, -30 ],\n        [ -30,   0,  15,  20,  20,  15,   0, -30 ],\n        [ -30,   5,  10,  15,  15,  10,   5, -30 ],\n        [ -40, -20,   0,   5,   5,   0, -20, -40 ],\n        [ -50, -40, -30, -30, -30, -30, -40, -50 ]\n    ],\n\n    'b': [ # Bishops\n        [ -20, -10, -10, -10, -10, -10, -10, -20 ],\n        [ -10,   0,   0,   0,   0,   0,   0, -10 ],\n        [ -10,   0,   5,  10,  10,   5,   0, -10 ],\n        [ -10,   5,   5,  10,  10,   5,   5, -10 ],\n        [ -10,   0,  10,  10,  10,  10,   0, -10 ],\n        [ -10,  10,  10,  10,  10,  10,  10, -10 ],\n        [ -10,   5,   0,   0,   0,   0,   5, -10 ],\n        [ -20, -10, -10, -10, -10, -10, -10, -20 ]\n    ],\n\n    'r': [ # Rooks\n        [   0,   0,   0,   0,   0,   0,   0,   0 ],\n        [   5,  10,  10,  10,  10,  10,  10,   5 ],\n        [  -5,   0,   0,   0,   0,   0,   0,  -5 ],\n        [  -5,   0,   0,   0,   0,   0,   0,  -5 ],\n        [  -5,   0,   0,   0,   0,   0,   0,  -5 ],\n        [  -5,   0,   0,   0,   0,   0,   0,  -5 ],\n        [  -5,   0,   0,   0,   0,   0,   0,  -5 ],\n        [   0,   0,   0,   5,   5,   0,   0,   0 ]\n    ],\n\n    'q': [ # Queen\n        [ -20, -10, -10,  -5,  -5, -10, -10, -20 ],\n        [ -10,   0,   0,   0,   0,   0,   0, -10 ],\n        [ -10,   0,   5,   5,   5,   5,   0, -10 ],\n        [  -5,   0,   5,   5,   5,   5,   0,  -5 ],\n        [   0,   0,   5,   5,   5,   5,   0,  -5 ],\n        [ -10,   5,   5,   5,   5,   5,   0, -10 ],\n        [ -10,   0,   5,   0,   0,   0,   0, -10 ],\n        [ -20, -10, -10,  -5,  -5, -10, -10, -20 ]\n    ],\n\n    'km': [ # King (middle game)\n        [ -30, -40, -40, -50, -50, -40, -40, -30 ],\n        [ -30, -40, -40, -50, -50, -40, -40, -30 ],\n        [ -30, -40, -40, -50, -50, -40, -40, -30 ],\n        [ -30, -40, -40, -50, -50, -40, -40, -30 ],\n        [ -20, -30, -30, -40, -40, -30, -30, -20 ],\n        [ -10, -20, -20, -20, -20, -20, -20, -10 ],\n        [  20,  20,   0,   0,   0,   0,  20,  20 ],\n        [  20,  30,  10,   0,   0,  10,  30,  20 ]\n    ],\n\n    'ke': [ # King (end game)\n        [ -50, -40, -30, -20, -20, -30, -40, -50 ],\n        [ -30, -20, -10,   0,   0, -10, -20, -30 ],\n        [ -30, -10,  20,  30,  30,  20, -10, -30 ],\n        [ -30, -10,  30,  40,  40,  30, -10, -30 ],\n        [ -30, -10,  30,  40,  40,  30, -10, -30 ],\n        [ -30, -10,  20,  30,  30,  20, -10, -30 ],\n        [ -30, -30,   0,   0,   0,   0, -30, -30 ],\n        [ -50, -30, -30, -30, -30, -30, -30, -50 ]\n    ]\n}",
   "metadata": {
    "cell_id": "357ccc55-acda-40c7-8249-18a10f3c7c7f",
    "tags": [],
    "deepnote_to_be_reexecuted": false,
    "source_hash": "ce82ef98",
    "execution_start": 1642695153229,
    "execution_millis": 1,
    "deepnote_cell_type": "code"
   },
   "outputs": [],
   "execution_count": null
  },
  {
   "cell_type": "code",
   "source": "",
   "metadata": {
    "cell_id": "e132a26a-4129-4bce-a80b-e9eac24af0f2",
    "tags": [],
    "deepnote_cell_type": "code"
   },
   "outputs": [],
   "execution_count": null
  },
  {
   "cell_type": "markdown",
   "source": "<a style='text-decoration:none;line-height:16px;display:flex;color:#5B5B62;padding:10px;justify-content:end;' href='https://deepnote.com?utm_source=created-in-deepnote-cell&projectId=d6ce9acd-52c5-4422-904d-8424da19408b' target=\"_blank\">\n<img alt='Created in deepnote.com' style='display:inline;max-height:16px;margin:0px;margin-right:7.5px;' src='data:image/svg+xml;base64,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' > </img>\nCreated in <span style='font-weight:600;margin-left:4px;'>Deepnote</span></a>",
   "metadata": {
    "tags": [],
    "created_in_deepnote_cell": true,
    "deepnote_cell_type": "markdown"
   }
  }
 ],
 "nbformat": 4,
 "nbformat_minor": 2,
 "metadata": {
  "orig_nbformat": 2,
  "deepnote": {
   "is_reactive": false
  },
  "deepnote_notebook_id": "ab08550a-7f91-4dd1-99c5-57aff2f57481",
  "deepnote_execution_queue": []
 }
}