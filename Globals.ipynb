{
 "cells": [
  {
   "cell_type": "code",
   "execution_count": null,
   "metadata": {
    "cell_id": "00000-d180b7b4-02c4-412a-be8b-66c97115f3f8",
    "deepnote_cell_type": "code",
    "deepnote_output_heights": [
     2
    ],
    "deepnote_to_be_reexecuted": false,
    "execution_millis": 4,
    "execution_start": 1643654292361,
    "source_hash": "bd190a5a",
    "tags": []
   },
   "outputs": [],
   "source": [
    "from IPython.core.display import HTML, display\n",
    "display(HTML('<style>.container { width:100%; !important } </style>'))"
   ]
  },
  {
   "cell_type": "markdown",
   "metadata": {
    "cell_id": "00000-3f91735e-ed8d-46de-841d-598252485285",
    "deepnote_cell_type": "markdown",
    "tags": []
   },
   "source": [
    "# Global constants"
   ]
  },
  {
   "cell_type": "code",
   "execution_count": null,
   "metadata": {
    "cell_id": "00000-712451a2-7a7d-4025-99be-d9164422ff16",
    "deepnote_cell_type": "code",
    "deepnote_to_be_reexecuted": false,
    "execution_millis": 3,
    "execution_start": 1643654292366,
    "source_hash": "4287e7ac",
    "tags": []
   },
   "outputs": [],
   "source": [
    "class Globals:\n",
    "    pass"
   ]
  },
  {
   "cell_type": "markdown",
   "metadata": {
    "cell_id": "1f14d25d-ef8f-4417-8fdd-a842ef9b5e05",
    "deepnote_cell_type": "markdown",
    "tags": []
   },
   "source": [
    "#### Globals.MAX_EVALUATION_SCORE\n",
    "A score that is higher than any achievable score from an evaluation. Minimax and alpha-beta start with this score but negative, so that the score that comes after is guaranteed to be the new best score (otherwise, a score that is not associated with any move would be the best score)."
   ]
  },
  {
   "cell_type": "code",
   "execution_count": null,
   "metadata": {
    "cell_id": "00001-08cb20aa-6fcb-4c4f-a93c-faba3576542f",
    "deepnote_cell_type": "code",
    "deepnote_to_be_reexecuted": false,
    "execution_millis": 0,
    "execution_start": 1643654292415,
    "source_hash": "ca5cd93f",
    "tags": []
   },
   "outputs": [],
   "source": [
    "Globals.MAX_EVALUATION_SCORE = 100_000_000"
   ]
  },
  {
   "cell_type": "markdown",
   "metadata": {
    "cell_id": "ab08f610-d7d1-4d67-baaa-478ee4eb54f4",
    "deepnote_cell_type": "markdown",
    "tags": []
   },
   "source": [
    "#### Globals.EVALUATION_SCORE_CHECKMATE\n",
    "The score for a move that creates a checkmate situation. Such a move should always be chosen if on the winning side and should always be avoided if on the losing side, and the score should therefore be higher than that of any other type of move."
   ]
  },
  {
   "cell_type": "code",
   "execution_count": null,
   "metadata": {
    "cell_id": "e64ac56b-6bdc-47df-ad7e-f13b983658b0",
    "deepnote_cell_type": "code",
    "deepnote_to_be_reexecuted": false,
    "execution_millis": 959727844,
    "execution_start": 1643654292416,
    "source_hash": "bffb73b4",
    "tags": []
   },
   "outputs": [],
   "source": [
    "Globals.EVALUATION_SCORE_CHECKMATE = 10_000_000"
   ]
  },
  {
   "cell_type": "markdown",
   "metadata": {
    "cell_id": "dbc60423-2153-4ff9-ae30-6f99651b85eb",
    "deepnote_cell_type": "markdown",
    "tags": []
   },
   "source": [
    "#### Globals.EVALUATION_SCORE_ENDGAME\n",
    "The score for a move that creates a guaranteed win or loss as defined in the endgame tablebase. Such a move should always be chosen if on the winning side and should always be avoided if on the losing side, except if a checkmate is also possible. While a guaranteed win is theoretically just as good as a checkmate (under the assumption that the 50-move rule is disabled, which is the case by default), a checkmate gets the win faster and is therefore preferable."
   ]
  },
  {
   "cell_type": "code",
   "execution_count": null,
   "metadata": {
    "cell_id": "80330dd3-e773-4b68-9db4-de9913ae65fb",
    "deepnote_cell_type": "code",
    "deepnote_to_be_reexecuted": false,
    "execution_millis": 959586389,
    "execution_start": 1643654292422,
    "source_hash": "a56e32ac",
    "tags": []
   },
   "outputs": [],
   "source": [
    "Globals.EVALUATION_SCORE_ENDGAME = 1_000_000"
   ]
  },
  {
   "cell_type": "markdown",
   "metadata": {
    "cell_id": "7a56ee61-8cc3-4b0e-bcc7-1f0d22a036c2",
    "deepnote_cell_type": "markdown",
    "tags": []
   },
   "source": [
    "#### Globals.EVALUATION_SCORE_DRAW\n",
    "The score for when a game ends in a draw. This is advantageous if a player is in a losing position and disadvantageous if they're in a winning position. In any case, it is less significant than a checkmate or a guaranteed win or loss."
   ]
  },
  {
   "cell_type": "code",
   "execution_count": null,
   "metadata": {
    "cell_id": "e84a6fdf-640d-4e99-aa4e-d96c52c6401b",
    "deepnote_cell_type": "code",
    "deepnote_to_be_reexecuted": false,
    "execution_millis": 959532411,
    "execution_start": 1643654292459,
    "source_hash": "3461fb21",
    "tags": []
   },
   "outputs": [],
   "source": [
    "Globals.EVALUATION_SCORE_DRAW = 500_000"
   ]
  },
  {
   "cell_type": "markdown",
   "metadata": {
    "cell_id": "39888146-6393-43be-9d6b-ec199ad9764f",
    "deepnote_cell_type": "markdown",
    "tags": []
   },
   "source": [
    "#### Globals.PIECE_VALUES\n",
    "The piece values for all chess pieces as defined by Tomasz Michniewski (https://www.chessprogramming.org/Simplified_Evaluation_Function). <br>\n",
    "These values represent what each chess piece is worth and are based on rules that are defined on the web page linked above. They are used to evaluate attacks and promotions, as well as to determine which player is in a winning position."
   ]
  },
  {
   "cell_type": "code",
   "execution_count": null,
   "metadata": {
    "cell_id": "cf7ea31e-b5e4-45d7-a6fd-0aae6b710d67",
    "deepnote_cell_type": "code",
    "deepnote_to_be_reexecuted": false,
    "execution_millis": 959506780,
    "execution_start": 1643654292460,
    "source_hash": "c6185dff",
    "tags": []
   },
   "outputs": [],
   "source": [
    "Globals.PIECE_VALUES = {\n",
    "    'p': 100,   # Pawns\n",
    "    'n': 320,   # Knights\n",
    "    'b': 330,   # Bishops\n",
    "    'r': 500,   # Rooks\n",
    "    'q': 900,   # Queen\n",
    "    'k': 20000  # King\n",
    "}"
   ]
  },
  {
   "cell_type": "markdown",
   "metadata": {
    "cell_id": "0a3a7b64-7b50-4715-b4ce-fbdde3bc9c6f",
    "deepnote_cell_type": "markdown",
    "tags": []
   },
   "source": [
    "#### Globals.PIECE_SQUARE_TABLES\n",
    "The piece square tables for all chess pieces as defined by Tomasz Michniewski (https://www.chessprogramming.org/Simplified_Evaluation_Function). <br>\n",
    "These tables contain a positional score for each position on the chess board for each piece type. This score represents how good a certain position is for the chess piece, with high scores being advantageous and low scores being disadvantageous. The argumentation for the values in these tables can be found on the web page linked above. These tables are used to evaluate positional advantages, castling and promotions, as well as to determine which player is in a winning position."
   ]
  },
  {
   "cell_type": "code",
   "execution_count": null,
   "metadata": {
    "cell_id": "357ccc55-acda-40c7-8249-18a10f3c7c7f",
    "deepnote_cell_type": "code",
    "deepnote_to_be_reexecuted": false,
    "execution_millis": 24,
    "execution_start": 1643654292461,
    "source_hash": "ce82ef98",
    "tags": []
   },
   "outputs": [],
   "source": [
    "Globals.PIECE_SQUARE_TABLES = {\n",
    "    'p': [ # Pawns\n",
    "        [   0,   0,   0,   0,   0,   0,   0,   0 ],\n",
    "        [  50,  50,  50,  50,  50,  50,  50,  50 ],\n",
    "        [  10,  10,  20,  30,  30,  20,  10,  10 ],\n",
    "        [   5,   5,  10,  25,  25,  10,   5,   5 ],\n",
    "        [   0,   0,   0,  20,  20,   0,   0,   0 ],\n",
    "        [   5,  -5, -10,   0,   0, -10,  -5,   5 ],\n",
    "        [   5,  10,  10, -20, -20,  10,  10,   5 ],\n",
    "        [   0,   0,   0,   0,   0,   0,   0,   0 ]\n",
    "    ],\n",
    "\n",
    "    'n': [ # Knights\n",
    "        [ -50, -40, -30, -30, -30, -30, -40, -50 ],\n",
    "        [ -40, -20,   0,   0,   0,   0, -20, -40 ],\n",
    "        [ -30,   0,  10,  15,  15,  10,   0, -30 ],\n",
    "        [ -30,   5,  15,  20,  20,  15,   5, -30 ],\n",
    "        [ -30,   0,  15,  20,  20,  15,   0, -30 ],\n",
    "        [ -30,   5,  10,  15,  15,  10,   5, -30 ],\n",
    "        [ -40, -20,   0,   5,   5,   0, -20, -40 ],\n",
    "        [ -50, -40, -30, -30, -30, -30, -40, -50 ]\n",
    "    ],\n",
    "\n",
    "    'b': [ # Bishops\n",
    "        [ -20, -10, -10, -10, -10, -10, -10, -20 ],\n",
    "        [ -10,   0,   0,   0,   0,   0,   0, -10 ],\n",
    "        [ -10,   0,   5,  10,  10,   5,   0, -10 ],\n",
    "        [ -10,   5,   5,  10,  10,   5,   5, -10 ],\n",
    "        [ -10,   0,  10,  10,  10,  10,   0, -10 ],\n",
    "        [ -10,  10,  10,  10,  10,  10,  10, -10 ],\n",
    "        [ -10,   5,   0,   0,   0,   0,   5, -10 ],\n",
    "        [ -20, -10, -10, -10, -10, -10, -10, -20 ]\n",
    "    ],\n",
    "\n",
    "    'r': [ # Rooks\n",
    "        [   0,   0,   0,   0,   0,   0,   0,   0 ],\n",
    "        [   5,  10,  10,  10,  10,  10,  10,   5 ],\n",
    "        [  -5,   0,   0,   0,   0,   0,   0,  -5 ],\n",
    "        [  -5,   0,   0,   0,   0,   0,   0,  -5 ],\n",
    "        [  -5,   0,   0,   0,   0,   0,   0,  -5 ],\n",
    "        [  -5,   0,   0,   0,   0,   0,   0,  -5 ],\n",
    "        [  -5,   0,   0,   0,   0,   0,   0,  -5 ],\n",
    "        [   0,   0,   0,   5,   5,   0,   0,   0 ]\n",
    "    ],\n",
    "\n",
    "    'q': [ # Queen\n",
    "        [ -20, -10, -10,  -5,  -5, -10, -10, -20 ],\n",
    "        [ -10,   0,   0,   0,   0,   0,   0, -10 ],\n",
    "        [ -10,   0,   5,   5,   5,   5,   0, -10 ],\n",
    "        [  -5,   0,   5,   5,   5,   5,   0,  -5 ],\n",
    "        [   0,   0,   5,   5,   5,   5,   0,  -5 ],\n",
    "        [ -10,   5,   5,   5,   5,   5,   0, -10 ],\n",
    "        [ -10,   0,   5,   0,   0,   0,   0, -10 ],\n",
    "        [ -20, -10, -10,  -5,  -5, -10, -10, -20 ]\n",
    "    ],\n",
    "\n",
    "    'km': [ # King (middle game)\n",
    "        [ -30, -40, -40, -50, -50, -40, -40, -30 ],\n",
    "        [ -30, -40, -40, -50, -50, -40, -40, -30 ],\n",
    "        [ -30, -40, -40, -50, -50, -40, -40, -30 ],\n",
    "        [ -30, -40, -40, -50, -50, -40, -40, -30 ],\n",
    "        [ -20, -30, -30, -40, -40, -30, -30, -20 ],\n",
    "        [ -10, -20, -20, -20, -20, -20, -20, -10 ],\n",
    "        [  20,  20,   0,   0,   0,   0,  20,  20 ],\n",
    "        [  20,  30,  10,   0,   0,  10,  30,  20 ]\n",
    "    ],\n",
    "\n",
    "    'ke': [ # King (end game)\n",
    "        [ -50, -40, -30, -20, -20, -30, -40, -50 ],\n",
    "        [ -30, -20, -10,   0,   0, -10, -20, -30 ],\n",
    "        [ -30, -10,  20,  30,  30,  20, -10, -30 ],\n",
    "        [ -30, -10,  30,  40,  40,  30, -10, -30 ],\n",
    "        [ -30, -10,  30,  40,  40,  30, -10, -30 ],\n",
    "        [ -30, -10,  20,  30,  30,  20, -10, -30 ],\n",
    "        [ -30, -30,   0,   0,   0,   0, -30, -30 ],\n",
    "        [ -50, -30, -30, -30, -30, -30, -30, -50 ]\n",
    "    ]\n",
    "}"
   ]
  },
  {
   "cell_type": "markdown",
   "metadata": {
    "cell_id": "09a8efe4-1f22-4d4f-8379-f2dbb1502994",
    "deepnote_cell_type": "markdown",
    "tags": []
   },
   "source": [
    "#### Globals.CHESS_PROBLEMS\n",
    "A list of chess problems where the goal is for white to win in as few moves as possible. The search algorithms should find a valid list of moves, assuming the search depth is sufficient. Each chess problem is given an identifier that maps to the FEN code representing the board state at the start of the problem. <br>\n",
    "\n",
    "A list of sources is shown below:\n",
    "- [AJW : Abbott, Josephb William - English Chess Problems, 1876](https://www.yacpdb.org/#4),\n",
    "- [AF  : Abdurahmanović, Fadil - Die Schwalbe, Dec 1975 (36/1649)](https://www.yacpdb.org/#12),\n",
    "- [LE  : Lücke, Ernst - Die Schwalbe, Dec 1975 (1674)](https://www.yacpdb.org/#558894),\n",
    "- [MPN : Moutecidis, Pavlos N. - Die Schwalbe, Dec 1973 (1149v)](https://www.yacpdb.org/#558975),\n",
    "- [EK  : Erlinger, Konrad - Magyar Hirlap, 31 Jul 1930 (145)](https://www.yacpdb.org/#558980),\n",
    "- [GBE : Gedda, Bertil Einar - Schach-Echo, Apr 1978 (9575)](https://www.yacpdb.org/#558586),\n",
    "- [AD  : Abragam, David - Bulletin Ouvrier des Echecs, 1949](https://www.yacpdb.org/#17),\n",
    "- [BWS : B.W.S. - The Problemist, 1927](https://www.yacpdb.org/#1006)"
   ]
  },
  {
   "cell_type": "code",
   "execution_count": null,
   "metadata": {
    "cell_id": "e132a26a-4129-4bce-a80b-e9eac24af0f2",
    "deepnote_cell_type": "code",
    "deepnote_to_be_reexecuted": false,
    "execution_millis": 110002,
    "execution_start": 1643654292533,
    "source_hash": "b2959583",
    "tags": []
   },
   "outputs": [],
   "source": [
    "Globals.CHESS_PROBLEMS = {\n",
    "    'AJW' : '7n/3NR3/1P3p2/1p1kbN1B/1p6/1K6/6b1/1Q6',\n",
    "    'AF'  : '3KN3/2B2R2/6n1/8/4k2n/4p3/4B3/3R4',\n",
    "    'LE'  : '2N5/7B/3R4/Rb2k1p1/3rpr2/2B5/1NP2P1Q/4K3',\n",
    "    'EK'  : '8/8/5p2/5p2/2K5/2R2P2/2R2PN1/5Nk1',\n",
    "    'GBE' : '5QB1/p4p2/R7/3P4/NN3p2/1k3P2/R3P2p/K5br',\n",
    "    'AD'  : '8/3k1P2/1K3B2/3B4/8/8/8/8',\n",
    "    'BWS' : '1r2k3/2Q3P1/2p3Kb/6n1/8/8/8/8'\n",
    "}"
   ]
  },
  {
   "cell_type": "markdown",
   "metadata": {
    "cell_id": "e0f8a5f8-582f-444c-9803-468961723ac2",
    "deepnote_cell_type": "markdown",
    "tags": []
   },
   "source": [
    "#### Globals.CHESS_PROBLEM_MOVE_COUNT\n",
    "The amount of moves it takes to solve each chess problem. This is the search depth that should be provided to the algorithm(s) in order to allow them to find such a solution."
   ]
  },
  {
   "cell_type": "code",
   "execution_count": null,
   "metadata": {
    "cell_id": "baf2314a-f8ea-4049-b1d9-c6579720c950",
    "deepnote_cell_type": "code",
    "deepnote_to_be_reexecuted": false,
    "execution_start": 1643654292534,
    "source_hash": "50d0024b",
    "tags": []
   },
   "outputs": [],
   "source": [
    "Globals.CHESS_PROBLEM_MOVE_COUNT = {\n",
    "    'AJW' : 3,\n",
    "    'AF'  : 3,\n",
    "    'LE'  : 5,\n",
    "    'EK'  : 7,\n",
    "    'GBE' : 8,\n",
    "    'AD'  : 3,\n",
    "    'BWS' : 3\n",
    "}"
   ]
  },
  {
   "cell_type": "markdown",
   "metadata": {
    "created_in_deepnote_cell": true,
    "deepnote_cell_type": "markdown",
    "tags": []
   },
   "source": [
    "<a style='text-decoration:none;line-height:16px;display:flex;color:#5B5B62;padding:10px;justify-content:end;' href='https://deepnote.com?utm_source=created-in-deepnote-cell&projectId=d6ce9acd-52c5-4422-904d-8424da19408b' target=\"_blank\">\n",
    "<img alt='Created in deepnote.com' style='display:inline;max-height:16px;margin:0px;margin-right:7.5px;' src='data:image/svg+xml;base64,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' > </img>\n",
    "Created in <span style='font-weight:600;margin-left:4px;'>Deepnote</span></a>"
   ]
  }
 ],
 "metadata": {
  "deepnote": {
   "is_reactive": false
  },
  "deepnote_execution_queue": [],
  "deepnote_notebook_id": "ab08550a-7f91-4dd1-99c5-57aff2f57481",
  "kernelspec": {
   "display_name": "Python 3 (ipykernel)",
   "language": "python",
   "name": "python3"
  },
  "language_info": {
   "codemirror_mode": {
    "name": "ipython",
    "version": 3
   },
   "file_extension": ".py",
   "mimetype": "text/x-python",
   "name": "python",
   "nbconvert_exporter": "python",
   "pygments_lexer": "ipython3",
   "version": "3.9.4"
  }
 },
 "nbformat": 4,
 "nbformat_minor": 2
}
