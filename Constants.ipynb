{
 "cells": [
  {
   "cell_type": "code",
   "metadata": {
    "tags": [],
    "cell_id": "00000-d180b7b4-02c4-412a-be8b-66c97115f3f8",
    "deepnote_cell_type": "code"
   },
   "source": "from IPython.core.display import HTML, display\ndisplay(HTML('<style>.container { width:100%; !important } </style>'))",
   "execution_count": null,
   "outputs": []
  },
  {
   "cell_type": "markdown",
   "source": "### Constants\nThis section initializes the piece_values and piece_square_tables, required by the different algorithms. <br>\nThis section is essential for any action including moves, pieces or boards. Which are all actions!",
   "metadata": {
    "tags": [],
    "cell_id": "00000-3f91735e-ed8d-46de-841d-598252485285",
    "deepnote_cell_type": "markdown"
   }
  },
  {
   "cell_type": "code",
   "metadata": {
    "tags": [],
    "cell_id": "00000-712451a2-7a7d-4025-99be-d9164422ff16",
    "deepnote_to_be_reexecuted": false,
    "source_hash": "8ad4f78e",
    "execution_start": 1637933584559,
    "execution_millis": 76,
    "deepnote_cell_type": "code"
   },
   "source": "# A score that is higher than any achievable score from an evaluation. Minimax and alphabeta start with this score but negative,\n# so that the score that comes after is guaranteed to be the new best score (otherwise, a score that is not associated with\n# any move would be the best score).\nmax_evaluation_score = 100_000_000\n\n# The score for a move that creates a checkmate - such a move should always be chosen if on the winning side and should\n# always be avoided if on the losing side.\nevaluation_score_checkmate = 10_000_000\n\n# The score for a move that creates a guaranteed win or loss as defined in the endgame tablebase - such a move should\n# always be chosen if on the winning side and should always be avoided if on the losing side, except if a checkmate is also\n# available. While a guaranteed win is theoretically just as good as a checkmate, a checkmate gets the win faster and\n# is therefore preferable.\nevaluation_score_endgame = 1_000_000\n\n# The score for when a game ends in a draw. This is advantageous if a player is in a losing position and disadvantageous if they're\n# in a winning position. In any case, it is less significant than a checkmate or a guaranteed win or loss.\nevaluation_score_draw = 500_000\n\npiece_values = {\n    'p': 100,   # Pawns\n    'n': 320,   # Knights\n    'b': 330,   # Bishops\n    'r': 500,   # Rooks\n    'q': 900,   # Queen\n    'k': 20000  # King\n}\n\npiece_square_tables = {\n    'p': [ # Pawns\n        [   0,   0,   0,   0,   0,   0,   0,   0 ],\n        [  50,  50,  50,  50,  50,  50,  50,  50 ],\n        [  10,  10,  20,  30,  30,  20,  10,  10 ],\n        [   5,   5,  10,  25,  25,  10,   5,   5 ],\n        [   0,   0,   0,  20,  20,   0,   0,   0 ],\n        [   5,  -5, -10,   0,   0, -10,  -5,   5 ],\n        [   5,  10,  10, -20, -20,  10,  10,   5 ],\n        [   0,   0,   0,   0,   0,   0,   0,   0 ]\n    ],\n\n    'n': [ # Knights\n        [ -50, -40, -30, -30, -30, -30, -40, -50 ],\n        [ -40, -20,   0,   0,   0,   0, -20, -40 ],\n        [ -30,   0,  10,  15,  15,  10,   0, -30 ],\n        [ -30,   5,  15,  20,  20,  15,   5, -30 ],\n        [ -30,   0,  15,  20,  20,  15,   0, -30 ],\n        [ -30,   5,  10,  15,  15,  10,   5, -30 ],\n        [ -40, -20,   0,   5,   5,   0, -20, -40 ],\n        [ -50, -40, -30, -30, -30, -30, -40, -50 ]\n    ],\n\n    'b': [ # Bishops\n        [ -20, -10, -10, -10, -10, -10, -10, -20 ],\n        [ -10,   0,   0,   0,   0,   0,   0, -10 ],\n        [ -10,   0,   5,  10,  10,   5,   0, -10 ],\n        [ -10,   5,   5,  10,  10,   5,   5, -10 ],\n        [ -10,   0,  10,  10,  10,  10,   0, -10 ],\n        [ -10,  10,  10,  10,  10,  10,  10, -10 ],\n        [ -10,   5,   0,   0,   0,   0,   5, -10 ],\n        [ -20, -10, -10, -10, -10, -10, -10, -20 ]\n    ],\n\n    'r': [ # Rooks\n        [   0,   0,   0,   0,   0,   0,   0,   0 ],\n        [   5,  10,  10,  10,  10,  10,  10,   5 ],\n        [  -5,   0,   0,   0,   0,   0,   0,  -5 ],\n        [  -5,   0,   0,   0,   0,   0,   0,  -5 ],\n        [  -5,   0,   0,   0,   0,   0,   0,  -5 ],\n        [  -5,   0,   0,   0,   0,   0,   0,  -5 ],\n        [  -5,   0,   0,   0,   0,   0,   0,  -5 ],\n        [   0,   0,   0,   5,   5,   0,   0,   0 ]\n    ],\n\n    'q': [ # Queen\n        [ -20, -10, -10,  -5,  -5, -10, -10, -20 ],\n        [ -10,   0,   0,   0,   0,   0,   0, -10 ],\n        [ -10,   0,   5,   5,   5,   5,   0, -10 ],\n        [  -5,   0,   5,   5,   5,   5,   0,  -5 ],\n        [   0,   0,   5,   5,   5,   5,   0,  -5 ],\n        [ -10,   5,   5,   5,   5,   5,   0, -10 ],\n        [ -10,   0,   5,   0,   0,   0,   0, -10 ],\n        [ -20, -10, -10,  -5,  -5, -10, -10, -20 ]\n    ],\n\n    'km': [ # King (middle game)\n        [ -30, -40, -40, -50, -50, -40, -40, -30 ],\n        [ -30, -40, -40, -50, -50, -40, -40, -30 ],\n        [ -30, -40, -40, -50, -50, -40, -40, -30 ],\n        [ -30, -40, -40, -50, -50, -40, -40, -30 ],\n        [ -20, -30, -30, -40, -40, -30, -30, -20 ],\n        [ -10, -20, -20, -20, -20, -20, -20, -10 ],\n        [  20,  20,   0,   0,   0,   0,  20,  20 ],\n        [  20,  30,  10,   0,   0,  10,  30,  20 ]\n    ],\n\n    'ke': [ # King (end game)\n        [ -50, -40, -30, -20, -20, -30, -40, -50 ],\n        [ -30, -20, -10,   0,   0, -10, -20, -30 ],\n        [ -30, -10,  20,  30,  30,  20, -10, -30 ],\n        [ -30, -10,  30,  40,  40,  30, -10, -30 ],\n        [ -30, -10,  30,  40,  40,  30, -10, -30 ],\n        [ -30, -10,  20,  30,  30,  20, -10, -30 ],\n        [ -30, -30,   0,   0,   0,   0, -30, -30 ],\n        [ -50, -30, -30, -30, -30, -30, -30, -50 ]\n    ]\n}",
   "execution_count": null,
   "outputs": []
  },
  {
   "cell_type": "code",
   "metadata": {
    "tags": [],
    "cell_id": "00001-08cb20aa-6fcb-4c4f-a93c-faba3576542f",
    "deepnote_to_be_reexecuted": false,
    "source_hash": "b623e53d",
    "execution_start": 1637933584666,
    "deepnote_cell_type": "code"
   },
   "source": "",
   "execution_count": null,
   "outputs": []
  },
  {
   "cell_type": "markdown",
   "source": "<a style='text-decoration:none;line-height:16px;display:flex;color:#5B5B62;padding:10px;justify-content:end;' href='https://deepnote.com?utm_source=created-in-deepnote-cell&projectId=d6ce9acd-52c5-4422-904d-8424da19408b' target=\"_blank\">\n<img alt='Created in deepnote.com' style='display:inline;max-height:16px;margin:0px;margin-right:7.5px;' src='data:image/svg+xml;base64,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' > </img>\nCreated in <span style='font-weight:600;margin-left:4px;'>Deepnote</span></a>",
   "metadata": {
    "tags": [],
    "created_in_deepnote_cell": true,
    "deepnote_cell_type": "markdown"
   }
  }
 ],
 "nbformat": 4,
 "nbformat_minor": 2,
 "metadata": {
  "orig_nbformat": 2,
  "deepnote": {
   "is_reactive": false
  },
  "deepnote_notebook_id": "ab08550a-7f91-4dd1-99c5-57aff2f57481",
  "deepnote_execution_queue": []
 }
}