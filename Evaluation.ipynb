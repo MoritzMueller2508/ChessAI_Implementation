{
 "cells": [
  {
   "cell_type": "code",
   "execution_count": null,
   "metadata": {
    "cell_id": "00000-7f78fe80-5262-4c05-a128-0e8027c4cc89",
    "deepnote_app_coordinates": {
     "h": 5,
     "w": 12,
     "x": 0,
     "y": null
    },
    "deepnote_cell_height": 116.75,
    "deepnote_cell_type": "code",
    "deepnote_output_heights": [
     2
    ],
    "deepnote_to_be_reexecuted": false,
    "execution_millis": 49,
    "execution_start": 1653034531330,
    "source_hash": "bd190a5a",
    "tags": []
   },
   "outputs": [
    {
     "data": {
      "text/html": [
       "<style>.container { width:100%; !important } </style>"
      ],
      "text/plain": [
       "<IPython.core.display.HTML object>"
      ]
     },
     "metadata": {},
     "output_type": "display_data"
    }
   ],
   "source": [
    "from IPython.core.display import HTML, display\n",
    "display(HTML('<style>.container { width:100%; !important } </style>'))"
   ]
  },
  {
   "cell_type": "markdown",
   "metadata": {
    "cell_id": "d9223f6df0624b1b94d197601ffd90ea",
    "deepnote_app_coordinates": {
     "h": 5,
     "w": 12,
     "x": 0,
     "y": 0
    },
    "deepnote_cell_height": 81.83332824707031,
    "deepnote_cell_type": "markdown",
    "tags": []
   },
   "source": [
    "# Board Evaluation Functions"
   ]
  },
  {
   "cell_type": "markdown",
   "metadata": {
    "cell_id": "49d647d169b849a08c25b5b2e7d9ae25",
    "deepnote_app_coordinates": {
     "h": 5,
     "w": 12,
     "x": 0,
     "y": 0
    },
    "deepnote_cell_height": 61.83332824707031,
    "deepnote_cell_type": "markdown",
    "tags": []
   },
   "source": [
    "### Dependencies"
   ]
  },
  {
   "cell_type": "code",
   "execution_count": null,
   "metadata": {
    "cell_id": "00001-8cd564df-7c0b-4f79-b7eb-a0e340d57380",
    "deepnote_app_coordinates": {
     "h": 5,
     "w": 12,
     "x": 0,
     "y": 6
    },
    "deepnote_cell_height": 170.8333282470703,
    "deepnote_cell_type": "code",
    "deepnote_output_heights": [
     null,
     2,
     null,
     2
    ],
    "deepnote_to_be_reexecuted": false,
    "execution_millis": 444,
    "execution_start": 1653034531373,
    "output_cleared": true,
    "source_hash": "152dc3c7",
    "tags": []
   },
   "outputs": [],
   "source": [
    "import chess\n",
    "import chess.polyglot\n",
    "import chess.gaviota\n",
    "\n",
    "import import_ipynb\n",
    "from Globals import Globals"
   ]
  },
  {
   "cell_type": "markdown",
   "metadata": {
    "cell_id": "00001-9141f584-3492-4e8f-92c6-5e34f4f0aa49",
    "deepnote_app_coordinates": {
     "h": 5,
     "w": 12,
     "x": 0,
     "y": 12
    },
    "deepnote_cell_height": 920.8333129882812,
    "deepnote_cell_type": "markdown",
    "tags": []
   },
   "source": [
    "<a id= 'EvaluateMove'> </a>\n",
    "#### chess.Board.evaluate_move\n",
    "Calculates the score of a move on a given board state. A high score represents a good move and a low score represents a bad move. The evaluation is performed over multiple phases, which account for game overs, endgame tablebase information, attacks (including en passant), positional changes, castling and promotions. Note that this score only reflects the move, not the overall state of the board. If the player making the move is in a disadvantageous position, but the chosen move makes the position less disadvantageous, the move score is positive.\n",
    "\n",
    "This function is iterative, meaning that one can evaluate multiple moves back-to-back to retrieve a combined score of all moves in that sequence.\n",
    "\n",
    "This implements the $\\texttt{heuristic}$ function as described in [Introduction.ipynb](Introduction.ipynb#Heuristics). The parameters from this function are represented as follows:\n",
    "* $\\texttt{s}$: `self`, as the function is a member of the `chess.Board` class, which represents the chess board state.\n",
    "* $\\texttt{m}$: `move`.\n",
    "* $\\texttt{p}$: `self.turn`.\n",
    "* $\\texttt{o}$: `is_opponent_multiplier`, which is $-1$ if `is_opponent = True`, $1$ otherwise.\n",
    "\n",
    "###### __<u>Arguments</u>__\n",
    "``use_heuristic (bool):``  \n",
    "Whether or not the heuristic for evaluating the chess board should be used. Chess problems don't need this heuristic. If the heuristic is disabled, only moves that result in a checkmate or draw are given a score.  \n",
    "\n",
    "``is_opponent (bool):``  \n",
    "Whether the move is made by the opponent (`True`) or not (`False`).\n",
    "\n",
    "``prev_score (int):``  \n",
    "The combined score of the previous evaluations in the search. The move's score is added to this value to calculate the total score.\n",
    "\n",
    "``depth (int):``  \n",
    "The remaining depth of the search, i.e. how many plies the search should still look into the future.  \n",
    "\n",
    "``move (chess.Move):``  \n",
    "The move that should be evaluated.\n",
    "\n",
    "``endgame_tablebase (chess.gaviota.PythonTablebase):``  \n",
    "The endgame tablebase attached to the game, which serves as a shortcut for ideal moves in the endgame.\n",
    "\n",
    "###### __<u>Returns _(int, bool)_</u>__\n",
    "- The total score (previous move scores + new move score).\n",
    "- Whether or not the endgame tablebases were used to find the move."
   ]
  },
  {
   "cell_type": "code",
   "execution_count": null,
   "metadata": {
    "cell_id": "00000-b6840b19-9c62-457c-812a-489602d86c35",
    "deepnote_app_coordinates": {
     "h": 5,
     "w": 12,
     "x": 0,
     "y": 18
    },
    "deepnote_cell_height": 872.8333129882812,
    "deepnote_cell_type": "code",
    "deepnote_to_be_reexecuted": false,
    "execution_millis": 14666748525,
    "execution_start": 1653034531833,
    "source_hash": "83321ced",
    "tags": []
   },
   "outputs": [],
   "source": [
    "def evaluate_move(\n",
    "    self,\n",
    "    use_heuristic: bool,\n",
    "    is_opponent: bool,\n",
    "    prev_score: int,\n",
    "    depth: int,\n",
    "    move: chess.Move,\n",
    "    endgame_tablebase: chess.gaviota.PythonTablebase\n",
    ") -> (int, bool):\n",
    "\n",
    "    color = self.turn\n",
    "    is_opponent_multiplier = -1 if is_opponent else 1\n",
    "\n",
    "    # Handle ending the game (draw = neutral, win = highest score, loss = lowest score)\n",
    "    game_ended, winner = self.evaluate_game_end(move)\n",
    "    if game_ended:\n",
    "        if winner is None:\n",
    "            draw_score = -Globals.EVALUATION_SCORE_DRAW if self.is_winning(color) \\\n",
    "                    else Globals.EVALUATION_SCORE_DRAW\n",
    "            return draw_score * is_opponent_multiplier, False\n",
    "        return (Globals.EVALUATION_SCORE_CHECKMATE + depth) * is_opponent_multiplier \\\n",
    "                * (1 if winner == color else -1), False\n",
    "\n",
    "    # If the game hasn't ended and we don't use a chess board heuristic,\n",
    "    # the score doesn't matter\n",
    "    if not use_heuristic:\n",
    "        return 0, False\n",
    "\n",
    "    # Handle endgame tablebase\n",
    "    if self.check_endgame_tablebase and endgame_tablebase is not None:\n",
    "        endgame_tablebase_score = self.evaluate_endgame(move, endgame_tablebase)\n",
    "        if endgame_tablebase_score is not None:\n",
    "            return endgame_tablebase_score * is_opponent_multiplier, True\n",
    "\n",
    "    # If the game hasn't ended and doesn't have a guaranteed win/draw/loss\n",
    "    # from the endgame tablebase, evaluate the move normally\n",
    "    score_diff = self.evaluate_attack(move)\n",
    "    score_diff += self.evaluate_positions(color, move)\n",
    "    score_diff += self.evaluate_castling(color, move)\n",
    "    score_diff += self.evaluate_promotion(move)\n",
    "\n",
    "    return prev_score + (score_diff * is_opponent_multiplier), False\n",
    "\n",
    "chess.Board.evaluate_move = evaluate_move\n",
    "del evaluate_move"
   ]
  },
  {
   "cell_type": "markdown",
   "metadata": {
    "cell_id": "00004-7719091e-eb27-47db-be86-e7a6581ca6ca",
    "deepnote_app_coordinates": {
     "h": 5,
     "w": 12,
     "x": 0,
     "y": 24
    },
    "deepnote_cell_height": 270.6333312988281,
    "deepnote_cell_type": "markdown",
    "tags": []
   },
   "source": [
    "#### chess.Board.evaluate_game_end\n",
    "Finds if, after a given move, the chess game is over. If so, it also finds the winner of the game, or `None` if it's a draw.\n",
    "\n",
    "###### __<u>Arguments</u>__\n",
    "``move (chess.Move): ``  \n",
    "The move that should be checked for a game over.\n",
    "\n",
    "###### __<u>Returns _(bool, chess.Color)_</u>__\n",
    "- Whether or not the move lead to a game over.\n",
    "- The winning color if a game over occured, or `None` in case of a draw or if the game isn't over."
   ]
  },
  {
   "cell_type": "code",
   "execution_count": null,
   "metadata": {
    "cell_id": "00005-75c3c484-7f90-4a0e-b844-9105f16607e7",
    "deepnote_app_coordinates": {
     "h": 5,
     "w": 12,
     "x": 0,
     "y": 30
    },
    "deepnote_cell_height": 242.8333282470703,
    "deepnote_cell_type": "code",
    "deepnote_to_be_reexecuted": false,
    "execution_millis": 0,
    "execution_start": 1653034531870,
    "source_hash": "93d68cea",
    "tags": []
   },
   "outputs": [],
   "source": [
    "def evaluate_game_end(self, move: chess.Move) -> (bool, chess.Color):\n",
    "    self.push(move)\n",
    "    game_ended = self.is_game_over()\n",
    "    winner = None if self.outcome() is None else self.outcome().winner\n",
    "    self.pop()\n",
    "\n",
    "    return game_ended, winner\n",
    "\n",
    "chess.Board.evaluate_game_end = evaluate_game_end\n",
    "del evaluate_game_end"
   ]
  },
  {
   "cell_type": "markdown",
   "metadata": {
    "cell_id": "65a174ce-5bb4-44f9-a44e-85d9c64077cd",
    "deepnote_app_coordinates": {
     "h": 5,
     "w": 12,
     "x": 0,
     "y": 72
    },
    "deepnote_cell_height": 531.0333251953125,
    "deepnote_cell_type": "markdown",
    "tags": []
   },
   "source": [
    "#### chess.Board.evaluate_endgame\n",
    "Calculates a score based on the information in the endgame tablebases. This is based on the DTM (depth to mate) value, which lists the amount of half-moves until a forced mate. If this value is positive, the current side to move can win in that many half-moves. If the value is negative, the current side to move loses in that many half-moves (assuming perfect play by the opponent). If the value is zero, a draw is forced. The evaluation score is calculated as follows:\n",
    "- If the DTM value is positive, the score is a very high positive number minus the DTM value (the fewer half-moves to win the better).\n",
    "- If the DTM value is negative, the score is a very high negative number minus the DTM value (the more half-moves to lose the better, and since the DTM value is negative, the score is less negative for high DTM values).\n",
    "- If the DTM value is zero, the score is positive if the player is in a disadvantageous position and negative if the player is in an advantageous position.\n",
    "\n",
    "###### __<u>Arguments</u>__\n",
    "``move (chess.Move):``  \n",
    "The move that should be checked against the endgame tablebases.\n",
    "\n",
    "``endgame_tablebase (chess.gaviota.PythonTablebase):``  \n",
    "The endgame tablebase object attached to the game.\n",
    "\n",
    "###### __<u>Returns _(int)_</u>__\n",
    "The evaluation score if the endgame tablebases contained DTM information for the current board state (after the move is made), otherwise `None`."
   ]
  },
  {
   "cell_type": "code",
   "execution_count": null,
   "metadata": {
    "cell_id": "9ff7ff08-9cd0-40dc-8e4c-51ce16adef41",
    "deepnote_app_coordinates": {
     "h": 5,
     "w": 12,
     "x": 0,
     "y": 78
    },
    "deepnote_cell_height": 593.9500122070312,
    "deepnote_cell_type": "code",
    "deepnote_to_be_reexecuted": false,
    "execution_millis": 892,
    "execution_start": 1654167914752,
    "source_hash": "8ebdb8e2",
    "tags": []
   },
   "outputs": [],
   "source": [
    "def evaluate_endgame(\n",
    "    self,\n",
    "    move: chess.Move,\n",
    "    endgame_tablebase: chess.gaviota.PythonTablebase\n",
    ") -> int:\n",
    "\n",
    "    evaluation_score = 0\n",
    "    self.push(move)\n",
    "\n",
    "    try:\n",
    "        dtm_score = -endgame_tablebase.probe_dtm(self) # Negate because self.push(move) switched turn\n",
    "        if dtm_score > 0:\n",
    "            evaluation_score = Globals.EVALUATION_SCORE_ENDGAME - dtm_score\n",
    "        elif dtm_score < 0:\n",
    "            evaluation_score = -Globals.EVALUATION_SCORE_ENDGAME - dtm_score\n",
    "        else:\n",
    "            evaluation_score = -Globals.EVALUATION_SCORE_DRAW if self.is_winning(not self.turn) \\\n",
    "                    else Globals.EVALUATION_SCORE_DRAW\n",
    "    except KeyError:\n",
    "        evaluation_score = None\n",
    "\n",
    "    self.pop()\n",
    "    return evaluation_score\n",
    "\n",
    "chess.Board.evaluate_endgame = evaluate_endgame\n",
    "del evaluate_endgame"
   ]
  },
  {
   "cell_type": "markdown",
   "metadata": {
    "cell_id": "00006-cb52dc94-92ce-4b38-8e8e-ab248a001614",
    "deepnote_app_coordinates": {
     "h": 5,
     "w": 12,
     "x": 0,
     "y": 84
    },
    "deepnote_cell_height": 250.63333129882812,
    "deepnote_cell_type": "markdown",
    "tags": []
   },
   "source": [
    "#### chess.Board.evaluate_attack\n",
    "Calculates the move score associated with an attack (capture), which is the piece value of the opponent's attacked piece. If the move is not an attack, this score is 0.\n",
    "\n",
    "###### __<u>Arguments</u>__\n",
    "``move (chess.Move):``  \n",
    "The move that should be checked for an attack.\n",
    "\n",
    "###### __<u>Returns _(int)_</u>__\n",
    "The move score associated with the attack."
   ]
  },
  {
   "cell_type": "code",
   "execution_count": null,
   "metadata": {
    "cell_id": "00005-8249b4bd-fa29-4334-b853-9fd8e8d61778",
    "deepnote_app_coordinates": {
     "h": 5,
     "w": 12,
     "x": 0,
     "y": 90
    },
    "deepnote_cell_height": 395.83331298828125,
    "deepnote_cell_type": "code",
    "deepnote_to_be_reexecuted": false,
    "execution_millis": 944,
    "execution_start": 1654462685826,
    "output_cleared": true,
    "source_hash": "78f17f37",
    "tags": []
   },
   "outputs": [],
   "source": [
    "def evaluate_attack(self, move: chess.Move) -> int:\n",
    "    if self.is_en_passant(move):\n",
    "        opposite_color = not self.piece_at(move.from_square).color\n",
    "        to_piece = chess.Piece(chess.PAWN, opposite_color)\n",
    "    else:\n",
    "        to_piece = self.piece_at(move.to_square)\n",
    "        \n",
    "    # No need to check if the piece is of the opposite color.\n",
    "    # Attacking one's own color is not a legal move.\n",
    "    if to_piece is not None:\n",
    "        return self.get_piece_value(to_piece.piece_type)\n",
    "    return 0\n",
    "\n",
    "chess.Board.evaluate_attack = evaluate_attack\n",
    "del evaluate_attack"
   ]
  },
  {
   "cell_type": "markdown",
   "metadata": {
    "cell_id": "00008-fcaed69d-9531-4ff1-b985-65e764b4f2e1",
    "deepnote_app_coordinates": {
     "h": 5,
     "w": 12,
     "x": 0,
     "y": 96
    },
    "deepnote_cell_height": 309.433349609375,
    "deepnote_cell_type": "markdown",
    "tags": []
   },
   "source": [
    "#### chess.Board.evaluate_positions\n",
    "Calculates the move score associated with the \"from\" and \"to\" positions of a move. This is the \"to\" score minus the \"from\" score, each of which is retrieved from the piece square table of the corresponding piece.\n",
    "\n",
    "###### __<u>Arguments</u>__\n",
    "``color (chess.Color):``  \n",
    "The color of the player who makes the move. \n",
    "\n",
    "``move (chess.Move):``  \n",
    "The move of which the positions should be evaluated.\n",
    "\n",
    "###### __<u>Returns _(int)_</u>__\n",
    "The move score associated with the positions."
   ]
  },
  {
   "cell_type": "code",
   "execution_count": null,
   "metadata": {
    "cell_id": "00006-31854a4a-3fbf-48d5-9d3d-414dc6887c65",
    "deepnote_app_coordinates": {
     "h": 5,
     "w": 12,
     "x": 0,
     "y": 102
    },
    "deepnote_cell_height": 314.83331298828125,
    "deepnote_cell_type": "code",
    "deepnote_to_be_reexecuted": false,
    "execution_millis": 0,
    "execution_start": 1653034531914,
    "output_cleared": true,
    "source_hash": "6c68559f",
    "tags": []
   },
   "outputs": [],
   "source": [
    "def evaluate_positions(self, color: chess.Color, move: chess.Move) -> int:\n",
    "    from_piece = self.piece_at(move.from_square)\n",
    "    from_piece_square_table_key = self.get_piece_square_table_key(from_piece.piece_type)\n",
    "    to_piece_type = from_piece.piece_type if move.promotion is None else move.promotion\n",
    "    to_piece_square_table_key = self.get_piece_square_table_key(to_piece_type)\n",
    "\n",
    "    from_score = self.get_positional_score(color,\n",
    "            from_piece_square_table_key, move.from_square)\n",
    "    to_score = self.get_positional_score(color,\n",
    "            to_piece_square_table_key, move.to_square)\n",
    "    return to_score - from_score\n",
    "\n",
    "chess.Board.evaluate_positions = evaluate_positions\n",
    "del evaluate_positions"
   ]
  },
  {
   "cell_type": "markdown",
   "metadata": {
    "cell_id": "370bf45092a543b29adaf79dcef3a6cb",
    "deepnote_app_coordinates": {
     "h": 5,
     "w": 12,
     "x": 0,
     "y": 0
    },
    "deepnote_cell_height": 345.83331298828125,
    "deepnote_cell_type": "markdown",
    "tags": []
   },
   "source": [
    "#### chess.Board.get_positional_score\n",
    "Finds the positional score of a piece, which is retrieved from the matching piece square table.\n",
    "\n",
    "###### __<u>Arguments</u>__\n",
    "``color (chess.Color):``  \n",
    "The color of the piece for which the positional score should be found.\n",
    "\n",
    "``piece_square_table_key (str):``  \n",
    "The dictionary key to index the piece square table of the piece's type.\n",
    "\n",
    "``square (chess.Square):``  \n",
    "The square (position) that the piece is located at.\n",
    "\n",
    "###### __<u>Returns _(int)_</u>__\n",
    "The positional score."
   ]
  },
  {
   "cell_type": "code",
   "execution_count": null,
   "metadata": {
    "cell_id": "16e2edf3a3e0443b95321198637d92b5",
    "deepnote_app_coordinates": {
     "h": 5,
     "w": 12,
     "x": 0,
     "y": 0
    },
    "deepnote_cell_height": 317.83331298828125,
    "deepnote_cell_type": "code",
    "tags": []
   },
   "outputs": [],
   "source": [
    "def get_positional_score(\n",
    "    self, \n",
    "    color: chess.Color, \n",
    "    piece_square_table_key: str, \n",
    "    square: chess.Square\n",
    ") -> int:\n",
    "\n",
    "    hor_index = square % 8\n",
    "    ver_index = 7 - square // 8 if color == chess.WHITE else square // 8\n",
    "    piece_square_table = Globals.PIECE_SQUARE_TABLES[piece_square_table_key]\n",
    "    piece_square_value = piece_square_table[ver_index][hor_index]\n",
    "    return piece_square_value\n",
    "\n",
    "chess.Board.get_positional_score = get_positional_score\n",
    "del get_positional_score"
   ]
  },
  {
   "cell_type": "markdown",
   "metadata": {
    "cell_id": "00014-71df59dd-4252-4fe5-9ec4-8ef321757033",
    "deepnote_app_coordinates": {
     "h": 5,
     "w": 12,
     "x": 0,
     "y": 108
    },
    "deepnote_cell_height": 309.433349609375,
    "deepnote_cell_type": "markdown",
    "tags": []
   },
   "source": [
    "#### chess.Board.evaluate_castling\n",
    "Calculates the move score associated with castling. This score is the change in the positional score of the rook, as the king's positional score is already handled by `chess.Board.evaluate_positions`. If the move does not involve castling, this score is 0.\n",
    "\n",
    "###### __<u>Arguments</u>__\n",
    "``color (chess.Color):``   \n",
    "The color of the player who makes the move.\n",
    "\n",
    "``move (chess.Move):``  \n",
    "The move for which castling should be evaluated.\n",
    "\n",
    "###### __<u>Returns _(int)_</u>__\n",
    "The move score associated with the castle."
   ]
  },
  {
   "cell_type": "code",
   "execution_count": null,
   "metadata": {
    "cell_id": "00008-97b7bb2c-c286-42ab-abf9-45ffba8c0212",
    "deepnote_app_coordinates": {
     "h": 5,
     "w": 12,
     "x": 0,
     "y": 114
    },
    "deepnote_cell_height": 260.83331298828125,
    "deepnote_cell_type": "code",
    "deepnote_to_be_reexecuted": false,
    "execution_millis": 1,
    "execution_start": 1653034531914,
    "source_hash": "99658e0c",
    "tags": []
   },
   "outputs": [],
   "source": [
    "def evaluate_castling(self, color: chess.Color, move: chess.Move) -> int:\n",
    "    if not self.is_castling(move):\n",
    "        return 0\n",
    "\n",
    "    old_square, new_square = self.find_castling_rook_squares(color, move)\n",
    "    old_score = self.get_positional_score(color, 'r', old_square)\n",
    "    new_score = self.get_positional_score(color, 'r', new_square)\n",
    "    return new_score - old_score\n",
    "\n",
    "chess.Board.evaluate_castling = evaluate_castling\n",
    "del evaluate_castling"
   ]
  },
  {
   "cell_type": "markdown",
   "metadata": {
    "cell_id": "00018-bcb4c62d-f699-4045-af5f-3c639361ee53",
    "deepnote_app_coordinates": {
     "h": 5,
     "w": 12,
     "x": 0,
     "y": 132
    },
    "deepnote_cell_height": 273.0333251953125,
    "deepnote_cell_type": "markdown",
    "tags": []
   },
   "source": [
    "#### chess.Board.evaluate_promotion\n",
    "Calculates the move score associated with a promotion, i.e. transforming a pawn into a queen, knight, rook or bishop. This score is defined as the piece value of the new piece minus the piece value of the pawn. If the move does not result in a promotion, this score is 0. The effect that a promotion has on the positional score is accounted for in `chess.Board.evaluate_positions`.\n",
    "\n",
    "###### __<u>Arguments</u>__\n",
    "``move (chess.Move):``  \n",
    "The move for which a promotion should be evaluated.\n",
    "\n",
    "###### __<u>Returns _(int)_</u>__\n",
    "The move score associated with the promotion."
   ]
  },
  {
   "cell_type": "code",
   "execution_count": null,
   "metadata": {
    "cell_id": "00012-cca2590b-8bf8-4c77-9cbe-56240ec545e6",
    "deepnote_app_coordinates": {
     "h": 5,
     "w": 12,
     "x": 0,
     "y": 138
    },
    "deepnote_cell_height": 260.83331298828125,
    "deepnote_cell_type": "code",
    "deepnote_to_be_reexecuted": false,
    "execution_millis": 3,
    "execution_start": 1653034531917,
    "owner_user_id": "1e489002-1d0e-4892-8dc4-49d215805343",
    "source_hash": "1357f055",
    "tags": []
   },
   "outputs": [],
   "source": [
    "def evaluate_promotion(self, move: chess.Move) -> int:\n",
    "    if move.promotion is None:\n",
    "        return 0\n",
    "\n",
    "    old_piece = self.piece_at(move.from_square)\n",
    "    old_piece_value = self.get_piece_value(old_piece.piece_type)\n",
    "    new_piece_value = self.get_piece_value(move.promotion)\n",
    "    return new_piece_value - old_piece_value\n",
    "\n",
    "chess.Board.evaluate_promotion = evaluate_promotion\n",
    "del evaluate_promotion"
   ]
  }
 ],
 "metadata": {
  "deepnote": {
   "is_reactive": false
  },
  "deepnote_app_layout": "article",
  "deepnote_execution_queue": [],
  "deepnote_notebook_id": "2a2a1b76-6401-4d4c-a13d-18f7c2aa1321",
  "kernelspec": {
   "display_name": "Python 3 (ipykernel)",
   "language": "python",
   "name": "python3"
  },
  "language_info": {
   "codemirror_mode": {
    "name": "ipython",
    "version": 3
   },
   "file_extension": ".py",
   "mimetype": "text/x-python",
   "name": "python",
   "nbconvert_exporter": "python",
   "pygments_lexer": "ipython3",
   "version": "3.9.12"
  }
 },
 "nbformat": 4,
 "nbformat_minor": 2
}
