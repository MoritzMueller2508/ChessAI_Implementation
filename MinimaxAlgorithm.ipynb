{
 "cells": [
  {
   "cell_type": "markdown",
   "source": "# Minimax search algorithm",
   "metadata": {
    "tags": [],
    "cell_id": "00001-c29ba798-cd7a-4e45-8422-6ee928df7b27",
    "deepnote_cell_type": "markdown"
   }
  },
  {
   "cell_type": "markdown",
   "source": "### Dependencies",
   "metadata": {
    "tags": [],
    "cell_id": "00001-dcc47b7a-49e6-4ca6-b283-cd23526a06c4",
    "deepnote_cell_type": "markdown"
   }
  },
  {
   "cell_type": "code",
   "metadata": {
    "tags": [],
    "cell_id": "00001-200438c0-dc12-44fb-acf6-57aa4144be49",
    "deepnote_to_be_reexecuted": false,
    "source_hash": "5fecc20b",
    "execution_start": 1637933599865,
    "execution_millis": 9196,
    "deepnote_cell_type": "code"
   },
   "source": "import chess\nimport random\n\nimport import_ipynb\nimport Game\nimport Util",
   "outputs": [
    {
     "name": "stdout",
     "text": "importing Jupyter notebook from Game.ipynb\nRequirement already satisfied: python-chess in /usr/local/lib/python3.7/site-packages (1.999)\nRequirement already satisfied: chess<2,>=1 in /usr/local/lib/python3.7/site-packages (from python-chess) (1.7.0)\n\u001b[33mWARNING: You are using pip version 20.1.1; however, version 21.3.1 is available.\nYou should consider upgrading via the '/usr/local/bin/python -m pip install --upgrade pip' command.\u001b[0m\nNote: you may need to restart the kernel to use updated packages.\nimporting Jupyter notebook from Util.ipynb\n",
     "output_type": "stream"
    }
   ],
   "execution_count": null
  },
  {
   "cell_type": "markdown",
   "source": "",
   "metadata": {
    "tags": [],
    "cell_id": "00001-5bea3114-21a2-46af-b6dc-5d1c2f33eb18",
    "deepnote_cell_type": "markdown"
   }
  },
  {
   "cell_type": "markdown",
   "source": "### get_best_move_minimax\nFinds the best move to make based on the minimax algorithm. This algorithm works as follows:\n- Iterate over all legal moves in the current position.\n- For each move, find the best possible score after making this move.\n    - This is done by calling the minimax function recursively: increasing the current iteration by 1 and switching turns.\n- Find the maximum (if it's the AI's turn) or the minimum (if it's the player's turn) score of all legal moves, alongside the move that was able to reach this optimized state. This is the move that the algorithm recommends.\n\nOptionally, the algorithm uses memoization, which is a type of caching. This works by mapping a board state, plus iteration details, to the corresponding score and move and storing it in a cache dictionary. If, during a later iteration, the same board state is reached on the same iteration, these values can be read from the cache.\n\n##### Member of class\n    chess.Board\n\n##### Arguments\n    use_cache: bool\n        Argument to decide if memoization should be used or not.\n    ai_turn : bool\n        Is the current turn of the AI to take?\n    iteration: int\n        The depth of the search (amount of moves currently looking ahead).\n    max_iterations: int\n        The maximum depth of the search.\n\n##### Returns\n    tuple(best_score, best_move)\n\n    best_score: int\n        The board score after making the recommended best move.\n    best_move: chess.Move\n        The recommended best move to make.\n\n##### Side effects\n    - If use_cache is true, the cache is constantly updated with different board states in combination with the best score and move.\n    - If the search is interrupted, the board may be in a different state than when the search started.",
   "metadata": {
    "tags": [],
    "cell_id": "00001-7a7c748f-d95c-4ec5-8bbb-309075e4fcb4",
    "deepnote_cell_type": "markdown"
   }
  },
  {
   "cell_type": "code",
   "metadata": {
    "tags": [],
    "cell_id": "00000-89802ca9-b1c9-46e5-ae87-9b8e860c2e24",
    "deepnote_to_be_reexecuted": false,
    "source_hash": "ec6b392e",
    "execution_start": 1637933609063,
    "execution_millis": 17,
    "deepnote_cell_type": "code"
   },
   "source": "minimax_cache = {}\n\ndef get_best_move_minimax(self, use_cache: bool, ai_turn: bool, iteration: int, max_iterations: int) -> (int, chess.Move):\n    if use_cache and (iteration, max_iterations, self.get_state_string()) in minimax_cache:\n        return minimax_cache[(iteration, max_iterations, self.get_state_string())]\n\n    result = self.get_search_result_if_finished(iteration, max_iterations)\n    if result is not None: return result\n\n    # Check additional moves using the minimax algorithm\n    best_score, best_move = 10000000 * (-1 if ai_turn else 1), None\n    for move in self.legal_moves:\n        self.push(move)\n        score_after_move, _ = self.get_best_move_minimax(use_cache, not ai_turn, iteration + 1, max_iterations)\n        if (ai_turn and score_after_move > best_score) or (not ai_turn and score_after_move < best_score):\n            best_score = score_after_move\n            best_move = move\n        self.pop()\n\n    if use_cache: minimax_cache[(iteration, max_iterations, self.get_state_string())] = best_score, best_move\n    return best_score, best_move\n\nchess.Board.get_best_move_minimax = get_best_move_minimax",
   "outputs": [],
   "execution_count": null
  },
  {
   "cell_type": "markdown",
   "source": "---\n<br>\n\n## make_move_minimax\n\nThis function gets the best possible move according to the minimax algorithm and pushes it onto the move stack.\n\n#### Arguments\n    board: chess.Board\n        The board to push the move to.\n#### Returns\n    N/A\n#### Side effects\n    - The best possible move is pushed to the move stack of the board.",
   "metadata": {
    "tags": [],
    "cell_id": "00004-e2bc0d01-d112-4903-958d-9cbc4466983d",
    "deepnote_cell_type": "markdown"
   }
  },
  {
   "cell_type": "code",
   "metadata": {
    "tags": [],
    "cell_id": "00003-917b88be-6d67-4d5c-aeac-7051f3c7e5fc",
    "deepnote_to_be_reexecuted": false,
    "source_hash": "f8eaada3",
    "execution_start": 1637933609103,
    "execution_millis": 1,
    "deepnote_cell_type": "code"
   },
   "source": "def make_move_minimax(board):\n    _, move = board.get_best_move_minimax(use_cache=True, ai_turn=True, iteration=0, max_iterations=3)\n    board.push(move)",
   "outputs": [],
   "execution_count": null
  },
  {
   "cell_type": "markdown",
   "source": "---\n<br>\n\n### Lets the user play a game that uses the minimax algorithm (with memoization) for the AI.",
   "metadata": {
    "tags": [],
    "cell_id": "00006-628d86a4-e4a1-4fa6-8274-529ed291b34c",
    "deepnote_cell_type": "markdown"
   }
  },
  {
   "cell_type": "code",
   "metadata": {
    "tags": [],
    "cell_id": "00001-3d24bbb7-cb58-46d8-a43f-4c0fe4f7bae8",
    "deepnote_to_be_reexecuted": false,
    "source_hash": "2250115d",
    "execution_start": 1637933609142,
    "execution_millis": 1383822586,
    "deepnote_cell_type": "code"
   },
   "source": "#game = Game.Gam2e(make_move_minimax)\n#game.play()",
   "outputs": [],
   "execution_count": null
  },
  {
   "cell_type": "code",
   "metadata": {
    "tags": [],
    "cell_id": "00005-06a12d41-2970-4344-b266-9f3783397ff9",
    "deepnote_to_be_reexecuted": false,
    "source_hash": "b623e53d",
    "execution_start": 1637933609209,
    "execution_millis": 1383822585,
    "deepnote_cell_type": "code"
   },
   "source": "",
   "outputs": [],
   "execution_count": null
  },
  {
   "cell_type": "markdown",
   "source": "<a style='text-decoration:none;line-height:16px;display:flex;color:#5B5B62;padding:10px;justify-content:end;' href='https://deepnote.com?utm_source=created-in-deepnote-cell&projectId=d6ce9acd-52c5-4422-904d-8424da19408b' target=\"_blank\">\n<img alt='Created in deepnote.com' style='display:inline;max-height:16px;margin:0px;margin-right:7.5px;' src='data:image/svg+xml;base64,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' > </img>\nCreated in <span style='font-weight:600;margin-left:4px;'>Deepnote</span></a>",
   "metadata": {
    "tags": [],
    "created_in_deepnote_cell": true,
    "deepnote_cell_type": "markdown"
   }
  }
 ],
 "nbformat": 4,
 "nbformat_minor": 2,
 "metadata": {
  "orig_nbformat": 2,
  "deepnote": {
   "is_reactive": false
  },
  "deepnote_notebook_id": "4b2bc438-db4f-4a2d-a41c-2db325d56891",
  "deepnote_execution_queue": []
 }
}