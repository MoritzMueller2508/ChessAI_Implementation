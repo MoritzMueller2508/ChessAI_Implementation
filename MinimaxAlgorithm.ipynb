{
 "cells": [
  {
   "cell_type": "code",
   "metadata": {
    "cell_id": "00000-2177f857-5779-403f-91bc-a18673125b8d",
    "tags": [],
    "deepnote_cell_type": "code",
    "deepnote_cell_height": 83.83332824707031
   },
   "source": "from IPython.core.display import HTML, display\ndisplay(HTML('<style>.container { width:100%; !important } </style>'))",
   "execution_count": null,
   "outputs": []
  },
  {
   "cell_type": "markdown",
   "source": "# Minimax search algorithm",
   "metadata": {
    "cell_id": "00001-c29ba798-cd7a-4e45-8422-6ee928df7b27",
    "tags": [],
    "deepnote_cell_type": "markdown",
    "deepnote_cell_height": 81.83332824707031
   }
  },
  {
   "cell_type": "markdown",
   "source": "### Dependencies",
   "metadata": {
    "cell_id": "00001-dcc47b7a-49e6-4ca6-b283-cd23526a06c4",
    "tags": [],
    "deepnote_cell_type": "markdown",
    "deepnote_cell_height": 61.83332824707031
   }
  },
  {
   "cell_type": "code",
   "metadata": {
    "cell_id": "00001-200438c0-dc12-44fb-acf6-57aa4144be49",
    "deepnote_to_be_reexecuted": false,
    "execution_millis": 616,
    "execution_start": 1641662542265,
    "output_cleared": true,
    "source_hash": "abbad2f6",
    "tags": [],
    "deepnote_cell_type": "code",
    "deepnote_cell_height": 188.8333282470703
   },
   "source": "import chess\nimport random\nfrom typing import Union\n\nimport import_ipynb\nimport Util\nfrom Globals import *",
   "execution_count": null,
   "outputs": []
  },
  {
   "cell_type": "markdown",
   "source": "#### chess.Board.get_best_move_minimax\nFinds the best move to make based on the minimax algorithm. This algorithm works as follows:\n- Iterate over all legal moves in the current position.\n- For each move, find the best possible score after making this move.\n    - This is done by calling the minimax function recursively: increasing the current iteration by 1 and switching turns.\n- Find the maximum (if it's the AI's turn) or the minimum (if it's the other player's/AI's turn) score of all legal moves, alongside the move that was able to reach this optimized state. This is the move that the algorithm recommends.\n\nOptionally, the algorithm uses memoization, which is a type of caching. This works by mapping a board state, plus iteration details, to the corresponding score and move and storing it in a cache dictionary. If, during a later iteration, the same board state is reached on the same iteration, these values can be read from the cache.\n\n__This function is implemented recursively.__\n\n###### <b><u>Arguments</u></b>\n__cache__ _(dict)_ : A cache dictionary if memoization is desired, or None if memoization should be disabled.  \n__use_heuristic__ _(bool)_ : Whether or not the heuristic for evaluating the chess board should be used. Chess problems don't need this heuristic.  \n__ai_turn__ _(bool)_ : Whether or not the current turn is of the AI that started the search. If this is the case, the score should be maximized. Otherwise, the score should be minimized.  \n__color__ _(chess.Color)_ : The color of the player whose turn it currently is.  \n__endgame_tablebase__ _(Union[chess.gaviota.NativeTablebase, chess.gaviota.PythonTablebase])_ : The endgame tablebase attached to the game, which serves as a shortcut for ideal moves in the endgame.  \n__iteration__ _(int)_ : The depth of the search (amount of moves currently looking ahead).  \n__max_iterations__ _(int)_ : The maximum depth of the search.  \n__last_eval_score__ _(int)_ : The score provided by the previous evaluation in the search. \n\n###### <b><u>Returns <i>(int, chess.Move, bool)</i></u></b>\n- The board score after making the recommended best move.\n- The recommended best move to make.\n- Whether or not the endgame library was used to find the move.\n\n###### <b><u>Side effects</u></b>\n- If a cache dictionary is provided, new values may be added to this dictionary.\n- If the search is interrupted, the board may be in a different state than when the search started.",
   "metadata": {
    "cell_id": "00001-7a7c748f-d95c-4ec5-8bbb-309075e4fcb4",
    "tags": [],
    "deepnote_cell_type": "markdown",
    "deepnote_cell_height": 803.63330078125
   }
  },
  {
   "cell_type": "code",
   "metadata": {
    "cell_id": "00000-89802ca9-b1c9-46e5-ae87-9b8e860c2e24",
    "deepnote_to_be_reexecuted": false,
    "execution_millis": 288,
    "execution_start": 1641396488427,
    "output_cleared": true,
    "source_hash": "53e9fa98",
    "tags": [],
    "deepnote_cell_type": "code",
    "deepnote_cell_height": 962.8333129882812
   },
   "source": "def get_best_move_minimax(\n    self,\n    cache: dict,\n    use_heuristic: bool,\n    ai_turn: bool,\n    color: chess.Color,\n    endgame_tablebase: Union[chess.gaviota.NativeTablebase, chess.gaviota.PythonTablebase],\n    iteration: int,\n    max_iterations: int,\n    last_eval_score: int\n) -> (int, chess.Move, bool):\n\n    if cache is not None and (iteration, self.get_state_string()) in cache:\n        return cache[(iteration, self.get_state_string())]\n\n    original_color = color if ai_turn else not color\n    result_score = self.get_search_result_if_finished(original_color, iteration, max_iterations, last_eval_score)\n    if result_score is not None:\n        return result_score, None, False\n\n    # Check additional moves using the minimax algorithm\n    best_score = Globals.MAX_EVALUATION_SCORE * (-1 if ai_turn else 1)\n    best_move = None\n    best_move_used_endgame = False\n    for move in self.legal_moves:\n        eval_score, used_endgame_anywhere = self.evaluate_move(use_heuristic, color, not ai_turn, last_eval_score,\n                                                               iteration, move, endgame_tablebase)\n        self.push(move)\n        \n        if self.is_game_over():\n            score_after_move = eval_score\n        else:\n            score_after_move, _, used_endgame = self.get_best_move_minimax(cache, use_heuristic, not ai_turn, not color, endgame_tablebase,\n                                                                           iteration + 1, max_iterations, eval_score)\n            used_endgame_anywhere = used_endgame_anywhere or used_endgame\n\n        self.pop()\n\n        if (ai_turn and score_after_move > best_score) or (not ai_turn and score_after_move < best_score):\n            best_score = score_after_move\n            best_move = move\n            best_move_used_endgame = used_endgame_anywhere\n\n    if cache is not None:\n        cache[(iteration, self.get_state_string())] = best_score, best_move, best_move_used_endgame\n\n    return best_score, best_move, best_move_used_endgame\n\nchess.Board.get_best_move_minimax = get_best_move_minimax\ndel get_best_move_minimax",
   "execution_count": null,
   "outputs": []
  },
  {
   "cell_type": "markdown",
   "source": "#### make_move_minimax\nFinds the best possible move according to the minimax algorithm and pushes it onto the move stack.\n\n###### <b><u>Arguments</u></b>\n__board__ _(chess.Board)_ : The board to push the move to.  \n__color__ _(chess.Color)_ : The color of the player that makes the move.  \n__search_depth__ _(int)_ : The iteration depth of the minimax search.  \n__endgame_tablebase__ _(Union[chess.gaviota.NativeTablebase, chess.gaviota.PythonTablebase])_ : The endgame tablebase attached to the game, which serves as a shortcut for ideal moves in the endgame.  \n__use_heuristic__ _(bool)_ : Whether or not the heuristic for evaluating the chess board should be used. Chess problems don't need this heuristic.\n\n###### <b><u>Returns <i>(int, chess.Move, bool)</i></u></b>\n- The evaluated score of the best possible move.\n- The best possible move that was found.\n- Whether or not the endgame library was used to find the move.\n\n###### <b><u>Side effects</u></b>\n- The best possible move is pushed to the move stack of the board.",
   "metadata": {
    "cell_id": "00004-e2bc0d01-d112-4903-958d-9cbc4466983d",
    "tags": [],
    "deepnote_cell_type": "markdown",
    "deepnote_cell_height": 447.433349609375
   }
  },
  {
   "cell_type": "code",
   "metadata": {
    "cell_id": "00003-917b88be-6d67-4d5c-aeac-7051f3c7e5fc",
    "deepnote_to_be_reexecuted": false,
    "execution_millis": 1,
    "execution_start": 1637933609103,
    "source_hash": "f8eaada3",
    "tags": [],
    "deepnote_cell_type": "code",
    "deepnote_cell_height": 422.83331298828125
   },
   "source": "def make_move_minimax(\n    board: chess.Board,\n    color: chess.Color,\n    search_depth: int,\n    endgame_tablebase: Union[chess.gaviota.NativeTablebase, chess.gaviota.PythonTablebase],\n    use_heuristic: bool\n) -> (int, chess.Move, bool):\n\n    score, move, used_endgame = board.get_best_move_minimax(\n        cache=None, \n        use_heuristic=use_heuristic,\n        ai_turn=True, \n        color=color, \n        endgame_tablebase=endgame_tablebase,\n        iteration=0, \n        max_iterations=search_depth, \n        last_eval_score=0 # The starting board score doesn't matter, it's evaluated by score difference\n    )\n    board.push(move)\n    return score, move, used_endgame",
   "execution_count": null,
   "outputs": []
  },
  {
   "cell_type": "markdown",
   "source": "#### make_move_minimax_memoization\nFinds the best possible move according to the minimax algorithm and pushes it onto the move stack. The algorithm is optimized using memoization (a type of caching).\n\n###### <b><u>Arguments</u></b>\n__board__ _(chess.Board)_ : The board to push the move to.  \n__color__ _(chess.Color)_ : The color of the player that makes the move.  \n__search_depth__ _(int)_ : The iteration depth of the minimax search.  \n__endgame_tablebase__ _(Union[chess.gaviota.NativeTablebase, chess.gaviota.PythonTablebase])_ : The endgame tablebase attached to the game, which serves as a shortcut for ideal moves in the endgame.  \n__use_heuristic__ _(bool)_ : Whether or not the heuristic for evaluating the chess board should be used. Chess problems don't need this heuristic.\n\n###### <b><u>Returns <i>(int, chess.Move, bool)</i></u></b>\n- The evaluated score of the best possible move.\n- The best possible move that was found.\n- Whether or not the endgame library was used to find the move.\n\n###### <b><u>Side effects</u></b>\n- The best possible move is pushed to the move stack of the board.",
   "metadata": {
    "cell_id": "00008-f20586a7-8b85-4b84-9634-38b7a3128476",
    "tags": [],
    "deepnote_cell_type": "markdown",
    "deepnote_cell_height": 447.433349609375
   }
  },
  {
   "cell_type": "code",
   "metadata": {
    "cell_id": "00008-e316cbb7-808a-476b-85b6-dbe3f6805f0f",
    "tags": [],
    "deepnote_cell_type": "code",
    "deepnote_cell_height": 407.83331298828125
   },
   "source": "def make_move_minimax_memoization(\n    board: chess.Board,\n    color: chess.Color,\n    search_depth: int,\n    endgame_tablebase: Union[chess.gaviota.NativeTablebase, chess.gaviota.PythonTablebase],\n    use_heuristic: bool,\n) -> (int, chess.Move, bool):\n\n    score, move, used_endgame = board.get_best_move_minimax(\n        cache={}, \n        use_heuristic=use_heuristic,\n        ai_turn=True, \n        color=color, \n        endgame_tablebase=endgame_tablebase,\n        iteration=0, \n        max_iterations=search_depth, \n        last_eval_score=0 # The starting board score doesn't matter, it's evaluated by score difference\n    )\n    board.push(move)\n    return score, move, used_endgame",
   "execution_count": null,
   "outputs": []
  },
  {
   "cell_type": "markdown",
   "source": "<a style='text-decoration:none;line-height:16px;display:flex;color:#5B5B62;padding:10px;justify-content:end;' href='https://deepnote.com?utm_source=created-in-deepnote-cell&projectId=d6ce9acd-52c5-4422-904d-8424da19408b' target=\"_blank\">\n<img alt='Created in deepnote.com' style='display:inline;max-height:16px;margin:0px;margin-right:7.5px;' src='data:image/svg+xml;base64,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' > </img>\nCreated in <span style='font-weight:600;margin-left:4px;'>Deepnote</span></a>",
   "metadata": {
    "tags": [],
    "created_in_deepnote_cell": true,
    "deepnote_cell_type": "markdown"
   }
  }
 ],
 "nbformat": 4,
 "nbformat_minor": 2,
 "metadata": {
  "deepnote": {
   "is_reactive": false
  },
  "deepnote_execution_queue": [],
  "deepnote_notebook_id": "4b2bc438-db4f-4a2d-a41c-2db325d56891",
  "kernelspec": {
   "display_name": "Python 3",
   "language": "python",
   "name": "python3"
  },
  "language_info": {
   "codemirror_mode": {
    "name": "ipython",
    "version": 3
   },
   "file_extension": ".py",
   "mimetype": "text/x-python",
   "name": "python",
   "nbconvert_exporter": "python",
   "pygments_lexer": "ipython3",
   "version": "3.9.5"
  }
 }
}