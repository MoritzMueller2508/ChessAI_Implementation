{
 "cells": [
  {
   "cell_type": "code",
   "execution_count": null,
   "metadata": {
    "cell_id": "6dc215bc-8848-41bc-8eb6-ff79bde5365e",
    "deepnote_cell_height": 99,
    "deepnote_cell_type": "code",
    "deepnote_to_be_reexecuted": false,
    "execution_millis": 2,
    "execution_start": 1652263049987,
    "output_cleared": true,
    "source_hash": "bd190a5a",
    "tags": []
   },
   "outputs": [],
   "source": [
    "from IPython.core.display import HTML, display\n",
    "display(HTML('<style>.container { width:100%; !important } </style>'))"
   ]
  },
  {
   "cell_type": "markdown",
   "metadata": {
    "cell_id": "9d90f4ccb2ad47fb8051e91f588c8cd1",
    "deepnote_cell_height": 82,
    "deepnote_cell_type": "markdown",
    "tags": []
   },
   "source": [
    "# Play a Game of Chess"
   ]
  },
  {
   "cell_type": "markdown",
   "metadata": {
    "cell_id": "d8038aef3f6d4cc792b14ffdbc5fd96f",
    "deepnote_cell_height": 74.796875,
    "deepnote_cell_type": "markdown",
    "tags": []
   },
   "source": [
    "This notebook lets a user play a game of chess against the AI, which uses negamax search with alpha-beta pruning, memoization, progressive deepening and a simplified evaluation function to find the optimal move. Another version that additionally implements quiescence search is also available."
   ]
  },
  {
   "cell_type": "markdown",
   "metadata": {
    "cell_id": "38b6c0413f6141c8a75e23e03614985e",
    "deepnote_cell_height": 62,
    "deepnote_cell_type": "markdown",
    "tags": []
   },
   "source": [
    "### Dependencies"
   ]
  },
  {
   "cell_type": "code",
   "execution_count": null,
   "metadata": {
    "cell_id": "6c36578f515c40949cbc64b3f15041e0",
    "deepnote_cell_height": 207,
    "deepnote_cell_type": "code",
    "deepnote_output_heights": [
     null,
     2
    ],
    "deepnote_to_be_reexecuted": false,
    "execution_millis": 696,
    "execution_start": 1654447117076,
    "output_cleared": true,
    "source_hash": "8775621e",
    "tags": []
   },
   "outputs": [],
   "source": [
    "import chess\n",
    "\n",
    "import import_ipynb\n",
    "import Game\n",
    "from RandomAlgorithm import RandomAlgorithm\n",
    "from NegamaxAlgorithm import NegamaxSearch, NegamaxSearchMemo\n",
    "from AlphaBetaAlgorithm import AlphaBetaPruning, AlphaBetaPruningMemo, \\\n",
    "        AlphaBetaPruningPD, AlphaBetaPruningQuiescence"
   ]
  },
  {
   "cell_type": "markdown",
   "metadata": {
    "cell_id": "cdd742d65d3e47b099dec23de05bddfa",
    "deepnote_cell_height": 74.796875,
    "deepnote_cell_type": "markdown",
    "tags": []
   },
   "source": [
    "In general, a game of chess can be initialized through an instance of the `Game` class. To be precise, the creation of the `Game` object can be configured with the following parameters:"
   ]
  },
  {
   "cell_type": "markdown",
   "metadata": {
    "cell_id": "b2e3a0135a39497b82a662266aa6ed17",
    "deepnote_cell_height": 531.1875,
    "deepnote_cell_type": "markdown",
    "tags": []
   },
   "source": [
    "``algorithm_white (type[ChessAlgorithm], default: None):``  \n",
    "The class of the chess algorithm that the white pieces should use to make a new move, or `None` if the white pieces are player-controlled.  \n",
    "\n",
    "``algorithm_black (type[ChessAlgorithm], default: None):``  \n",
    "The class of the chess algorithm that the black pieces should use to make a new move, or `None` if the black pieces are player-controlled. \n",
    "\n",
    "``search_depth_white (int, default: 4):``  \n",
    "The search depth for the white AI's search algorithm. It is recommended to set this to a lower value for negamax search without alpha-beta pruning, or if quiescence search is enabled, in order to make search times realistic. \n",
    "\n",
    "``search_depth_black (int, default: 4):``  \n",
    "The search depth for the black AI's search algorithm. It is recommended to set this to a lower value for negamax search without alpha-beta pruning, or if quiescence search is enabled, in order to make search times realistic. \n",
    "\n",
    "``opening_book (str, default: 'Resources/baron30.bin'):``  \n",
    "The path to the desired opening book the AIs will use, or `None` if no opening book is desired.\n",
    "\n",
    "``endgame_tablebase_dir (str, default: 'Resources/Gaviota'):``  \n",
    "The path to the directory of the desired endgame tablebases the AIs will use, or `None` if no endgame tablebases are desired.\n",
    "\n",
    "``use_heuristic (bool, default: True):``  \n",
    "Whether or not to use a heuristic to evaluate moves. This is only `False` in the context of chess problems, where only checkmates need to be considered.\n",
    "\n",
    "``fen (str, default: None):``  \n",
    "The FEN code representing the state that the chess board should start in, or `None` if it should start with the standard starting layout.  "
   ]
  },
  {
   "cell_type": "markdown",
   "metadata": {
    "cell_id": "fc0a7dc929554d078bdb2127be00b02a",
    "deepnote_cell_height": 367.1875,
    "deepnote_cell_type": "markdown",
    "tags": []
   },
   "source": [
    "The available search algorithms are listed below. For more information on these algorithms, see their respective notebooks. \n",
    "\n",
    "1. `RandomAlgorithm`: an algorithm that makes a random legal move.\n",
    "1. `NegamaxSearch`: pure negamax search: a simple, but slow algorithm.\n",
    "1. `NegamaxSearchMemo`: negamax search with memoization (caching). \n",
    "1. `AlphaBetaPruning`: negamax search with alpha-beta pruning: an optimized version that cuts off useless branches in the search tree.\n",
    "1. `AlphaBetaPruningMemo`: negamax search with alpha-beta pruning and memoization (caching).\n",
    "1. `AlphaBetaPruningPD`: negamax search with alpha-beta pruning, memoization and progressive deepening, which iteratively increases the search depth to sort moves by their estimated score, allowing more branches to be pruned.  \n",
    "1. `AlphaBetaPruningQuiescence`: negamax search with alpha-beta pruning, memoization, progressive deepening and quiescence search, which prevents the search from ending directly after a capturing move. This lets the algorithm detect protected pieces, therefore making it more intelligent. However, it also makes the search time slower and less consistent. An overview of the advantages and disadvantages of this version can be found in [AlphaBetaAlgorithm.ipynb](AlphaBetaAlgorithm.ipynb#Quiescence).\n",
    "\n",
    "It is recommended not to set the `opening_book` and `endgame_tablebase_dir` arguments to `None`, in order to reduce the time needed by the AI to make a move during the opening and to allow the AI to make more intelligent moves during the endgame."
   ]
  },
  {
   "cell_type": "markdown",
   "metadata": {
    "cell_id": "8425dd18257843e196f6d63e6d481174",
    "deepnote_cell_height": 119.59375,
    "deepnote_cell_type": "markdown",
    "tags": []
   },
   "source": [
    "In the following, one can play a game of chess against either `AlphaBetaPruningPD`, which is reasonably able to search up to a search depth of 4, or against `AlphaBetaPruningQuiescence` with a maximum search depth of 2 (though this depth can be exceeded if capturing moves are made). As mentioned before, enabling quiescence search makes the algorithm more intelligent but has the side effect of yielding a slower and less consistent search time. Furthermore, because of the lower search depth, `AlphaBetaPruningQuiescence` may miss checkmates or highly advantageous positions if the moves leading up to them are not capturing moves. It is up to the player what they value more, and choose to play with or without quiescence search accordingly."
   ]
  },
  {
   "cell_type": "code",
   "execution_count": null,
   "metadata": {
    "cell_id": "420818ff026c402698d4920c374bcd2d",
    "deepnote_cell_height": 153,
    "deepnote_cell_type": "code",
    "deepnote_output_heights": [
     502,
     null,
     501.1875
    ],
    "deepnote_to_be_reexecuted": false,
    "execution_millis": 96751,
    "execution_start": 1654430795622,
    "output_cleared": true,
    "source_hash": "4afe856a",
    "tags": []
   },
   "outputs": [],
   "source": [
    "game = Game.Game(\n",
    "    algorithm_black=AlphaBetaPruningPD,\n",
    "    search_depth_black=4\n",
    ")\n",
    "game.play()"
   ]
  },
  {
   "cell_type": "code",
   "execution_count": null,
   "metadata": {
    "cell_id": "55cb5ce5d21543939167ec70f4c1ccb8",
    "deepnote_cell_height": 153,
    "deepnote_cell_type": "code",
    "deepnote_to_be_reexecuted": false,
    "execution_millis": 21385,
    "execution_start": 1654330530775,
    "output_cleared": true,
    "owner_user_id": "1e489002-1d0e-4892-8dc4-49d215805343",
    "source_hash": "c8218171",
    "tags": []
   },
   "outputs": [],
   "source": [
    "game_quiescence = Game.Game(\n",
    "    algorithm_black=AlphaBetaPruningQuiescence,\n",
    "    search_depth_black=2\n",
    ")\n",
    "game_quiescence.play()"
   ]
  }
 ],
 "metadata": {
  "deepnote": {},
  "deepnote_execution_queue": [],
  "deepnote_notebook_id": "470abd3a-1df3-49cd-a8a7-0232b3cff7e2",
  "kernelspec": {
   "display_name": "Python 3 (ipykernel)",
   "language": "python",
   "name": "python3"
  },
  "language_info": {
   "codemirror_mode": {
    "name": "ipython",
    "version": 3
   },
   "file_extension": ".py",
   "mimetype": "text/x-python",
   "name": "python",
   "nbconvert_exporter": "python",
   "pygments_lexer": "ipython3",
   "version": "3.9.12"
  }
 },
 "nbformat": 4,
 "nbformat_minor": 2
}
