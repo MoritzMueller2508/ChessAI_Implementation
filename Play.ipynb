{
 "cells": [
  {
   "cell_type": "code",
   "execution_count": null,
   "metadata": {
    "cell_id": "6dc215bc-8848-41bc-8eb6-ff79bde5365e",
    "deepnote_cell_height": 99,
    "deepnote_cell_type": "code",
    "deepnote_to_be_reexecuted": false,
    "execution_millis": 44,
    "execution_start": 1651076448627,
    "source_hash": "bd190a5a",
    "tags": []
   },
   "outputs": [],
   "source": [
    "from IPython.core.display import HTML, display\n",
    "display(HTML('<style>.container { width:100%; !important } </style>'))"
   ]
  },
  {
   "cell_type": "markdown",
   "metadata": {
    "cell_id": "9d90f4ccb2ad47fb8051e91f588c8cd1",
    "deepnote_cell_height": 82,
    "deepnote_cell_type": "markdown",
    "tags": []
   },
   "source": [
    "# Play a Game of Chess"
   ]
  },
  {
   "cell_type": "markdown",
   "metadata": {
    "cell_id": "d8038aef3f6d4cc792b14ffdbc5fd96f",
    "deepnote_cell_height": 74.796875,
    "deepnote_cell_type": "markdown",
    "tags": []
   },
   "source": [
    "This notebook lets you play a game of chess against the AI, which uses alpha-beta pruning with progressive deepening and a simplified evaluation function to find the optimal move."
   ]
  },
  {
   "cell_type": "code",
   "execution_count": null,
   "metadata": {
    "cell_id": "6c36578f515c40949cbc64b3f15041e0",
    "deepnote_cell_height": 1122,
    "deepnote_cell_type": "code",
    "deepnote_output_heights": [
     null,
     2,
     null,
     2,
     null,
     2,
     null,
     2,
     null,
     2
    ],
    "deepnote_to_be_reexecuted": false,
    "execution_millis": 12132,
    "execution_start": 1651933904526,
    "output_cleared": false,
    "source_hash": "545f0f9b",
    "tags": []
   },
   "outputs": [],
   "source": [
    "import import_ipynb\n",
    "import chess\n",
    "import Game\n",
    "from AlphaBetaAlgorithm import make_move_alphabeta_progressive_deepening"
   ]
  },
  {
   "cell_type": "code",
   "execution_count": null,
   "metadata": {
    "cell_id": "420818ff026c402698d4920c374bcd2d",
    "deepnote_cell_height": 99,
    "deepnote_cell_type": "code",
    "deepnote_to_be_reexecuted": false,
    "execution_millis": 129841,
    "execution_start": 1651076791882,
    "source_hash": "9ec60c2b",
    "tags": []
   },
   "outputs": [],
   "source": [
    "game = Game.Game(\n",
    "    make_move_algorithm_black=make_move_alphabeta_progressive_deepening,\n",
    "    search_depth_black=4\n",
    ")\n",
    "game.play()"
   ]
  },
  {
   "cell_type": "code",
   "execution_count": null,
   "metadata": {
    "cell_id": "42b439e5435c4fc58c996a244ecd5969",
    "deepnote_cell_height": 66,
    "deepnote_cell_type": "code",
    "owner_user_id": "1e489002-1d0e-4892-8dc4-49d215805343",
    "tags": []
   },
   "outputs": [],
   "source": []
  }
 ],
 "metadata": {
  "deepnote": {},
  "deepnote_execution_queue": [],
  "deepnote_notebook_id": "470abd3a-1df3-49cd-a8a7-0232b3cff7e2",
  "kernelspec": {
   "display_name": "Python 3",
   "language": "python",
   "name": "python3"
  },
  "language_info": {
   "codemirror_mode": {
    "name": "ipython",
    "version": 3
   },
   "file_extension": ".py",
   "mimetype": "text/x-python",
   "name": "python",
   "nbconvert_exporter": "python",
   "pygments_lexer": "ipython3",
   "version": "3.9.5"
  }
 },
 "nbformat": 4,
 "nbformat_minor": 2
}
